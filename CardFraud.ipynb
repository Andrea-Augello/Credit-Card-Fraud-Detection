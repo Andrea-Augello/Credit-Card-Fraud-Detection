{
  "nbformat": 4,
  "nbformat_minor": 0,
  "metadata": {
    "colab": {
      "name": "Card.ipynb",
      "provenance": [],
      "toc_visible": true
    },
    "kernelspec": {
      "name": "python3",
      "display_name": "Python 3"
    }
  },
  "cells": [
    {
      "cell_type": "markdown",
      "metadata": {
        "id": "IoK-VO7eYJFb"
      },
      "source": [
        "# Credit Card Fraud Detection\n",
        "\n",
        "Il dataset contiene transazioni fatte tramite carta di credito nel settembre 2013 in Europa.\n",
        "Questo dataset presenta transazioni avvenute in due giorni. Delle 284807 transazioni, 492 sono etichettate come frodi, le altre sono da ritenersi legittime. Il dataset è estremamente sbilanciato, con i casi positivi che rappresentano soltanto lo 0.172% di tutte le transazioni.\n",
        "\n",
        "Nel dataset sono presenti soltanto variabili di input di tipo numerico, risultanti da una trasformazione Principal Component Analysis (PCA). Per ragioni di confidenzialità non sono disponibili né le features originali né informazioni sull'origine dei dati più dettagliate. Le uniche features non trasformate tramite PCA sono 'Tempo' e 'Ammontare'.\n",
        "Il tempo misura i sencondi trascorsi tra ogni transazione e la prima transazione del dataset. La feature 'Ammontare' è l'ammontare della transazione.\n",
        "Le transazioni etichettate con 1 sono frodi, quelle etichettate con 0 sono legittime.\n",
        "\n"
      ]
    },
    {
      "cell_type": "markdown",
      "metadata": {
        "id": "5_OYkQOn8lhg"
      },
      "source": [
        "## Setup dell'ambiente\n",
        "\n",
        "Le operazioni di setup sono differenti a seconda della piattaforma utilizzata, ne va utilizzato solo uno, o del codice personalizzato in caso di ambienti diversi."
      ]
    },
    {
      "cell_type": "code",
      "metadata": {
        "id": "_HPIrkwDR-Gy"
      },
      "source": [
        "# Kaggle token\n",
        "token = {\"username\":\"andreaaugello\",\"key\":\"636f00800308e8447dea0ee8f2decb98\"}"
      ],
      "execution_count": 4,
      "outputs": []
    },
    {
      "cell_type": "markdown",
      "metadata": {
        "id": "JSacOLOlRb45"
      },
      "source": [
        "### Google Colaboratory"
      ]
    },
    {
      "cell_type": "code",
      "metadata": {
        "colab": {
          "base_uri": "https://localhost:8080/"
        },
        "id": "9l3QYwwObNPd",
        "outputId": "2dd9ccf4-4910-4837-cfe5-c83d2ef87a9f"
      },
      "source": [
        "filepath = \"/content/creditfraud/creditcard.csv\"\n",
        "\n",
        "! rm -Rf /content/creditfraud/\n",
        "! which kaggle || pip install kaggle\n",
        "! if ! [ -d ~/.kaggle ] ; then  mkdir ~/.kaggle  && touch ~/.kaggle/kaggle.json; echo \"Creating kaggle directory\"; fi\n",
        "\n",
        "import json\n",
        "\n",
        "import zipfile\n",
        "import os\n",
        "with open('/root/.kaggle/kaggle.json', 'w') as file:\n",
        "    json.dump(token, file)\n",
        "\n",
        "! if ! [ -f /content/creditfraud/creditcard.csv ] ; then chmod 600 /root/.kaggle/kaggle.json && kaggle datasets download -p /content/creditfraud/ -d mlg-ulb/creditcardfraud ; fi\n",
        "\n",
        "os.chdir('/content/creditfraud')\n",
        "for file in os.listdir():\n",
        "    zip_ref = zipfile.ZipFile(file, 'r')\n",
        "    zip_ref.extractall()\n",
        "    zip_ref.close()"
      ],
      "execution_count": 5,
      "outputs": [
        {
          "output_type": "stream",
          "text": [
            "/usr/local/bin/kaggle\n",
            "Downloading creditcardfraud.zip to /content/creditfraud\n",
            " 74% 49.0M/66.0M [00:00<00:00, 53.6MB/s]\n",
            "100% 66.0M/66.0M [00:00<00:00, 84.8MB/s]\n"
          ],
          "name": "stdout"
        }
      ]
    },
    {
      "cell_type": "code",
      "metadata": {
        "colab": {
          "base_uri": "https://localhost:8080/"
        },
        "id": "BnY3ywNtk3Zh",
        "outputId": "34eb218e-70b1-4806-9267-91ddc308686e"
      },
      "source": [
        "!head -n 2 /content/creditfraud/creditcard.csv\n",
        "!tail -n 2 /content/creditfraud/creditcard.csv"
      ],
      "execution_count": 6,
      "outputs": [
        {
          "output_type": "stream",
          "text": [
            "\"Time\",\"V1\",\"V2\",\"V3\",\"V4\",\"V5\",\"V6\",\"V7\",\"V8\",\"V9\",\"V10\",\"V11\",\"V12\",\"V13\",\"V14\",\"V15\",\"V16\",\"V17\",\"V18\",\"V19\",\"V20\",\"V21\",\"V22\",\"V23\",\"V24\",\"V25\",\"V26\",\"V27\",\"V28\",\"Amount\",\"Class\"\n",
            "0,-1.3598071336738,-0.0727811733098497,2.53634673796914,1.37815522427443,-0.338320769942518,0.462387777762292,0.239598554061257,0.0986979012610507,0.363786969611213,0.0907941719789316,-0.551599533260813,-0.617800855762348,-0.991389847235408,-0.311169353699879,1.46817697209427,-0.470400525259478,0.207971241929242,0.0257905801985591,0.403992960255733,0.251412098239705,-0.018306777944153,0.277837575558899,-0.110473910188767,0.0669280749146731,0.128539358273528,-0.189114843888824,0.133558376740387,-0.0210530534538215,149.62,\"0\"\n",
            "172788,-0.240440049680947,0.530482513118839,0.702510230095103,0.689799168040973,-0.377961134444982,0.62370772214768,-0.68617998628885,0.679145459790659,0.392086712465972,-0.399125651432835,-1.93384881505713,-0.962886142890271,-1.04208165591191,0.449624443166001,1.96256312066577,-0.60857712704613,0.509928460110321,1.11398059049908,2.89784877334313,0.127433515805355,0.265244916386865,0.800048741498139,-0.163297944406659,0.123205243742508,-0.569158864158597,0.546668462188323,0.108820734744839,0.104532821478796,10,\"0\"\n",
            "172792,-0.53341252200504,-0.189733337002305,0.703337366963779,-0.506271240328258,-0.0125456787599659,-0.649616685713792,1.57700625437629,-0.414650407552662,0.486179505267237,-0.915426648905893,-1.04045833522361,-0.0315130540252157,-0.188092900791737,-0.0843164698151014,0.0413334553360658,-0.302620086427415,-0.660376645182784,0.16742993371973,-0.256116871098099,0.382948104875066,0.261057330790975,0.643078437820093,0.376777014169917,0.00879737940024202,-0.473648703898825,-0.818267121041176,-0.00241530880001015,0.0136489143320671,217,\"0\"\n"
          ],
          "name": "stdout"
        }
      ]
    },
    {
      "cell_type": "code",
      "metadata": {
        "colab": {
          "base_uri": "https://localhost:8080/"
        },
        "id": "vVtOWVHDQ88n",
        "outputId": "368e55b2-f6c2-4278-ca31-53648615d6ea"
      },
      "source": [
        "%%shell\n",
        "\n",
        "apt-get install openjdk-8-jdk-headless -qq  &>/dev/null\n",
        "if ! [ -f spark-3.1.1-bin-hadoop2.7.tgz ] ; then \n",
        "  wget -q http://apache.osuosl.org/spark/spark-3.1.1/spark-3.1.1-bin-hadoop2.7.tgz && \n",
        "  tar xf spark-3.1.1-bin-hadoop2.7.tgz ; \n",
        "fi\n",
        "pip show findspark &>/dev/null || pip install -q findspark\n",
        "pip show pyspark &>/dev/null || pip install pyspark"
      ],
      "execution_count": 7,
      "outputs": [
        {
          "output_type": "stream",
          "text": [
            "Collecting pyspark\n",
            "\u001b[?25l  Downloading https://files.pythonhosted.org/packages/45/b0/9d6860891ab14a39d4bddf80ba26ce51c2f9dc4805e5c6978ac0472c120a/pyspark-3.1.1.tar.gz (212.3MB)\n",
            "\u001b[K     |████████████████████████████████| 212.3MB 65kB/s \n",
            "\u001b[?25hCollecting py4j==0.10.9\n",
            "\u001b[?25l  Downloading https://files.pythonhosted.org/packages/9e/b6/6a4fb90cd235dc8e265a6a2067f2a2c99f0d91787f06aca4bcf7c23f3f80/py4j-0.10.9-py2.py3-none-any.whl (198kB)\n",
            "\u001b[K     |████████████████████████████████| 204kB 49.0MB/s \n",
            "\u001b[?25hBuilding wheels for collected packages: pyspark\n",
            "  Building wheel for pyspark (setup.py) ... \u001b[?25l\u001b[?25hdone\n",
            "  Created wheel for pyspark: filename=pyspark-3.1.1-py2.py3-none-any.whl size=212767604 sha256=f57dbc175d92ad0cdf097da58710e449303cf35e50b617c1b2e00a7de1db9080\n",
            "  Stored in directory: /root/.cache/pip/wheels/0b/90/c0/01de724414ef122bd05f056541fb6a0ecf47c7ca655f8b3c0f\n",
            "Successfully built pyspark\n",
            "Installing collected packages: py4j, pyspark\n",
            "Successfully installed py4j-0.10.9 pyspark-3.1.1\n"
          ],
          "name": "stdout"
        },
        {
          "output_type": "execute_result",
          "data": {
            "text/plain": [
              ""
            ]
          },
          "metadata": {
            "tags": []
          },
          "execution_count": 7
        }
      ]
    },
    {
      "cell_type": "code",
      "metadata": {
        "id": "1Vg42DtScdf9"
      },
      "source": [
        "# Set up required environment variables\n",
        "\n",
        "os.environ[\"JAVA_HOME\"] = \"/usr/lib/jvm/java-8-openjdk-amd64\"\n",
        "os.environ[\"SPARK_HOME\"] = \"/content/creditfraud/spark-3.1.1-bin-hadoop2.7\"\n",
        "\n",
        "! mkdir -p $SPARK_HOME/conf/\n",
        "! echo \"spark.driver.memory              8g\" >> $SPARK_HOME/conf/spark-defaults.conf\n",
        "\n",
        "import findspark\n",
        "location = findspark.find()\n",
        "findspark.init(location)\n",
        "\n",
        "import pyspark\n",
        "from pyspark.sql import SparkSession\n",
        "\n",
        "spark = SparkSession.builder.appName('CardFraud').getOrCreate()"
      ],
      "execution_count": 8,
      "outputs": []
    },
    {
      "cell_type": "markdown",
      "metadata": {
        "id": "rQLynrMfRprl"
      },
      "source": [
        "### Kaggle notebook\n",
        "\n",
        "È necessario abilitare internet per il notebook, è quindi richiesta la verifica tramite numero di telefono."
      ]
    },
    {
      "cell_type": "code",
      "metadata": {
        "colab": {
          "base_uri": "https://localhost:8080/"
        },
        "id": "FMxaihbDRprl",
        "outputId": "0680465e-e876-4c53-c9c1-7ef075e134e4"
      },
      "source": [
        "filepath = \"../input/creditcardfraud/creditcard.csv\"\n",
        "\n",
        "!head -n 2 ../input/creditcardfraud/creditcard.csv\n",
        "!tail -n 2 ../input/creditcardfraud/creditcard.csv"
      ],
      "execution_count": null,
      "outputs": [
        {
          "output_type": "stream",
          "text": [
            "\"Time\",\"V1\",\"V2\",\"V3\",\"V4\",\"V5\",\"V6\",\"V7\",\"V8\",\"V9\",\"V10\",\"V11\",\"V12\",\"V13\",\"V14\",\"V15\",\"V16\",\"V17\",\"V18\",\"V19\",\"V20\",\"V21\",\"V22\",\"V23\",\"V24\",\"V25\",\"V26\",\"V27\",\"V28\",\"Amount\",\"Class\"\n",
            "0,-1.3598071336738,-0.0727811733098497,2.53634673796914,1.37815522427443,-0.338320769942518,0.462387777762292,0.239598554061257,0.0986979012610507,0.363786969611213,0.0907941719789316,-0.551599533260813,-0.617800855762348,-0.991389847235408,-0.311169353699879,1.46817697209427,-0.470400525259478,0.207971241929242,0.0257905801985591,0.403992960255733,0.251412098239705,-0.018306777944153,0.277837575558899,-0.110473910188767,0.0669280749146731,0.128539358273528,-0.189114843888824,0.133558376740387,-0.0210530534538215,149.62,\"0\"\n",
            "172788,-0.240440049680947,0.530482513118839,0.702510230095103,0.689799168040973,-0.377961134444982,0.62370772214768,-0.68617998628885,0.679145459790659,0.392086712465972,-0.399125651432835,-1.93384881505713,-0.962886142890271,-1.04208165591191,0.449624443166001,1.96256312066577,-0.60857712704613,0.509928460110321,1.11398059049908,2.89784877334313,0.127433515805355,0.265244916386865,0.800048741498139,-0.163297944406659,0.123205243742508,-0.569158864158597,0.546668462188323,0.108820734744839,0.104532821478796,10,\"0\"\n",
            "172792,-0.53341252200504,-0.189733337002305,0.703337366963779,-0.506271240328258,-0.0125456787599659,-0.649616685713792,1.57700625437629,-0.414650407552662,0.486179505267237,-0.915426648905893,-1.04045833522361,-0.0315130540252157,-0.188092900791737,-0.0843164698151014,0.0413334553360658,-0.302620086427415,-0.660376645182784,0.16742993371973,-0.256116871098099,0.382948104875066,0.261057330790975,0.643078437820093,0.376777014169917,0.00879737940024202,-0.473648703898825,-0.818267121041176,-0.00241530880001015,0.0136489143320671,217,\"0\"\n"
          ],
          "name": "stdout"
        }
      ]
    },
    {
      "cell_type": "code",
      "metadata": {
        "colab": {
          "base_uri": "https://localhost:8080/"
        },
        "id": "28B1KxB0Rprl",
        "outputId": "18e3337e-9921-4965-84e8-167508ce460e"
      },
      "source": [
        "! apt-get install openjdk-8-jdk-headless -qq &>/dev/null\n",
        "! if ! [ -f spark-3.1.1-bin-hadoop2.7.tgz ] ; then \\\n",
        "  wget -q http://apache.osuosl.org/spark/spark-3.1.1/spark-3.1.1-bin-hadoop2.7.tgz && \\\n",
        "  tar xf spark-3.1.1-bin-hadoop2.7.tgz ; \\\n",
        "fi\n",
        "! pip show findspark &>/dev/null || pip install -q findspark\n",
        "! pip show pyspark &>/dev/null || pip install pyspark"
      ],
      "execution_count": null,
      "outputs": [
        {
          "output_type": "execute_result",
          "data": {
            "text/plain": [
              ""
            ]
          },
          "metadata": {
            "tags": []
          },
          "execution_count": 3
        }
      ]
    },
    {
      "cell_type": "code",
      "metadata": {
        "id": "_pEo9ru6Rprm"
      },
      "source": [
        "# Set up required environment variables\n",
        "\n",
        "# Set up required environment variables\n",
        "\n",
        "import os\n",
        "os.environ[\"JAVA_HOME\"] = \"/usr/lib/jvm/java-8-openjdk-amd64\"\n",
        "os.environ[\"SPARK_HOME\"] = \"./spark-3.1.1-bin-hadoop2.7\"\n",
        "\n",
        "\n",
        "! mkdir -p $SPARK_HOME/conf/\n",
        "! echo \"spark.driver.memory              8g\" >> $SPARK_HOME/conf/spark-defaults.conf\n",
        "\n",
        "import findspark\n",
        "location = findspark.find()\n",
        "findspark.init(location)\n",
        "\n",
        "import pyspark\n",
        "from pyspark.sql import SparkSession\n",
        "\n",
        "spark = SparkSession.builder.appName('CardFraud').getOrCreate()"
      ],
      "execution_count": null,
      "outputs": []
    },
    {
      "cell_type": "markdown",
      "metadata": {
        "id": "1WcC7dqlRnnV"
      },
      "source": [
        "### Databricks Community Edition\n",
        "\n",
        "Con la versione community è necessario caricare manualmente il file .csv nel filesystem distribuito."
      ]
    },
    {
      "cell_type": "code",
      "metadata": {
        "colab": {
          "base_uri": "https://localhost:8080/"
        },
        "id": "vnUIcXSgRnnV",
        "outputId": "e7bdb052-1544-45e4-9cc3-bbaa3f18aaa5"
      },
      "source": [
        "filepath = \"dbfs:/FileStore/creditcard.csv\"\n",
        "\"\n",
        "\n",
        "! rm -Rf /content/creditfraud/\n",
        "! which kaggle || pip install kaggle\n",
        "! if ! [ -d ~/.kaggle ] ; then  mkdir ~/.kaggle  && touch ~/.kaggle/kaggle.json; echo \"Creating kaggle directory\"; fi\n",
        "\n",
        "import json\n",
        "\n",
        "import zipfile\n",
        "import os\n",
        "with open('/root/.kaggle/kaggle.json', 'w') as file:\n",
        "    json.dump(token, file)\n",
        "\n",
        "! if ! [ -f /content/creditfraud/creditcard.csv ] ; then chmod 600 /root/.kaggle/kaggle.json && kaggle datasets download -p /content/creditfraud/ -d mlg-ulb/creditcardfraud ; fi\n",
        "\n",
        "os.chdir('/content/creditfraud')\n",
        "for file in os.listdir():\n",
        "    zip_ref = zipfile.ZipFile(file, 'r')\n",
        "    zip_ref.extractall()\n",
        "    zip_ref.close()"
      ],
      "execution_count": null,
      "outputs": [
        {
          "output_type": "stream",
          "text": [
            "/usr/local/bin/kaggle\n",
            "Downloading creditcardfraud.zip to /content/creditfraud\n",
            " 89% 59.0M/66.0M [00:00<00:00, 156MB/s]\n",
            "100% 66.0M/66.0M [00:00<00:00, 189MB/s]\n"
          ],
          "name": "stdout"
        }
      ]
    },
    {
      "cell_type": "code",
      "metadata": {
        "colab": {
          "base_uri": "https://localhost:8080/"
        },
        "id": "Z3FsOTdvRnnW",
        "outputId": "0680465e-e876-4c53-c9c1-7ef075e134e4"
      },
      "source": [
        "!head -n 2 /content/creditfraud/creditcard.csv\n",
        "!tail -n 2 /content/creditfraud/creditcard.csv"
      ],
      "execution_count": null,
      "outputs": [
        {
          "output_type": "stream",
          "text": [
            "\"Time\",\"V1\",\"V2\",\"V3\",\"V4\",\"V5\",\"V6\",\"V7\",\"V8\",\"V9\",\"V10\",\"V11\",\"V12\",\"V13\",\"V14\",\"V15\",\"V16\",\"V17\",\"V18\",\"V19\",\"V20\",\"V21\",\"V22\",\"V23\",\"V24\",\"V25\",\"V26\",\"V27\",\"V28\",\"Amount\",\"Class\"\n",
            "0,-1.3598071336738,-0.0727811733098497,2.53634673796914,1.37815522427443,-0.338320769942518,0.462387777762292,0.239598554061257,0.0986979012610507,0.363786969611213,0.0907941719789316,-0.551599533260813,-0.617800855762348,-0.991389847235408,-0.311169353699879,1.46817697209427,-0.470400525259478,0.207971241929242,0.0257905801985591,0.403992960255733,0.251412098239705,-0.018306777944153,0.277837575558899,-0.110473910188767,0.0669280749146731,0.128539358273528,-0.189114843888824,0.133558376740387,-0.0210530534538215,149.62,\"0\"\n",
            "172788,-0.240440049680947,0.530482513118839,0.702510230095103,0.689799168040973,-0.377961134444982,0.62370772214768,-0.68617998628885,0.679145459790659,0.392086712465972,-0.399125651432835,-1.93384881505713,-0.962886142890271,-1.04208165591191,0.449624443166001,1.96256312066577,-0.60857712704613,0.509928460110321,1.11398059049908,2.89784877334313,0.127433515805355,0.265244916386865,0.800048741498139,-0.163297944406659,0.123205243742508,-0.569158864158597,0.546668462188323,0.108820734744839,0.104532821478796,10,\"0\"\n",
            "172792,-0.53341252200504,-0.189733337002305,0.703337366963779,-0.506271240328258,-0.0125456787599659,-0.649616685713792,1.57700625437629,-0.414650407552662,0.486179505267237,-0.915426648905893,-1.04045833522361,-0.0315130540252157,-0.188092900791737,-0.0843164698151014,0.0413334553360658,-0.302620086427415,-0.660376645182784,0.16742993371973,-0.256116871098099,0.382948104875066,0.261057330790975,0.643078437820093,0.376777014169917,0.00879737940024202,-0.473648703898825,-0.818267121041176,-0.00241530880001015,0.0136489143320671,217,\"0\"\n"
          ],
          "name": "stdout"
        }
      ]
    },
    {
      "cell_type": "code",
      "metadata": {
        "id": "QofMPE-lRnnX"
      },
      "source": [
        "# Set up required environment variables\n",
        "\n",
        "import pyspark\n",
        "from pyspark.sql import SparkSession\n",
        "\n",
        "spark = SparkSession.builder.appName('CardFraud').getOrCreate()"
      ],
      "execution_count": null,
      "outputs": []
    },
    {
      "cell_type": "markdown",
      "metadata": {
        "id": "eiypUJeBSIID"
      },
      "source": [
        "## Analisi dei dati"
      ]
    },
    {
      "cell_type": "code",
      "metadata": {
        "colab": {
          "base_uri": "https://localhost:8080/",
          "height": 250
        },
        "id": "HoS8URo5kvcC",
        "outputId": "7eecb909-3977-4fee-91cb-d5ee9c01fec3"
      },
      "source": [
        "# Importazione dei dati dal data set \n",
        "from pyspark.sql.types import *\n",
        "from pyspark.sql.functions import *\n",
        "\n",
        "\n",
        "# costruzione dello schema del DataFrame\n",
        "\n",
        "creditcard_schema = StructType([\n",
        "    StructField('Time',IntegerType(),False),\n",
        "    StructField('V1',FloatType(),False),\n",
        "    StructField('V2',FloatType(),False),\n",
        "    StructField('V3',FloatType(),False),\n",
        "    StructField('V4',FloatType(),False),\n",
        "    StructField('V5',FloatType(),False),\n",
        "    StructField('V6',FloatType(),False),\n",
        "    StructField('V7',FloatType(),False),\n",
        "    StructField('V8',FloatType(),False),\n",
        "    StructField('V9',FloatType(),False),\n",
        "    StructField('V10',FloatType(),False),\n",
        "    StructField('V11',FloatType(),False),\n",
        "    StructField('V12',FloatType(),False),\n",
        "    StructField('V13',FloatType(),False),\n",
        "    StructField('V14',FloatType(),False),\n",
        "    StructField('V15',FloatType(),False),\n",
        "    StructField('V16',FloatType(),False),\n",
        "    StructField('V17',FloatType(),False),\n",
        "    StructField('V18',FloatType(),False),\n",
        "    StructField('V19',FloatType(),False),\n",
        "    StructField('V20',FloatType(),False),\n",
        "    StructField('V21',FloatType(),False),\n",
        "    StructField('V22',FloatType(),False),\n",
        "    StructField('V23',FloatType(),False),\n",
        "    StructField('V24',FloatType(),False),\n",
        "    StructField('V25',FloatType(),False),\n",
        "    StructField('V26',FloatType(),False),\n",
        "    StructField('V27',FloatType(),False),\n",
        "    StructField('V28',FloatType(),False),\n",
        "    StructField('Amount',FloatType(),False),\n",
        "    StructField('Class',ShortType(),False),\n",
        "])\n",
        "\n",
        "records = spark.read.format('csv')\\\n",
        "    .option('header','true')\\\n",
        "    .option('mode','DROPMALFORMED')\\\n",
        "    .option('mode','PERMISSIVE')\\\n",
        "    .schema(creditcard_schema)\\\n",
        "    .load(filepath)\n",
        "\n",
        "#records.printSchema()\n",
        "#records.show()\n",
        "\n",
        "display(records)\n",
        "display(records.describe().toPandas())"
      ],
      "execution_count": null,
      "outputs": [
        {
          "output_type": "display_data",
          "data": {
            "text/plain": [
              "DataFrame[Time: int, V1: float, V2: float, V3: float, V4: float, V5: float, V6: float, V7: float, V8: float, V9: float, V10: float, V11: float, V12: float, V13: float, V14: float, V15: float, V16: float, V17: float, V18: float, V19: float, V20: float, V21: float, V22: float, V23: float, V24: float, V25: float, V26: float, V27: float, V28: float, Amount: float, Class: smallint]"
            ]
          },
          "metadata": {
            "tags": []
          }
        },
        {
          "output_type": "display_data",
          "data": {
            "text/html": [
              "<div>\n",
              "<style scoped>\n",
              "    .dataframe tbody tr th:only-of-type {\n",
              "        vertical-align: middle;\n",
              "    }\n",
              "\n",
              "    .dataframe tbody tr th {\n",
              "        vertical-align: top;\n",
              "    }\n",
              "\n",
              "    .dataframe thead th {\n",
              "        text-align: right;\n",
              "    }\n",
              "</style>\n",
              "<table border=\"1\" class=\"dataframe\">\n",
              "  <thead>\n",
              "    <tr style=\"text-align: right;\">\n",
              "      <th></th>\n",
              "      <th>summary</th>\n",
              "      <th>Time</th>\n",
              "      <th>V1</th>\n",
              "      <th>V2</th>\n",
              "      <th>V3</th>\n",
              "      <th>V4</th>\n",
              "      <th>V5</th>\n",
              "      <th>V6</th>\n",
              "      <th>V7</th>\n",
              "      <th>V8</th>\n",
              "      <th>V9</th>\n",
              "      <th>V10</th>\n",
              "      <th>V11</th>\n",
              "      <th>V12</th>\n",
              "      <th>V13</th>\n",
              "      <th>V14</th>\n",
              "      <th>V15</th>\n",
              "      <th>V16</th>\n",
              "      <th>V17</th>\n",
              "      <th>V18</th>\n",
              "      <th>V19</th>\n",
              "      <th>V20</th>\n",
              "      <th>V21</th>\n",
              "      <th>V22</th>\n",
              "      <th>V23</th>\n",
              "      <th>V24</th>\n",
              "      <th>V25</th>\n",
              "      <th>V26</th>\n",
              "      <th>V27</th>\n",
              "      <th>V28</th>\n",
              "      <th>Amount</th>\n",
              "      <th>Class</th>\n",
              "    </tr>\n",
              "  </thead>\n",
              "  <tbody>\n",
              "    <tr>\n",
              "      <th>0</th>\n",
              "      <td>count</td>\n",
              "      <td>284806</td>\n",
              "      <td>284807</td>\n",
              "      <td>284807</td>\n",
              "      <td>284807</td>\n",
              "      <td>284807</td>\n",
              "      <td>284807</td>\n",
              "      <td>284807</td>\n",
              "      <td>284807</td>\n",
              "      <td>284807</td>\n",
              "      <td>284807</td>\n",
              "      <td>284807</td>\n",
              "      <td>284807</td>\n",
              "      <td>284807</td>\n",
              "      <td>284807</td>\n",
              "      <td>284807</td>\n",
              "      <td>284807</td>\n",
              "      <td>284807</td>\n",
              "      <td>284807</td>\n",
              "      <td>284807</td>\n",
              "      <td>284807</td>\n",
              "      <td>284807</td>\n",
              "      <td>284807</td>\n",
              "      <td>284807</td>\n",
              "      <td>284807</td>\n",
              "      <td>284807</td>\n",
              "      <td>284807</td>\n",
              "      <td>284807</td>\n",
              "      <td>284807</td>\n",
              "      <td>284807</td>\n",
              "      <td>284807</td>\n",
              "      <td>284807</td>\n",
              "    </tr>\n",
              "    <tr>\n",
              "      <th>1</th>\n",
              "      <td>mean</td>\n",
              "      <td>94813.84136570156</td>\n",
              "      <td>-2.237831565309384E-10</td>\n",
              "      <td>5.6390376770574364E-11</td>\n",
              "      <td>5.7181949824170215E-11</td>\n",
              "      <td>-5.515661110814551E-11</td>\n",
              "      <td>2.6428014635959684E-11</td>\n",
              "      <td>-1.9836218453151118E-10</td>\n",
              "      <td>-1.1044655188441163E-10</td>\n",
              "      <td>5.3475000568427694E-11</td>\n",
              "      <td>2.419927089644845E-11</td>\n",
              "      <td>5.3895441523821255E-11</td>\n",
              "      <td>-6.56758850695699E-11</td>\n",
              "      <td>4.793081498147977E-11</td>\n",
              "      <td>2.1484545434430527E-11</td>\n",
              "      <td>-8.998896774441982E-11</td>\n",
              "      <td>-4.6294032998024574E-11</td>\n",
              "      <td>-5.987137419976068E-11</td>\n",
              "      <td>3.639741548440692E-11</td>\n",
              "      <td>1.5957350183256596E-11</td>\n",
              "      <td>2.9739322663330695E-11</td>\n",
              "      <td>3.740233772192539E-11</td>\n",
              "      <td>-1.1423847676931417E-11</td>\n",
              "      <td>4.026301784830157E-11</td>\n",
              "      <td>-9.643035035753393E-12</td>\n",
              "      <td>4.7671430945018126E-11</td>\n",
              "      <td>-7.220635637499166E-12</td>\n",
              "      <td>-4.4536415414434063E-11</td>\n",
              "      <td>2.3264761314214363E-11</td>\n",
              "      <td>-1.0009771058213764E-11</td>\n",
              "      <td>88.34961924204623</td>\n",
              "      <td>0.001727485630620034</td>\n",
              "    </tr>\n",
              "    <tr>\n",
              "      <th>2</th>\n",
              "      <td>stddev</td>\n",
              "      <td>47488.22832975011</td>\n",
              "      <td>1.958695804149988</td>\n",
              "      <td>1.6513085797790983</td>\n",
              "      <td>1.5162550047888008</td>\n",
              "      <td>1.4158685748057576</td>\n",
              "      <td>1.38024673467619</td>\n",
              "      <td>1.3322710895129717</td>\n",
              "      <td>1.2370935982054971</td>\n",
              "      <td>1.1943529028329143</td>\n",
              "      <td>1.0986320894527717</td>\n",
              "      <td>1.0888497654131535</td>\n",
              "      <td>1.0207130274845488</td>\n",
              "      <td>0.9992013897133897</td>\n",
              "      <td>0.9952742301172138</td>\n",
              "      <td>0.9585956107110349</td>\n",
              "      <td>0.9153160115854574</td>\n",
              "      <td>0.8762528874680678</td>\n",
              "      <td>0.8493370639017923</td>\n",
              "      <td>0.8381762093603176</td>\n",
              "      <td>0.8140405007230054</td>\n",
              "      <td>0.7709250247479664</td>\n",
              "      <td>0.7345240139851617</td>\n",
              "      <td>0.7257015605697456</td>\n",
              "      <td>0.6244602954715794</td>\n",
              "      <td>0.6056470678589732</td>\n",
              "      <td>0.52127807053526</td>\n",
              "      <td>0.48222701319019107</td>\n",
              "      <td>0.4036324945392819</td>\n",
              "      <td>0.33008326434426066</td>\n",
              "      <td>250.12010901734928</td>\n",
              "      <td>0.04152718963546528</td>\n",
              "    </tr>\n",
              "    <tr>\n",
              "      <th>3</th>\n",
              "      <td>min</td>\n",
              "      <td>0</td>\n",
              "      <td>-56.40751</td>\n",
              "      <td>-72.71573</td>\n",
              "      <td>-48.32559</td>\n",
              "      <td>-5.6831713</td>\n",
              "      <td>-113.74331</td>\n",
              "      <td>-26.160505</td>\n",
              "      <td>-43.557243</td>\n",
              "      <td>-73.21672</td>\n",
              "      <td>-13.434067</td>\n",
              "      <td>-24.588263</td>\n",
              "      <td>-4.7974734</td>\n",
              "      <td>-18.683714</td>\n",
              "      <td>-5.791881</td>\n",
              "      <td>-19.214325</td>\n",
              "      <td>-4.4989448</td>\n",
              "      <td>-14.129854</td>\n",
              "      <td>-25.1628</td>\n",
              "      <td>-9.498746</td>\n",
              "      <td>-7.213527</td>\n",
              "      <td>-54.49772</td>\n",
              "      <td>-34.830383</td>\n",
              "      <td>-10.933144</td>\n",
              "      <td>-44.807735</td>\n",
              "      <td>-2.836627</td>\n",
              "      <td>-10.295397</td>\n",
              "      <td>-2.6045506</td>\n",
              "      <td>-22.56568</td>\n",
              "      <td>-15.430084</td>\n",
              "      <td>0.0</td>\n",
              "      <td>0</td>\n",
              "    </tr>\n",
              "    <tr>\n",
              "      <th>4</th>\n",
              "      <td>max</td>\n",
              "      <td>172792</td>\n",
              "      <td>2.45493</td>\n",
              "      <td>22.05773</td>\n",
              "      <td>9.382559</td>\n",
              "      <td>16.875343</td>\n",
              "      <td>34.801666</td>\n",
              "      <td>73.30163</td>\n",
              "      <td>120.58949</td>\n",
              "      <td>20.007208</td>\n",
              "      <td>15.594995</td>\n",
              "      <td>23.745136</td>\n",
              "      <td>12.018913</td>\n",
              "      <td>7.848392</td>\n",
              "      <td>7.126883</td>\n",
              "      <td>10.526766</td>\n",
              "      <td>8.877742</td>\n",
              "      <td>17.315111</td>\n",
              "      <td>9.253527</td>\n",
              "      <td>5.041069</td>\n",
              "      <td>5.5919714</td>\n",
              "      <td>39.420906</td>\n",
              "      <td>27.202839</td>\n",
              "      <td>10.50309</td>\n",
              "      <td>22.528412</td>\n",
              "      <td>4.584549</td>\n",
              "      <td>7.5195885</td>\n",
              "      <td>3.5173457</td>\n",
              "      <td>31.612198</td>\n",
              "      <td>33.84781</td>\n",
              "      <td>25691.16</td>\n",
              "      <td>1</td>\n",
              "    </tr>\n",
              "  </tbody>\n",
              "</table>\n",
              "</div>"
            ],
            "text/plain": [
              "  summary               Time  ...              Amount                 Class\n",
              "0   count             284806  ...              284807                284807\n",
              "1    mean  94813.84136570156  ...   88.34961924204623  0.001727485630620034\n",
              "2  stddev  47488.22832975011  ...  250.12010901734928   0.04152718963546528\n",
              "3     min                  0  ...                 0.0                     0\n",
              "4     max             172792  ...            25691.16                     1\n",
              "\n",
              "[5 rows x 32 columns]"
            ]
          },
          "metadata": {
            "tags": []
          }
        }
      ]
    },
    {
      "cell_type": "markdown",
      "metadata": {
        "id": "vBCtAwhcw1oh"
      },
      "source": [
        "Possiamo vedere che in uno dei record manca il campo del tempo, cerchiamo quindi di individuarlo ed, eventualmente, correggere l'errore.\n",
        "\n",
        "Cerchiamo nel file CSV il record che non inizia con un numero intero."
      ]
    },
    {
      "cell_type": "code",
      "metadata": {
        "colab": {
          "base_uri": "https://localhost:8080/"
        },
        "id": "woX8qrQJz9X8",
        "outputId": "52ec04c0-64fe-4dab-d5a3-e600bc760d71"
      },
      "source": [
        "! grep -v \"^[0-9]*,\" creditcard.csv "
      ],
      "execution_count": null,
      "outputs": [
        {
          "output_type": "stream",
          "text": [
            "\"Time\",\"V1\",\"V2\",\"V3\",\"V4\",\"V5\",\"V6\",\"V7\",\"V8\",\"V9\",\"V10\",\"V11\",\"V12\",\"V13\",\"V14\",\"V15\",\"V16\",\"V17\",\"V18\",\"V19\",\"V20\",\"V21\",\"V22\",\"V23\",\"V24\",\"V25\",\"V26\",\"V27\",\"V28\",\"Amount\",\"Class\"\n",
            "1e+05,-1.40863322829137,-1.624697936324,2.54774230369692,0.385671523516146,0.502790072699087,0.507194721385658,-1.74443114473473,0.760594225747498,3.00170400322912,-1.16309493493591,0.393516209370638,-1.9761080196344,0.231283936059375,0.526783847087809,-3.23246747614055,0.021830807795285,0.519902436567202,1.12642627868296,0.0800098779433671,0.209032736561698,0.21764082393781,0.758246770655715,0.281254134069628,0.736607975853892,-0.741402076374565,0.255349902866452,0.141944167181525,0.228167205092217,49.5,\"0\"\n"
          ],
          "name": "stdout"
        }
      ]
    },
    {
      "cell_type": "markdown",
      "metadata": {
        "id": "o6WdCQlf0Rmd"
      },
      "source": [
        "Risulta essere un record in cui il tempo è scritto in notazione scientifica come $1\\cdot 10^{5}$.\n",
        "Appartiene alla classe delle transazioni legittime già sovrarappresentata, quindi non è molto importante mantenerlo, ma lo correggiamo ugualmente sostituendo il valore `null` con $100000$. \n",
        "\n",
        "Essendoci soltanto una riga con tempo nullo possiamo utilizzare la trasformazione `withColumn` senza problemi. "
      ]
    },
    {
      "cell_type": "code",
      "metadata": {
        "colab": {
          "base_uri": "https://localhost:8080/",
          "height": 232
        },
        "id": "ZOEuyan4xXrk",
        "outputId": "c171066d-762b-4f4c-f78d-e94589db6247"
      },
      "source": [
        "records = records.withColumn(\"Time\",\n",
        "                             when(records[\"Time\"].isNull(),\n",
        "                                  100000) \\\n",
        "                             .otherwise(records[\"Time\"])).dropDuplicates()\n",
        "\n",
        "display(records.describe().toPandas())"
      ],
      "execution_count": null,
      "outputs": [
        {
          "output_type": "display_data",
          "data": {
            "text/html": [
              "<div>\n",
              "<style scoped>\n",
              "    .dataframe tbody tr th:only-of-type {\n",
              "        vertical-align: middle;\n",
              "    }\n",
              "\n",
              "    .dataframe tbody tr th {\n",
              "        vertical-align: top;\n",
              "    }\n",
              "\n",
              "    .dataframe thead th {\n",
              "        text-align: right;\n",
              "    }\n",
              "</style>\n",
              "<table border=\"1\" class=\"dataframe\">\n",
              "  <thead>\n",
              "    <tr style=\"text-align: right;\">\n",
              "      <th></th>\n",
              "      <th>summary</th>\n",
              "      <th>Time</th>\n",
              "      <th>V1</th>\n",
              "      <th>V2</th>\n",
              "      <th>V3</th>\n",
              "      <th>V4</th>\n",
              "      <th>V5</th>\n",
              "      <th>V6</th>\n",
              "      <th>V7</th>\n",
              "      <th>V8</th>\n",
              "      <th>V9</th>\n",
              "      <th>V10</th>\n",
              "      <th>V11</th>\n",
              "      <th>V12</th>\n",
              "      <th>V13</th>\n",
              "      <th>V14</th>\n",
              "      <th>V15</th>\n",
              "      <th>V16</th>\n",
              "      <th>V17</th>\n",
              "      <th>V18</th>\n",
              "      <th>V19</th>\n",
              "      <th>V20</th>\n",
              "      <th>V21</th>\n",
              "      <th>V22</th>\n",
              "      <th>V23</th>\n",
              "      <th>V24</th>\n",
              "      <th>V25</th>\n",
              "      <th>V26</th>\n",
              "      <th>V27</th>\n",
              "      <th>V28</th>\n",
              "      <th>Amount</th>\n",
              "      <th>Class</th>\n",
              "    </tr>\n",
              "  </thead>\n",
              "  <tbody>\n",
              "    <tr>\n",
              "      <th>0</th>\n",
              "      <td>count</td>\n",
              "      <td>284807</td>\n",
              "      <td>284807</td>\n",
              "      <td>284807</td>\n",
              "      <td>284807</td>\n",
              "      <td>284807</td>\n",
              "      <td>284807</td>\n",
              "      <td>284807</td>\n",
              "      <td>284807</td>\n",
              "      <td>284807</td>\n",
              "      <td>284807</td>\n",
              "      <td>284807</td>\n",
              "      <td>284807</td>\n",
              "      <td>284807</td>\n",
              "      <td>284807</td>\n",
              "      <td>284807</td>\n",
              "      <td>284807</td>\n",
              "      <td>284807</td>\n",
              "      <td>284807</td>\n",
              "      <td>284807</td>\n",
              "      <td>284807</td>\n",
              "      <td>284807</td>\n",
              "      <td>284807</td>\n",
              "      <td>284807</td>\n",
              "      <td>284807</td>\n",
              "      <td>284807</td>\n",
              "      <td>284807</td>\n",
              "      <td>284807</td>\n",
              "      <td>284807</td>\n",
              "      <td>284807</td>\n",
              "      <td>284807</td>\n",
              "      <td>284807</td>\n",
              "    </tr>\n",
              "    <tr>\n",
              "      <th>1</th>\n",
              "      <td>mean</td>\n",
              "      <td>94813.85957508067</td>\n",
              "      <td>-2.237831565309384E-10</td>\n",
              "      <td>5.6390376770574364E-11</td>\n",
              "      <td>5.7181949824170215E-11</td>\n",
              "      <td>-5.515661110814551E-11</td>\n",
              "      <td>2.6428014635959684E-11</td>\n",
              "      <td>-1.9836218453151118E-10</td>\n",
              "      <td>-1.1044655188441163E-10</td>\n",
              "      <td>5.3475000568427694E-11</td>\n",
              "      <td>2.419927089644845E-11</td>\n",
              "      <td>5.3895441523821255E-11</td>\n",
              "      <td>-6.56758850695699E-11</td>\n",
              "      <td>4.793081498147977E-11</td>\n",
              "      <td>2.1484545434430527E-11</td>\n",
              "      <td>-8.998896774441982E-11</td>\n",
              "      <td>-4.6294032998024574E-11</td>\n",
              "      <td>-5.987137419976068E-11</td>\n",
              "      <td>3.639741548440692E-11</td>\n",
              "      <td>1.5957350183256596E-11</td>\n",
              "      <td>2.9739322663330695E-11</td>\n",
              "      <td>3.740233772192539E-11</td>\n",
              "      <td>-1.1423847676931417E-11</td>\n",
              "      <td>4.026301784830157E-11</td>\n",
              "      <td>-9.643035035753393E-12</td>\n",
              "      <td>4.7671430945018126E-11</td>\n",
              "      <td>-7.220635637499166E-12</td>\n",
              "      <td>-4.4536415414434063E-11</td>\n",
              "      <td>2.3264761314214363E-11</td>\n",
              "      <td>-1.0009771058213764E-11</td>\n",
              "      <td>88.34961924204623</td>\n",
              "      <td>0.001727485630620034</td>\n",
              "    </tr>\n",
              "    <tr>\n",
              "      <th>2</th>\n",
              "      <td>stddev</td>\n",
              "      <td>47488.145954566906</td>\n",
              "      <td>1.958695804149988</td>\n",
              "      <td>1.6513085797790983</td>\n",
              "      <td>1.5162550047888008</td>\n",
              "      <td>1.4158685748057576</td>\n",
              "      <td>1.38024673467619</td>\n",
              "      <td>1.3322710895129717</td>\n",
              "      <td>1.2370935982054971</td>\n",
              "      <td>1.1943529028329143</td>\n",
              "      <td>1.0986320894527717</td>\n",
              "      <td>1.0888497654131535</td>\n",
              "      <td>1.0207130274845488</td>\n",
              "      <td>0.9992013897133897</td>\n",
              "      <td>0.9952742301172138</td>\n",
              "      <td>0.9585956107110349</td>\n",
              "      <td>0.9153160115854574</td>\n",
              "      <td>0.8762528874680678</td>\n",
              "      <td>0.8493370639017923</td>\n",
              "      <td>0.8381762093603176</td>\n",
              "      <td>0.8140405007230054</td>\n",
              "      <td>0.7709250247479664</td>\n",
              "      <td>0.7345240139851617</td>\n",
              "      <td>0.7257015605697456</td>\n",
              "      <td>0.6244602954715794</td>\n",
              "      <td>0.6056470678589732</td>\n",
              "      <td>0.52127807053526</td>\n",
              "      <td>0.48222701319019107</td>\n",
              "      <td>0.4036324945392819</td>\n",
              "      <td>0.33008326434426066</td>\n",
              "      <td>250.12010901734928</td>\n",
              "      <td>0.04152718963546528</td>\n",
              "    </tr>\n",
              "    <tr>\n",
              "      <th>3</th>\n",
              "      <td>min</td>\n",
              "      <td>0</td>\n",
              "      <td>-56.40751</td>\n",
              "      <td>-72.71573</td>\n",
              "      <td>-48.32559</td>\n",
              "      <td>-5.6831713</td>\n",
              "      <td>-113.74331</td>\n",
              "      <td>-26.160505</td>\n",
              "      <td>-43.557243</td>\n",
              "      <td>-73.21672</td>\n",
              "      <td>-13.434067</td>\n",
              "      <td>-24.588263</td>\n",
              "      <td>-4.7974734</td>\n",
              "      <td>-18.683714</td>\n",
              "      <td>-5.791881</td>\n",
              "      <td>-19.214325</td>\n",
              "      <td>-4.4989448</td>\n",
              "      <td>-14.129854</td>\n",
              "      <td>-25.1628</td>\n",
              "      <td>-9.498746</td>\n",
              "      <td>-7.213527</td>\n",
              "      <td>-54.49772</td>\n",
              "      <td>-34.830383</td>\n",
              "      <td>-10.933144</td>\n",
              "      <td>-44.807735</td>\n",
              "      <td>-2.836627</td>\n",
              "      <td>-10.295397</td>\n",
              "      <td>-2.6045506</td>\n",
              "      <td>-22.56568</td>\n",
              "      <td>-15.430084</td>\n",
              "      <td>0.0</td>\n",
              "      <td>0</td>\n",
              "    </tr>\n",
              "    <tr>\n",
              "      <th>4</th>\n",
              "      <td>max</td>\n",
              "      <td>172792</td>\n",
              "      <td>2.45493</td>\n",
              "      <td>22.05773</td>\n",
              "      <td>9.382559</td>\n",
              "      <td>16.875343</td>\n",
              "      <td>34.801666</td>\n",
              "      <td>73.30163</td>\n",
              "      <td>120.58949</td>\n",
              "      <td>20.007208</td>\n",
              "      <td>15.594995</td>\n",
              "      <td>23.745136</td>\n",
              "      <td>12.018913</td>\n",
              "      <td>7.848392</td>\n",
              "      <td>7.126883</td>\n",
              "      <td>10.526766</td>\n",
              "      <td>8.877742</td>\n",
              "      <td>17.315111</td>\n",
              "      <td>9.253527</td>\n",
              "      <td>5.041069</td>\n",
              "      <td>5.5919714</td>\n",
              "      <td>39.420906</td>\n",
              "      <td>27.202839</td>\n",
              "      <td>10.50309</td>\n",
              "      <td>22.528412</td>\n",
              "      <td>4.584549</td>\n",
              "      <td>7.5195885</td>\n",
              "      <td>3.5173457</td>\n",
              "      <td>31.612198</td>\n",
              "      <td>33.84781</td>\n",
              "      <td>25691.16</td>\n",
              "      <td>1</td>\n",
              "    </tr>\n",
              "  </tbody>\n",
              "</table>\n",
              "</div>"
            ],
            "text/plain": [
              "  summary                Time  ...              Amount                 Class\n",
              "0   count              284807  ...              284807                284807\n",
              "1    mean   94813.85957508067  ...   88.34961924204623  0.001727485630620034\n",
              "2  stddev  47488.145954566906  ...  250.12010901734928   0.04152718963546528\n",
              "3     min                   0  ...                 0.0                     0\n",
              "4     max              172792  ...            25691.16                     1\n",
              "\n",
              "[5 rows x 32 columns]"
            ]
          },
          "metadata": {
            "tags": []
          }
        }
      ]
    },
    {
      "cell_type": "markdown",
      "metadata": {
        "id": "10-ntEiPSwYx"
      },
      "source": [
        "Creiamo una funzione per separare il dataset in base alla classe."
      ]
    },
    {
      "cell_type": "code",
      "metadata": {
        "id": "sMIdeb1eVE04",
        "colab": {
          "base_uri": "https://localhost:8080/",
          "height": 481
        },
        "outputId": "2cb33b4d-5b4a-4c21-feb9-5fe275fb614c"
      },
      "source": [
        "def split_categories(dataset, describe=False):\n",
        "  fraud = dataset.filter(dataset.Class.contains(1))\n",
        "  legit = dataset.filter(dataset.Class.contains(0))\n",
        "  \n",
        "  if describe :\n",
        "    print(\"Fraudolent transactions: \",fraud.count())\n",
        "    print(\"Legit transactions:      \",legit.count())\n",
        "    print(\"-\"*40)\n",
        "    print(\"Total transactions:      \",dataset.count())\n",
        "  \n",
        "    display(fraud.describe().toPandas())\n",
        "    display(legit.describe().toPandas())\n",
        "    \n",
        "  return (fraud, legit)\n",
        "\n",
        "\n",
        "fraud, legit = split_categories(records, describe=True)"
      ],
      "execution_count": null,
      "outputs": [
        {
          "output_type": "stream",
          "text": [
            "Fraudolent transactions:  492\n",
            "Legit transactions:       284315\n",
            "----------------------------------------\n",
            "Total transactions:       284807\n"
          ],
          "name": "stdout"
        },
        {
          "output_type": "display_data",
          "data": {
            "text/html": [
              "<div>\n",
              "<style scoped>\n",
              "    .dataframe tbody tr th:only-of-type {\n",
              "        vertical-align: middle;\n",
              "    }\n",
              "\n",
              "    .dataframe tbody tr th {\n",
              "        vertical-align: top;\n",
              "    }\n",
              "\n",
              "    .dataframe thead th {\n",
              "        text-align: right;\n",
              "    }\n",
              "</style>\n",
              "<table border=\"1\" class=\"dataframe\">\n",
              "  <thead>\n",
              "    <tr style=\"text-align: right;\">\n",
              "      <th></th>\n",
              "      <th>summary</th>\n",
              "      <th>Time</th>\n",
              "      <th>V1</th>\n",
              "      <th>V2</th>\n",
              "      <th>V3</th>\n",
              "      <th>V4</th>\n",
              "      <th>V5</th>\n",
              "      <th>V6</th>\n",
              "      <th>V7</th>\n",
              "      <th>V8</th>\n",
              "      <th>V9</th>\n",
              "      <th>V10</th>\n",
              "      <th>V11</th>\n",
              "      <th>V12</th>\n",
              "      <th>V13</th>\n",
              "      <th>V14</th>\n",
              "      <th>V15</th>\n",
              "      <th>V16</th>\n",
              "      <th>V17</th>\n",
              "      <th>V18</th>\n",
              "      <th>V19</th>\n",
              "      <th>V20</th>\n",
              "      <th>V21</th>\n",
              "      <th>V22</th>\n",
              "      <th>V23</th>\n",
              "      <th>V24</th>\n",
              "      <th>V25</th>\n",
              "      <th>V26</th>\n",
              "      <th>V27</th>\n",
              "      <th>V28</th>\n",
              "      <th>Amount</th>\n",
              "      <th>Class</th>\n",
              "    </tr>\n",
              "  </thead>\n",
              "  <tbody>\n",
              "    <tr>\n",
              "      <th>0</th>\n",
              "      <td>count</td>\n",
              "      <td>492</td>\n",
              "      <td>492</td>\n",
              "      <td>492</td>\n",
              "      <td>492</td>\n",
              "      <td>492</td>\n",
              "      <td>492</td>\n",
              "      <td>492</td>\n",
              "      <td>492</td>\n",
              "      <td>492</td>\n",
              "      <td>492</td>\n",
              "      <td>492</td>\n",
              "      <td>492</td>\n",
              "      <td>492</td>\n",
              "      <td>492</td>\n",
              "      <td>492</td>\n",
              "      <td>492</td>\n",
              "      <td>492</td>\n",
              "      <td>492</td>\n",
              "      <td>492</td>\n",
              "      <td>492</td>\n",
              "      <td>492</td>\n",
              "      <td>492</td>\n",
              "      <td>492</td>\n",
              "      <td>492</td>\n",
              "      <td>492</td>\n",
              "      <td>492</td>\n",
              "      <td>492</td>\n",
              "      <td>492</td>\n",
              "      <td>492</td>\n",
              "      <td>492</td>\n",
              "      <td>492</td>\n",
              "    </tr>\n",
              "    <tr>\n",
              "      <th>1</th>\n",
              "      <td>mean</td>\n",
              "      <td>80746.80691056911</td>\n",
              "      <td>-4.771948437656018</td>\n",
              "      <td>3.623778107310352</td>\n",
              "      <td>-7.033281044682442</td>\n",
              "      <td>4.542029104072495</td>\n",
              "      <td>-3.151224880354343</td>\n",
              "      <td>-1.3977367154386924</td>\n",
              "      <td>-5.568731092020435</td>\n",
              "      <td>0.570635888230059</td>\n",
              "      <td>-2.581122922312612</td>\n",
              "      <td>-5.676882852671471</td>\n",
              "      <td>3.8001729140232485</td>\n",
              "      <td>-6.259393054446796</td>\n",
              "      <td>-0.1093338164198023</td>\n",
              "      <td>-6.9717228717465956</td>\n",
              "      <td>-0.09292874562888163</td>\n",
              "      <td>-4.1399456993601005</td>\n",
              "      <td>-6.665836404017135</td>\n",
              "      <td>-2.2463081330136676</td>\n",
              "      <td>0.6806593034698011</td>\n",
              "      <td>0.3723193940359198</td>\n",
              "      <td>0.713588354124771</td>\n",
              "      <td>0.014048882184656171</td>\n",
              "      <td>-0.04030796614635501</td>\n",
              "      <td>-0.10513030546286704</td>\n",
              "      <td>0.04144888758395151</td>\n",
              "      <td>0.05164812607410301</td>\n",
              "      <td>0.17057479472585815</td>\n",
              "      <td>0.0756672901234862</td>\n",
              "      <td>122.21132165278739</td>\n",
              "      <td>1.0</td>\n",
              "    </tr>\n",
              "    <tr>\n",
              "      <th>2</th>\n",
              "      <td>stddev</td>\n",
              "      <td>47835.36513767504</td>\n",
              "      <td>6.783686760149836</td>\n",
              "      <td>4.291215642398455</td>\n",
              "      <td>7.1109372635878305</td>\n",
              "      <td>2.8733176928921567</td>\n",
              "      <td>5.372467992149999</td>\n",
              "      <td>1.8581235795517268</td>\n",
              "      <td>7.206772848770788</td>\n",
              "      <td>6.79783066808891</td>\n",
              "      <td>2.5008955825790906</td>\n",
              "      <td>4.8973410005960165</td>\n",
              "      <td>2.6786045231662667</td>\n",
              "      <td>4.6544585194994275</td>\n",
              "      <td>1.1045182923679866</td>\n",
              "      <td>4.2789398549904405</td>\n",
              "      <td>1.0499153028171588</td>\n",
              "      <td>3.8650346589266658</td>\n",
              "      <td>6.970617760135201</td>\n",
              "      <td>2.8993658954043</td>\n",
              "      <td>1.5398533044715659</td>\n",
              "      <td>1.3466351591864207</td>\n",
              "      <td>3.8693043575015027</td>\n",
              "      <td>1.494601631426158</td>\n",
              "      <td>1.5796423270678805</td>\n",
              "      <td>0.5155765404193516</td>\n",
              "      <td>0.7972046929377743</td>\n",
              "      <td>0.471678945103954</td>\n",
              "      <td>1.3767657674001963</td>\n",
              "      <td>0.5472914201304008</td>\n",
              "      <td>256.6832925093746</td>\n",
              "      <td>0.0</td>\n",
              "    </tr>\n",
              "    <tr>\n",
              "      <th>3</th>\n",
              "      <td>min</td>\n",
              "      <td>406</td>\n",
              "      <td>-30.55238</td>\n",
              "      <td>-8.402154</td>\n",
              "      <td>-31.103685</td>\n",
              "      <td>-1.3132749</td>\n",
              "      <td>-22.105532</td>\n",
              "      <td>-6.4062667</td>\n",
              "      <td>-43.557243</td>\n",
              "      <td>-41.044262</td>\n",
              "      <td>-13.434067</td>\n",
              "      <td>-24.588263</td>\n",
              "      <td>-1.7022284</td>\n",
              "      <td>-18.683714</td>\n",
              "      <td>-3.127795</td>\n",
              "      <td>-19.214325</td>\n",
              "      <td>-4.4989448</td>\n",
              "      <td>-14.129854</td>\n",
              "      <td>-25.1628</td>\n",
              "      <td>-9.498746</td>\n",
              "      <td>-3.6819036</td>\n",
              "      <td>-4.1281857</td>\n",
              "      <td>-22.797604</td>\n",
              "      <td>-8.887017</td>\n",
              "      <td>-19.254328</td>\n",
              "      <td>-2.0280242</td>\n",
              "      <td>-4.7816057</td>\n",
              "      <td>-1.1526711</td>\n",
              "      <td>-7.263482</td>\n",
              "      <td>-1.8692905</td>\n",
              "      <td>0.0</td>\n",
              "      <td>1</td>\n",
              "    </tr>\n",
              "    <tr>\n",
              "      <th>4</th>\n",
              "      <td>max</td>\n",
              "      <td>170348</td>\n",
              "      <td>2.132386</td>\n",
              "      <td>22.05773</td>\n",
              "      <td>2.2502096</td>\n",
              "      <td>12.114672</td>\n",
              "      <td>11.095089</td>\n",
              "      <td>6.4741144</td>\n",
              "      <td>5.8025374</td>\n",
              "      <td>20.007208</td>\n",
              "      <td>3.353525</td>\n",
              "      <td>4.031435</td>\n",
              "      <td>12.018913</td>\n",
              "      <td>1.3759414</td>\n",
              "      <td>2.8154397</td>\n",
              "      <td>3.442422</td>\n",
              "      <td>2.4713578</td>\n",
              "      <td>3.1396556</td>\n",
              "      <td>6.739384</td>\n",
              "      <td>3.790316</td>\n",
              "      <td>5.2283416</td>\n",
              "      <td>11.059004</td>\n",
              "      <td>27.202839</td>\n",
              "      <td>8.361985</td>\n",
              "      <td>5.46623</td>\n",
              "      <td>1.0914347</td>\n",
              "      <td>2.2082093</td>\n",
              "      <td>2.7452607</td>\n",
              "      <td>3.0523577</td>\n",
              "      <td>1.7793639</td>\n",
              "      <td>2125.87</td>\n",
              "      <td>1</td>\n",
              "    </tr>\n",
              "  </tbody>\n",
              "</table>\n",
              "</div>"
            ],
            "text/plain": [
              "  summary               Time  ...              Amount Class\n",
              "0   count                492  ...                 492   492\n",
              "1    mean  80746.80691056911  ...  122.21132165278739   1.0\n",
              "2  stddev  47835.36513767504  ...   256.6832925093746   0.0\n",
              "3     min                406  ...                 0.0     1\n",
              "4     max             170348  ...             2125.87     1\n",
              "\n",
              "[5 rows x 32 columns]"
            ]
          },
          "metadata": {
            "tags": []
          }
        },
        {
          "output_type": "display_data",
          "data": {
            "text/html": [
              "<div>\n",
              "<style scoped>\n",
              "    .dataframe tbody tr th:only-of-type {\n",
              "        vertical-align: middle;\n",
              "    }\n",
              "\n",
              "    .dataframe tbody tr th {\n",
              "        vertical-align: top;\n",
              "    }\n",
              "\n",
              "    .dataframe thead th {\n",
              "        text-align: right;\n",
              "    }\n",
              "</style>\n",
              "<table border=\"1\" class=\"dataframe\">\n",
              "  <thead>\n",
              "    <tr style=\"text-align: right;\">\n",
              "      <th></th>\n",
              "      <th>summary</th>\n",
              "      <th>Time</th>\n",
              "      <th>V1</th>\n",
              "      <th>V2</th>\n",
              "      <th>V3</th>\n",
              "      <th>V4</th>\n",
              "      <th>V5</th>\n",
              "      <th>V6</th>\n",
              "      <th>V7</th>\n",
              "      <th>V8</th>\n",
              "      <th>V9</th>\n",
              "      <th>V10</th>\n",
              "      <th>V11</th>\n",
              "      <th>V12</th>\n",
              "      <th>V13</th>\n",
              "      <th>V14</th>\n",
              "      <th>V15</th>\n",
              "      <th>V16</th>\n",
              "      <th>V17</th>\n",
              "      <th>V18</th>\n",
              "      <th>V19</th>\n",
              "      <th>V20</th>\n",
              "      <th>V21</th>\n",
              "      <th>V22</th>\n",
              "      <th>V23</th>\n",
              "      <th>V24</th>\n",
              "      <th>V25</th>\n",
              "      <th>V26</th>\n",
              "      <th>V27</th>\n",
              "      <th>V28</th>\n",
              "      <th>Amount</th>\n",
              "      <th>Class</th>\n",
              "    </tr>\n",
              "  </thead>\n",
              "  <tbody>\n",
              "    <tr>\n",
              "      <th>0</th>\n",
              "      <td>count</td>\n",
              "      <td>284315</td>\n",
              "      <td>284315</td>\n",
              "      <td>284315</td>\n",
              "      <td>284315</td>\n",
              "      <td>284315</td>\n",
              "      <td>284315</td>\n",
              "      <td>284315</td>\n",
              "      <td>284315</td>\n",
              "      <td>284315</td>\n",
              "      <td>284315</td>\n",
              "      <td>284315</td>\n",
              "      <td>284315</td>\n",
              "      <td>284315</td>\n",
              "      <td>284315</td>\n",
              "      <td>284315</td>\n",
              "      <td>284315</td>\n",
              "      <td>284315</td>\n",
              "      <td>284315</td>\n",
              "      <td>284315</td>\n",
              "      <td>284315</td>\n",
              "      <td>284315</td>\n",
              "      <td>284315</td>\n",
              "      <td>284315</td>\n",
              "      <td>284315</td>\n",
              "      <td>284315</td>\n",
              "      <td>284315</td>\n",
              "      <td>284315</td>\n",
              "      <td>284315</td>\n",
              "      <td>284315</td>\n",
              "      <td>284315</td>\n",
              "      <td>284315</td>\n",
              "    </tr>\n",
              "    <tr>\n",
              "      <th>1</th>\n",
              "      <td>mean</td>\n",
              "      <td>94838.20225805884</td>\n",
              "      <td>0.008257737254776397</td>\n",
              "      <td>-0.0062708573685395395</td>\n",
              "      <td>0.012170917082354364</td>\n",
              "      <td>-0.00785986787511266</td>\n",
              "      <td>0.005453115905461267</td>\n",
              "      <td>0.0024187482457868844</td>\n",
              "      <td>0.009636549833171311</td>\n",
              "      <td>-9.874710858700129E-4</td>\n",
              "      <td>0.004466568716634462</td>\n",
              "      <td>0.009823703915952949</td>\n",
              "      <td>-0.006576104294196191</td>\n",
              "      <td>0.010831723252163463</td>\n",
              "      <td>1.8919945763498818E-4</td>\n",
              "      <td>0.01206439205553642</td>\n",
              "      <td>1.6081082484056456E-4</td>\n",
              "      <td>0.007164072479585611</td>\n",
              "      <td>0.011535063296493921</td>\n",
              "      <td>0.0038871800854245802</td>\n",
              "      <td>-0.0011778638792788803</td>\n",
              "      <td>-6.442893664183211E-4</td>\n",
              "      <td>-0.0012348468194888734</td>\n",
              "      <td>-2.43111990843308E-5</td>\n",
              "      <td>6.97519181105562E-5</td>\n",
              "      <td>1.8192541323844261E-4</td>\n",
              "      <td>-7.172627102963866E-5</td>\n",
              "      <td>-8.937583564968978E-5</td>\n",
              "      <td>-2.9517539482319026E-4</td>\n",
              "      <td>-1.3094036400333463E-4</td>\n",
              "      <td>88.29102241252234</td>\n",
              "      <td>0.0</td>\n",
              "    </tr>\n",
              "    <tr>\n",
              "      <th>2</th>\n",
              "      <td>stddev</td>\n",
              "      <td>47484.015785551375</td>\n",
              "      <td>1.929814051942518</td>\n",
              "      <td>1.6361460527804974</td>\n",
              "      <td>1.459429027326113</td>\n",
              "      <td>1.3993332347181888</td>\n",
              "      <td>1.3569516919137445</td>\n",
              "      <td>1.329912995500764</td>\n",
              "      <td>1.178812189544264</td>\n",
              "      <td>1.1612833511061302</td>\n",
              "      <td>1.089371898518753</td>\n",
              "      <td>1.0442036817464315</td>\n",
              "      <td>1.003111906708903</td>\n",
              "      <td>0.9459390254842318</td>\n",
              "      <td>0.9950665341767122</td>\n",
              "      <td>0.897006524156718</td>\n",
              "      <td>0.9150598688874217</td>\n",
              "      <td>0.8447717338429365</td>\n",
              "      <td>0.7494566481100906</td>\n",
              "      <td>0.8249186194038873</td>\n",
              "      <td>0.8117331207533034</td>\n",
              "      <td>0.7694035635872329</td>\n",
              "      <td>0.716743467578044</td>\n",
              "      <td>0.7236684375977248</td>\n",
              "      <td>0.6215411535444829</td>\n",
              "      <td>0.605776284304455</td>\n",
              "      <td>0.5206731481665137</td>\n",
              "      <td>0.48224108342167044</td>\n",
              "      <td>0.3998465332168914</td>\n",
              "      <td>0.3295698817632466</td>\n",
              "      <td>250.1050919950667</td>\n",
              "      <td>0.0</td>\n",
              "    </tr>\n",
              "    <tr>\n",
              "      <th>3</th>\n",
              "      <td>min</td>\n",
              "      <td>0</td>\n",
              "      <td>-56.40751</td>\n",
              "      <td>-72.71573</td>\n",
              "      <td>-48.32559</td>\n",
              "      <td>-5.6831713</td>\n",
              "      <td>-113.74331</td>\n",
              "      <td>-26.160505</td>\n",
              "      <td>-31.764946</td>\n",
              "      <td>-73.21672</td>\n",
              "      <td>-6.2907305</td>\n",
              "      <td>-14.7410965</td>\n",
              "      <td>-4.7974734</td>\n",
              "      <td>-15.144988</td>\n",
              "      <td>-5.791881</td>\n",
              "      <td>-18.392092</td>\n",
              "      <td>-4.391307</td>\n",
              "      <td>-10.11556</td>\n",
              "      <td>-17.098444</td>\n",
              "      <td>-5.36666</td>\n",
              "      <td>-7.213527</td>\n",
              "      <td>-54.49772</td>\n",
              "      <td>-34.830383</td>\n",
              "      <td>-10.933144</td>\n",
              "      <td>-44.807735</td>\n",
              "      <td>-2.836627</td>\n",
              "      <td>-10.295397</td>\n",
              "      <td>-2.6045506</td>\n",
              "      <td>-22.56568</td>\n",
              "      <td>-15.430084</td>\n",
              "      <td>0.0</td>\n",
              "      <td>0</td>\n",
              "    </tr>\n",
              "    <tr>\n",
              "      <th>4</th>\n",
              "      <td>max</td>\n",
              "      <td>172792</td>\n",
              "      <td>2.45493</td>\n",
              "      <td>18.902452</td>\n",
              "      <td>9.382559</td>\n",
              "      <td>16.875343</td>\n",
              "      <td>34.801666</td>\n",
              "      <td>73.30163</td>\n",
              "      <td>120.58949</td>\n",
              "      <td>18.709255</td>\n",
              "      <td>15.594995</td>\n",
              "      <td>23.745136</td>\n",
              "      <td>10.002191</td>\n",
              "      <td>7.848392</td>\n",
              "      <td>7.126883</td>\n",
              "      <td>10.526766</td>\n",
              "      <td>8.877742</td>\n",
              "      <td>17.315111</td>\n",
              "      <td>9.253527</td>\n",
              "      <td>5.041069</td>\n",
              "      <td>5.5919714</td>\n",
              "      <td>39.420906</td>\n",
              "      <td>22.61489</td>\n",
              "      <td>10.50309</td>\n",
              "      <td>22.528412</td>\n",
              "      <td>4.584549</td>\n",
              "      <td>7.5195885</td>\n",
              "      <td>3.5173457</td>\n",
              "      <td>31.612198</td>\n",
              "      <td>33.84781</td>\n",
              "      <td>25691.16</td>\n",
              "      <td>0</td>\n",
              "    </tr>\n",
              "  </tbody>\n",
              "</table>\n",
              "</div>"
            ],
            "text/plain": [
              "  summary                Time  ...             Amount   Class\n",
              "0   count              284315  ...             284315  284315\n",
              "1    mean   94838.20225805884  ...  88.29102241252234     0.0\n",
              "2  stddev  47484.015785551375  ...  250.1050919950667     0.0\n",
              "3     min                   0  ...                0.0       0\n",
              "4     max              172792  ...           25691.16       0\n",
              "\n",
              "[5 rows x 32 columns]"
            ]
          },
          "metadata": {
            "tags": []
          }
        }
      ]
    },
    {
      "cell_type": "markdown",
      "metadata": {
        "id": "TsnCfNU1ytA9"
      },
      "source": [
        "I descrittori statistici ottenuti precedentemente sono abbastanza differenti per le due classi, osserviamo adesso la forma delle distribuzioni delle varie feature."
      ]
    },
    {
      "cell_type": "code",
      "metadata": {
        "id": "vA3FWVQxERNS"
      },
      "source": [
        "import pandas as pd\n",
        "import matplotlib.pyplot as plt\n",
        "import seaborn as sn\n",
        "\n",
        "\n",
        "%matplotlib inline\n"
      ],
      "execution_count": null,
      "outputs": []
    },
    {
      "cell_type": "code",
      "metadata": {
        "id": "tSBQAEBjr-Oo"
      },
      "source": [
        "if False:\n",
        "#for col in fraud.columns[0:-1]:\n",
        "  hist_l = legit.select(col).rdd.flatMap(lambda x: x).histogram(30)\n",
        "  hist_f = fraud.select(col).rdd.flatMap(lambda x: x).histogram(30)\n",
        "\n",
        "  # Loading the Computed Histogram into a Pandas Dataframe for plotting\n",
        "  fig = plt.figure()\n",
        "  plt.title(col)\n",
        "  plt.axis(False)\n",
        "  ax_l = fig.add_subplot(1,2,1)\n",
        "  ax_f = fig.add_subplot(1,2,2)\n",
        "  pd.DataFrame( list(zip(*hist_l)),columns=['bin', 'frequency'] ) \\\n",
        "    .set_index('bin') \\\n",
        "    .plot(kind='bar', xlabel=\"Legit\",ax=ax_l, xticks=[],yticks=[],legend=False)\n",
        "  pd.DataFrame( list(zip(*hist_f)),columns=['bin', 'frequency']  ) \\\n",
        "    .set_index( 'bin' ) \\\n",
        "    .plot(kind='bar', xlabel=\"Fraud\",ax=ax_f, xticks=[],yticks=[],legend=False);\n",
        "  plt.show()"
      ],
      "execution_count": null,
      "outputs": []
    },
    {
      "cell_type": "markdown",
      "metadata": {
        "id": "FL3buxKv0XE2"
      },
      "source": [
        "La differenza tra le due distribuzioni è meno evidente ad una analisi visiva, plottiamo quindi le prime features (che essendo risultato di una PCA sono responsabili della maggior parte della variazione) per essere sicuri della possibilità di separare le due classi."
      ]
    },
    {
      "cell_type": "code",
      "metadata": {
        "id": "jZyXWdAuQ9Sl",
        "colab": {
          "base_uri": "https://localhost:8080/",
          "height": 273
        },
        "outputId": "90095f6e-e17d-4859-e5e9-91e0370222d2"
      },
      "source": [
        "legit_x    =legit.select(\"V1\").toPandas()\n",
        "legit_y    =legit.select(\"V2\").toPandas()\n",
        "legit_z    =legit.select(\"V3\").toPandas()\n",
        "legit_time =legit.select(\"Time\").toPandas()\n",
        "\n",
        "fraud_x    =fraud.select(\"V1\").toPandas()\n",
        "fraud_y    =fraud.select(\"V2\").toPandas()\n",
        "fraud_z    =fraud.select(\"V3\").toPandas()\n",
        "fraud_time =fraud.select(\"Time\").toPandas()\n",
        "\n",
        "fig = plt.figure()\n",
        "ax = fig.add_subplot(2,2,1,projection='3d')\n",
        "ax.axis('off')\n",
        "ax.tick_params(labelcolor='w', top=False, bottom=False, left=False, right=False)\n",
        "ax.set_title(\"V1,V2,V3\")\n",
        "ax.scatter(legit_x, legit_y, legit_z)\n",
        "ax.scatter(fraud_x, fraud_y, fraud_z)\n",
        "\n",
        "ax = fig.add_subplot(2,2,3)\n",
        "ax.tick_params(labelcolor='w', top=False, bottom=False, left=False, right=False)\n",
        "ax.set_title(\"V1,V2\")\n",
        "ax.scatter(legit_x, legit_y)\n",
        "ax.scatter(fraud_x, fraud_y)\n",
        "\n",
        "ax = fig.add_subplot(2,2,2,projection='3d')\n",
        "ax.tick_params(labelcolor='w', top=False, bottom=False, left=False, right=False)\n",
        "ax.set_title(\"Time,V1,V2\")\n",
        "ax.scatter(legit_time, legit_x, legit_y)\n",
        "ax.scatter(fraud_time, fraud_x, fraud_y)\n",
        "\n",
        "ax = fig.add_subplot(2,2,4)\n",
        "ax.tick_params(labelcolor='w', top=False, bottom=False, left=False, right=False)\n",
        "ax.set_title(\"Time,V1\")\n",
        "ax.scatter(legit_time, legit_x)\n",
        "ax.scatter(fraud_time, fraud_x)\n",
        "\n",
        "plt.show()"
      ],
      "execution_count": null,
      "outputs": [
        {
          "output_type": "display_data",
          "data": {
            "image/png": "[encoded data removed]",
            "text/plain": [
              "<Figure size 432x288 with 4 Axes>"
            ]
          },
          "metadata": {
            "tags": [],
            "needs_background": "dark"
          }
        }
      ]
    },
    {
      "cell_type": "markdown",
      "metadata": {
        "id": "iJU7TUal40il"
      },
      "source": [
        "Vediamo come le transazioni fraudolente siano all'interno dello spazio delle features contigue e abbastanza compatte. Inoltre il tempo è una feature che potrebbe risultare utile poiché le due classi sembrano avere maggiore variazione di V1 in corrispondenza di orari diversi."
      ]
    },
    {
      "cell_type": "markdown",
      "metadata": {
        "id": "8azg1HEm8vvb"
      },
      "source": [
        "## Classification\n",
        "\n",
        "Visto che le due classi sono fortemente sbilanciate, il classificatore verrebbe principalmente addestrato su campioni appartenenti alla classe delle transazioni legittime, introducendo un bias indesiderato: tutte le transazioni verrebbero classificate come legittime. \n",
        "Per questo motivo utilizziamo delle tecniche per mitigare il problema."
      ]
    },
    {
      "cell_type": "code",
      "metadata": {
        "id": "N32y1EGmd2MG"
      },
      "source": [
        "# Definiamo una funzione per stampare l'area sotto la curva precision-recall e \n",
        "# la matrice di confusione per il training set.\n",
        "from pyspark.ml.tuning import CrossValidator\n",
        "\n",
        "def evaluate_model(cvModel, train, test, callable=True):\n",
        "  evaluator = cvModel.getEvaluator()\n",
        "  predictions = cvModel.transform(test)\n",
        "  performance = cvModel.transform(train)\n",
        "  summary = cvModel.bestModel.stages[2].summary() \\\n",
        "            if callable else cvModel.bestModel.stages[2].summary\n",
        "\n",
        "  auprc = evaluator.evaluate(performance)\n",
        "  print(f\"Area Under PR Curve (train): {(100*auprc):05.2f}%\")\n",
        "\n",
        "  plt.figure(figsize=(5,5))\n",
        "  plt.plot([0, 1], [0, 1], 'r--')\n",
        "  plt.plot(summary.roc.select('FPR').collect(),\n",
        "          summary.roc.select('TPR').collect())\n",
        "  plt.xlabel('FPR')\n",
        "  plt.ylabel('TPR')\n",
        "  plt.title(\"Precision-Recall curve\")\n",
        "  plt.show()\n",
        "\n",
        "  print(\"Test set results:\")\n",
        "  auprc = evaluator.evaluate(predictions)\n",
        "  print(f\"Area Under PR Curve:  {(100*auprc):05.2f}%\")\n",
        "\n",
        "  predictions.createOrReplaceTempView('predictions')\n",
        "  tp = spark.sql(\"\"\"SELECT COUNT(*) as c\n",
        "                    FROM predictions\n",
        "                    WHERE predictions.Class == 1 AND\n",
        "                    predictions.prediction == 1.0 \"\"\").collect()[0].c\n",
        "  print(f\"True positives:       {tp}\")\n",
        "  fp = spark.sql(\"\"\"SELECT COUNT(*) as c\n",
        "                    FROM predictions\n",
        "                    WHERE predictions.Class == 0 AND\n",
        "                    predictions.prediction == 1.0 \"\"\").collect()[0].c\n",
        "  print(f\"False positives:      {fp}\")\n",
        "  tn = spark.sql(\"\"\"SELECT COUNT(*) as c\n",
        "                    FROM predictions\n",
        "                    WHERE predictions.Class == 0 AND\n",
        "                    predictions.prediction == 0.0 \"\"\").collect()[0].c\n",
        "  print(f\"True negatives:       {tn}\")\n",
        "  fn = spark.sql(\"\"\"SELECT COUNT(*) as c\n",
        "                    FROM predictions\n",
        "                    WHERE predictions.Class == 1 AND\n",
        "                    predictions.prediction == 0.0 \"\"\").collect()[0].c\n",
        "  print(f\"False negatives:      {fn}\")\n",
        "\n",
        "  sn.heatmap([[tp, fp],[fn,tn]], annot=True, fmt='.3g', cbar=False)\\\n",
        "   .set_title(\"Confusion matrix\");\n",
        "\n",
        "  precision = (tp)/(tp+fp)\n",
        "  accuracy = (tp+tn)/(tp+tn+fp+fn)\n",
        "  recall = (tp)/(tp+fn)\n",
        "  print(f\"Precision:            {precision:1.3f}\")\n",
        "  print(f\"Accuracy:             {accuracy:1.3f}\")\n",
        "  print(f\"Recall:               {recall:1.3f}\")\n",
        "  print(f\"F1:                   {(2*precision*recall)/(precision+recall):1.3f}\")\n",
        "  "
      ],
      "execution_count": null,
      "outputs": []
    },
    {
      "cell_type": "code",
      "metadata": {
        "id": "hxowFbAqJVw_"
      },
      "source": [
        "# L'evaluator sarà lo stesso per tutti i modelli\n",
        "from pyspark.ml.evaluation import BinaryClassificationEvaluator\n",
        "\n",
        "evaluator = BinaryClassificationEvaluator().setLabelCol(\"Class\")\\\n",
        "                                           .setMetricName(\"areaUnderPR\")"
      ],
      "execution_count": null,
      "outputs": []
    },
    {
      "cell_type": "code",
      "metadata": {
        "id": "FCe_uWgbMKYt"
      },
      "source": [
        "# Necessary imports for all methods\n",
        "\n",
        "from pyspark.ml import Pipeline\n",
        "from pyspark.ml.feature import MinMaxScaler\n",
        "from pyspark.ml.feature import VectorAssembler\n",
        "from pyspark.ml.tuning import ParamGridBuilder\n",
        "from pyspark.ml.feature import IndexToString\n",
        "from pyspark.ml.feature import StringIndexer\n",
        "\n",
        "# The two classifiers\n",
        "from pyspark.ml.classification import LinearSVC\n",
        "from pyspark.ml.classification import RandomForestClassifier "
      ],
      "execution_count": null,
      "outputs": []
    },
    {
      "cell_type": "markdown",
      "metadata": {
        "id": "xUm8XFImpYro"
      },
      "source": [
        "### Undersampling\n",
        "\n",
        "Nel training set sottocampioniamo gli elementi appartenenti alla classe dominante per non introdurre bias sulla frequenza relativa delle classi."
      ]
    },
    {
      "cell_type": "code",
      "metadata": {
        "id": "LhHz5Z_eskNa"
      },
      "source": [
        "# Per ottenere train e test set tramite undersampling\n",
        "\n",
        "def undersample_split(fraud, legit):\n",
        "  train_f, test_f = fraud.randomSplit([0.8, 0.2])\n",
        "  train_l, test_l = legit.randomSplit([0.8, 0.2])\n",
        "  train_l = train_l.sample(False, 1.0*fraud.count()/legit.count()) \\\n",
        "      .limit (train_f.count())\n",
        "  \n",
        "  train       = train_f.union(train_l)\n",
        "  test        = test_f.union(test_l)\n",
        "  return (train, test)"
      ],
      "execution_count": null,
      "outputs": []
    },
    {
      "cell_type": "markdown",
      "metadata": {
        "id": "NRaXG6yTr5Nn"
      },
      "source": [
        "##### Support vector machine \n",
        "\n",
        "Come primo approccio proviamo ad utilizzare come classificatore una support vector machine lineare, inoltre sottocampioniamo le transazioni legittime per non avere un dataset sbilanciato."
      ]
    },
    {
      "cell_type": "code",
      "metadata": {
        "id": "aFMSsALhsgCB"
      },
      "source": [
        "\n",
        "train, test = undersample_split(fraud, legit)\n",
        "\n",
        "\n",
        "labelIndexer = StringIndexer(inputCol='Class',outputCol='Class_index').fit(train)\n",
        "\n",
        "assembler = VectorAssembler().setInputCols(train.schema.names[0:-1])\\\n",
        "  .setOutputCol(\"features\")\n",
        "scaler = MinMaxScaler().setMin(0).setMax(1).setInputCol(\"features\") \\\n",
        "  .setOutputCol(\"scaled_features\")\n",
        "linearSVC = LinearSVC().setFeaturesCol(\"scaled_features\") \\\n",
        "  .setLabelCol(\"Class\")\n",
        "labelConverter = IndexToString(inputCol='prediction',outputCol='predictedLabel')\\\n",
        "  .setLabels(labelIndexer.labels)\n",
        "\n",
        "pipeline = Pipeline().setStages([assembler, \\\n",
        "                                scaler, \\\n",
        "                                linearSVC,\\\n",
        "                                labelConverter])"
      ],
      "execution_count": null,
      "outputs": []
    },
    {
      "cell_type": "code",
      "metadata": {
        "id": "svIXvXeLuJdZ"
      },
      "source": [
        "# Costruiamo l'algoritmo di addestramento, come una 10-fold Cross-validation che si addestra su una \n",
        "# griglia di iperparametri:\n",
        "# -- l'indice di Gini, e l'entropia per controlla la purezza dei nodi foglia\n",
        "# -- il numero di bin cioè di categorie da generare per ogni feature categorica\n",
        "# -- la profondità massima dell'albero\n",
        "\n",
        "# Generiamo la griglia\n",
        "paramGrid = ParamGridBuilder().addGrid(linearSVC.regParam, [0.1, 0.2, 0.5])\\\n",
        "                              .addGrid(linearSVC.maxIter, [20,50,100,200])\\\n",
        "                              .build()"
      ],
      "execution_count": null,
      "outputs": []
    },
    {
      "cell_type": "code",
      "metadata": {
        "id": "rdlvRBCQz6vH"
      },
      "source": [
        "cv = CrossValidator().setEstimator(pipeline)\\\n",
        "                     .setEvaluator(evaluator)\\\n",
        "                     .setEstimatorParamMaps(paramGrid)\\\n",
        "                     .setNumFolds(10)"
      ],
      "execution_count": null,
      "outputs": []
    },
    {
      "cell_type": "code",
      "metadata": {
        "id": "qYFTi3_Y0LXY"
      },
      "source": [
        "cvModel_svm_us = cv.fit(train)\n",
        "\n",
        "evaluate_model(cvModel_svm_us, train, test)\n",
        "cvModel_svm_us.write().overwrite().save('svm_UF')"
      ],
      "execution_count": null,
      "outputs": []
    },
    {
      "cell_type": "markdown",
      "metadata": {
        "id": "-5qShNZVpT9Q"
      },
      "source": [
        "#### Random forest \n",
        "\n",
        "Confrontiamo il risultato precedente con una random forest, addestrata con gli stessi dati."
      ]
    },
    {
      "cell_type": "code",
      "metadata": {
        "id": "Z524nXDqHf0p"
      },
      "source": [
        "labelIndexer = StringIndexer(inputCol='Class',outputCol='Class_index').fit(train)\n",
        "\n",
        "assembler = VectorAssembler().setInputCols(train.schema.names[0:-1])\\\n",
        "  .setOutputCol(\"features\")\n",
        "scaler = MinMaxScaler().setMin(0).setMax(1).setInputCol(\"features\") \\\n",
        "  .setOutputCol(\"scaled_features\")\n",
        "randomForest = RandomForestClassifier().setFeaturesCol(\"scaled_features\") \\\n",
        "  .setLabelCol(\"Class\")\n",
        "labelConverter = IndexToString(inputCol='prediction',outputCol='predictedLabel')\\\n",
        "  .setLabels(labelIndexer.labels)\n",
        "pipeline = Pipeline().setStages([assembler, \\\n",
        "                                scaler, \\\n",
        "                                randomForest,\\\n",
        "                                labelConverter])\n"
      ],
      "execution_count": null,
      "outputs": []
    },
    {
      "cell_type": "code",
      "metadata": {
        "id": "uPOy1-fbJR3n"
      },
      "source": [
        "# Costruiamo l'algoritmo di addestramento, come una 10-fold Cross-validation che si addestra su una \n",
        "# griglia di iperparametri:\n",
        "# -- l'indice di Gini, e l'entropia per controlla la purezza dei nodi foglia\n",
        "# -- il numero di bin cioè di categorie da generare per ogni feature categorica\n",
        "# -- la profondità massima dell'albero\n",
        "\n",
        "# Generiamo la griglia\n",
        "paramGrid = ParamGridBuilder().addGrid(randomForest.maxBins,[25, 28, 31])\\\n",
        "                              .addGrid(randomForest.maxDepth,[4,6,8])\\\n",
        "                              .addGrid(randomForest.impurity,[\"entropy\",\"gini\"])\\\n",
        "                              .build()"
      ],
      "execution_count": null,
      "outputs": []
    },
    {
      "cell_type": "code",
      "metadata": {
        "id": "HwL1xD8pJw0r"
      },
      "source": [
        "cv = CrossValidator().setEstimator(pipeline)\\\n",
        "                     .setEvaluator(evaluator)\\\n",
        "                     .setEstimatorParamMaps(paramGrid)\\\n",
        "                     .setNumFolds(10)\n",
        "\n",
        "cvModel_random_forest_us = cv.fit(train)"
      ],
      "execution_count": null,
      "outputs": []
    },
    {
      "cell_type": "code",
      "metadata": {
        "colab": {
          "base_uri": "https://localhost:8080/",
          "height": 202
        },
        "id": "r-cVVkGlJyS9",
        "outputId": "cbab6f4a-0c8a-4523-fe07-260ae2e64b77"
      },
      "source": [
        "\n",
        "evaluate_model(cvModel_random_forest_us, train, test, callable=False)\n",
        "cvModel_random_forest_us.write().overwrite().save('random_forest_UF')"
      ],
      "execution_count": null,
      "outputs": [
        {
          "output_type": "error",
          "ename": "NameError",
          "evalue": "ignored",
          "traceback": [
            "\u001b[0;31m---------------------------------------------------------------------------\u001b[0m",
            "\u001b[0;31mNameError\u001b[0m                                 Traceback (most recent call last)",
            "\u001b[0;32m<ipython-input-35-5dbb3d5db321>\u001b[0m in \u001b[0;36m<module>\u001b[0;34m()\u001b[0m\n\u001b[1;32m      1\u001b[0m \u001b[0;34m\u001b[0m\u001b[0m\n\u001b[1;32m      2\u001b[0m \u001b[0;31m#evaluate_model(cvModel_random_forest_us, train, test, callable=False)\u001b[0m\u001b[0;34m\u001b[0m\u001b[0;34m\u001b[0m\u001b[0;34m\u001b[0m\u001b[0m\n\u001b[0;32m----> 3\u001b[0;31m \u001b[0mcvModel_random_forest_us\u001b[0m\u001b[0;34m.\u001b[0m\u001b[0mwrite\u001b[0m\u001b[0;34m(\u001b[0m\u001b[0;34m)\u001b[0m\u001b[0;34m.\u001b[0m\u001b[0moverwrite\u001b[0m\u001b[0;34m(\u001b[0m\u001b[0;34m)\u001b[0m\u001b[0;34m.\u001b[0m\u001b[0msave\u001b[0m\u001b[0;34m(\u001b[0m\u001b[0;34m'random_forest_UF'\u001b[0m\u001b[0;34m)\u001b[0m\u001b[0;34m\u001b[0m\u001b[0;34m\u001b[0m\u001b[0m\n\u001b[0m",
            "\u001b[0;31mNameError\u001b[0m: name 'cvModel_random_forest_us' is not defined"
          ]
        }
      ]
    },
    {
      "cell_type": "markdown",
      "metadata": {
        "id": "kmzEIQ7R5BCe"
      },
      "source": [
        "### Oversampling\n",
        "\n",
        "Facendo undersampling non prendiamo in considerazione la maggior parte delle informazioni disponibili sulla classe dominante, portando a bassa capacità della rete di generalizzare, ricorriamo quindi ad oversampling.\n",
        "Nel training set presentiamo più volte gli elementi appartenenti alla classe meno frequente per non introdurre bias sulla frequenza relativa delle classi.\n",
        "\n",
        "Il test set viene estratto prima della duplicazione dei campioni per evitare di testare il classificatore sugli stessi dati su cui è stato testato."
      ]
    },
    {
      "cell_type": "code",
      "metadata": {
        "id": "5VmmRSsA5BCe"
      },
      "source": [
        "# Per ottenere train e test set tramite undersampling\n",
        "import math\n",
        "def oversample_split(fraud, legit):\n",
        "  train_f, test_f = fraud.randomSplit([0.8, 0.2])\n",
        "  train_l, test_l = legit.randomSplit([0.8, 0.2])\n",
        "\n",
        "  a = range(math.ceil(train_l.count()/train_f.count()))\n",
        "    # duplicate the minority rows\n",
        "  oversampled_train_f = train_f.withColumn(\"dummy\", explode(array([lit(x) for x in a])))\\\n",
        "    .drop('dummy')\n",
        "  # The train test is balanced with 50/50 frauds and legit transactions\n",
        "  # to avoid bias towards legit transactions\n",
        "  train       = oversampled_train_f.union(train_l)\n",
        "  # The test set has the same distribution of the original dataset\n",
        "  test        = test_f.union(test_l)\n",
        "  return (train, test)"
      ],
      "execution_count": null,
      "outputs": []
    },
    {
      "cell_type": "markdown",
      "metadata": {
        "id": "UMUHAcUO5BCg"
      },
      "source": [
        "#### Random forest \n",
        "\n",
        "Confrontiamo il risultato precedente con una random forest, addestrata con gli stessi dati."
      ]
    },
    {
      "cell_type": "code",
      "metadata": {
        "id": "o0lX_MZp5BCh"
      },
      "source": [
        "labelIndexer = StringIndexer(inputCol='Class',outputCol='Class_index').fit(train)\n",
        "\n",
        "assembler = VectorAssembler().setInputCols(train.schema.names[0:-1])\\\n",
        "  .setOutputCol(\"features\")\n",
        "scaler = MinMaxScaler().setMin(0).setMax(1).setInputCol(\"features\") \\\n",
        "  .setOutputCol(\"scaled_features\")\n",
        "randomForest = RandomForestClassifier().setFeaturesCol(\"scaled_features\") \\\n",
        "  .setLabelCol(\"Class\")\n",
        "labelConverter = IndexToString(inputCol='prediction',outputCol='predictedLabel')\\\n",
        "  .setLabels(labelIndexer.labels)\n",
        "pipeline = Pipeline().setStages([assembler, \\\n",
        "                                scaler, \\\n",
        "                                randomForest,\\\n",
        "                                labelConverter])\n"
      ],
      "execution_count": null,
      "outputs": []
    },
    {
      "cell_type": "code",
      "metadata": {
        "id": "HjC0-fu55BCh"
      },
      "source": [
        "# Costruiamo l'algoritmo di addestramento, come una 10-fold Cross-validation che si addestra su una \n",
        "# griglia di iperparametri:\n",
        "# -- l'indice di Gini, e l'entropia per controlla la purezza dei nodi foglia\n",
        "# -- il numero di bin cioè di categorie da generare per ogni feature categorica\n",
        "# -- la profondità massima dell'albero\n",
        "\n",
        "# Generiamo la griglia\n",
        "paramGrid = ParamGridBuilder().addGrid(randomForest.maxBins,[25, 28, 31])\\\n",
        "                              .addGrid(randomForest.maxDepth,[4,6,8])\\\n",
        "                              .addGrid(randomForest.impurity,[\"entropy\",\"gini\"])\\\n",
        "                              .build()"
      ],
      "execution_count": null,
      "outputs": []
    },
    {
      "cell_type": "code",
      "metadata": {
        "id": "H3aLdSX05BCh"
      },
      "source": [
        "cv = CrossValidator().setEstimator(pipeline)\\\n",
        "                     .setEvaluator(evaluator)\\\n",
        "                     .setEstimatorParamMaps(paramGrid)\\\n",
        "                     .setNumFolds(10)\n",
        "\n",
        "cvModel_random_forest_os = cv.fit(train)"
      ],
      "execution_count": null,
      "outputs": []
    },
    {
      "cell_type": "code",
      "metadata": {
        "id": "pTZcST965BCh"
      },
      "source": [
        "\n",
        "evaluate_model(cvModel_random_forest_os, train, test, callable=False)\n",
        "cvModel_random_forest_os.write().overwrite().save('random_forest_OF')"
      ],
      "execution_count": null,
      "outputs": []
    },
    {
      "cell_type": "markdown",
      "metadata": {
        "id": "Sx8MZneZOPx-"
      },
      "source": [
        "La random forest ha prestazioni superiori rispetto alla SVM."
      ]
    },
    {
      "cell_type": "markdown",
      "metadata": {
        "id": "QZGBaMWI5BCf"
      },
      "source": [
        "#### Support vector machine \n",
        "\n",
        "Come primo approccio proviamo ad utilizzare come classificatore una support vector machine lineare, inoltre sottocampioniamo le transazioni legittime per non avere un dataset sbilanciato."
      ]
    },
    {
      "cell_type": "code",
      "metadata": {
        "id": "WcQCra-j5BCf"
      },
      "source": [
        "train, test = oversample_split(fraud, legit)\n",
        "\n",
        "\n",
        "labelIndexer = StringIndexer(inputCol='Class',outputCol='Class_index').fit(train)\n",
        "\n",
        "assembler = VectorAssembler().setInputCols(train.schema.names[0:-1])\\\n",
        "  .setOutputCol(\"features\")\n",
        "scaler = MinMaxScaler().setMin(0).setMax(1).setInputCol(\"features\") \\\n",
        "  .setOutputCol(\"scaled_features\")\n",
        "linearSVC = LinearSVC().setFeaturesCol(\"scaled_features\") \\\n",
        "  .setLabelCol(\"Class\")\n",
        "labelConverter = IndexToString(inputCol='prediction',outputCol='predictedLabel')\\\n",
        "  .setLabels(labelIndexer.labels)\n",
        "\n",
        "pipeline = Pipeline().setStages([assembler, \\\n",
        "                                scaler, \\\n",
        "                                linearSVC,\\\n",
        "                                labelConverter])"
      ],
      "execution_count": null,
      "outputs": []
    },
    {
      "cell_type": "code",
      "metadata": {
        "id": "V8K5AHTe5BCf"
      },
      "source": [
        "# Costruiamo l'algoritmo di addestramento, come una 10-fold Cross-validation che si addestra su una \n",
        "# griglia di iperparametri:\n",
        "# -- l'indice di Gini, e l'entropia per controlla la purezza dei nodi foglia\n",
        "# -- il numero di bin cioè di categorie da generare per ogni feature categorica\n",
        "# -- la profondità massima dell'albero\n",
        "\n",
        "# Generiamo la griglia\n",
        "paramGrid = ParamGridBuilder().addGrid(linearSVC.regParam, [0.1, 0.2, 0.5])\\\n",
        "                              .addGrid(linearSVC.maxIter, [20,50,100,200])\\\n",
        "                              .build()"
      ],
      "execution_count": null,
      "outputs": []
    },
    {
      "cell_type": "code",
      "metadata": {
        "id": "WRZWpWfD5BCg"
      },
      "source": [
        "cv = CrossValidator().setEstimator(pipeline)\\\n",
        "                     .setEvaluator(evaluator)\\\n",
        "                     .setEstimatorParamMaps(paramGrid)\\\n",
        "                     .setNumFolds(10)"
      ],
      "execution_count": null,
      "outputs": []
    },
    {
      "cell_type": "code",
      "metadata": {
        "colab": {
          "base_uri": "https://localhost:8080/",
          "height": 808
        },
        "id": "NhqGKaS55BCg",
        "outputId": "97fd240e-4357-43ac-8307-b5abb1a5a5b6"
      },
      "source": [
        "cvModel_svm_os = cv.fit(train)\n",
        "\n",
        "evaluate_model(cvModel_svm_os, train, test)"
      ],
      "execution_count": null,
      "outputs": [
        {
          "output_type": "stream",
          "text": [
            "Area Under PR Curve (train): 98.23%\n"
          ],
          "name": "stdout"
        },
        {
          "output_type": "display_data",
          "data": {
            "image/png": "[encoded data removed]",
            "text/plain": [
              "<Figure size 360x360 with 1 Axes>"
            ]
          },
          "metadata": {
            "tags": [],
            "needs_background": "light"
          }
        },
        {
          "output_type": "stream",
          "text": [
            "Test set results:\n",
            "Area Under PR Curve:  67.05%\n",
            "True positives:       74\n",
            "False positives:      104\n",
            "True negatives:       56810\n",
            "False negatives:      12\n",
            "Precision:            0.416\n",
            "Accuracy:             0.998\n",
            "Recall:               0.860\n",
            "F1:                   0.561\n"
          ],
          "name": "stdout"
        },
        {
          "output_type": "display_data",
          "data": {
            "image/png": "[encoded data removed]",
            "text/plain": [
              "<Figure size 432x288 with 1 Axes>"
            ]
          },
          "metadata": {
            "tags": [],
            "needs_background": "light"
          }
        }
      ]
    },
    {
      "cell_type": "code",
      "metadata": {
        "id": "_iwPLM6liRW-"
      },
      "source": [
        "cvModel_svm_os.write().overwrite().save('svm_OF')"
      ],
      "execution_count": null,
      "outputs": []
    },
    {
      "cell_type": "markdown",
      "metadata": {
        "id": "L5e9NLINgYfv"
      },
      "source": [
        "Il classificatore basato su SVM non mostra apprezzabili miglioramenti modificando la strategia di campionamento per il test set."
      ]
    },
    {
      "cell_type": "markdown",
      "metadata": {
        "id": "_eEgZXYpGsen"
      },
      "source": [
        "### Selezione delle feature\n",
        "\n",
        "I modelli precedenti si comportano abbastanza bene, soprattutto la random forest. L'addestramento sta però avvenendo su un sottoinsieme molto piccolo dei dati sulle transazioni legittime, potremmo quindi non catturare delle caratteristiche importanti dei dati. Risulta quindi opportuno provare un oversampling. \n",
        "\n",
        "L'addestramento con una porzione così grande del dataset con vettori di 30 feature però è una operazione molto pesante, ed è anche possibile che l'elevata dimensionalità riduca il potere di discriminazione dei modelli (curse of dimensionality). Effettuiamo quindi delle operazioni di estrazione delle features."
      ]
    },
    {
      "cell_type": "markdown",
      "metadata": {
        "id": "nBZK-RwBNxVC"
      },
      "source": [
        "#### Sfruttamento dei modelli addestrati precedentemente\n",
        "\n",
        "Dai modelli appena addestrati è possibile ottenere informazioni riguardo l'importanza delle varie features.\n"
      ]
    },
    {
      "cell_type": "markdown",
      "metadata": {
        "id": "Rsjog__H09LG"
      },
      "source": [
        "##### **SVM**\n",
        "\n",
        "Visto che le feature provengono da una PCA sono linearmente non correlate tra loro, i pesi appresi dalla SVM possono quindi fornire informazione su quali feature sono più rilevanti per la separazione delle due classi."
      ]
    },
    {
      "cell_type": "code",
      "metadata": {
        "id": "huvKc5GCO_Gw"
      },
      "source": [
        "cvModel_svm_os.bestModel.stages[2].coefficients"
      ],
      "execution_count": null,
      "outputs": []
    },
    {
      "cell_type": "markdown",
      "metadata": {
        "id": "ZInUVTWuqXzp"
      },
      "source": [
        "Scaliamo il valore assoluto dei coefficienti per avere somma unitaria e li riportiamo nella tabella seguente \n",
        "\n",
        "Feature | Weight\n",
        "-|-\n",
        " V14 | 0.1124 \n",
        " V28 | 0.1101 \n",
        " V2 | 0.0814 \n",
        " V4 | 0.0803 \n",
        " V20 | 0.0796 \n",
        " V11 | 0.0505 \n",
        " Amount | 0.0503 \n",
        " V6 | 0.0492 \n",
        " V12 | 0.0395 \n",
        " V9 | 0.0338 \n",
        " V10 | 0.0335 \n",
        " V7 | 0.0330 \n",
        " V23 | 0.0318 \n",
        " V27 | 0.0308 \n",
        " V5 | 0.0260 \n",
        " V1 | 0.0219 \n",
        " V3 | 0.0193 \n",
        " V16 | 0.0185 \n",
        " V21 | 0.0182 \n",
        " V17 | 0.0161 \n",
        " V19 | 0.0138 \n",
        " V18 | 0.0122 \n",
        " V25 | 0.0104 \n",
        " V24 | 0.0057 \n",
        " V22 | 0.0053 \n",
        " V26 | 0.0048 \n",
        " V8 | 0.0040 \n",
        " V13 | 0.0031 \n",
        " V15 | 0.0016 \n",
        " Time | 0.0014 \n",
        "\n",
        "\n",
        "Le prime sei feature hanno più del 50% dell'importanza, e scartando le ultime 12 non si perde più del 10%.\n"
      ]
    },
    {
      "cell_type": "code",
      "metadata": {
        "id": "lmyeI1B-wPkw",
        "colab": {
          "base_uri": "https://localhost:8080/",
          "height": 256
        },
        "outputId": "61656528-47ed-427d-bb72-2eb116712486"
      },
      "source": [
        "legit_x    =legit.select(\"V28\").toPandas()\n",
        "legit_y    =legit.select(\"V14\").toPandas()\n",
        "legit_z    =legit.select(\"V2\").toPandas()\n",
        "\n",
        "fraud_x    =fraud.select(\"V28\").toPandas()\n",
        "fraud_y    =fraud.select(\"V14\").toPandas()\n",
        "fraud_z    =fraud.select(\"V2\").toPandas()\n",
        "\n",
        "fig = plt.figure()\n",
        "ax = fig.add_subplot(2,2,1,projection='3d')\n",
        "ax.set_xticklabels([])\n",
        "ax.set_yticklabels([])\n",
        "ax.set_zticklabels([])\n",
        "ax.tick_params(labelcolor='w', top=False, bottom=False, left=False, right=False)\n",
        "ax.set_title(\"V28,V14,V2\")\n",
        "ax.scatter(legit_x, legit_y, legit_z)\n",
        "ax.scatter(fraud_x, fraud_y, fraud_z)\n",
        "\n",
        "ax = fig.add_subplot(2,2,2,projection='3d')\n",
        "ax.set_xticklabels([])\n",
        "ax.set_yticklabels([])\n",
        "ax.set_zticklabels([])\n",
        "ax.tick_params(labelcolor='w', top=False, bottom=False, left=False, right=False)\n",
        "ax.set_title(\"V14,V28,V2\")\n",
        "ax.scatter(legit_y, legit_x, legit_z)\n",
        "ax.scatter(fraud_y, fraud_x, fraud_z)\n",
        "\n",
        "ax = fig.add_subplot(2,2,3,projection='3d')\n",
        "ax.set_xticklabels([])\n",
        "ax.set_yticklabels([])\n",
        "ax.set_zticklabels([])\n",
        "ax.tick_params(labelcolor='w', top=False, bottom=False, left=False, right=False)\n",
        "ax.set_title(\"V28,V14,V2 (bottom view)\")\n",
        "ax.scatter(legit_x, legit_y, legit_z)\n",
        "ax.scatter(fraud_x, fraud_y, -fraud_z)\n",
        "\n",
        "ax = fig.add_subplot(2,2,4,projection='3d')\n",
        "ax.set_xticklabels([])\n",
        "ax.set_yticklabels([])\n",
        "ax.set_zticklabels([])\n",
        "ax.tick_params(labelcolor='w', top=False, bottom=False, left=False, right=False)\n",
        "ax.set_title(\"V14,V28,V2 (bottom view)\")\n",
        "ax.scatter(legit_y, legit_x, legit_z)\n",
        "ax.scatter(fraud_y, fraud_x, -fraud_z)\n",
        "\n",
        "plt.show()"
      ],
      "execution_count": null,
      "outputs": [
        {
          "output_type": "display_data",
          "data": {
            "image/png": "[encoded data removed]",
            "text/plain": [
              "<Figure size 432x288 with 4 Axes>"
            ]
          },
          "metadata": {
            "tags": [],
            "needs_background": "dark"
          }
        }
      ]
    },
    {
      "cell_type": "markdown",
      "metadata": {
        "id": "Am4th4U_ygMr"
      },
      "source": [
        "Osserviamo che considerando le sole tre features con i pesi maggiori è già possibile distinguere abbastanza nitidamente le due classi, meglio di quanto visto usando come features V1, V2, V3, e il Tempo, che effettivamente risultano essere abbastanza in basso nella lista ed eccezione di V2."
      ]
    },
    {
      "cell_type": "markdown",
      "metadata": {
        "id": "xTo0LxmRIzOH"
      },
      "source": [
        "###### _Performance su un numero di feature ridotto:_\n",
        "\n",
        "Proviamo ad addestrare la SVM utilizzando solamente le 6 feature associate a pesi maggiori."
      ]
    },
    {
      "cell_type": "code",
      "metadata": {
        "id": "Ym10aS4UIjKP"
      },
      "source": [
        "train, test = undersample_split(fraud, legit)\n",
        "\n",
        "\n",
        "assembler = VectorAssembler().setInputCols([\"V28\", \"V14\", \"V2\",\n",
        "                                            \"V4\" , \"V11\", \"V20\" ])\\\n",
        "  .setOutputCol(\"features\")\n",
        "scaler = MinMaxScaler().setMin(0).setMax(1).setInputCol(\"features\") \\\n",
        "  .setOutputCol(\"scaled_features\")\n",
        "linearSVC = LinearSVC().setFeaturesCol(\"scaled_features\") \\\n",
        "  .setLabelCol(\"Class\")\n",
        "labelConverter = IndexToString(inputCol='prediction',outputCol='predictedLabel')\\\n",
        "  .setLabels(labelIndexer.labels)\n",
        "\n",
        "pipeline = Pipeline().setStages([assembler, \\\n",
        "                                scaler, \\\n",
        "                                linearSVC,\\\n",
        "                                labelConverter])\n",
        "\n",
        "# Generiamo la griglia\n",
        "paramGrid = ParamGridBuilder().addGrid(linearSVC.regParam, [0.1, 0.2, 0.5])\\\n",
        "                              .addGrid(linearSVC.maxIter, [20,50,100,200])\\\n",
        "                              .build()\n",
        "\n"
      ],
      "execution_count": null,
      "outputs": []
    },
    {
      "cell_type": "code",
      "metadata": {
        "id": "DQSKFD0tKX9b"
      },
      "source": [
        "cv = CrossValidator().setEstimator(pipeline)\\\n",
        "                     .setEvaluator(evaluator)\\\n",
        "                     .setEstimatorParamMaps(paramGrid)\\\n",
        "                     .setNumFolds(10)\n",
        "\n",
        "cvModel_svm_reduced = cv.fit(train)"
      ],
      "execution_count": null,
      "outputs": []
    },
    {
      "cell_type": "code",
      "metadata": {
        "id": "z_fbq_7KKRpU"
      },
      "source": [
        "evaluate_model(cvModel_svm_reduced, train, test)"
      ],
      "execution_count": null,
      "outputs": []
    },
    {
      "cell_type": "markdown",
      "metadata": {
        "id": "gEjL6SVliaYK"
      },
      "source": [
        "La performance del classificatore è leggermente aumentata rimuovendo le feature meno importanti."
      ]
    },
    {
      "cell_type": "markdown",
      "metadata": {
        "id": "058u01Pi04Wh"
      },
      "source": [
        "##### **Random Forest**\n",
        "\n",
        "Ripetiamo un procedimento simile sulla random forest, che precedentemente dava migliori risultati nella classificazione."
      ]
    },
    {
      "cell_type": "code",
      "metadata": {
        "id": "SfjAnUQ1OJsr",
        "colab": {
          "base_uri": "https://localhost:8080/"
        },
        "outputId": "4bb853b6-d952-4b74-afe7-c0ac654a174f"
      },
      "source": [
        "cvModel_random_forest_os.bestModel.stages[2].featureImportances"
      ],
      "execution_count": null,
      "outputs": [
        {
          "output_type": "execute_result",
          "data": {
            "text/plain": [
              "SparseVector(30, {0: 0.003, 1: 0.0045, 2: 0.0223, 3: 0.071, 4: 0.0944, 5: 0.0028, 6: 0.0048, 7: 0.0326, 8: 0.0198, 9: 0.0081, 10: 0.1592, 11: 0.0433, 12: 0.1087, 13: 0.0068, 14: 0.1808, 15: 0.0028, 16: 0.0309, 17: 0.1194, 18: 0.0065, 19: 0.0061, 20: 0.0099, 21: 0.0155, 22: 0.0036, 23: 0.0061, 24: 0.0024, 25: 0.0031, 26: 0.0079, 27: 0.0048, 28: 0.0046, 29: 0.0144})"
            ]
          },
          "metadata": {
            "tags": []
          },
          "execution_count": 31
        }
      ]
    },
    {
      "cell_type": "markdown",
      "metadata": {
        "id": "eMdCaZxKPK-f"
      },
      "source": [
        "Per comodità di visione si riportano i dati in output al comando precedente anche in formato tabellare.\n",
        "\n",
        "Feature | Importance\n",
        "-|-\n",
        "   V14 |  0.2576 \n",
        "  V17 |  0.1472 \n",
        "  V10 |  0.1304 \n",
        "  V12 |  0.1098 \n",
        "  V11 |  0.0975 \n",
        "  V4 |  0.0638 \n",
        "  V16 |  0.034  \n",
        "  V8 |  0.0176 \n",
        "  V3 |  0.0162 \n",
        "  V20 |  0.0153 \n",
        "  Amount |  0.0117  \n",
        "  V2 |  0.0115 \n",
        "  V26 |  0.0086 \n",
        "  V23 |  0.007  \n",
        "  V19 |  0.0078 \n",
        "  V9 |  0.0071 \n",
        "  V21 |  0.006  \n",
        "  V13 |  0.0065 \n",
        "  V1 |  0.0056 \n",
        "  V28 |  0.0051 \n",
        "  V15 |  0.004\n",
        "  V7 |  0.0043 \n",
        "  V25 |  0.0043 \n",
        "  Time |  0.003  \n",
        "  V22 |  0.0037 \n",
        "  V18 |  0.0032 \n",
        "  V5 |  0.0031 \n",
        "  V27 |  0.0029 \n",
        "  V6 |  0.0027 \n",
        "  V24 |  0.0026\n",
        "\n",
        "\n",
        "Le prime tre features da sole hanno il 50% dell'importanza, e per arrivare al 90% bastano le prime 11"
      ]
    },
    {
      "cell_type": "code",
      "metadata": {
        "id": "GTz43zHRQyX7"
      },
      "source": [
        "legit_x    =legit.select(\"V14\").toPandas()\n",
        "legit_y    =legit.select(\"V17\").toPandas()\n",
        "legit_z    =legit.select(\"V10\").toPandas()\n",
        "\n",
        "fraud_x    =fraud.select(\"V14\").toPandas()\n",
        "fraud_y    =fraud.select(\"V17\").toPandas()\n",
        "fraud_z    =fraud.select(\"V10\").toPandas()\n",
        "\n",
        "fig = plt.figure()\n",
        "ax = fig.add_subplot(2,2,1,projection='3d')\n",
        "ax.set_xticklabels([])\n",
        "ax.set_yticklabels([])\n",
        "ax.set_zticklabels([])\n",
        "ax.tick_params(labelcolor='w', top=False, bottom=False, left=False, right=False)\n",
        "ax.set_title(\"V14,V17,V10\")\n",
        "ax.scatter(legit_x, legit_y, legit_z)\n",
        "ax.scatter(fraud_x, fraud_y, fraud_z)\n",
        "\n",
        "ax = fig.add_subplot(2,2,2,projection='3d')\n",
        "ax.set_xticklabels([])\n",
        "ax.set_yticklabels([])\n",
        "ax.set_zticklabels([])\n",
        "ax.tick_params(labelcolor='w', top=False, bottom=False, left=False, right=False)\n",
        "ax.set_title(\"V17,V14,V10\")\n",
        "ax.scatter(legit_y, legit_x, legit_z)\n",
        "ax.scatter(fraud_y, fraud_x, fraud_z)\n",
        "\n",
        "ax = fig.add_subplot(2,2,3,projection='3d')\n",
        "ax.set_xticklabels([])\n",
        "ax.set_yticklabels([])\n",
        "ax.set_zticklabels([])\n",
        "ax.tick_params(labelcolor='w', top=False, bottom=False, left=False, right=False)\n",
        "ax.set_title(\"V14,V17,V10 (bottom view)\")\n",
        "ax.scatter(legit_x, legit_y, legit_z)\n",
        "ax.scatter(fraud_x, fraud_y, -fraud_z)\n",
        "\n",
        "ax = fig.add_subplot(2,2,4,projection='3d')\n",
        "ax.set_xticklabels([])\n",
        "ax.set_yticklabels([])\n",
        "ax.set_zticklabels([])\n",
        "ax.tick_params(labelcolor='w', top=False, bottom=False, left=False, right=False)\n",
        "ax.set_title(\"V17,V14,V10 (bottom view)\")\n",
        "ax.scatter(legit_y, legit_x, legit_z)\n",
        "ax.scatter(fraud_y, fraud_x, -fraud_z)\n",
        "\n",
        "plt.show()"
      ],
      "execution_count": null,
      "outputs": []
    },
    {
      "cell_type": "markdown",
      "metadata": {
        "id": "EzWS8orVVEwO"
      },
      "source": [
        "Ad una ispezione visiva sembra evidente come, utilizzando le prime tre feature, le due classi risultino meglio separate di quanto non succedesse per la SVM."
      ]
    },
    {
      "cell_type": "markdown",
      "metadata": {
        "id": "1D43UxP6PvxQ"
      },
      "source": [
        "###### _Performance su numero di feature ridotto_:\n",
        "Proviamo ad addestrare la random forest utilizzando soltanto le prime tre feature"
      ]
    },
    {
      "cell_type": "code",
      "metadata": {
        "id": "QEkwiXXUP1GI"
      },
      "source": [
        "assembler = VectorAssembler().setInputCols([\"V14\",\"V17\",\"V10\" ])\\\n",
        "  .setOutputCol(\"features\")\n",
        "scaler = MinMaxScaler().setMin(0).setMax(1).setInputCol(\"features\") \\\n",
        "  .setOutputCol(\"scaled_features\")\n",
        "randomForest = RandomForestClassifier().setFeaturesCol(\"scaled_features\") \\\n",
        "  .setLabelCol(\"Class\")\n",
        "labelConverter = IndexToString(inputCol='prediction',outputCol='predictedLabel')\\\n",
        "  .setLabels(labelIndexer.labels)\n",
        "pipeline = Pipeline().setStages([assembler, \\\n",
        "                                scaler, \\\n",
        "                                randomForest,\\\n",
        "                                labelConverter])\n",
        "\n",
        "paramGrid = ParamGridBuilder().addGrid(randomForest.maxBins,[25, 28, 31])\\\n",
        "                              .addGrid(randomForest.maxDepth,[4,6,8])\\\n",
        "                              .addGrid(randomForest.impurity,[\"entropy\",\"gini\"])\\\n",
        "                              .build()"
      ],
      "execution_count": null,
      "outputs": []
    },
    {
      "cell_type": "code",
      "metadata": {
        "id": "ikRc1X1pP1GI"
      },
      "source": [
        "cv = CrossValidator().setEstimator(pipeline)\\\n",
        "                     .setEvaluator(evaluator)\\\n",
        "                     .setEstimatorParamMaps(paramGrid)\\\n",
        "                     .setNumFolds(10)\n",
        "                     \n",
        "cvModel_random_forest_reduced = cv.fit(train)"
      ],
      "execution_count": null,
      "outputs": []
    },
    {
      "cell_type": "code",
      "metadata": {
        "id": "ScBxgrwFP1GI"
      },
      "source": [
        "evaluate_model(cvModel_random_forest_reduced, train, test, callable=False)"
      ],
      "execution_count": null,
      "outputs": []
    },
    {
      "cell_type": "markdown",
      "metadata": {
        "id": "U0-oqP_PP1GJ"
      },
      "source": [
        "Vediamo come usare soltanto le prime tre feature permette di ottenere risultati estremamente vicini a quelli ottenuti usando tutte e trenta le feature."
      ]
    }
  ]
}