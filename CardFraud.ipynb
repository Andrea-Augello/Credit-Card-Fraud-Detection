{
  "nbformat": 4,
  "nbformat_minor": 0,
  "metadata": {
    "colab": {
      "name": "Card.ipynb",
      "provenance": [],
      "toc_visible": true
    },
    "kernelspec": {
      "name": "python3",
      "display_name": "Python 3"
    }
  },
  "cells": [
    {
      "cell_type": "markdown",
      "metadata": {
        "id": "IoK-VO7eYJFb"
      },
      "source": [
        "# Credit Card Fraud Detection\n",
        "\n",
        "Il dataset contiene transazioni fatte tramite carta di credito nel settembre 2013 in Europa.\n",
        "Questo dataset presenta transazioni avvenute in due giorni. Delle 284807 transazioni, 492 sono etichettate come frodi, le altre sono da ritenersi legittime. Il dataset è estremamente sbilanciato, con i casi positivi che rappresentano soltanto lo 0.172% di tutte le transazioni.\n",
        "\n",
        "Nel dataset sono presenti soltanto variabili di input di tipo numerico, risultanti da una trasformazione Principal Component Analysis (PCA). Per ragioni di confidenzialità non sono disponibili né le features originali né informazioni sull'origine dei dati più dettagliate. Le uniche features non trasformate tramite PCA sono 'Tempo' e 'Ammontare'.\n",
        "Il tempo misura i sencondi trascorsi tra ogni transazione e la prima transazione del dataset. La feature 'Ammontare' è l'ammontare della transazione.\n",
        "Le transazioni etichettate con 1 sono frodi, quelle etichettate con 0 sono legittime.\n",
        "\n",
        "Essendo il dataset già curato non sono necessarie operazioni di pulizia ed imputazione dei dati.\n",
        "\n"
      ]
    },
    {
      "cell_type": "markdown",
      "metadata": {
        "id": "5_OYkQOn8lhg"
      },
      "source": [
        "## Setup dell'ambiente\n",
        "\n",
        "Le operazioni di setup sono differenti a seconda della piattaforma utilizzata, ne va utilizzato solo uno, o del codice personalizzato in caso di ambienti diversi."
      ]
    },
    {
      "cell_type": "code",
      "metadata": {
        "id": "_HPIrkwDR-Gy"
      },
      "source": [
        "# Kaggle token\n",
        "token = {\"username\":\"-\",\"key\":\"-\"}"
      ],
      "execution_count": null,
      "outputs": []
    },
    {
      "cell_type": "markdown",
      "metadata": {
        "id": "JSacOLOlRb45"
      },
      "source": [
        "### Google Colaboratory"
      ]
    },
    {
      "cell_type": "code",
      "metadata": {
        "colab": {
          "base_uri": "https://localhost:8080/"
        },
        "id": "9l3QYwwObNPd",
        "outputId": "41c09eb4-bc0c-4960-b874-be0429f1a6aa"
      },
      "source": [
        "filepath = \"/content/creditfraud/creditcard.csv\"\n",
        "\n",
        "! rm -Rf /content/creditfraud/\n",
        "! which kaggle || pip install kaggle\n",
        "! if ! [ -d ~/.kaggle ] ; then  mkdir ~/.kaggle  && touch ~/.kaggle/kaggle.json; echo \"Creating kaggle directory\"; fi\n",
        "\n",
        "import json\n",
        "\n",
        "import zipfile\n",
        "import os\n",
        "with open('/root/.kaggle/kaggle.json', 'w') as file:\n",
        "    json.dump(token, file)\n",
        "\n",
        "! if ! [ -f /content/creditfraud/creditcard.csv ] ; then chmod 600 /root/.kaggle/kaggle.json && kaggle datasets download -p /content/creditfraud/ -d mlg-ulb/creditcardfraud ; fi\n",
        "\n",
        "os.chdir('/content/creditfraud')\n",
        "for file in os.listdir():\n",
        "    zip_ref = zipfile.ZipFile(file, 'r')\n",
        "    zip_ref.extractall()\n",
        "    zip_ref.close()"
      ],
      "execution_count": null,
      "outputs": [
        {
          "output_type": "stream",
          "text": [
            "/usr/local/bin/kaggle\n",
            "Creating kaggle directory\n",
            "Downloading creditcardfraud.zip to /content/creditfraud\n",
            " 96% 63.0M/66.0M [00:00<00:00, 59.3MB/s]\n",
            "100% 66.0M/66.0M [00:00<00:00, 84.7MB/s]\n"
          ],
          "name": "stdout"
        }
      ]
    },
    {
      "cell_type": "code",
      "metadata": {
        "colab": {
          "base_uri": "https://localhost:8080/"
        },
        "id": "BnY3ywNtk3Zh",
        "outputId": "c99fbdc6-8022-4947-f8c9-60281c4c6b69"
      },
      "source": [
        "!head -n 2 /content/creditfraud/creditcard.csv\n",
        "!tail -n 2 /content/creditfraud/creditcard.csv"
      ],
      "execution_count": null,
      "outputs": [
        {
          "output_type": "stream",
          "text": [
            "\"Time\",\"V1\",\"V2\",\"V3\",\"V4\",\"V5\",\"V6\",\"V7\",\"V8\",\"V9\",\"V10\",\"V11\",\"V12\",\"V13\",\"V14\",\"V15\",\"V16\",\"V17\",\"V18\",\"V19\",\"V20\",\"V21\",\"V22\",\"V23\",\"V24\",\"V25\",\"V26\",\"V27\",\"V28\",\"Amount\",\"Class\"\n",
            "0,-1.3598071336738,-0.0727811733098497,2.53634673796914,1.37815522427443,-0.338320769942518,0.462387777762292,0.239598554061257,0.0986979012610507,0.363786969611213,0.0907941719789316,-0.551599533260813,-0.617800855762348,-0.991389847235408,-0.311169353699879,1.46817697209427,-0.470400525259478,0.207971241929242,0.0257905801985591,0.403992960255733,0.251412098239705,-0.018306777944153,0.277837575558899,-0.110473910188767,0.0669280749146731,0.128539358273528,-0.189114843888824,0.133558376740387,-0.0210530534538215,149.62,\"0\"\n",
            "172788,-0.240440049680947,0.530482513118839,0.702510230095103,0.689799168040973,-0.377961134444982,0.62370772214768,-0.68617998628885,0.679145459790659,0.392086712465972,-0.399125651432835,-1.93384881505713,-0.962886142890271,-1.04208165591191,0.449624443166001,1.96256312066577,-0.60857712704613,0.509928460110321,1.11398059049908,2.89784877334313,0.127433515805355,0.265244916386865,0.800048741498139,-0.163297944406659,0.123205243742508,-0.569158864158597,0.546668462188323,0.108820734744839,0.104532821478796,10,\"0\"\n",
            "172792,-0.53341252200504,-0.189733337002305,0.703337366963779,-0.506271240328258,-0.0125456787599659,-0.649616685713792,1.57700625437629,-0.414650407552662,0.486179505267237,-0.915426648905893,-1.04045833522361,-0.0315130540252157,-0.188092900791737,-0.0843164698151014,0.0413334553360658,-0.302620086427415,-0.660376645182784,0.16742993371973,-0.256116871098099,0.382948104875066,0.261057330790975,0.643078437820093,0.376777014169917,0.00879737940024202,-0.473648703898825,-0.818267121041176,-0.00241530880001015,0.0136489143320671,217,\"0\"\n"
          ],
          "name": "stdout"
        }
      ]
    },
    {
      "cell_type": "code",
      "metadata": {
        "colab": {
          "base_uri": "https://localhost:8080/"
        },
        "id": "vVtOWVHDQ88n",
        "outputId": "3c78c858-92f8-4e63-d10c-2bfaa9e63ee5"
      },
      "source": [
        "%%shell\n",
        "\n",
        "apt-get install openjdk-8-jdk-headless -qq  &>/dev/null\n",
        "if ! [ -f spark-3.1.1-bin-hadoop2.7.tgz ] ; then \n",
        "  wget -q http://apache.osuosl.org/spark/spark-3.1.1/spark-3.1.1-bin-hadoop2.7.tgz && \n",
        "  tar xf spark-3.1.1-bin-hadoop2.7.tgz ; \n",
        "fi\n",
        "pip show findspark &>/dev/null || pip install -q findspark\n",
        "pip show pyspark &>/dev/null || pip install pyspark"
      ],
      "execution_count": null,
      "outputs": [
        {
          "output_type": "stream",
          "text": [
            "Collecting pyspark\n",
            "\u001b[?25l  Downloading https://files.pythonhosted.org/packages/45/b0/9d6860891ab14a39d4bddf80ba26ce51c2f9dc4805e5c6978ac0472c120a/pyspark-3.1.1.tar.gz (212.3MB)\n",
            "\u001b[K     |████████████████████████████████| 212.3MB 71kB/s \n",
            "\u001b[?25hCollecting py4j==0.10.9\n",
            "\u001b[?25l  Downloading https://files.pythonhosted.org/packages/9e/b6/6a4fb90cd235dc8e265a6a2067f2a2c99f0d91787f06aca4bcf7c23f3f80/py4j-0.10.9-py2.py3-none-any.whl (198kB)\n",
            "\u001b[K     |████████████████████████████████| 204kB 49.5MB/s \n",
            "\u001b[?25hBuilding wheels for collected packages: pyspark\n",
            "  Building wheel for pyspark (setup.py) ... \u001b[?25l\u001b[?25hdone\n",
            "  Created wheel for pyspark: filename=pyspark-3.1.1-py2.py3-none-any.whl size=212767604 sha256=774a25eeefca509a27a43ed6caf00466b41e8a5b97129b2b59dc399fe03c9cf2\n",
            "  Stored in directory: /root/.cache/pip/wheels/0b/90/c0/01de724414ef122bd05f056541fb6a0ecf47c7ca655f8b3c0f\n",
            "Successfully built pyspark\n",
            "Installing collected packages: py4j, pyspark\n",
            "Successfully installed py4j-0.10.9 pyspark-3.1.1\n"
          ],
          "name": "stdout"
        },
        {
          "output_type": "execute_result",
          "data": {
            "text/plain": [
              ""
            ]
          },
          "metadata": {
            "tags": []
          },
          "execution_count": 4
        }
      ]
    },
    {
      "cell_type": "code",
      "metadata": {
        "id": "1Vg42DtScdf9"
      },
      "source": [
        "# Set up required environment variables\n",
        "\n",
        "os.environ[\"JAVA_HOME\"] = \"/usr/lib/jvm/java-8-openjdk-amd64\"\n",
        "os.environ[\"SPARK_HOME\"] = \"/content/creditfraud/spark-3.1.1-bin-hadoop2.7\"\n",
        "\n",
        "! mkdir -p $SPARK_HOME/conf/\n",
        "! echo \"spark.driver.memory              8g\" >> $SPARK_HOME/conf/spark-defaults.conf\n",
        "\n",
        "import findspark\n",
        "location = findspark.find()\n",
        "findspark.init(location)\n",
        "\n",
        "import pyspark\n",
        "from pyspark.sql import SparkSession\n",
        "\n",
        "spark = SparkSession.builder.appName('CardFraud').getOrCreate()"
      ],
      "execution_count": null,
      "outputs": []
    },
    {
      "cell_type": "markdown",
      "metadata": {
        "id": "rQLynrMfRprl"
      },
      "source": [
        "### Kaggle notebook\n",
        "\n",
        "È necessario abilitare internet per il notebook, è quindi richiesta la verifica tramite numero di telefono."
      ]
    },
    {
      "cell_type": "code",
      "metadata": {
        "id": "FMxaihbDRprl"
      },
      "source": [
        "filepath = \"../input/creditcardfraud/creditcard.csv\"\n",
        "\n",
        "!head -n 2 ../input/creditcardfraud/creditcard.csv\n",
        "!tail -n 2 ../input/creditcardfraud/creditcard.csv"
      ],
      "execution_count": null,
      "outputs": []
    },
    {
      "cell_type": "code",
      "metadata": {
        "id": "28B1KxB0Rprl"
      },
      "source": [
        "! apt-get install openjdk-8-jdk-headless -qq &>/dev/null\n",
        "! if ! [ -f spark-3.1.1-bin-hadoop2.7.tgz ] ; then \\\n",
        "  wget -q http://apache.osuosl.org/spark/spark-3.1.1/spark-3.1.1-bin-hadoop2.7.tgz && \\\n",
        "  tar xf spark-3.1.1-bin-hadoop2.7.tgz ; \\\n",
        "fi\n",
        "! pip show findspark &>/dev/null || pip install -q findspark\n",
        "! pip show pyspark &>/dev/null || pip install pyspark"
      ],
      "execution_count": null,
      "outputs": []
    },
    {
      "cell_type": "code",
      "metadata": {
        "id": "_pEo9ru6Rprm"
      },
      "source": [
        "# Set up required environment variables\n",
        "\n",
        "# Set up required environment variables\n",
        "\n",
        "import os\n",
        "os.environ[\"JAVA_HOME\"] = \"/usr/lib/jvm/java-8-openjdk-amd64\"\n",
        "os.environ[\"SPARK_HOME\"] = \"./spark-3.1.1-bin-hadoop2.7\"\n",
        "\n",
        "\n",
        "! mkdir -p $SPARK_HOME/conf/\n",
        "! echo \"spark.driver.memory              8g\" >> $SPARK_HOME/conf/spark-defaults.conf\n",
        "\n",
        "import findspark\n",
        "location = findspark.find()\n",
        "findspark.init(location)\n",
        "\n",
        "import pyspark\n",
        "from pyspark.sql import SparkSession\n",
        "\n",
        "spark = SparkSession.builder.appName('CardFraud').getOrCreate()"
      ],
      "execution_count": null,
      "outputs": []
    },
    {
      "cell_type": "markdown",
      "metadata": {
        "id": "1WcC7dqlRnnV"
      },
      "source": [
        "### Databricks Community Edition\n",
        "\n",
        "Con la versione community è necessario caricare manualmente il file .csv nel filesystem distribuito."
      ]
    },
    {
      "cell_type": "code",
      "metadata": {
        "id": "vnUIcXSgRnnV"
      },
      "source": [
        "filepath = \"dbfs:/FileStore/creditcard.csv\"\n",
        "import mlflow\n",
        "\n",
        "! rm -Rf /content/creditfraud/\n",
        "! which kaggle || pip install kaggle\n",
        "! if ! [ -d ~/.kaggle ] ; then  mkdir ~/.kaggle  && touch ~/.kaggle/kaggle.json; echo \"Creating kaggle directory\"; fi\n",
        "\n",
        "import json\n",
        "\n",
        "import zipfile\n",
        "import os\n",
        "with open('/root/.kaggle/kaggle.json', 'w') as file:\n",
        "    json.dump(token, file)\n",
        "\n",
        "! if ! [ -f /content/creditfraud/creditcard.csv ] ; then chmod 600 /root/.kaggle/kaggle.json && kaggle datasets download -p /content/creditfraud/ -d mlg-ulb/creditcardfraud ; fi\n",
        "\n",
        "os.chdir('/content/creditfraud')\n",
        "for file in os.listdir():\n",
        "    zip_ref = zipfile.ZipFile(file, 'r')\n",
        "    zip_ref.extractall()\n",
        "    zip_ref.close()"
      ],
      "execution_count": null,
      "outputs": []
    },
    {
      "cell_type": "code",
      "metadata": {
        "id": "Z3FsOTdvRnnW"
      },
      "source": [
        "!head -n 2 /content/creditfraud/creditcard.csv\n",
        "!tail -n 2 /content/creditfraud/creditcard.csv"
      ],
      "execution_count": null,
      "outputs": []
    },
    {
      "cell_type": "code",
      "metadata": {
        "id": "QofMPE-lRnnX"
      },
      "source": [
        "# Set up required environment variables\n",
        "\n",
        "import pyspark\n",
        "from pyspark.sql import SparkSession\n",
        "\n",
        "spark = SparkSession.builder.appName('CardFraud').getOrCreate()"
      ],
      "execution_count": null,
      "outputs": []
    },
    {
      "cell_type": "markdown",
      "metadata": {
        "id": "eiypUJeBSIID"
      },
      "source": [
        "## Analisi dei dati"
      ]
    },
    {
      "cell_type": "code",
      "metadata": {
        "colab": {
          "base_uri": "https://localhost:8080/",
          "height": 132
        },
        "id": "HoS8URo5kvcC",
        "outputId": "e23649a6-6826-4370-e2b8-4de5529ccfa9"
      },
      "source": [
        "# Importazione dei dati dal data set \n",
        "from pyspark.sql.types import *\n",
        "from pyspark.sql.functions import *\n",
        "\n",
        "\n",
        "# costruzione dello schema del DataFrame\n",
        "\n",
        "creditcard_schema = StructType([\n",
        "    StructField('Time',IntegerType(),False),\n",
        "    StructField('V1',FloatType(),False),\n",
        "    StructField('V2',FloatType(),False),\n",
        "    StructField('V3',FloatType(),False),\n",
        "    StructField('V4',FloatType(),False),\n",
        "    StructField('V5',FloatType(),False),\n",
        "    StructField('V6',FloatType(),False),\n",
        "    StructField('V7',FloatType(),False),\n",
        "    StructField('V8',FloatType(),False),\n",
        "    StructField('V9',FloatType(),False),\n",
        "    StructField('V10',FloatType(),False),\n",
        "    StructField('V11',FloatType(),False),\n",
        "    StructField('V12',FloatType(),False),\n",
        "    StructField('V13',FloatType(),False),\n",
        "    StructField('V14',FloatType(),False),\n",
        "    StructField('V15',FloatType(),False),\n",
        "    StructField('V16',FloatType(),False),\n",
        "    StructField('V17',FloatType(),False),\n",
        "    StructField('V18',FloatType(),False),\n",
        "    StructField('V19',FloatType(),False),\n",
        "    StructField('V20',FloatType(),False),\n",
        "    StructField('V21',FloatType(),False),\n",
        "    StructField('V22',FloatType(),False),\n",
        "    StructField('V23',FloatType(),False),\n",
        "    StructField('V24',FloatType(),False),\n",
        "    StructField('V25',FloatType(),False),\n",
        "    StructField('V26',FloatType(),False),\n",
        "    StructField('V27',FloatType(),False),\n",
        "    StructField('V28',FloatType(),False),\n",
        "    StructField('Amount',FloatType(),False),\n",
        "    StructField('Class',ShortType(),False),\n",
        "])\n",
        "\n",
        "records = spark.read.format('csv')\\\n",
        "    .option('header','true')\\\n",
        "    .option('mode','DROPMALFORMED')\\\n",
        "    .option('mode','PERMISSIVE')\\\n",
        "    .schema(creditcard_schema)\\\n",
        "    .load(filepath)#.dropDuplicates()\n",
        "\n",
        "#records.printSchema()\n",
        "#records.show()\n",
        "\n",
        "display(records)\n",
        "\n",
        "# Checking null values\n",
        "\n",
        "from pyspark.sql.functions import isnull\n",
        "\n",
        "print(\"Null values:\")\n",
        "display(records.select([count(when(isnull(c), c)).alias(c) for c in records.columns]).toPandas())\n",
        "#display(records.describe().toPandas())"
      ],
      "execution_count": null,
      "outputs": [
        {
          "output_type": "display_data",
          "data": {
            "text/plain": [
              "DataFrame[Time: int, V1: float, V2: float, V3: float, V4: float, V5: float, V6: float, V7: float, V8: float, V9: float, V10: float, V11: float, V12: float, V13: float, V14: float, V15: float, V16: float, V17: float, V18: float, V19: float, V20: float, V21: float, V22: float, V23: float, V24: float, V25: float, V26: float, V27: float, V28: float, Amount: float, Class: smallint]"
            ]
          },
          "metadata": {
            "tags": []
          }
        },
        {
          "output_type": "stream",
          "text": [
            "Null values:\n"
          ],
          "name": "stdout"
        },
        {
          "output_type": "display_data",
          "data": {
            "text/html": [
              "<div>\n",
              "<style scoped>\n",
              "    .dataframe tbody tr th:only-of-type {\n",
              "        vertical-align: middle;\n",
              "    }\n",
              "\n",
              "    .dataframe tbody tr th {\n",
              "        vertical-align: top;\n",
              "    }\n",
              "\n",
              "    .dataframe thead th {\n",
              "        text-align: right;\n",
              "    }\n",
              "</style>\n",
              "<table border=\"1\" class=\"dataframe\">\n",
              "  <thead>\n",
              "    <tr style=\"text-align: right;\">\n",
              "      <th></th>\n",
              "      <th>Time</th>\n",
              "      <th>V1</th>\n",
              "      <th>V2</th>\n",
              "      <th>V3</th>\n",
              "      <th>V4</th>\n",
              "      <th>V5</th>\n",
              "      <th>V6</th>\n",
              "      <th>V7</th>\n",
              "      <th>V8</th>\n",
              "      <th>V9</th>\n",
              "      <th>V10</th>\n",
              "      <th>V11</th>\n",
              "      <th>V12</th>\n",
              "      <th>V13</th>\n",
              "      <th>V14</th>\n",
              "      <th>V15</th>\n",
              "      <th>V16</th>\n",
              "      <th>V17</th>\n",
              "      <th>V18</th>\n",
              "      <th>V19</th>\n",
              "      <th>V20</th>\n",
              "      <th>V21</th>\n",
              "      <th>V22</th>\n",
              "      <th>V23</th>\n",
              "      <th>V24</th>\n",
              "      <th>V25</th>\n",
              "      <th>V26</th>\n",
              "      <th>V27</th>\n",
              "      <th>V28</th>\n",
              "      <th>Amount</th>\n",
              "      <th>Class</th>\n",
              "    </tr>\n",
              "  </thead>\n",
              "  <tbody>\n",
              "    <tr>\n",
              "      <th>0</th>\n",
              "      <td>1</td>\n",
              "      <td>0</td>\n",
              "      <td>0</td>\n",
              "      <td>0</td>\n",
              "      <td>0</td>\n",
              "      <td>0</td>\n",
              "      <td>0</td>\n",
              "      <td>0</td>\n",
              "      <td>0</td>\n",
              "      <td>0</td>\n",
              "      <td>0</td>\n",
              "      <td>0</td>\n",
              "      <td>0</td>\n",
              "      <td>0</td>\n",
              "      <td>0</td>\n",
              "      <td>0</td>\n",
              "      <td>0</td>\n",
              "      <td>0</td>\n",
              "      <td>0</td>\n",
              "      <td>0</td>\n",
              "      <td>0</td>\n",
              "      <td>0</td>\n",
              "      <td>0</td>\n",
              "      <td>0</td>\n",
              "      <td>0</td>\n",
              "      <td>0</td>\n",
              "      <td>0</td>\n",
              "      <td>0</td>\n",
              "      <td>0</td>\n",
              "      <td>0</td>\n",
              "      <td>0</td>\n",
              "    </tr>\n",
              "  </tbody>\n",
              "</table>\n",
              "</div>"
            ],
            "text/plain": [
              "   Time  V1  V2  V3  V4  V5  V6  ...  V24  V25  V26  V27  V28  Amount  Class\n",
              "0     1   0   0   0   0   0   0  ...    0    0    0    0    0       0      0\n",
              "\n",
              "[1 rows x 31 columns]"
            ]
          },
          "metadata": {
            "tags": []
          }
        }
      ]
    },
    {
      "cell_type": "markdown",
      "metadata": {
        "id": "vBCtAwhcw1oh"
      },
      "source": [
        "Possiamo vedere che in uno dei record manca il campo del tempo, cerchiamo quindi di individuarlo ed, eventualmente, correggere l'errore.\n",
        "\n",
        "Cerchiamo nel file CSV il record che non inizia con un numero intero."
      ]
    },
    {
      "cell_type": "code",
      "metadata": {
        "colab": {
          "base_uri": "https://localhost:8080/"
        },
        "id": "woX8qrQJz9X8",
        "outputId": "2c7c0eeb-f6c1-47b0-961a-5e96a2e7efdc"
      },
      "source": [
        "! grep -v \"^[0-9]*,\" creditcard.csv "
      ],
      "execution_count": null,
      "outputs": [
        {
          "output_type": "stream",
          "text": [
            "\"Time\",\"V1\",\"V2\",\"V3\",\"V4\",\"V5\",\"V6\",\"V7\",\"V8\",\"V9\",\"V10\",\"V11\",\"V12\",\"V13\",\"V14\",\"V15\",\"V16\",\"V17\",\"V18\",\"V19\",\"V20\",\"V21\",\"V22\",\"V23\",\"V24\",\"V25\",\"V26\",\"V27\",\"V28\",\"Amount\",\"Class\"\n",
            "1e+05,-1.40863322829137,-1.624697936324,2.54774230369692,0.385671523516146,0.502790072699087,0.507194721385658,-1.74443114473473,0.760594225747498,3.00170400322912,-1.16309493493591,0.393516209370638,-1.9761080196344,0.231283936059375,0.526783847087809,-3.23246747614055,0.021830807795285,0.519902436567202,1.12642627868296,0.0800098779433671,0.209032736561698,0.21764082393781,0.758246770655715,0.281254134069628,0.736607975853892,-0.741402076374565,0.255349902866452,0.141944167181525,0.228167205092217,49.5,\"0\"\n"
          ],
          "name": "stdout"
        }
      ]
    },
    {
      "cell_type": "markdown",
      "metadata": {
        "id": "o6WdCQlf0Rmd"
      },
      "source": [
        "Risulta essere un record in cui il tempo è scritto in notazione scientifica come $1\\cdot 10^{5}$.\n",
        "Appartiene alla classe delle transazioni legittime già sovrarappresentata, quindi non è molto importante mantenerlo, ma lo correggiamo ugualmente sostituendo il valore `null` con $100000$. \n",
        "\n",
        "Essendoci soltanto una riga con tempo nullo possiamo utilizzare la trasformazione `withColumn` senza problemi. "
      ]
    },
    {
      "cell_type": "code",
      "metadata": {
        "colab": {
          "base_uri": "https://localhost:8080/",
          "height": 232
        },
        "id": "ZOEuyan4xXrk",
        "outputId": "28520f20-93b8-42ac-e212-69b773c8144f"
      },
      "source": [
        "records = records.withColumn(\"Time\",\n",
        "                             when(records[\"Time\"].isNull(),\n",
        "                                  100000) \\\n",
        "                             .otherwise(records[\"Time\"]))\n",
        "\n",
        "display(records.describe().toPandas())"
      ],
      "execution_count": null,
      "outputs": [
        {
          "output_type": "display_data",
          "data": {
            "text/html": [
              "<div>\n",
              "<style scoped>\n",
              "    .dataframe tbody tr th:only-of-type {\n",
              "        vertical-align: middle;\n",
              "    }\n",
              "\n",
              "    .dataframe tbody tr th {\n",
              "        vertical-align: top;\n",
              "    }\n",
              "\n",
              "    .dataframe thead th {\n",
              "        text-align: right;\n",
              "    }\n",
              "</style>\n",
              "<table border=\"1\" class=\"dataframe\">\n",
              "  <thead>\n",
              "    <tr style=\"text-align: right;\">\n",
              "      <th></th>\n",
              "      <th>summary</th>\n",
              "      <th>Time</th>\n",
              "      <th>V1</th>\n",
              "      <th>V2</th>\n",
              "      <th>V3</th>\n",
              "      <th>V4</th>\n",
              "      <th>V5</th>\n",
              "      <th>V6</th>\n",
              "      <th>V7</th>\n",
              "      <th>V8</th>\n",
              "      <th>V9</th>\n",
              "      <th>V10</th>\n",
              "      <th>V11</th>\n",
              "      <th>V12</th>\n",
              "      <th>V13</th>\n",
              "      <th>V14</th>\n",
              "      <th>V15</th>\n",
              "      <th>V16</th>\n",
              "      <th>V17</th>\n",
              "      <th>V18</th>\n",
              "      <th>V19</th>\n",
              "      <th>V20</th>\n",
              "      <th>V21</th>\n",
              "      <th>V22</th>\n",
              "      <th>V23</th>\n",
              "      <th>V24</th>\n",
              "      <th>V25</th>\n",
              "      <th>V26</th>\n",
              "      <th>V27</th>\n",
              "      <th>V28</th>\n",
              "      <th>Amount</th>\n",
              "      <th>Class</th>\n",
              "    </tr>\n",
              "  </thead>\n",
              "  <tbody>\n",
              "    <tr>\n",
              "      <th>0</th>\n",
              "      <td>count</td>\n",
              "      <td>284807</td>\n",
              "      <td>284807</td>\n",
              "      <td>284807</td>\n",
              "      <td>284807</td>\n",
              "      <td>284807</td>\n",
              "      <td>284807</td>\n",
              "      <td>284807</td>\n",
              "      <td>284807</td>\n",
              "      <td>284807</td>\n",
              "      <td>284807</td>\n",
              "      <td>284807</td>\n",
              "      <td>284807</td>\n",
              "      <td>284807</td>\n",
              "      <td>284807</td>\n",
              "      <td>284807</td>\n",
              "      <td>284807</td>\n",
              "      <td>284807</td>\n",
              "      <td>284807</td>\n",
              "      <td>284807</td>\n",
              "      <td>284807</td>\n",
              "      <td>284807</td>\n",
              "      <td>284807</td>\n",
              "      <td>284807</td>\n",
              "      <td>284807</td>\n",
              "      <td>284807</td>\n",
              "      <td>284807</td>\n",
              "      <td>284807</td>\n",
              "      <td>284807</td>\n",
              "      <td>284807</td>\n",
              "      <td>284807</td>\n",
              "      <td>284807</td>\n",
              "    </tr>\n",
              "    <tr>\n",
              "      <th>1</th>\n",
              "      <td>mean</td>\n",
              "      <td>94813.85957508067</td>\n",
              "      <td>-2.237831565309384E-10</td>\n",
              "      <td>5.6390376770574364E-11</td>\n",
              "      <td>5.7181949824170215E-11</td>\n",
              "      <td>-5.515661110814551E-11</td>\n",
              "      <td>2.6428014635959684E-11</td>\n",
              "      <td>-1.9836218453151118E-10</td>\n",
              "      <td>-1.1044655188441163E-10</td>\n",
              "      <td>5.3475000568427694E-11</td>\n",
              "      <td>2.419927089644845E-11</td>\n",
              "      <td>5.3895441523821255E-11</td>\n",
              "      <td>-6.56758850695699E-11</td>\n",
              "      <td>4.793081498147977E-11</td>\n",
              "      <td>2.1484545434430527E-11</td>\n",
              "      <td>-8.998896774441982E-11</td>\n",
              "      <td>-4.6294032998024574E-11</td>\n",
              "      <td>-5.987137419976068E-11</td>\n",
              "      <td>3.639741548440692E-11</td>\n",
              "      <td>1.5957350183256596E-11</td>\n",
              "      <td>2.9739322663330695E-11</td>\n",
              "      <td>3.740233772192539E-11</td>\n",
              "      <td>-1.1423847676931417E-11</td>\n",
              "      <td>4.026301784830157E-11</td>\n",
              "      <td>-9.643035035753393E-12</td>\n",
              "      <td>4.7671430945018126E-11</td>\n",
              "      <td>-7.220635637499166E-12</td>\n",
              "      <td>-4.4536415414434063E-11</td>\n",
              "      <td>2.3264761314214363E-11</td>\n",
              "      <td>-1.0009771058213764E-11</td>\n",
              "      <td>88.34961924204623</td>\n",
              "      <td>0.001727485630620034</td>\n",
              "    </tr>\n",
              "    <tr>\n",
              "      <th>2</th>\n",
              "      <td>stddev</td>\n",
              "      <td>47488.145954566906</td>\n",
              "      <td>1.958695804149988</td>\n",
              "      <td>1.6513085797790983</td>\n",
              "      <td>1.5162550047888008</td>\n",
              "      <td>1.4158685748057576</td>\n",
              "      <td>1.38024673467619</td>\n",
              "      <td>1.3322710895129717</td>\n",
              "      <td>1.2370935982054971</td>\n",
              "      <td>1.1943529028329143</td>\n",
              "      <td>1.0986320894527717</td>\n",
              "      <td>1.0888497654131535</td>\n",
              "      <td>1.0207130274845488</td>\n",
              "      <td>0.9992013897133897</td>\n",
              "      <td>0.9952742301172138</td>\n",
              "      <td>0.9585956107110349</td>\n",
              "      <td>0.9153160115854574</td>\n",
              "      <td>0.8762528874680678</td>\n",
              "      <td>0.8493370639017923</td>\n",
              "      <td>0.8381762093603176</td>\n",
              "      <td>0.8140405007230054</td>\n",
              "      <td>0.7709250247479664</td>\n",
              "      <td>0.7345240139851617</td>\n",
              "      <td>0.7257015605697456</td>\n",
              "      <td>0.6244602954715794</td>\n",
              "      <td>0.6056470678589732</td>\n",
              "      <td>0.52127807053526</td>\n",
              "      <td>0.48222701319019107</td>\n",
              "      <td>0.4036324945392819</td>\n",
              "      <td>0.33008326434426066</td>\n",
              "      <td>250.12010901734928</td>\n",
              "      <td>0.04152718963546528</td>\n",
              "    </tr>\n",
              "    <tr>\n",
              "      <th>3</th>\n",
              "      <td>min</td>\n",
              "      <td>0</td>\n",
              "      <td>-56.40751</td>\n",
              "      <td>-72.71573</td>\n",
              "      <td>-48.32559</td>\n",
              "      <td>-5.6831713</td>\n",
              "      <td>-113.74331</td>\n",
              "      <td>-26.160505</td>\n",
              "      <td>-43.557243</td>\n",
              "      <td>-73.21672</td>\n",
              "      <td>-13.434067</td>\n",
              "      <td>-24.588263</td>\n",
              "      <td>-4.7974734</td>\n",
              "      <td>-18.683714</td>\n",
              "      <td>-5.791881</td>\n",
              "      <td>-19.214325</td>\n",
              "      <td>-4.4989448</td>\n",
              "      <td>-14.129854</td>\n",
              "      <td>-25.1628</td>\n",
              "      <td>-9.498746</td>\n",
              "      <td>-7.213527</td>\n",
              "      <td>-54.49772</td>\n",
              "      <td>-34.830383</td>\n",
              "      <td>-10.933144</td>\n",
              "      <td>-44.807735</td>\n",
              "      <td>-2.836627</td>\n",
              "      <td>-10.295397</td>\n",
              "      <td>-2.6045506</td>\n",
              "      <td>-22.56568</td>\n",
              "      <td>-15.430084</td>\n",
              "      <td>0.0</td>\n",
              "      <td>0</td>\n",
              "    </tr>\n",
              "    <tr>\n",
              "      <th>4</th>\n",
              "      <td>max</td>\n",
              "      <td>172792</td>\n",
              "      <td>2.45493</td>\n",
              "      <td>22.05773</td>\n",
              "      <td>9.382559</td>\n",
              "      <td>16.875343</td>\n",
              "      <td>34.801666</td>\n",
              "      <td>73.30163</td>\n",
              "      <td>120.58949</td>\n",
              "      <td>20.007208</td>\n",
              "      <td>15.594995</td>\n",
              "      <td>23.745136</td>\n",
              "      <td>12.018913</td>\n",
              "      <td>7.848392</td>\n",
              "      <td>7.126883</td>\n",
              "      <td>10.526766</td>\n",
              "      <td>8.877742</td>\n",
              "      <td>17.315111</td>\n",
              "      <td>9.253527</td>\n",
              "      <td>5.041069</td>\n",
              "      <td>5.5919714</td>\n",
              "      <td>39.420906</td>\n",
              "      <td>27.202839</td>\n",
              "      <td>10.50309</td>\n",
              "      <td>22.528412</td>\n",
              "      <td>4.584549</td>\n",
              "      <td>7.5195885</td>\n",
              "      <td>3.5173457</td>\n",
              "      <td>31.612198</td>\n",
              "      <td>33.84781</td>\n",
              "      <td>25691.16</td>\n",
              "      <td>1</td>\n",
              "    </tr>\n",
              "  </tbody>\n",
              "</table>\n",
              "</div>"
            ],
            "text/plain": [
              "  summary                Time  ...              Amount                 Class\n",
              "0   count              284807  ...              284807                284807\n",
              "1    mean   94813.85957508067  ...   88.34961924204623  0.001727485630620034\n",
              "2  stddev  47488.145954566906  ...  250.12010901734928   0.04152718963546528\n",
              "3     min                   0  ...                 0.0                     0\n",
              "4     max              172792  ...            25691.16                     1\n",
              "\n",
              "[5 rows x 32 columns]"
            ]
          },
          "metadata": {
            "tags": []
          }
        }
      ]
    },
    {
      "cell_type": "markdown",
      "metadata": {
        "id": "10-ntEiPSwYx"
      },
      "source": [
        "Il dataset è estremamente sbilanciato, è importante garantire la presenza di campioni di ogni classe in fase di addestramento e test, servirà quindi un campionamento stratificato.\n",
        "Creiamo una funzione per separare il dataset in base alla classe."
      ]
    },
    {
      "cell_type": "code",
      "metadata": {
        "id": "sMIdeb1eVE04",
        "colab": {
          "base_uri": "https://localhost:8080/",
          "height": 516
        },
        "outputId": "a15a74e9-63b5-4df6-b50f-3683e201de18"
      },
      "source": [
        "def split_categories(dataset, describe=False):\n",
        "  fraud = dataset.filter(dataset.Class.contains(1))\n",
        "  legit = dataset.filter(dataset.Class.contains(0))\n",
        "  \n",
        "  if describe :\n",
        "    print(\"Fraudolent transactions: \",fraud.count())\n",
        "    print(\"Legit transactions:      \",legit.count())\n",
        "    print(\"-\"*40)\n",
        "    print(\"Total transactions:      \",dataset.count())\n",
        "  \n",
        "    print(\"Fraudolent transactions summary:\")\n",
        "    display(fraud.describe().toPandas())\n",
        "    print(\"Legit transactions summary:\")\n",
        "    display(legit.describe().toPandas())\n",
        "    \n",
        "  return (fraud, legit)\n",
        "\n",
        "\n",
        "fraud, legit = split_categories(records, describe=True)"
      ],
      "execution_count": null,
      "outputs": [
        {
          "output_type": "stream",
          "text": [
            "Fraudolent transactions:  492\n",
            "Legit transactions:       284315\n",
            "----------------------------------------\n",
            "Total transactions:       284807\n",
            "Fraudolent transactions summary:\n"
          ],
          "name": "stdout"
        },
        {
          "output_type": "display_data",
          "data": {
            "text/html": [
              "<div>\n",
              "<style scoped>\n",
              "    .dataframe tbody tr th:only-of-type {\n",
              "        vertical-align: middle;\n",
              "    }\n",
              "\n",
              "    .dataframe tbody tr th {\n",
              "        vertical-align: top;\n",
              "    }\n",
              "\n",
              "    .dataframe thead th {\n",
              "        text-align: right;\n",
              "    }\n",
              "</style>\n",
              "<table border=\"1\" class=\"dataframe\">\n",
              "  <thead>\n",
              "    <tr style=\"text-align: right;\">\n",
              "      <th></th>\n",
              "      <th>summary</th>\n",
              "      <th>Time</th>\n",
              "      <th>V1</th>\n",
              "      <th>V2</th>\n",
              "      <th>V3</th>\n",
              "      <th>V4</th>\n",
              "      <th>V5</th>\n",
              "      <th>V6</th>\n",
              "      <th>V7</th>\n",
              "      <th>V8</th>\n",
              "      <th>V9</th>\n",
              "      <th>V10</th>\n",
              "      <th>V11</th>\n",
              "      <th>V12</th>\n",
              "      <th>V13</th>\n",
              "      <th>V14</th>\n",
              "      <th>V15</th>\n",
              "      <th>V16</th>\n",
              "      <th>V17</th>\n",
              "      <th>V18</th>\n",
              "      <th>V19</th>\n",
              "      <th>V20</th>\n",
              "      <th>V21</th>\n",
              "      <th>V22</th>\n",
              "      <th>V23</th>\n",
              "      <th>V24</th>\n",
              "      <th>V25</th>\n",
              "      <th>V26</th>\n",
              "      <th>V27</th>\n",
              "      <th>V28</th>\n",
              "      <th>Amount</th>\n",
              "      <th>Class</th>\n",
              "    </tr>\n",
              "  </thead>\n",
              "  <tbody>\n",
              "    <tr>\n",
              "      <th>0</th>\n",
              "      <td>count</td>\n",
              "      <td>492</td>\n",
              "      <td>492</td>\n",
              "      <td>492</td>\n",
              "      <td>492</td>\n",
              "      <td>492</td>\n",
              "      <td>492</td>\n",
              "      <td>492</td>\n",
              "      <td>492</td>\n",
              "      <td>492</td>\n",
              "      <td>492</td>\n",
              "      <td>492</td>\n",
              "      <td>492</td>\n",
              "      <td>492</td>\n",
              "      <td>492</td>\n",
              "      <td>492</td>\n",
              "      <td>492</td>\n",
              "      <td>492</td>\n",
              "      <td>492</td>\n",
              "      <td>492</td>\n",
              "      <td>492</td>\n",
              "      <td>492</td>\n",
              "      <td>492</td>\n",
              "      <td>492</td>\n",
              "      <td>492</td>\n",
              "      <td>492</td>\n",
              "      <td>492</td>\n",
              "      <td>492</td>\n",
              "      <td>492</td>\n",
              "      <td>492</td>\n",
              "      <td>492</td>\n",
              "      <td>492</td>\n",
              "    </tr>\n",
              "    <tr>\n",
              "      <th>1</th>\n",
              "      <td>mean</td>\n",
              "      <td>80746.80691056911</td>\n",
              "      <td>-4.771948437656018</td>\n",
              "      <td>3.623778107310352</td>\n",
              "      <td>-7.033281044682442</td>\n",
              "      <td>4.542029104072495</td>\n",
              "      <td>-3.151224880354343</td>\n",
              "      <td>-1.3977367154386924</td>\n",
              "      <td>-5.568731092020435</td>\n",
              "      <td>0.570635888230059</td>\n",
              "      <td>-2.581122922312612</td>\n",
              "      <td>-5.676882852671471</td>\n",
              "      <td>3.8001729140232485</td>\n",
              "      <td>-6.259393054446796</td>\n",
              "      <td>-0.1093338164198023</td>\n",
              "      <td>-6.9717228717465956</td>\n",
              "      <td>-0.09292874562888163</td>\n",
              "      <td>-4.1399456993601005</td>\n",
              "      <td>-6.665836404017135</td>\n",
              "      <td>-2.2463081330136676</td>\n",
              "      <td>0.6806593034698011</td>\n",
              "      <td>0.3723193940359198</td>\n",
              "      <td>0.713588354124771</td>\n",
              "      <td>0.014048882184656171</td>\n",
              "      <td>-0.04030796614635501</td>\n",
              "      <td>-0.10513030546286704</td>\n",
              "      <td>0.04144888758395151</td>\n",
              "      <td>0.05164812607410301</td>\n",
              "      <td>0.17057479472585815</td>\n",
              "      <td>0.0756672901234862</td>\n",
              "      <td>122.21132165278739</td>\n",
              "      <td>1.0</td>\n",
              "    </tr>\n",
              "    <tr>\n",
              "      <th>2</th>\n",
              "      <td>stddev</td>\n",
              "      <td>47835.36513767504</td>\n",
              "      <td>6.783686760149836</td>\n",
              "      <td>4.291215642398455</td>\n",
              "      <td>7.1109372635878305</td>\n",
              "      <td>2.8733176928921567</td>\n",
              "      <td>5.372467992149999</td>\n",
              "      <td>1.8581235795517268</td>\n",
              "      <td>7.206772848770788</td>\n",
              "      <td>6.79783066808891</td>\n",
              "      <td>2.5008955825790906</td>\n",
              "      <td>4.8973410005960165</td>\n",
              "      <td>2.6786045231662667</td>\n",
              "      <td>4.6544585194994275</td>\n",
              "      <td>1.1045182923679866</td>\n",
              "      <td>4.2789398549904405</td>\n",
              "      <td>1.0499153028171588</td>\n",
              "      <td>3.8650346589266658</td>\n",
              "      <td>6.970617760135201</td>\n",
              "      <td>2.8993658954043</td>\n",
              "      <td>1.5398533044715659</td>\n",
              "      <td>1.3466351591864207</td>\n",
              "      <td>3.8693043575015027</td>\n",
              "      <td>1.494601631426158</td>\n",
              "      <td>1.5796423270678805</td>\n",
              "      <td>0.5155765404193516</td>\n",
              "      <td>0.7972046929377743</td>\n",
              "      <td>0.471678945103954</td>\n",
              "      <td>1.3767657674001963</td>\n",
              "      <td>0.5472914201304008</td>\n",
              "      <td>256.6832925093746</td>\n",
              "      <td>0.0</td>\n",
              "    </tr>\n",
              "    <tr>\n",
              "      <th>3</th>\n",
              "      <td>min</td>\n",
              "      <td>406</td>\n",
              "      <td>-30.55238</td>\n",
              "      <td>-8.402154</td>\n",
              "      <td>-31.103685</td>\n",
              "      <td>-1.3132749</td>\n",
              "      <td>-22.105532</td>\n",
              "      <td>-6.4062667</td>\n",
              "      <td>-43.557243</td>\n",
              "      <td>-41.044262</td>\n",
              "      <td>-13.434067</td>\n",
              "      <td>-24.588263</td>\n",
              "      <td>-1.7022284</td>\n",
              "      <td>-18.683714</td>\n",
              "      <td>-3.127795</td>\n",
              "      <td>-19.214325</td>\n",
              "      <td>-4.4989448</td>\n",
              "      <td>-14.129854</td>\n",
              "      <td>-25.1628</td>\n",
              "      <td>-9.498746</td>\n",
              "      <td>-3.6819036</td>\n",
              "      <td>-4.1281857</td>\n",
              "      <td>-22.797604</td>\n",
              "      <td>-8.887017</td>\n",
              "      <td>-19.254328</td>\n",
              "      <td>-2.0280242</td>\n",
              "      <td>-4.7816057</td>\n",
              "      <td>-1.1526711</td>\n",
              "      <td>-7.263482</td>\n",
              "      <td>-1.8692905</td>\n",
              "      <td>0.0</td>\n",
              "      <td>1</td>\n",
              "    </tr>\n",
              "    <tr>\n",
              "      <th>4</th>\n",
              "      <td>max</td>\n",
              "      <td>170348</td>\n",
              "      <td>2.132386</td>\n",
              "      <td>22.05773</td>\n",
              "      <td>2.2502096</td>\n",
              "      <td>12.114672</td>\n",
              "      <td>11.095089</td>\n",
              "      <td>6.4741144</td>\n",
              "      <td>5.8025374</td>\n",
              "      <td>20.007208</td>\n",
              "      <td>3.353525</td>\n",
              "      <td>4.031435</td>\n",
              "      <td>12.018913</td>\n",
              "      <td>1.3759414</td>\n",
              "      <td>2.8154397</td>\n",
              "      <td>3.442422</td>\n",
              "      <td>2.4713578</td>\n",
              "      <td>3.1396556</td>\n",
              "      <td>6.739384</td>\n",
              "      <td>3.790316</td>\n",
              "      <td>5.2283416</td>\n",
              "      <td>11.059004</td>\n",
              "      <td>27.202839</td>\n",
              "      <td>8.361985</td>\n",
              "      <td>5.46623</td>\n",
              "      <td>1.0914347</td>\n",
              "      <td>2.2082093</td>\n",
              "      <td>2.7452607</td>\n",
              "      <td>3.0523577</td>\n",
              "      <td>1.7793639</td>\n",
              "      <td>2125.87</td>\n",
              "      <td>1</td>\n",
              "    </tr>\n",
              "  </tbody>\n",
              "</table>\n",
              "</div>"
            ],
            "text/plain": [
              "  summary               Time  ...              Amount Class\n",
              "0   count                492  ...                 492   492\n",
              "1    mean  80746.80691056911  ...  122.21132165278739   1.0\n",
              "2  stddev  47835.36513767504  ...   256.6832925093746   0.0\n",
              "3     min                406  ...                 0.0     1\n",
              "4     max             170348  ...             2125.87     1\n",
              "\n",
              "[5 rows x 32 columns]"
            ]
          },
          "metadata": {
            "tags": []
          }
        },
        {
          "output_type": "stream",
          "text": [
            "Legit transactions summary:\n"
          ],
          "name": "stdout"
        },
        {
          "output_type": "display_data",
          "data": {
            "text/html": [
              "<div>\n",
              "<style scoped>\n",
              "    .dataframe tbody tr th:only-of-type {\n",
              "        vertical-align: middle;\n",
              "    }\n",
              "\n",
              "    .dataframe tbody tr th {\n",
              "        vertical-align: top;\n",
              "    }\n",
              "\n",
              "    .dataframe thead th {\n",
              "        text-align: right;\n",
              "    }\n",
              "</style>\n",
              "<table border=\"1\" class=\"dataframe\">\n",
              "  <thead>\n",
              "    <tr style=\"text-align: right;\">\n",
              "      <th></th>\n",
              "      <th>summary</th>\n",
              "      <th>Time</th>\n",
              "      <th>V1</th>\n",
              "      <th>V2</th>\n",
              "      <th>V3</th>\n",
              "      <th>V4</th>\n",
              "      <th>V5</th>\n",
              "      <th>V6</th>\n",
              "      <th>V7</th>\n",
              "      <th>V8</th>\n",
              "      <th>V9</th>\n",
              "      <th>V10</th>\n",
              "      <th>V11</th>\n",
              "      <th>V12</th>\n",
              "      <th>V13</th>\n",
              "      <th>V14</th>\n",
              "      <th>V15</th>\n",
              "      <th>V16</th>\n",
              "      <th>V17</th>\n",
              "      <th>V18</th>\n",
              "      <th>V19</th>\n",
              "      <th>V20</th>\n",
              "      <th>V21</th>\n",
              "      <th>V22</th>\n",
              "      <th>V23</th>\n",
              "      <th>V24</th>\n",
              "      <th>V25</th>\n",
              "      <th>V26</th>\n",
              "      <th>V27</th>\n",
              "      <th>V28</th>\n",
              "      <th>Amount</th>\n",
              "      <th>Class</th>\n",
              "    </tr>\n",
              "  </thead>\n",
              "  <tbody>\n",
              "    <tr>\n",
              "      <th>0</th>\n",
              "      <td>count</td>\n",
              "      <td>284315</td>\n",
              "      <td>284315</td>\n",
              "      <td>284315</td>\n",
              "      <td>284315</td>\n",
              "      <td>284315</td>\n",
              "      <td>284315</td>\n",
              "      <td>284315</td>\n",
              "      <td>284315</td>\n",
              "      <td>284315</td>\n",
              "      <td>284315</td>\n",
              "      <td>284315</td>\n",
              "      <td>284315</td>\n",
              "      <td>284315</td>\n",
              "      <td>284315</td>\n",
              "      <td>284315</td>\n",
              "      <td>284315</td>\n",
              "      <td>284315</td>\n",
              "      <td>284315</td>\n",
              "      <td>284315</td>\n",
              "      <td>284315</td>\n",
              "      <td>284315</td>\n",
              "      <td>284315</td>\n",
              "      <td>284315</td>\n",
              "      <td>284315</td>\n",
              "      <td>284315</td>\n",
              "      <td>284315</td>\n",
              "      <td>284315</td>\n",
              "      <td>284315</td>\n",
              "      <td>284315</td>\n",
              "      <td>284315</td>\n",
              "      <td>284315</td>\n",
              "    </tr>\n",
              "    <tr>\n",
              "      <th>1</th>\n",
              "      <td>mean</td>\n",
              "      <td>94838.20225805884</td>\n",
              "      <td>0.008257737254776397</td>\n",
              "      <td>-0.0062708573685395395</td>\n",
              "      <td>0.012170917082354364</td>\n",
              "      <td>-0.00785986787511266</td>\n",
              "      <td>0.005453115905461267</td>\n",
              "      <td>0.0024187482457868844</td>\n",
              "      <td>0.009636549833171311</td>\n",
              "      <td>-9.874710858700129E-4</td>\n",
              "      <td>0.004466568716634462</td>\n",
              "      <td>0.009823703915952949</td>\n",
              "      <td>-0.006576104294196191</td>\n",
              "      <td>0.010831723252163463</td>\n",
              "      <td>1.8919945763498818E-4</td>\n",
              "      <td>0.01206439205553642</td>\n",
              "      <td>1.6081082484056456E-4</td>\n",
              "      <td>0.007164072479585611</td>\n",
              "      <td>0.011535063296493921</td>\n",
              "      <td>0.0038871800854245802</td>\n",
              "      <td>-0.0011778638792788803</td>\n",
              "      <td>-6.442893664183211E-4</td>\n",
              "      <td>-0.0012348468194888734</td>\n",
              "      <td>-2.43111990843308E-5</td>\n",
              "      <td>6.97519181105562E-5</td>\n",
              "      <td>1.8192541323844261E-4</td>\n",
              "      <td>-7.172627102963866E-5</td>\n",
              "      <td>-8.937583564968978E-5</td>\n",
              "      <td>-2.9517539482319026E-4</td>\n",
              "      <td>-1.3094036400333463E-4</td>\n",
              "      <td>88.29102241252234</td>\n",
              "      <td>0.0</td>\n",
              "    </tr>\n",
              "    <tr>\n",
              "      <th>2</th>\n",
              "      <td>stddev</td>\n",
              "      <td>47484.015785551375</td>\n",
              "      <td>1.929814051942518</td>\n",
              "      <td>1.6361460527804974</td>\n",
              "      <td>1.459429027326113</td>\n",
              "      <td>1.3993332347181888</td>\n",
              "      <td>1.3569516919137445</td>\n",
              "      <td>1.329912995500764</td>\n",
              "      <td>1.178812189544264</td>\n",
              "      <td>1.1612833511061302</td>\n",
              "      <td>1.089371898518753</td>\n",
              "      <td>1.0442036817464315</td>\n",
              "      <td>1.003111906708903</td>\n",
              "      <td>0.9459390254842318</td>\n",
              "      <td>0.9950665341767122</td>\n",
              "      <td>0.897006524156718</td>\n",
              "      <td>0.9150598688874217</td>\n",
              "      <td>0.8447717338429365</td>\n",
              "      <td>0.7494566481100906</td>\n",
              "      <td>0.8249186194038873</td>\n",
              "      <td>0.8117331207533034</td>\n",
              "      <td>0.7694035635872329</td>\n",
              "      <td>0.716743467578044</td>\n",
              "      <td>0.7236684375977248</td>\n",
              "      <td>0.6215411535444829</td>\n",
              "      <td>0.605776284304455</td>\n",
              "      <td>0.5206731481665137</td>\n",
              "      <td>0.48224108342167044</td>\n",
              "      <td>0.3998465332168914</td>\n",
              "      <td>0.3295698817632466</td>\n",
              "      <td>250.1050919950667</td>\n",
              "      <td>0.0</td>\n",
              "    </tr>\n",
              "    <tr>\n",
              "      <th>3</th>\n",
              "      <td>min</td>\n",
              "      <td>0</td>\n",
              "      <td>-56.40751</td>\n",
              "      <td>-72.71573</td>\n",
              "      <td>-48.32559</td>\n",
              "      <td>-5.6831713</td>\n",
              "      <td>-113.74331</td>\n",
              "      <td>-26.160505</td>\n",
              "      <td>-31.764946</td>\n",
              "      <td>-73.21672</td>\n",
              "      <td>-6.2907305</td>\n",
              "      <td>-14.7410965</td>\n",
              "      <td>-4.7974734</td>\n",
              "      <td>-15.144988</td>\n",
              "      <td>-5.791881</td>\n",
              "      <td>-18.392092</td>\n",
              "      <td>-4.391307</td>\n",
              "      <td>-10.11556</td>\n",
              "      <td>-17.098444</td>\n",
              "      <td>-5.36666</td>\n",
              "      <td>-7.213527</td>\n",
              "      <td>-54.49772</td>\n",
              "      <td>-34.830383</td>\n",
              "      <td>-10.933144</td>\n",
              "      <td>-44.807735</td>\n",
              "      <td>-2.836627</td>\n",
              "      <td>-10.295397</td>\n",
              "      <td>-2.6045506</td>\n",
              "      <td>-22.56568</td>\n",
              "      <td>-15.430084</td>\n",
              "      <td>0.0</td>\n",
              "      <td>0</td>\n",
              "    </tr>\n",
              "    <tr>\n",
              "      <th>4</th>\n",
              "      <td>max</td>\n",
              "      <td>172792</td>\n",
              "      <td>2.45493</td>\n",
              "      <td>18.902452</td>\n",
              "      <td>9.382559</td>\n",
              "      <td>16.875343</td>\n",
              "      <td>34.801666</td>\n",
              "      <td>73.30163</td>\n",
              "      <td>120.58949</td>\n",
              "      <td>18.709255</td>\n",
              "      <td>15.594995</td>\n",
              "      <td>23.745136</td>\n",
              "      <td>10.002191</td>\n",
              "      <td>7.848392</td>\n",
              "      <td>7.126883</td>\n",
              "      <td>10.526766</td>\n",
              "      <td>8.877742</td>\n",
              "      <td>17.315111</td>\n",
              "      <td>9.253527</td>\n",
              "      <td>5.041069</td>\n",
              "      <td>5.5919714</td>\n",
              "      <td>39.420906</td>\n",
              "      <td>22.61489</td>\n",
              "      <td>10.50309</td>\n",
              "      <td>22.528412</td>\n",
              "      <td>4.584549</td>\n",
              "      <td>7.5195885</td>\n",
              "      <td>3.5173457</td>\n",
              "      <td>31.612198</td>\n",
              "      <td>33.84781</td>\n",
              "      <td>25691.16</td>\n",
              "      <td>0</td>\n",
              "    </tr>\n",
              "  </tbody>\n",
              "</table>\n",
              "</div>"
            ],
            "text/plain": [
              "  summary                Time  ...             Amount   Class\n",
              "0   count              284315  ...             284315  284315\n",
              "1    mean   94838.20225805884  ...  88.29102241252234     0.0\n",
              "2  stddev  47484.015785551375  ...  250.1050919950667     0.0\n",
              "3     min                   0  ...                0.0       0\n",
              "4     max              172792  ...           25691.16       0\n",
              "\n",
              "[5 rows x 32 columns]"
            ]
          },
          "metadata": {
            "tags": []
          }
        }
      ]
    },
    {
      "cell_type": "code",
      "metadata": {
        "id": "7KwIlM6_wgdY"
      },
      "source": [
        "import numpy as np\n",
        "from scipy.stats import entropy\n",
        "from math import log\n",
        "import pandas as pd   \n",
        "\n"
      ],
      "execution_count": null,
      "outputs": []
    },
    {
      "cell_type": "markdown",
      "metadata": {
        "id": "TsnCfNU1ytA9"
      },
      "source": [
        "I descrittori statistici ottenuti precedentemente sono abbastanza differenti per le due classi, osserviamo adesso la forma delle distribuzioni delle varie feature."
      ]
    },
    {
      "cell_type": "code",
      "metadata": {
        "id": "vA3FWVQxERNS"
      },
      "source": [
        "import matplotlib.pyplot as plt\n",
        "import seaborn as sn\n",
        "\n",
        "\n",
        "%matplotlib inline\n"
      ],
      "execution_count": null,
      "outputs": []
    },
    {
      "cell_type": "code",
      "metadata": {
        "id": "tSBQAEBjr-Oo",
        "colab": {
          "base_uri": "https://localhost:8080/",
          "height": 1000
        },
        "outputId": "473c5909-f73b-446e-b77d-a52c54493132"
      },
      "source": [
        "for col in fraud.columns[0:-1]:\n",
        "  hist_f = fraud.select(col).rdd.flatMap(lambda x: x).histogram(30)\n",
        "  hist_l = legit.select(col).rdd.flatMap(lambda x: x).histogram(30)\n",
        "  # Loading the Computed Histogram into a Pandas Dataframe for plotting\n",
        "  fig = plt.figure()\n",
        "  plt.title(col)\n",
        "  plt.axis(True)\n",
        "  plt.bar(hist_l[0][0:-1],hist_l[1]/np.sum(hist_l[1]), width=np.diff(hist_l[0]))\n",
        "  plt.bar(hist_f[0][0:-1],hist_f[1]/np.sum(hist_f[1]), width=np.diff(hist_f[0]))\n",
        "  plt.legend([\"Legit\",\"Fraud\"])\n",
        "\n",
        "  plt.show()"
      ],
      "execution_count": null,
      "outputs": [
        {
          "output_type": "display_data",
          "data": {
            "image/png": "[encoded data removed]",
            "text/plain": [
              "<Figure size 432x288 with 1 Axes>"
            ]
          },
          "metadata": {
            "tags": [],
            "needs_background": "light"
          }
        },
        {
          "output_type": "display_data",
          "data": {
            "image/png": "[encoded data removed]",
            "text/plain": [
              "<Figure size 432x288 with 1 Axes>"
            ]
          },
          "metadata": {
            "tags": [],
            "needs_background": "light"
          }
        },
        {
          "output_type": "display_data",
          "data": {
            "image/png": "[encoded data removed]",
            "text/plain": [
              "<Figure size 432x288 with 1 Axes>"
            ]
          },
          "metadata": {
            "tags": [],
            "needs_background": "light"
          }
        },
        {
          "output_type": "display_data",
          "data": {
            "image/png": "[encoded data removed]",
            "text/plain": [
              "<Figure size 432x288 with 1 Axes>"
            ]
          },
          "metadata": {
            "tags": [],
            "needs_background": "light"
          }
        },
        {
          "output_type": "display_data",
          "data": {
            "image/png": "[encoded data removed]",
            "text/plain": [
              "<Figure size 432x288 with 1 Axes>"
            ]
          },
          "metadata": {
            "tags": [],
            "needs_background": "light"
          }
        },
        {
          "output_type": "display_data",
          "data": {
            "image/png": "[encoded data removed]",
            "text/plain": [
              "<Figure size 432x288 with 1 Axes>"
            ]
          },
          "metadata": {
            "tags": [],
            "needs_background": "light"
          }
        },
        {
          "output_type": "display_data",
          "data": {
            "image/png": "[encoded data removed]",
            "text/plain": [
              "<Figure size 432x288 with 1 Axes>"
            ]
          },
          "metadata": {
            "tags": [],
            "needs_background": "light"
          }
        },
        {
          "output_type": "display_data",
          "data": {
            "image/png": "[encoded data removed]",
            "text/plain": [
              "<Figure size 432x288 with 1 Axes>"
            ]
          },
          "metadata": {
            "tags": [],
            "needs_background": "light"
          }
        },
        {
          "output_type": "display_data",
          "data": {
            "image/png": "[encoded data removed]",
            "text/plain": [
              "<Figure size 432x288 with 1 Axes>"
            ]
          },
          "metadata": {
            "tags": [],
            "needs_background": "light"
          }
        },
        {
          "output_type": "display_data",
          "data": {
            "image/png": "[encoded data removed]",
            "text/plain": [
              "<Figure size 432x288 with 1 Axes>"
            ]
          },
          "metadata": {
            "tags": [],
            "needs_background": "light"
          }
        },
        {
          "output_type": "display_data",
          "data": {
            "image/png": "[encoded data removed]",
            "text/plain": [
              "<Figure size 432x288 with 1 Axes>"
            ]
          },
          "metadata": {
            "tags": [],
            "needs_background": "light"
          }
        },
        {
          "output_type": "display_data",
          "data": {
            "image/png": "[encoded data removed]",
            "text/plain": [
              "<Figure size 432x288 with 1 Axes>"
            ]
          },
          "metadata": {
            "tags": [],
            "needs_background": "light"
          }
        },
        {
          "output_type": "display_data",
          "data": {
            "image/png": "[encoded data removed]",
            "text/plain": [
              "<Figure size 432x288 with 1 Axes>"
            ]
          },
          "metadata": {
            "tags": [],
            "needs_background": "light"
          }
        },
        {
          "output_type": "display_data",
          "data": {
            "image/png": "[encoded data removed]",
            "text/plain": [
              "<Figure size 432x288 with 1 Axes>"
            ]
          },
          "metadata": {
            "tags": [],
            "needs_background": "light"
          }
        },
        {
          "output_type": "display_data",
          "data": {
            "image/png": "[encoded data removed]",
            "text/plain": [
              "<Figure size 432x288 with 1 Axes>"
            ]
          },
          "metadata": {
            "tags": [],
            "needs_background": "light"
          }
        },
        {
          "output_type": "display_data",
          "data": {
            "image/png": "[encoded data removed]",
            "text/plain": [
              "<Figure size 432x288 with 1 Axes>"
            ]
          },
          "metadata": {
            "tags": [],
            "needs_background": "light"
          }
        },
        {
          "output_type": "display_data",
          "data": {
            "image/png": "[encoded data removed]",
            "text/plain": [
              "<Figure size 432x288 with 1 Axes>"
            ]
          },
          "metadata": {
            "tags": [],
            "needs_background": "light"
          }
        },
        {
          "output_type": "display_data",
          "data": {
            "image/png": "[encoded data removed]",
            "text/plain": [
              "<Figure size 432x288 with 1 Axes>"
            ]
          },
          "metadata": {
            "tags": [],
            "needs_background": "light"
          }
        },
        {
          "output_type": "display_data",
          "data": {
            "image/png": "[encoded data removed]",
            "text/plain": [
              "<Figure size 432x288 with 1 Axes>"
            ]
          },
          "metadata": {
            "tags": [],
            "needs_background": "light"
          }
        },
        {
          "output_type": "display_data",
          "data": {
            "image/png": "[encoded data removed]",
            "text/plain": [
              "<Figure size 432x288 with 1 Axes>"
            ]
          },
          "metadata": {
            "tags": [],
            "needs_background": "light"
          }
        },
        {
          "output_type": "display_data",
          "data": {
            "image/png": "[encoded data removed]",
            "text/plain": [
              "<Figure size 432x288 with 1 Axes>"
            ]
          },
          "metadata": {
            "tags": [],
            "needs_background": "light"
          }
        },
        {
          "output_type": "display_data",
          "data": {
            "image/png": "[encoded data removed]",
            "text/plain": [
              "<Figure size 432x288 with 1 Axes>"
            ]
          },
          "metadata": {
            "tags": [],
            "needs_background": "light"
          }
        },
        {
          "output_type": "display_data",
          "data": {
            "image/png": "[encoded data removed]",
            "text/plain": [
              "<Figure size 432x288 with 1 Axes>"
            ]
          },
          "metadata": {
            "tags": [],
            "needs_background": "light"
          }
        },
        {
          "output_type": "display_data",
          "data": {
            "image/png": "[encoded data removed]",
            "text/plain": [
              "<Figure size 432x288 with 1 Axes>"
            ]
          },
          "metadata": {
            "tags": [],
            "needs_background": "light"
          }
        },
        {
          "output_type": "display_data",
          "data": {
            "image/png": "[encoded data removed]",
            "text/plain": [
              "<Figure size 432x288 with 1 Axes>"
            ]
          },
          "metadata": {
            "tags": [],
            "needs_background": "light"
          }
        },
        {
          "output_type": "display_data",
          "data": {
            "image/png": "[encoded data removed]",
            "text/plain": [
              "<Figure size 432x288 with 1 Axes>"
            ]
          },
          "metadata": {
            "tags": [],
            "needs_background": "light"
          }
        },
        {
          "output_type": "display_data",
          "data": {
            "image/png": "[encoded data removed]",
            "text/plain": [
              "<Figure size 432x288 with 1 Axes>"
            ]
          },
          "metadata": {
            "tags": [],
            "needs_background": "light"
          }
        },
        {
          "output_type": "display_data",
          "data": {
            "image/png": "[encoded data removed]",
            "text/plain": [
              "<Figure size 432x288 with 1 Axes>"
            ]
          },
          "metadata": {
            "tags": [],
            "needs_background": "light"
          }
        },
        {
          "output_type": "display_data",
          "data": {
            "image/png": "[encoded data removed]",
            "text/plain": [
              "<Figure size 432x288 with 1 Axes>"
            ]
          },
          "metadata": {
            "tags": [],
            "needs_background": "light"
          }
        },
        {
          "output_type": "display_data",
          "data": {
            "image/png": "[encoded data removed]",
            "text/plain": [
              "<Figure size 432x288 with 1 Axes>"
            ]
          },
          "metadata": {
            "tags": [],
            "needs_background": "light"
          }
        }
      ]
    },
    {
      "cell_type": "markdown",
      "metadata": {
        "id": "FL3buxKv0XE2"
      },
      "source": [
        "La differenza tra le due distribuzioni è meno evidente ad una analisi visiva di natura qualitativa, calcoliamo quindi la divergenza di Kullback-Leibler $D_{KL}(Fraud || Legit)$ per avere informazioni quantitative sulla differenza tra le distribuzioni.\n",
        "\n",
        "Per farlo approssimiamo le distribuzioni continue con delle distribuzioni gaussiane, per le quali è possibile ottenere una forma analitica chiusa della divergenza a partire da semplici descrittori statistici:\n",
        "\n",
        " $$ D_{KL}(N(\\mu_1,\\sigma_1)||N(\\mu_2,\\sigma_2)) = log{\\frac{\\sigma_2}{\\sigma_1}} +  \\frac{\\sigma_1^2 + (\\mu_1 - \\mu_2 )^2}{2\\sigma_2^2} - \\frac{1}{2} $$\n",
        "\n",
        "Data la forma degli istogrammi visti precedentemente, si potrebbero ottenere risultati più precisi utilizzando una distribuzione gamma, ma il calcolo della divergenza risulta meno immediato.\n",
        "\n",
        "Calcoliamo inoltre anche il Fisher score delle varie feature\n",
        "$$ F = \\frac{\\sum_{j=1}^k p_j(\\mu_j-\\mu)^2}\n",
        "            {\\sum_{j=1}^k p_j\\sigma_j^2} $$"
      ]
    },
    {
      "cell_type": "code",
      "metadata": {
        "colab": {
          "base_uri": "https://localhost:8080/"
        },
        "id": "xDeyJCu-0IPj",
        "outputId": "19485cee-ee29-42b7-8e43-9612092420e0"
      },
      "source": [
        "stats_f = fraud.describe().toPandas()\n",
        "stats_l = legit.describe().toPandas()\n",
        "stats_global = records.describe().toPandas()\n",
        "\n",
        "p_f = float(stats_f.loc[1,\"Time\"]) / float(stats_global.loc[1,\"Time\"])\n",
        "p_l = float(stats_l.loc[1,\"Time\"]) / float(stats_global.loc[1,\"Time\"])\n",
        "\n",
        "import numpy as np\n",
        "\n",
        "def fisher(m_1,s_1,p_1,m_2,s_2,p_2,m_3):\n",
        "  m_1 = float(m_1)\n",
        "  s_1 = float(s_1)\n",
        "  m_2 = float(m_2)\n",
        "  s_2 = float(s_2)\n",
        "  m_3 = float(m_3)\n",
        "\n",
        "  num = p_1*(m_1-m_3)**2  + p_2*(m_2-m_3)**2\n",
        "  dem = p_1*s_1**2        + p_2*s_2**2\n",
        "\n",
        "  return num/dem\n",
        "\n",
        "def divergence_norm(m_1,s_1,m_2,s_2):\n",
        "  m_1 = float(m_1)\n",
        "  s_1 = float(s_1)\n",
        "  m_2 = float(m_2)\n",
        "  s_2 = float(s_2)\n",
        "\n",
        "  k1 = np.log(s_2/s_1)\n",
        "  k2 = ((s_1**2)+(m_1-m_2)**2)/(2*s_2**2)\n",
        "  return k1+k2-0.5\n",
        "\n",
        "for col in fraud.columns[0:-1]:\n",
        "  m1 = float(stats_f.loc[1,col])\n",
        "  s1 = float(stats_f.loc[2,col]) \n",
        "  m2 = float(stats_l.loc[1,col])\n",
        "  s2 = float(stats_l.loc[2,col])\n",
        "  m3 = float(stats_global.loc[1,col])\n",
        "\n",
        "  print(\"Feature\", col,\":\")\n",
        "  print(\"        Divergenza:     \", divergence_norm(m1,s2,m2,s2))\n",
        "  print(\"        Fisher:         \", fisher(m1,s2,p_f,m2,s2,p_l,m3))"
      ],
      "execution_count": null,
      "outputs": [
        {
          "output_type": "stream",
          "text": [
            "Feature Time :\n",
            "        Divergenza:      0.044033491431549\n",
            "        Fisher:          0.04035996636503398\n",
            "Feature V1 :\n",
            "        Divergenza:      3.0678373649415893\n",
            "        Fisher:          2.8119008699302093\n",
            "Feature V2 :\n",
            "        Divergenza:      2.461222251043964\n",
            "        Fisher:          2.25589304957627\n",
            "Feature V3 :\n",
            "        Divergenza:      11.652571077565955\n",
            "        Fisher:          10.68044712029745\n",
            "Feature V4 :\n",
            "        Divergenza:      5.286026115726935\n",
            "        Fisher:          4.845035660346805\n",
            "Feature V5 :\n",
            "        Divergenza:      2.705838031424606\n",
            "        Fisher:          2.480101586023274\n",
            "Feature V6 :\n",
            "        Divergenza:      0.5542121767551709\n",
            "        Fisher:          0.5079766351869345\n",
            "Feature V7 :\n",
            "        Divergenza:      11.196828707555477\n",
            "        Fisher:          10.26272537880581\n",
            "Feature V8 :\n",
            "        Divergenza:      0.12114724450427417\n",
            "        Fisher:          0.1110404502220743\n",
            "Feature V9 :\n",
            "        Divergenza:      2.816675499879335\n",
            "        Fisher:          2.5816923605311803\n",
            "Feature V10 :\n",
            "        Divergenza:      14.829318777840216\n",
            "        Fisher:          13.592172404052853\n",
            "Feature V11 :\n",
            "        Divergenza:      7.200782982367448\n",
            "        Fisher:          6.600052585474389\n",
            "Feature V12 :\n",
            "        Divergenza:      21.968982256074\n",
            "        Fisher:          20.136204423115494\n",
            "Feature V13 :\n",
            "        Divergenza:      0.006057264691843978\n",
            "        Fisher:          0.005551933114524093\n",
            "Feature V14 :\n",
            "        Divergenza:      30.30824603478496\n",
            "        Fisher:          27.779759241863623\n",
            "Feature V15 :\n",
            "        Divergenza:      0.005174553814543681\n",
            "        Fisher:          0.004742863014478271\n",
            "Feature V16 :\n",
            "        Divergenza:      12.049868810653743\n",
            "        Fisher:          11.044600009905444\n",
            "Feature V17 :\n",
            "        Divergenza:      39.69063486315946\n",
            "        Fisher:          36.37941566759858\n",
            "Feature V18 :\n",
            "        Divergenza:      3.7203879009625993\n",
            "        Fisher:          3.410011917432181\n",
            "Feature V19 :\n",
            "        Divergenza:      0.35278069659157374\n",
            "        Fisher:          0.32334971826621534\n",
            "Feature V20 :\n",
            "        Divergenza:      0.11748832386214125\n",
            "        Fisher:          0.10768677761406935\n",
            "Feature V21 :\n",
            "        Divergenza:      0.49732443422948736\n",
            "        Fisher:          0.4558347926876074\n",
            "Feature V22 :\n",
            "        Divergenza:      0.00018909326131133497\n",
            "        Fisher:          0.00017331802267466458\n",
            "Feature V23 :\n",
            "        Divergenza:      0.002110152136417298\n",
            "        Fisher:          0.0019341112067686006\n",
            "Feature V24 :\n",
            "        Divergenza:      0.015111344125630644\n",
            "        Fisher:          0.013850669588374605\n",
            "Feature V25 :\n",
            "        Divergenza:      0.003179561088579308\n",
            "        Fisher:          0.0029143039631576565\n",
            "Feature V26 :\n",
            "        Divergenza:      0.005755095073749272\n",
            "        Fisher:          0.00527497220985014\n",
            "Feature V27 :\n",
            "        Divergenza:      0.0913092596542402\n",
            "        Fisher:          0.08369172029408732\n",
            "Feature V28 :\n",
            "        Divergenza:      0.026448016442239486\n",
            "        Fisher:          0.024241572024557952\n",
            "Feature Amount :\n",
            "        Divergenza:      0.009196959764403712\n",
            "        Fisher:          0.008429696912154396\n"
          ],
          "name": "stdout"
        }
      ]
    },
    {
      "cell_type": "markdown",
      "metadata": {
        "id": "8T91cwJzLb0x"
      },
      "source": [
        "Feature|      Divergenza           | Fisher score\n",
        "-------|---------------------------|-------------------------\n",
        "Time   |      0.044033491431549    |  0.04035996636503398\n",
        "V1     |      3.0678373649415893   |  2.8119008699302093\n",
        "V2     |      2.461222251043964    |  2.25589304957627\n",
        "V3     |      11.652571077565955   |  10.68044712029745\n",
        "V4     |      5.286026115726935    |  4.845035660346805\n",
        "V5     |      2.705838031424606    |  2.480101586023274\n",
        "V6     |      0.5542121767551709   |  0.5079766351869345\n",
        "V7     |      11.196828707555477   |  10.26272537880581\n",
        "V8     |      0.12114724450427417  |  0.1110404502220743\n",
        "V9     |      2.816675499879335    |  2.5816923605311803\n",
        "V10    |      14.829318777840216   |  13.592172404052853\n",
        "V11    |      7.200782982367448    |  6.600052585474389\n",
        "V12    |      21.968982256074      |  20.136204423115494\n",
        "V13    |      0.00605726469184397  |  0.005551933114524093\n",
        "V14    |      30.30824603478496    |  27.779759241863623\n",
        "V15    |      0.00517455381454368  |  0.004742863014478271\n",
        "V16    |      12.049868810653743   |  11.044600009905444\n",
        "V17    |      39.69063486315946    |  36.37941566759858\n",
        "V18    |      3.7203879009625993   |  3.410011917432181\n",
        "V19    |      0.35278069659157374  |  0.32334971826621534\n",
        "V20    |      0.11748832386214125  |  0.10768677761406935\n",
        "V21    |      0.49732443422948736  |  0.4558347926876074\n",
        "V22    |      0.00018909326131133  |  0.00017331802267466458\n",
        "V23    |      0.00211015213641729  |  0.0019341112067686006\n",
        "V24    |      0.01511134412563064  |  0.013850669588374605\n",
        "V25    |      0.00317956108857930  |  0.0029143039631576565\n",
        "V26    |      0.00575509507374927  |  0.00527497220985014\n",
        "V27    |      0.0913092596542402   |  0.08369172029408732\n",
        "V28    |      0.02644801644223948  |  0.024241572024557952\n",
        "Amount |      0.00919695976440371  |  0.008429696912154396\n",
        "\n",
        "Da questa analisi vediamo come le feature che, secondo la PCA, sono responsabili della maggior parte della variazione non sono necessariamente le migliori per differenziare le due classi. Come era ragionevole aspettarsi, inoltre, le feature con maggiore divergenza di Kullback-Leibler hanno anche maggiore Fisher score."
      ]
    },
    {
      "cell_type": "code",
      "metadata": {
        "id": "jZyXWdAuQ9Sl",
        "colab": {
          "base_uri": "https://localhost:8080/",
          "height": 273
        },
        "outputId": "56e11e36-d166-434f-d29a-1f424afc754f"
      },
      "source": [
        "legit_v1    =legit.select(\"V1\").toPandas()\n",
        "legit_v2    =legit.select(\"V2\").toPandas()\n",
        "legit_v3    =legit.select(\"V3\").toPandas()\n",
        "\n",
        "legit_v17 =legit.select(\"V17\").toPandas()\n",
        "legit_v14 =legit.select(\"V14\").toPandas()\n",
        "legit_v12 =legit.select(\"V12\").toPandas()\n",
        "\n",
        "fraud_v1    =fraud.select(\"V1\").toPandas()\n",
        "fraud_v2    =fraud.select(\"V2\").toPandas()\n",
        "fraud_v3    =fraud.select(\"V3\").toPandas()\n",
        "\n",
        "fraud_v17 =fraud.select(\"V17\").toPandas()\n",
        "fraud_v14 =fraud.select(\"V14\").toPandas()\n",
        "fraud_v12 =fraud.select(\"V12\").toPandas()\n",
        "\n",
        "fig = plt.figure()\n",
        "ax = fig.add_subplot(2,2,1,projection='3d')\n",
        "ax.tick_params(labelcolor='w', top=False, bottom=False, left=False, right=False)\n",
        "ax.set_title(\"V1,V2,V3\")\n",
        "ax.scatter(legit_v1, legit_v2, legit_v3)\n",
        "ax.scatter(fraud_v1, fraud_v2, fraud_v3)\n",
        "\n",
        "ax = fig.add_subplot(2,2,3)\n",
        "ax.tick_params(labelcolor='w', top=False, bottom=False, left=False, right=False)\n",
        "ax.set_title(\"V1,V2\")\n",
        "ax.scatter(legit_v1, legit_v2)\n",
        "ax.scatter(fraud_v1, fraud_v2)\n",
        "\n",
        "ax = fig.add_subplot(2,2,2,projection='3d')\n",
        "ax.tick_params(labelcolor='w', top=False, bottom=False, left=False, right=False)\n",
        "ax.set_title(\"V17,V14,V12\")\n",
        "ax.scatter(legit_v17, legit_v14, legit_v12)\n",
        "ax.scatter(fraud_v17, fraud_v14, fraud_v12)\n",
        "\n",
        "ax = fig.add_subplot(2,2,4)\n",
        "ax.tick_params(labelcolor='w', top=False, bottom=False, left=False, right=False)\n",
        "ax.set_title(\"V17,V14\")\n",
        "ax.scatter(legit_v17, legit_v14)\n",
        "ax.scatter(fraud_v17, fraud_v14)\n",
        "\n",
        "plt.show()"
      ],
      "execution_count": null,
      "outputs": [
        {
          "output_type": "display_data",
          "data": {
            "image/png": "[encoded data removed]",
            "text/plain": [
              "<Figure size 432x288 with 4 Axes>"
            ]
          },
          "metadata": {
            "tags": [],
            "needs_background": "dark"
          }
        }
      ]
    },
    {
      "cell_type": "markdown",
      "metadata": {
        "id": "iJU7TUal40il"
      },
      "source": [
        "Anche visivamente è possibile notare che utilizzando le feature la cui distribuzione nelle due classi ha maggiore divergenza le due classi risultano meno \"aderenti\""
      ]
    },
    {
      "cell_type": "markdown",
      "metadata": {
        "id": "8azg1HEm8vvb"
      },
      "source": [
        "## Classification\n",
        "\n",
        "Visto che le due classi sono fortemente sbilanciate, il classificatore verrebbe principalmente addestrato su campioni appartenenti alla classe delle transazioni legittime, introducendo un bias indesiderato: tutte le transazioni verrebbero classificate come legittime. \n",
        "Per questo motivo utilizziamo delle tecniche per mitigare il problema."
      ]
    },
    {
      "cell_type": "code",
      "metadata": {
        "id": "N32y1EGmd2MG"
      },
      "source": [
        "# Definiamo una funzione per stampare l'area sotto la curva precision-recall e \n",
        "# la matrice di confusione per il training set.\n",
        "from pyspark.ml.tuning import CrossValidator\n",
        "\n",
        "def evaluate_model(cvModel, train, test, callable=True):\n",
        "  evaluator = cvModel.getEvaluator()\n",
        "  predictions = cvModel.transform(test)\n",
        "  performance = cvModel.transform(train)\n",
        "  summary = cvModel.bestModel.stages[2].summary() \\\n",
        "            if callable else cvModel.bestModel.stages[2].summary\n",
        "\n",
        "  auprc = evaluator.evaluate(performance)\n",
        "  print(f\"Area Under PR Curve (train): {(100*auprc):05.2f}%\")\n",
        "\n",
        "  plt.figure(figsize=(5,5))\n",
        "  plt.plot([0, 1], [0, 1], 'r--')\n",
        "  plt.plot(summary.roc.select('FPR').collect(),\n",
        "          summary.roc.select('TPR').collect())\n",
        "  plt.xlabel('FPR')\n",
        "  plt.ylabel('TPR')\n",
        "  plt.title(\"Precision-Recall curve\")\n",
        "  plt.show()\n",
        "\n",
        "  print(\"Test set results:\")\n",
        "  auprc = evaluator.evaluate(predictions)\n",
        "  print(f\"Area Under PR Curve:  {(100*auprc):05.2f}%\")\n",
        "\n",
        "  predictions.createOrReplaceTempView('predictions')\n",
        "  tp = spark.sql(\"\"\"SELECT COUNT(*) as c\n",
        "                    FROM predictions\n",
        "                    WHERE predictions.Class == 1 AND\n",
        "                    predictions.prediction == 1.0 \"\"\").collect()[0].c\n",
        "  print(f\"True positives:       {tp}\")\n",
        "  fp = spark.sql(\"\"\"SELECT COUNT(*) as c\n",
        "                    FROM predictions\n",
        "                    WHERE predictions.Class == 0 AND\n",
        "                    predictions.prediction == 1.0 \"\"\").collect()[0].c\n",
        "  print(f\"False positives:      {fp}\")\n",
        "  tn = spark.sql(\"\"\"SELECT COUNT(*) as c\n",
        "                    FROM predictions\n",
        "                    WHERE predictions.Class == 0 AND\n",
        "                    predictions.prediction == 0.0 \"\"\").collect()[0].c\n",
        "  print(f\"True negatives:       {tn}\")\n",
        "  fn = spark.sql(\"\"\"SELECT COUNT(*) as c\n",
        "                    FROM predictions\n",
        "                    WHERE predictions.Class == 1 AND\n",
        "                    predictions.prediction == 0.0 \"\"\").collect()[0].c\n",
        "  print(f\"False negatives:      {fn}\")\n",
        "\n",
        "  sn.heatmap([[tp, fp],[fn,tn]], annot=True, fmt='.3g', cbar=False)\\\n",
        "   .set_title(\"Confusion matrix\");\n",
        "\n",
        "  precision = (tp)/(tp+fp)\n",
        "  accuracy = (tp+tn)/(tp+tn+fp+fn)\n",
        "  recall = (tp)/(tp+fn)\n",
        "  print(f\"Precision:            {precision:1.3f}\")\n",
        "  print(f\"Accuracy:             {accuracy:1.3f}\")\n",
        "  print(f\"Recall:               {recall:1.3f}\")\n",
        "  print(f\"F1:                   {(2*precision*recall)/(precision+recall):1.3f}\")\n",
        "  "
      ],
      "execution_count": null,
      "outputs": []
    },
    {
      "cell_type": "code",
      "metadata": {
        "id": "hxowFbAqJVw_"
      },
      "source": [
        "# L'evaluator sarà lo stesso per tutti i modelli\n",
        "from pyspark.ml.evaluation import BinaryClassificationEvaluator\n",
        "\n",
        "evaluator = BinaryClassificationEvaluator().setLabelCol(\"Class\")\\\n",
        "                                           .setMetricName(\"areaUnderPR\")"
      ],
      "execution_count": null,
      "outputs": []
    },
    {
      "cell_type": "code",
      "metadata": {
        "id": "FCe_uWgbMKYt"
      },
      "source": [
        "# Necessary imports for all methods\n",
        "\n",
        "from pyspark.ml import Pipeline\n",
        "from pyspark.ml.feature import MinMaxScaler\n",
        "from pyspark.ml.feature import VectorAssembler\n",
        "from pyspark.ml.tuning import ParamGridBuilder\n",
        "from pyspark.ml.feature import IndexToString\n",
        "from pyspark.ml.feature import StringIndexer\n",
        "\n",
        "# The two classifiers\n",
        "from pyspark.ml.classification import LinearSVC\n",
        "from pyspark.ml.classification import RandomForestClassifier "
      ],
      "execution_count": null,
      "outputs": []
    },
    {
      "cell_type": "markdown",
      "metadata": {
        "id": "xUm8XFImpYro"
      },
      "source": [
        "### Undersampling\n",
        "\n",
        "Nel training set sottocampioniamo gli elementi appartenenti alla classe dominante per non introdurre bias sulla frequenza relativa delle classi."
      ]
    },
    {
      "cell_type": "code",
      "metadata": {
        "id": "LhHz5Z_eskNa"
      },
      "source": [
        "# Per ottenere train e test set tramite undersampling\n",
        "\n",
        "def undersample_split(fraud, legit):\n",
        "  train_f, test_f = fraud.randomSplit([0.8, 0.2])\n",
        "  train_l, test_l = legit.randomSplit([0.8, 0.2])\n",
        "  train_l = train_l.sample(False, 1.0*fraud.count()/legit.count()) \\\n",
        "      .limit (train_f.count())\n",
        "  \n",
        "  train       = train_f.union(train_l)\n",
        "  test        = test_f.union(test_l)\n",
        "  return (train, test)\n",
        "\n",
        "train, test = undersample_split(fraud, legit)"
      ],
      "execution_count": null,
      "outputs": []
    },
    {
      "cell_type": "markdown",
      "metadata": {
        "id": "KLS2SUxVdN1L"
      },
      "source": [
        "#### Naive Bayes\n",
        "\n",
        "Come baseline utilizziamo un classificatore Naive Bayes. Visto che le feature provengono da una PCA la loro covarianza sarà nulla, concordemente all'ipotesi del classificatore naive bayes che suppone feature indipententi tra loro. \n",
        "\n",
        "L'implementazione in spark supporta solamente Naive Bayes multinomiale, non adatto al nostro problema con variabili continue, utilizziamo quindi l'implementazione di sklearn. L'implementazione di sklearn prevende anche un addestramento parziale su un sottoinsieme dei dati per volta, è quindi utilizzabile anche nel caso in cui il dataset fosse troppo grande per entrare in memoria per intero."
      ]
    },
    {
      "cell_type": "code",
      "metadata": {
        "id": "SBva-nVze8oY"
      },
      "source": [
        "from sklearn.naive_bayes import GaussianNB\n",
        "from sklearn.metrics import average_precision_score, roc_auc_score, confusion_matrix\n",
        "\n",
        "def evaluate_sklearn(clf, train, test, columns):\n",
        "  train_labels = train.select(\"Class\").toPandas().values.ravel()\n",
        "  auprc = average_precision_score(train_labels,\n",
        "              clf.predict(train.select(columns).toPandas()))\n",
        "  print(f\"Area Under PR Curve (train): {(100*auprc):05.2f}%\")\n",
        "  \n",
        "  test_labels = test.select(\"Class\").toPandas().values.ravel()\n",
        "  test_pred   = clf.predict(test.select(columns).toPandas())\n",
        "\n",
        "  print(\"Test set results:\")\n",
        "  print(f\"Area Under PR Curve:  {(100*roc_auc_score(test_labels, test_pred)):05.2f}%\")\n",
        "  cm = confusion_matrix(test_labels, test_pred)\n",
        "  \n",
        "  tp=cm[1][1]\n",
        "  fp=cm[0][1]\n",
        "  tn=cm[0][0]\n",
        "  fn=cm[1][0]\n",
        "  \n",
        "  sn.heatmap([[tp, fp],[fn,tn]], annot=True, fmt='.3g', cbar=False)\\\n",
        "      .set_title(\"Confusion matrix\");\n",
        "  \n",
        "  precision = (tp)/(tp+fp)\n",
        "  accuracy = (tp+tn)/(tp+tn+fp+fn)\n",
        "  recall = (tp)/(tp+fn)\n",
        "  print(f\"Precision:            {precision:1.3f}\")\n",
        "  print(f\"Accuracy:             {accuracy:1.3f}\")\n",
        "  print(f\"Recall:               {recall:1.3f}\")\n",
        "  print(f\"F1:                   {(2*precision*recall)/(precision+recall):1.3f}\")"
      ],
      "execution_count": null,
      "outputs": []
    },
    {
      "cell_type": "code",
      "metadata": {
        "colab": {
          "base_uri": "https://localhost:8080/",
          "height": 404
        },
        "id": "qCO-qHmWdSdf",
        "outputId": "dfc19cba-012c-46d8-b207-b4796f4e3786"
      },
      "source": [
        "train, test = undersample_split(fraud, legit)\n",
        "train_labels = train.select(\"Class\").toPandas().values.ravel()\n",
        "\n",
        "clf = GaussianNB(priors=[0.9983,0.0017]).fit(train.select(train.columns).toPandas(), \n",
        "                       train_labels)\n",
        "evaluate_sklearn(clf, train, test, train.columns)"
      ],
      "execution_count": null,
      "outputs": [
        {
          "output_type": "stream",
          "text": [
            "Area Under PR Curve (train): 81.99%\n",
            "Test set results:\n",
            "Area Under PR Curve:  79.75%\n",
            "Precision:            0.127\n",
            "Accuracy:             0.992\n",
            "Recall:               0.602\n",
            "F1:                   0.210\n"
          ],
          "name": "stdout"
        },
        {
          "output_type": "display_data",
          "data": {
            "image/png": "[encoded data removed]",
            "text/plain": [
              "<Figure size 432x288 with 1 Axes>"
            ]
          },
          "metadata": {
            "tags": [],
            "needs_background": "light"
          }
        }
      ]
    },
    {
      "cell_type": "markdown",
      "metadata": {
        "id": "NRaXG6yTr5Nn"
      },
      "source": [
        "#### Support vector machine \n",
        "\n",
        "Come secondo approccio proviamo ad utilizzare come classificatore una support vector machine lineare, normalizziamo le feature utilizzate per la classificazione"
      ]
    },
    {
      "cell_type": "code",
      "metadata": {
        "id": "aFMSsALhsgCB"
      },
      "source": [
        "labelIndexer = StringIndexer(inputCol='Class',outputCol='Class_index').fit(train)\n",
        "\n",
        "assembler = VectorAssembler().setInputCols(train.schema.names[0:-1])\\\n",
        "  .setOutputCol(\"features\")\n",
        "scaler = MinMaxScaler().setMin(0).setMax(1).setInputCol(\"features\") \\\n",
        "  .setOutputCol(\"scaled_features\")\n",
        "linearSVC = LinearSVC().setFeaturesCol(\"scaled_features\") \\\n",
        "  .setLabelCol(\"Class\")\n",
        "labelConverter = IndexToString(inputCol='prediction',outputCol='predictedLabel')\\\n",
        "  .setLabels(labelIndexer.labels)\n",
        "\n",
        "pipeline = Pipeline().setStages([assembler, \\\n",
        "                                scaler, \\\n",
        "                                linearSVC,\\\n",
        "                                labelConverter])"
      ],
      "execution_count": null,
      "outputs": []
    },
    {
      "cell_type": "code",
      "metadata": {
        "id": "svIXvXeLuJdZ"
      },
      "source": [
        "# Costruiamo l'algoritmo di addestramento, come una 10-fold Cross-validation che si addestra su una \n",
        "# griglia di iperparametri:\n",
        "# -- l'indice di Gini, e l'entropia per controlla la purezza dei nodi foglia\n",
        "# -- il numero di bin cioè di categorie da generare per ogni feature categorica\n",
        "# -- la profondità massima dell'albero\n",
        "\n",
        "# Generiamo la griglia\n",
        "paramGrid = ParamGridBuilder().addGrid(linearSVC.regParam, [0.1, 0.2, 0.5])\\\n",
        "                              .addGrid(linearSVC.maxIter, [20,50,100,200])\\\n",
        "                              .build()"
      ],
      "execution_count": null,
      "outputs": []
    },
    {
      "cell_type": "code",
      "metadata": {
        "id": "rdlvRBCQz6vH"
      },
      "source": [
        "cv = CrossValidator().setEstimator(pipeline)\\\n",
        "                     .setEvaluator(evaluator)\\\n",
        "                     .setEstimatorParamMaps(paramGrid)\\\n",
        "                     .setNumFolds(10)"
      ],
      "execution_count": null,
      "outputs": []
    },
    {
      "cell_type": "code",
      "metadata": {
        "id": "qYFTi3_Y0LXY",
        "colab": {
          "base_uri": "https://localhost:8080/",
          "height": 808
        },
        "outputId": "6bfcc9f4-dfd9-4b41-9cdf-6710e0bcc3fa"
      },
      "source": [
        "cvModel_svm_us = cv.fit(train)\n",
        "\n",
        "evaluate_model(cvModel_svm_us, train, test)\n",
        "cvModel_svm_us.write().overwrite().save('svm_UF')"
      ],
      "execution_count": null,
      "outputs": [
        {
          "output_type": "stream",
          "text": [
            "Area Under PR Curve (train): 98.39%\n"
          ],
          "name": "stdout"
        },
        {
          "output_type": "display_data",
          "data": {
            "image/png": "[encoded data removed]",
            "text/plain": [
              "<Figure size 360x360 with 1 Axes>"
            ]
          },
          "metadata": {
            "tags": [],
            "needs_background": "light"
          }
        },
        {
          "output_type": "stream",
          "text": [
            "Test set results:\n",
            "Area Under PR Curve:  62.62%\n",
            "True positives:       83\n",
            "False positives:      191\n",
            "True negatives:       56507\n",
            "False negatives:      12\n",
            "Precision:            0.303\n",
            "Accuracy:             0.996\n",
            "Recall:               0.874\n",
            "F1:                   0.450\n"
          ],
          "name": "stdout"
        },
        {
          "output_type": "display_data",
          "data": {
            "image/png": "[encoded data removed]",
            "text/plain": [
              "<Figure size 432x288 with 1 Axes>"
            ]
          },
          "metadata": {
            "tags": [],
            "needs_background": "light"
          }
        }
      ]
    },
    {
      "cell_type": "markdown",
      "metadata": {
        "id": "6iNQfNgAml_E"
      },
      "source": [
        "L'85% delle frodi viene correttamente identificato, però 2/3 delle transazioni classificate come frodi sono in realtà transazioni legittime. Un tasso di falsi positivi così alto porta a perdere fiducia nello strumento diagnostico."
      ]
    },
    {
      "cell_type": "code",
      "metadata": {
        "id": "O8afJE3I2kCi",
        "colab": {
          "base_uri": "https://localhost:8080/"
        },
        "outputId": "33f9bbc4-4cf0-47e9-c2f2-90a2e301c8fc"
      },
      "source": [
        "print(\"Best model hyperparameters\")\n",
        "print(\"Max Iterations:   \",cvModel_svm_us.bestModel.stages[2].getMaxIter())\n",
        "print(\"Reg Parameter:    \",cvModel_svm_us.bestModel.stages[2].getRegParam())"
      ],
      "execution_count": null,
      "outputs": [
        {
          "output_type": "stream",
          "text": [
            "Best model hyperparameters\n",
            "Max Iterations:    200\n",
            "Reg Parameter:     0.1\n"
          ],
          "name": "stdout"
        }
      ]
    },
    {
      "cell_type": "markdown",
      "metadata": {
        "id": "-5qShNZVpT9Q"
      },
      "source": [
        "#### Random forest \n",
        "\n",
        "Confrontiamo il risultato precedente con una random forest, addestrata con gli stessi dati."
      ]
    },
    {
      "cell_type": "code",
      "metadata": {
        "id": "Z524nXDqHf0p"
      },
      "source": [
        "labelIndexer = StringIndexer(inputCol='Class',outputCol='Class_index').fit(train)\n",
        "\n",
        "assembler = VectorAssembler().setInputCols(train.schema.names[0:-1])\\\n",
        "  .setOutputCol(\"features\")\n",
        "scaler = MinMaxScaler().setMin(0).setMax(1).setInputCol(\"features\") \\\n",
        "  .setOutputCol(\"scaled_features\")\n",
        "randomForest = RandomForestClassifier().setFeaturesCol(\"scaled_features\") \\\n",
        "  .setLabelCol(\"Class\")\n",
        "labelConverter = IndexToString(inputCol='prediction',outputCol='predictedLabel')\\\n",
        "  .setLabels(labelIndexer.labels)\n",
        "pipeline = Pipeline().setStages([assembler, \\\n",
        "                                scaler, \\\n",
        "                                randomForest,\\\n",
        "                                labelConverter])\n"
      ],
      "execution_count": null,
      "outputs": []
    },
    {
      "cell_type": "code",
      "metadata": {
        "id": "uPOy1-fbJR3n"
      },
      "source": [
        "# Costruiamo l'algoritmo di addestramento, come una 10-fold Cross-validation che si addestra su una \n",
        "# griglia di iperparametri:\n",
        "# -- l'indice di Gini, e l'entropia per controlla la purezza dei nodi foglia\n",
        "# -- il numero di bin cioè di categorie da generare per ogni feature categorica\n",
        "# -- la profondità massima dell'albero\n",
        "\n",
        "# Generiamo la griglia\n",
        "paramGrid = ParamGridBuilder().addGrid(randomForest.maxBins,[30, 41, 54])\\\n",
        "                              .addGrid(randomForest.maxDepth,[2,4,6])\\\n",
        "                              .addGrid(randomForest.impurity,[\"entropy\",\"gini\"])\\\n",
        "                              .build()"
      ],
      "execution_count": null,
      "outputs": []
    },
    {
      "cell_type": "code",
      "metadata": {
        "id": "HwL1xD8pJw0r"
      },
      "source": [
        "cv = CrossValidator().setEstimator(pipeline)\\\n",
        "                     .setEvaluator(evaluator)\\\n",
        "                     .setEstimatorParamMaps(paramGrid)\\\n",
        "                     .setNumFolds(10)\n",
        "\n",
        "cvModel_random_forest_us = cv.fit(train)"
      ],
      "execution_count": null,
      "outputs": []
    },
    {
      "cell_type": "code",
      "metadata": {
        "colab": {
          "base_uri": "https://localhost:8080/",
          "height": 808
        },
        "id": "r-cVVkGlJyS9",
        "outputId": "acf4509f-0d06-407e-ba6a-20a9dbabcc76"
      },
      "source": [
        "\n",
        "evaluate_model(cvModel_random_forest_us, train, test, callable=False)\n",
        "cvModel_random_forest_us.write().overwrite().save('random_forest_UF')"
      ],
      "execution_count": null,
      "outputs": [
        {
          "output_type": "stream",
          "text": [
            "Area Under PR Curve (train): 99.76%\n"
          ],
          "name": "stdout"
        },
        {
          "output_type": "display_data",
          "data": {
            "image/png": "[encoded data removed]",
            "text/plain": [
              "<Figure size 360x360 with 1 Axes>"
            ]
          },
          "metadata": {
            "tags": [],
            "needs_background": "light"
          }
        },
        {
          "output_type": "stream",
          "text": [
            "Test set results:\n",
            "Area Under PR Curve:  63.68%\n",
            "True positives:       98\n",
            "False positives:      1692\n",
            "True negatives:       55357\n",
            "False negatives:      6\n",
            "Precision:            0.055\n",
            "Accuracy:             0.970\n",
            "Recall:               0.942\n",
            "F1:                   0.103\n"
          ],
          "name": "stdout"
        },
        {
          "output_type": "display_data",
          "data": {
            "image/png": "[encoded data removed]",
            "text/plain": [
              "<Figure size 432x288 with 1 Axes>"
            ]
          },
          "metadata": {
            "tags": [],
            "needs_background": "light"
          }
        }
      ]
    },
    {
      "cell_type": "markdown",
      "metadata": {
        "id": "tcI-rnWan9Nl"
      },
      "source": [
        "La random forest classifica correttamente molte più transazioni fraudolente, ma la precisione precipita."
      ]
    },
    {
      "cell_type": "code",
      "metadata": {
        "colab": {
          "base_uri": "https://localhost:8080/"
        },
        "id": "bKKw5XiI1oDQ",
        "outputId": "21f0d307-83e3-44bc-b5cf-d27f26c44af2"
      },
      "source": [
        "print(\"Best model hyperparameters\")\n",
        "print(\"Impurity:   \",cvModel_random_forest_us.bestModel.stages[2].getImpurity())\n",
        "print(\"Max Bins:   \",cvModel_random_forest_us.bestModel.stages[2].getMaxBins())\n",
        "print(\"Max Depth:  \",cvModel_random_forest_us.bestModel.stages[2].getMaxDepth())"
      ],
      "execution_count": null,
      "outputs": [
        {
          "output_type": "stream",
          "text": [
            "Best model hyperparameters\n",
            "Impurity:    gini\n",
            "Max Bins:    41\n",
            "Max Depth:   6\n"
          ],
          "name": "stdout"
        }
      ]
    },
    {
      "cell_type": "markdown",
      "metadata": {
        "id": "_eEgZXYpGsen"
      },
      "source": [
        "### Riduzione delle feature\n",
        "\n",
        "I modelli precedenti, se addestrati con oversampling, non si comportano abbastanza bene, soprattutto la random forest. L'addestramento sta però avvenendo su un sottoinsieme molto piccolo dei dati sulle transazioni legittime, potremmo quindi non catturare delle caratteristiche importanti dei dati. Risulta allora opportuno provare un oversampling. \n",
        "\n",
        "L'addestramento con una porzione così grande del dataset con vettori di 30 feature però è una operazione molto pesante, ed è anche possibile che l'elevata dimensionalità riduca il potere di discriminazione dei modelli (curse of dimensionality). Effettuiamo quindi delle operazioni di selezione delle features."
      ]
    },
    {
      "cell_type": "markdown",
      "metadata": {
        "id": "nBZK-RwBNxVC"
      },
      "source": [
        "#### Sfruttamento dei modelli addestrati precedentemente\n",
        "\n",
        "Dai modelli appena addestrati è possibile ottenere informazioni riguardo l'importanza delle varie features.\n"
      ]
    },
    {
      "cell_type": "markdown",
      "metadata": {
        "id": "Rsjog__H09LG"
      },
      "source": [
        "##### **SVM**\n",
        "\n",
        "Visto che le feature provengono da una PCA sono linearmente non correlate tra loro, inoltre le feature sono state scalate per ricadere tutte nell'intervallo $[0,1]$. I pesi appresi dalla SVM possono quindi fornire informazione su quali feature sono più rilevanti per la separazione delle due classi."
      ]
    },
    {
      "cell_type": "code",
      "metadata": {
        "id": "huvKc5GCO_Gw",
        "colab": {
          "base_uri": "https://localhost:8080/"
        },
        "outputId": "eb18b5e9-6872-4d83-c572-2ad46d981d7f"
      },
      "source": [
        "cvModel_svm_us.bestModel.stages[2].coefficients"
      ],
      "execution_count": null,
      "outputs": [
        {
          "output_type": "execute_result",
          "data": {
            "text/plain": [
              "DenseVector([0.0632, -0.4207, 1.4625, -0.5842, 2.1455, 0.426, -0.7083, -0.5741, 0.7276, -0.6944, -0.8199, 1.831, -1.1688, -0.1381, -3.0533, 0.029, -0.6194, -0.5519, -0.3517, -0.1983, 0.6651, 3.027, 0.6381, 2.2021, -0.213, 0.5185, 0.1614, 0.9353, 0.8128, 0.8083])"
            ]
          },
          "metadata": {
            "tags": []
          },
          "execution_count": 27
        }
      ]
    },
    {
      "cell_type": "markdown",
      "metadata": {
        "id": "ZInUVTWuqXzp"
      },
      "source": [
        "Scaliamo il valore assoluto dei coefficienti per avere somma unitaria e li riportiamo nella tabella seguente \n",
        "\n",
        "Feature | Weight\n",
        "-|-\n",
        "  V21     |  0.1101\n",
        "  V14     |  0.1014\n",
        "  V11     |  0.0755\n",
        "  V23     |  0.0732\n",
        "  V4      |  0.0675\n",
        "  V2      |  0.0605\n",
        "  V10     |  0.0578\n",
        "  V12     |  0.0402\n",
        "  V22     |  0.0402\n",
        "  Amount  |  0.0395\n",
        "  V6      |  0.0375\n",
        "  V8      |  0.0329\n",
        "  V9      |  0.0319\n",
        "  V28     |  0.0272\n",
        "  V27     |  0.0258\n",
        "  V7      |  0.0240\n",
        "  V3      |  0.0238\n",
        "  V16     |  0.0228\n",
        "  V25     |  0.0223\n",
        "  V17     |  0.0210\n",
        "  V20     |  0.0198\n",
        "  V1      |  0.0165\n",
        "  V19     |  0.0064\n",
        "  V5      |  0.0054\n",
        "  V18     |  0.0039\n",
        "  V15     |  0.0032\n",
        "  V24     |  0.0030\n",
        "  Time    |  0.0023\n",
        "  V26     |  0.0017\n",
        "  V13     |  0.0013\n",
        "\n",
        "\n",
        "Le prime sette feature hanno più del 50% dell'importanza, e scartando le ultime 11 non si perde più del 10%.\n"
      ]
    },
    {
      "cell_type": "code",
      "metadata": {
        "id": "lmyeI1B-wPkw",
        "colab": {
          "base_uri": "https://localhost:8080/",
          "height": 256
        },
        "outputId": "14f20eda-38d5-443e-8452-2ce44beb15e4"
      },
      "source": [
        "legit_x    =legit.select(\"V21\").toPandas()\n",
        "legit_y    =legit.select(\"V14\").toPandas()\n",
        "legit_z    =legit.select(\"V11\").toPandas()\n",
        "\n",
        "fraud_x    =fraud.select(\"V21\").toPandas()\n",
        "fraud_y    =fraud.select(\"V14\").toPandas()\n",
        "fraud_z    =fraud.select(\"V11\").toPandas()\n",
        "\n",
        "fig = plt.figure()\n",
        "ax = fig.add_subplot(2,2,1,projection='3d')\n",
        "ax.set_xticklabels([])\n",
        "ax.set_yticklabels([])\n",
        "ax.set_zticklabels([])\n",
        "ax.tick_params(labelcolor='w', top=False, bottom=False, left=False, right=False)\n",
        "ax.set_title(\"V28,V14,V11\")\n",
        "ax.scatter(legit_x, legit_y, legit_z)\n",
        "ax.scatter(fraud_x, fraud_y, fraud_z)\n",
        "\n",
        "ax = fig.add_subplot(2,2,2,projection='3d')\n",
        "ax.set_xticklabels([])\n",
        "ax.set_yticklabels([])\n",
        "ax.set_zticklabels([])\n",
        "ax.tick_params(labelcolor='w', top=False, bottom=False, left=False, right=False)\n",
        "ax.set_title(\"V14,V28,V11\")\n",
        "ax.scatter(legit_y, legit_x, legit_z)\n",
        "ax.scatter(fraud_y, fraud_x, fraud_z)\n",
        "\n",
        "ax = fig.add_subplot(2,2,3,projection='3d')\n",
        "ax.set_xticklabels([])\n",
        "ax.set_yticklabels([])\n",
        "ax.set_zticklabels([])\n",
        "ax.tick_params(labelcolor='w', top=False, bottom=False, left=False, right=False)\n",
        "ax.set_title(\"V28,V14,V11 (bottom view)\")\n",
        "ax.scatter(legit_x, legit_y, legit_z)\n",
        "ax.scatter(fraud_x, fraud_y, -fraud_z)\n",
        "\n",
        "ax = fig.add_subplot(2,2,4,projection='3d')\n",
        "ax.set_xticklabels([])\n",
        "ax.set_yticklabels([])\n",
        "ax.set_zticklabels([])\n",
        "ax.tick_params(labelcolor='w', top=False, bottom=False, left=False, right=False)\n",
        "ax.set_title(\"V14,V28,V11 (bottom view)\")\n",
        "ax.scatter(legit_y, legit_x, legit_z)\n",
        "ax.scatter(fraud_y, fraud_x, -fraud_z)\n",
        "\n",
        "plt.show()"
      ],
      "execution_count": null,
      "outputs": [
        {
          "output_type": "display_data",
          "data": {
            "image/png": "[encoded data removed]",
            "text/plain": [
              "<Figure size 432x288 with 4 Axes>"
            ]
          },
          "metadata": {
            "tags": [],
            "needs_background": "dark"
          }
        }
      ]
    },
    {
      "cell_type": "markdown",
      "metadata": {
        "id": "Am4th4U_ygMr"
      },
      "source": [
        "Osserviamo che considerando le sole tre features con i pesi maggiori è già possibile distinguere abbastanza nitidamente le due classi, meglio di quanto visto usando come features V1, V2, V3, e il che effettivamente risultano essere abbastanza in basso nella lista ed eccezione di V2."
      ]
    },
    {
      "cell_type": "markdown",
      "metadata": {
        "id": "058u01Pi04Wh"
      },
      "source": [
        "##### **Random Forest**\n",
        "\n",
        "La random forest non dava risultati molto incoraggianti, però visto che gli split sono effettuati in base all'entropia può essere interessante osservare quali feature sono state ritenute più importanti."
      ]
    },
    {
      "cell_type": "code",
      "metadata": {
        "id": "SfjAnUQ1OJsr",
        "colab": {
          "base_uri": "https://localhost:8080/"
        },
        "outputId": "a6612ed2-ebe6-4d1a-9af7-4d2b8e7218a1"
      },
      "source": [
        "cvModel_random_forest_us.bestModel.stages[2].featureImportances"
      ],
      "execution_count": null,
      "outputs": [
        {
          "output_type": "execute_result",
          "data": {
            "text/plain": [
              "SparseVector(30, {0: 0.0108, 1: 0.0028, 2: 0.0262, 3: 0.0202, 4: 0.1828, 5: 0.0046, 6: 0.006, 7: 0.0504, 8: 0.0068, 9: 0.009, 10: 0.1286, 11: 0.0183, 12: 0.0557, 13: 0.003, 14: 0.1918, 15: 0.0055, 16: 0.1001, 17: 0.0657, 18: 0.0077, 19: 0.0095, 20: 0.0106, 21: 0.0251, 22: 0.0041, 23: 0.0141, 24: 0.0061, 25: 0.0028, 26: 0.0081, 27: 0.0104, 28: 0.0065, 29: 0.0068})"
            ]
          },
          "metadata": {
            "tags": []
          },
          "execution_count": 29
        }
      ]
    },
    {
      "cell_type": "markdown",
      "metadata": {
        "id": "eMdCaZxKPK-f"
      },
      "source": [
        "Per comodità di visione si riportano i dati in output al comando precedente anche in formato tabellare.\n",
        "\n",
        "Feature | Importance\n",
        "-|-\n",
        "  V10 |  0.3711 \n",
        "  V12 |  0.1409 \n",
        "  V17 |  0.0927 \n",
        "  V14 |  0.0807 \n",
        "  V11 |  0.0728 \n",
        "  V7 |  0.0351 \n",
        "  V4 |  0.0226 \n",
        "  V9 |  0.0206 \n",
        "  Amount |  0.0206 \n",
        "  V8 |  0.0199 \n",
        "  V18 |  0.0167 \n",
        "  V1 |  0.0154 \n",
        "  V3 |  0.0095 \n",
        "  V20 |  0.0095 \n",
        "  V16 |  0.0087 \n",
        "  V26 |  0.006 \n",
        "  V23 |  0.0069 \n",
        "  V6 |  0.005 \n",
        "  V19 |  0.0058 \n",
        "  V13 |  0.0057 \n",
        "  V15 |  0.0053 \n",
        "  V27 |  0.004 \n",
        "  V2 |  0.004 \n",
        "  Time |  0.0045 \n",
        "  V28 |  0.0039 \n",
        "  V21 |  0.0038 \n",
        "  V24 |  0.0029 \n",
        "  V5 |  0.0024 \n",
        "  V25 |  0.0016 \n",
        "  V22 |  0.0015 \n",
        "\n",
        "\n",
        "\n",
        "Le prime due features da sole hanno il 50% dell'importanza, e per arrivare al 90% bastano le prime 12"
      ]
    },
    {
      "cell_type": "code",
      "metadata": {
        "id": "GTz43zHRQyX7",
        "colab": {
          "base_uri": "https://localhost:8080/",
          "height": 256
        },
        "outputId": "8ba4609f-65e6-428d-8cd1-46c5a93ba390"
      },
      "source": [
        "legit_x    =legit.select(\"V12\").toPandas()\n",
        "legit_y    =legit.select(\"V17\").toPandas()\n",
        "legit_z    =legit.select(\"V10\").toPandas()\n",
        "\n",
        "fraud_x    =fraud.select(\"V12\").toPandas()\n",
        "fraud_y    =fraud.select(\"V17\").toPandas()\n",
        "fraud_z    =fraud.select(\"V10\").toPandas()\n",
        "\n",
        "fig = plt.figure()\n",
        "ax = fig.add_subplot(2,2,1,projection='3d')\n",
        "ax.set_xticklabels([])\n",
        "ax.set_yticklabels([])\n",
        "ax.set_zticklabels([])\n",
        "ax.tick_params(labelcolor='w', top=False, bottom=False, left=False, right=False)\n",
        "ax.set_title(\"V12,V17,V10\")\n",
        "ax.scatter(legit_x, legit_y, legit_z)\n",
        "ax.scatter(fraud_x, fraud_y, fraud_z)\n",
        "\n",
        "ax = fig.add_subplot(2,2,2,projection='3d')\n",
        "ax.set_xticklabels([])\n",
        "ax.set_yticklabels([])\n",
        "ax.set_zticklabels([])\n",
        "ax.tick_params(labelcolor='w', top=False, bottom=False, left=False, right=False)\n",
        "ax.set_title(\"V17,V12,V10\")\n",
        "ax.scatter(legit_y, legit_x, legit_z)\n",
        "ax.scatter(fraud_y, fraud_x, fraud_z)\n",
        "\n",
        "ax = fig.add_subplot(2,2,3,projection='3d')\n",
        "ax.set_xticklabels([])\n",
        "ax.set_yticklabels([])\n",
        "ax.set_zticklabels([])\n",
        "ax.tick_params(labelcolor='w', top=False, bottom=False, left=False, right=False)\n",
        "ax.set_title(\"V12,V17,V10 (bottom view)\")\n",
        "ax.scatter(legit_x, legit_y, legit_z)\n",
        "ax.scatter(fraud_x, fraud_y, -fraud_z)\n",
        "\n",
        "ax = fig.add_subplot(2,2,4,projection='3d')\n",
        "ax.set_xticklabels([])\n",
        "ax.set_yticklabels([])\n",
        "ax.set_zticklabels([])\n",
        "ax.tick_params(labelcolor='w', top=False, bottom=False, left=False, right=False)\n",
        "ax.set_title(\"V17,V12,V10 (bottom view)\")\n",
        "ax.scatter(legit_y, legit_x, legit_z)\n",
        "ax.scatter(fraud_y, fraud_x, -fraud_z)\n",
        "\n",
        "plt.show()"
      ],
      "execution_count": null,
      "outputs": [
        {
          "output_type": "display_data",
          "data": {
            "image/png": "[encoded data removed]",
            "text/plain": [
              "<Figure size 432x288 with 4 Axes>"
            ]
          },
          "metadata": {
            "tags": [],
            "needs_background": "dark"
          }
        }
      ]
    },
    {
      "cell_type": "markdown",
      "metadata": {
        "id": "EzWS8orVVEwO"
      },
      "source": [
        "Ad una ispezione visiva le classi sembrano separate meglio di quanto non succedesse con la SVM, viene quindi da pensare che le prestazioni migliori siano dovute alla scarsità di campioni di transazioni legittime osservati, che ha portato ad attribuire alla classe di transazioni fraudolete aree più ampie del dovuto.\n",
        "\n"
      ]
    },
    {
      "cell_type": "markdown",
      "metadata": {
        "id": "ZtG5xXirWccM"
      },
      "source": [
        "$D_{KL}$ | Fisher  |  RF     |   SVM     \n",
        "---------|---------|---------|-----------\n",
        " V17     | V17     |  V10    |   V21      \n",
        " V14     | V14     |  V12    |   V14      \n",
        " V12     | V12     |  V17    |   V11      \n",
        " V10     | V10     |  V14    |   V23      \n",
        " V16     | V16     |  V11    |   V4       \n",
        " V3      |  V3     |  V7     |   V2        \n",
        " V7      |  V7     |  V4     |   V10       \n",
        " V11     | V11     |  V9     |   V12      \n",
        " V4      |  V4     |  Amount |   V22       \n",
        " V18     | V18     |  V8     |   Amount   \n",
        " V1      |  V1     |  V18    |   V6        \n",
        " V9      |  V9     |  V1     |   V8        \n",
        " V5      |  V5     |  V3     |   V9        \n",
        " V2      |  V2     |  V20    |   V28       \n",
        " V6      |  V6     |  V16    |   V27       \n",
        " V19     | V21     |  V26    |   V7       \n",
        " V8      |  V19    |  V23    |   V3         \n",
        " V21     | V8      |  V6     |   V16      \n",
        " V27     | V20     |  V19    |   V25       \n",
        " V20     | V27     |  V13    |   V17     \n",
        " Time    | Time    |  V15    |   V20     \n",
        " V28     | V28     |  V27    |   V1      \n",
        " V24     | V24     |  V2     |   V19     \n",
        " V23     | Amount  |  Time   |   V5      \n",
        " Amount  | V13     |  V28    |   V18     \n",
        " V22     | V26     |  V21    |   V15     \n",
        " V26     | V15     |  V24    |   V24     \n",
        " V13     | V25     |  V5     |   Time    \n",
        " V15     | V23     |  V25    |   V26     \n",
        " V25     | V22     |  V22    |   V13     \n",
        "\n",
        "Scegliamo come feature da utilizzare per l'addestramento con versampling `[V14, V17, V10, V12, V11]`, ovvero le prime quattro feature in ordine di divergenza di Kullback-Leibler e Fisher, e `V11`. `V11` è all'ottavo posto nella colonne $D_{KL}$ e Fisher, ma è tra le prime cinque nelle altre due colonne, mentre `V16` è molto più giù."
      ]
    },
    {
      "cell_type": "code",
      "metadata": {
        "colab": {
          "base_uri": "https://localhost:8080/",
          "height": 545
        },
        "id": "OJG8c1AGylo6",
        "outputId": "803f0ea9-3da5-486c-a7d2-9e12cc679352"
      },
      "source": [
        "for col in [\"V11\",\"V16\"]:\n",
        "  hist_f = fraud.select(col).rdd.flatMap(lambda x: x).histogram(30)\n",
        "  hist_l = legit.select(col).rdd.flatMap(lambda x: x).histogram(30)\n",
        "  # Loading the Computed Histogram into a Pandas Dataframe for plotting\n",
        "  fig = plt.figure()\n",
        "  plt.title(col)\n",
        "  plt.axis(True)\n",
        "  plt.bar(hist_l[0][0:-1],hist_l[1]/np.sum(hist_l[1]), width=np.diff(hist_l[0]))\n",
        "  plt.bar(hist_f[0][0:-1],hist_f[1]/np.sum(hist_f[1]), width=np.diff(hist_f[0]))\n",
        "  plt.legend([\"Legit\",\"Fraud\"])\n",
        "  \n",
        "  plt.show()"
      ],
      "execution_count": null,
      "outputs": [
        {
          "output_type": "display_data",
          "data": {
            "image/png": "[encoded data removed]",
            "text/plain": [
              "<Figure size 432x288 with 1 Axes>"
            ]
          },
          "metadata": {
            "tags": [],
            "needs_background": "light"
          }
        },
        {
          "output_type": "display_data",
          "data": {
            "image/png": "[encoded data removed]",
            "text/plain": [
              "<Figure size 432x288 with 1 Axes>"
            ]
          },
          "metadata": {
            "tags": [],
            "needs_background": "light"
          }
        }
      ]
    },
    {
      "cell_type": "code",
      "metadata": {
        "id": "GTi4kTxiAP4N"
      },
      "source": [
        "chosen_cols = [\"V14\", \"V17\", \"V10\", \"V12\", \"V11\"]"
      ],
      "execution_count": null,
      "outputs": []
    },
    {
      "cell_type": "markdown",
      "metadata": {
        "id": "kmzEIQ7R5BCe"
      },
      "source": [
        "### Oversampling\n",
        "\n",
        "Facendo undersampling non prendiamo in considerazione la maggior parte delle informazioni disponibili sulla classe dominante, portando a bassa capacità della rete di generalizzare, ricorriamo quindi ad oversampling.\n",
        "Nel training set presentiamo più volte gli elementi appartenenti alla classe meno frequente per non introdurre bias sulla frequenza relativa delle classi.\n",
        "\n",
        "Il test set viene estratto prima della duplicazione dei campioni per evitare di testare il classificatore sugli stessi dati su cui è stato testato."
      ]
    },
    {
      "cell_type": "code",
      "metadata": {
        "id": "5VmmRSsA5BCe"
      },
      "source": [
        "# Per ottenere train e test set tramite undersampling\n",
        "import math\n",
        "def oversample_split(fraud, legit):\n",
        "  train_f, test_f = fraud.randomSplit([0.8, 0.2])\n",
        "  train_l, test_l = legit.randomSplit([0.8, 0.2])\n",
        "\n",
        "  a = range(math.ceil(train_l.count()/train_f.count()))\n",
        "    # duplicate the minority rows\n",
        "  oversampled_train_f = train_f.withColumn(\"dummy\", explode(array([lit(x) for x in a])))\\\n",
        "    .drop('dummy')\n",
        "  # The train test is balanced with 50/50 frauds and legit transactions\n",
        "  # to avoid bias towards legit transactions\n",
        "  train       = oversampled_train_f.union(train_l)\n",
        "  # The test set has the same distribution of the original dataset\n",
        "  test        = test_f.union(test_l)\n",
        "  return (train, test)\n",
        "  \n",
        "train, test = oversample_split(fraud, legit)"
      ],
      "execution_count": null,
      "outputs": []
    },
    {
      "cell_type": "markdown",
      "metadata": {
        "id": "zeXFl2_oKMi-"
      },
      "source": [
        "#### Naive Bayes\n",
        "\n",
        "Per prima cosa utilizziamo un classificatore del tipo Naïve Bayes sulle sole feature selezionate.  "
      ]
    },
    {
      "cell_type": "code",
      "metadata": {
        "colab": {
          "base_uri": "https://localhost:8080/",
          "height": 404
        },
        "id": "xxswwsnenqKq",
        "outputId": "30dd6251-93ae-450b-dfcc-b7c76172643b"
      },
      "source": [
        "train, test = oversample_split(fraud, legit)\n",
        "train_labels = train.select(\"Class\").toPandas().values.ravel()\n",
        "\n",
        "clf = GaussianNB(priors=[0.9983,0.0017]).fit(train.select(chosen_cols).toPandas(), \n",
        "                       train_labels)\n",
        "evaluate_sklearn(clf, train, test, chosen_cols)"
      ],
      "execution_count": null,
      "outputs": [
        {
          "output_type": "stream",
          "text": [
            "Area Under PR Curve (train): 91.80%\n",
            "Test set results:\n",
            "Area Under PR Curve:  90.70%\n",
            "Precision:            0.133\n",
            "Accuracy:             0.991\n",
            "Recall:               0.823\n",
            "F1:                   0.229\n"
          ],
          "name": "stdout"
        },
        {
          "output_type": "display_data",
          "data": {
            "image/png": "[encoded data removed]",
            "text/plain": [
              "<Figure size 432x288 with 1 Axes>"
            ]
          },
          "metadata": {
            "tags": [],
            "needs_background": "light"
          }
        }
      ]
    },
    {
      "cell_type": "markdown",
      "metadata": {
        "id": "ap2NcS6DLXU7"
      },
      "source": [
        "Vediamo come le prestazioni sono sensibilmente migliorate rispetto allo stesso algoritmo addestrato con undersampling utilizzando tutte le features.\n",
        "\n",
        "Per valutare l'impatto della scelta delle feature in questo miiglioramento di performance, addestriamo lo stesso classificatore sugli stessi dati, ma prendendo in considerazione le feature più importanti secondo la PCA."
      ]
    },
    {
      "cell_type": "code",
      "metadata": {
        "colab": {
          "base_uri": "https://localhost:8080/",
          "height": 404
        },
        "id": "8dgbpEbmItVq",
        "outputId": "86868515-00bf-4dd8-f1c1-0fb8f0769934"
      },
      "source": [
        "clf_2 = GaussianNB(priors=[0.9983,0.0017]).fit(train.select(train.columns[1:6]).toPandas(), \n",
        "                       train_labels)\n",
        "evaluate_sklearn(clf_2, train, test, train.columns[1:6])"
      ],
      "execution_count": null,
      "outputs": [
        {
          "output_type": "stream",
          "text": [
            "Area Under PR Curve (train): 76.62%\n",
            "Test set results:\n",
            "Area Under PR Curve:  76.40%\n",
            "Precision:            0.062\n",
            "Accuracy:             0.986\n",
            "Recall:               0.542\n",
            "F1:                   0.112\n"
          ],
          "name": "stdout"
        },
        {
          "output_type": "display_data",
          "data": {
            "image/png": "[encoded data removed]",
            "text/plain": [
              "<Figure size 432x288 with 1 Axes>"
            ]
          },
          "metadata": {
            "tags": [],
            "needs_background": "light"
          }
        }
      ]
    },
    {
      "cell_type": "markdown",
      "metadata": {
        "id": "Ix8i_eHjMI_V"
      },
      "source": [
        "Vediamo come una cattiva scelta delle feature causa invece un peggioramento su tutti gli indici di performance."
      ]
    },
    {
      "cell_type": "markdown",
      "metadata": {
        "id": "QZGBaMWI5BCf"
      },
      "source": [
        "#### Support vector machine \n",
        "\n",
        "Come primo approccio proviamo ad utilizzare come classificatore una support vector machine lineare, inoltre sottocampioniamo le transazioni legittime per non avere un dataset sbilanciato."
      ]
    },
    {
      "cell_type": "code",
      "metadata": {
        "id": "WcQCra-j5BCf"
      },
      "source": [
        "labelIndexer = StringIndexer(inputCol='Class',outputCol='Class_index').fit(train)\n",
        "\n",
        "assembler = VectorAssembler().setInputCols(chosen_cols)\\\n",
        "  .setOutputCol(\"features\")\n",
        "scaler = MinMaxScaler().setMin(0).setMax(1).setInputCol(\"features\") \\\n",
        "  .setOutputCol(\"scaled_features\")\n",
        "linearSVC = LinearSVC().setFeaturesCol(\"scaled_features\") \\\n",
        "  .setLabelCol(\"Class\")\n",
        "labelConverter = IndexToString(inputCol='prediction',outputCol='predictedLabel')\\\n",
        "  .setLabels(labelIndexer.labels)\n",
        "\n",
        "pipeline = Pipeline().setStages([assembler, \\\n",
        "                                scaler, \\\n",
        "                                linearSVC,\\\n",
        "                                labelConverter])"
      ],
      "execution_count": null,
      "outputs": []
    },
    {
      "cell_type": "code",
      "metadata": {
        "id": "V8K5AHTe5BCf"
      },
      "source": [
        "# Costruiamo l'algoritmo di addestramento, come una 10-fold Cross-validation che si addestra su una \n",
        "# griglia di iperparametri:\n",
        "# -- l'indice di Gini, e l'entropia per controlla la purezza dei nodi foglia\n",
        "# -- il numero di bin cioè di categorie da generare per ogni feature categorica\n",
        "# -- la profondità massima dell'albero\n",
        "\n",
        "# Generiamo la griglia\n",
        "paramGrid = ParamGridBuilder().addGrid(linearSVC.regParam, [0.1, 0.2, 0.5])\\\n",
        "                              .addGrid(linearSVC.maxIter, [20,50,100,200])\\\n",
        "                              .build()"
      ],
      "execution_count": null,
      "outputs": []
    },
    {
      "cell_type": "code",
      "metadata": {
        "id": "WRZWpWfD5BCg"
      },
      "source": [
        "cv = CrossValidator().setEstimator(pipeline)\\\n",
        "                     .setEvaluator(evaluator)\\\n",
        "                     .setEstimatorParamMaps(paramGrid)\\\n",
        "                     .setNumFolds(10)"
      ],
      "execution_count": null,
      "outputs": []
    },
    {
      "cell_type": "code",
      "metadata": {
        "colab": {
          "base_uri": "https://localhost:8080/",
          "height": 808
        },
        "id": "NhqGKaS55BCg",
        "outputId": "730ec5e6-4fa4-4715-e846-375aebac9072"
      },
      "source": [
        "cvModel_svm_os = cv.fit(train)\n",
        "\n",
        "evaluate_model(cvModel_svm_os, train, test)"
      ],
      "execution_count": null,
      "outputs": [
        {
          "output_type": "stream",
          "text": [
            "Area Under PR Curve (train): 96.97%\n"
          ],
          "name": "stdout"
        },
        {
          "output_type": "display_data",
          "data": {
            "image/png": "[encoded data removed]",
            "text/plain": [
              "<Figure size 360x360 with 1 Axes>"
            ]
          },
          "metadata": {
            "tags": [],
            "needs_background": "light"
          }
        },
        {
          "output_type": "stream",
          "text": [
            "Test set results:\n",
            "Area Under PR Curve:  75.83%\n",
            "True positives:       79\n",
            "False positives:      51\n",
            "True negatives:       56862\n",
            "False negatives:      14\n",
            "Precision:            0.608\n",
            "Accuracy:             0.999\n",
            "Recall:               0.849\n",
            "F1:                   0.709\n"
          ],
          "name": "stdout"
        },
        {
          "output_type": "display_data",
          "data": {
            "image/png": "[encoded data removed]",
            "text/plain": [
              "<Figure size 432x288 with 1 Axes>"
            ]
          },
          "metadata": {
            "tags": [],
            "needs_background": "light"
          }
        }
      ]
    },
    {
      "cell_type": "code",
      "metadata": {
        "id": "_iwPLM6liRW-"
      },
      "source": [
        "cvModel_svm_os.write().overwrite().save('svm_OF')"
      ],
      "execution_count": null,
      "outputs": []
    },
    {
      "cell_type": "markdown",
      "metadata": {
        "id": "L5e9NLINgYfv"
      },
      "source": [
        "Il classificatore basato su SVM mostra apprezzabili miglioramenti modificando la strategia di campionamento per il training set."
      ]
    },
    {
      "cell_type": "code",
      "metadata": {
        "id": "vTYWiOVp2EK8",
        "colab": {
          "base_uri": "https://localhost:8080/"
        },
        "outputId": "1b90343a-4564-4243-e1cb-b8bae88b44d0"
      },
      "source": [
        "print(\"Best model hyperparameters\")\n",
        "print(\"Max Iterations:   \",cvModel_svm_os.bestModel.stages[2].getMaxIter())\n",
        "print(\"Reg Parameter:    \",cvModel_svm_os.bestModel.stages[2].getRegParam())"
      ],
      "execution_count": null,
      "outputs": [
        {
          "output_type": "stream",
          "text": [
            "Best model hyperparameters\n",
            "Max Iterations:    200\n",
            "Reg Parameter:     0.1\n"
          ],
          "name": "stdout"
        }
      ]
    },
    {
      "cell_type": "markdown",
      "metadata": {
        "id": "UMUHAcUO5BCg"
      },
      "source": [
        "#### Random forest \n",
        "\n",
        "Confrontiamo il risultato precedente con una random forest, addestrata con gli stessi dati."
      ]
    },
    {
      "cell_type": "code",
      "metadata": {
        "id": "o0lX_MZp5BCh"
      },
      "source": [
        "labelIndexer = StringIndexer(inputCol='Class',outputCol='Class_index').fit(train)\n",
        "\n",
        "assembler = VectorAssembler().setInputCols(chosen_cols)\\\n",
        "  .setOutputCol(\"features\")\n",
        "scaler = MinMaxScaler().setMin(0).setMax(1).setInputCol(\"features\") \\\n",
        "  .setOutputCol(\"scaled_features\")\n",
        "randomForest = RandomForestClassifier().setFeaturesCol(\"scaled_features\") \\\n",
        "  .setLabelCol(\"Class\")\n",
        "labelConverter = IndexToString(inputCol='prediction',outputCol='predictedLabel')\\\n",
        "  .setLabels(labelIndexer.labels)\n",
        "pipeline = Pipeline().setStages([assembler, \\\n",
        "                                scaler, \\\n",
        "                                randomForest,\\\n",
        "                                labelConverter])\n"
      ],
      "execution_count": null,
      "outputs": []
    },
    {
      "cell_type": "code",
      "metadata": {
        "id": "HjC0-fu55BCh"
      },
      "source": [
        "# Costruiamo l'algoritmo di addestramento, come una 10-fold Cross-validation che si addestra su una \n",
        "# griglia di iperparametri:\n",
        "# -- l'indice di Gini, e l'entropia per controlla la purezza dei nodi foglia\n",
        "# -- il numero di bin cioè di categorie da generare per ogni feature categorica\n",
        "# -- la profondità massima dell'albero\n",
        "\n",
        "# Generiamo la griglia\n",
        "paramGrid = ParamGridBuilder().addGrid(randomForest.maxBins,[30, 41, 54])\\\n",
        "                              .addGrid(randomForest.maxDepth,[4,6,8])\\\n",
        "                              .addGrid(randomForest.impurity,[\"entropy\",\"gini\"])\\\n",
        "                              .build()"
      ],
      "execution_count": null,
      "outputs": []
    },
    {
      "cell_type": "code",
      "metadata": {
        "id": "H3aLdSX05BCh"
      },
      "source": [
        "cv = CrossValidator().setEstimator(pipeline)\\\n",
        "                     .setEvaluator(evaluator)\\\n",
        "                     .setEstimatorParamMaps(paramGrid)\\\n",
        "                     .setNumFolds(10)\n",
        "\n",
        "cvModel_random_forest_os = cv.fit(train)"
      ],
      "execution_count": null,
      "outputs": []
    },
    {
      "cell_type": "code",
      "metadata": {
        "id": "pTZcST965BCh",
        "colab": {
          "base_uri": "https://localhost:8080/",
          "height": 808
        },
        "outputId": "7c3891b1-d829-49a6-9862-ad89330bd32a"
      },
      "source": [
        "\n",
        "evaluate_model(cvModel_random_forest_os, train, test, callable=False)\n",
        "cvModel_random_forest_os.write().overwrite().save('random_forest_OF')"
      ],
      "execution_count": null,
      "outputs": [
        {
          "output_type": "stream",
          "text": [
            "Area Under PR Curve (train): 99.71%\n"
          ],
          "name": "stdout"
        },
        {
          "output_type": "display_data",
          "data": {
            "image/png": "[encoded data removed]",
            "text/plain": [
              "<Figure size 360x360 with 1 Axes>"
            ]
          },
          "metadata": {
            "tags": [],
            "needs_background": "light"
          }
        },
        {
          "output_type": "stream",
          "text": [
            "Test set results:\n",
            "Area Under PR Curve:  82.57%\n",
            "True positives:       93\n",
            "False positives:      480\n",
            "True negatives:       56812\n",
            "False negatives:      15\n",
            "Precision:            0.162\n",
            "Accuracy:             0.991\n",
            "Recall:               0.861\n",
            "F1:                   0.273\n"
          ],
          "name": "stdout"
        },
        {
          "output_type": "display_data",
          "data": {
            "image/png": "[encoded data removed]",
            "text/plain": [
              "<Figure size 432x288 with 1 Axes>"
            ]
          },
          "metadata": {
            "tags": [],
            "needs_background": "light"
          }
        }
      ]
    },
    {
      "cell_type": "markdown",
      "metadata": {
        "id": "Sx8MZneZOPx-"
      },
      "source": [
        "La random forest ha migliorato sensibilmente la precisione e l'area sotto la curva, ma resta comunque inferiore rispetto alla SVM."
      ]
    },
    {
      "cell_type": "code",
      "metadata": {
        "colab": {
          "base_uri": "https://localhost:8080/"
        },
        "id": "1-umwMFU1g-1",
        "outputId": "63527064-8d23-4b30-a08b-e80fc363aae2"
      },
      "source": [
        "print(\"Best model hyperparameters\")\n",
        "print(\"Impurity:   \",cvModel_random_forest_os.bestModel.stages[2].getImpurity())\n",
        "print(\"Max Bins:   \",cvModel_random_forest_os.bestModel.stages[2].getMaxBins())\n",
        "print(\"Max Depth:  \",cvModel_random_forest_os.bestModel.stages[2].getMaxDepth())"
      ],
      "execution_count": null,
      "outputs": [
        {
          "output_type": "stream",
          "text": [
            "Best model hyperparameters\n",
            "Impurity:    entropy\n",
            "Max Bins:    41\n",
            "Max Depth:   8\n"
          ],
          "name": "stdout"
        }
      ]
    }
  ]
}