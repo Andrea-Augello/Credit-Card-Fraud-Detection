{
  "nbformat": 4,
  "nbformat_minor": 0,
  "metadata": {
    "colab": {
      "name": "Card.ipynb",
      "provenance": [],
      "toc_visible": true
    },
    "kernelspec": {
      "name": "python3",
      "display_name": "Python 3"
    }
  },
  "cells": [
    {
      "cell_type": "markdown",
      "metadata": {
        "id": "IoK-VO7eYJFb"
      },
      "source": [
        "# Credit Card Fraud Detection\n",
        "\n",
        "Il dataset contiene transazioni fatte tramite carta di credito nel settembre 2013 in Europa.\n",
        "Questo dataset presenta transazioni avvenute in due giorni. Delle 284807 transazioni, 492 sono etichettate come frodi, le altre sono da ritenersi legittime. Il dataset è estremamente sbilanciato, con i casi positivi che rappresentano soltanto lo 0.172% di tutte le transazioni.\n",
        "\n",
        "Nel dataset sono presenti soltanto variabili di input di tipo numerico, risultanti da una trasformazione Principal Component Analysis (PCA). Per ragioni di confidenzialità non sono disponibili né le features originali né informazioni sull'origine dei dati più dettagliate. Le uniche features non trasformate tramite PCA sono 'Tempo' e 'Ammontare'.\n",
        "Il tempo misura i sencondi trascorsi tra ogni transazione e la prima transazione del dataset. La feature 'Ammontare' è l'ammontare della transazione.\n",
        "Le transazioni etichettate con 1 sono frodi, quelle etichettate con 0 sono legittime.\n",
        "\n",
        "Essendo il dataset già curato non sono necessarie operazioni di pulizia ed imputazione dei dati.\n",
        "\n"
      ]
    },
    {
      "cell_type": "markdown",
      "metadata": {
        "id": "5_OYkQOn8lhg"
      },
      "source": [
        "## Setup dell'ambiente\n",
        "\n",
        "Le operazioni di setup sono differenti a seconda della piattaforma utilizzata, ne va utilizzato solo uno, o del codice personalizzato in caso di ambienti diversi."
      ]
    },
    {
      "cell_type": "code",
      "metadata": {
        "id": "_HPIrkwDR-Gy"
      },
      "source": [
        "# Kaggle token\n",
        "token = {\"username\":\"andreaaugello\",\"key\":\"636f00800308e8447dea0ee8f2decb98\"}"
      ],
      "execution_count": 2,
      "outputs": []
    },
    {
      "cell_type": "markdown",
      "metadata": {
        "id": "JSacOLOlRb45"
      },
      "source": [
        "### Google Colaboratory"
      ]
    },
    {
      "cell_type": "code",
      "metadata": {
        "colab": {
          "base_uri": "https://localhost:8080/"
        },
        "id": "9l3QYwwObNPd",
        "outputId": "f10645ef-e5a7-446c-cd63-c1bc7f5f2c18"
      },
      "source": [
        "filepath = \"/content/creditfraud/creditcard.csv\"\n",
        "\n",
        "! rm -Rf /content/creditfraud/\n",
        "! which kaggle || pip install kaggle\n",
        "! if ! [ -d ~/.kaggle ] ; then  mkdir ~/.kaggle  && touch ~/.kaggle/kaggle.json; echo \"Creating kaggle directory\"; fi\n",
        "\n",
        "import json\n",
        "\n",
        "import zipfile\n",
        "import os\n",
        "with open('/root/.kaggle/kaggle.json', 'w') as file:\n",
        "    json.dump(token, file)\n",
        "\n",
        "! if ! [ -f /content/creditfraud/creditcard.csv ] ; then chmod 600 /root/.kaggle/kaggle.json && kaggle datasets download -p /content/creditfraud/ -d mlg-ulb/creditcardfraud ; fi\n",
        "\n",
        "os.chdir('/content/creditfraud')\n",
        "for file in os.listdir():\n",
        "    zip_ref = zipfile.ZipFile(file, 'r')\n",
        "    zip_ref.extractall()\n",
        "    zip_ref.close()"
      ],
      "execution_count": 4,
      "outputs": [
        {
          "output_type": "stream",
          "text": [
            "/usr/local/bin/kaggle\n",
            "Downloading creditcardfraud.zip to /content/creditfraud\n",
            " 74% 49.0M/66.0M [00:00<00:00, 51.7MB/s]\n",
            "100% 66.0M/66.0M [00:00<00:00, 90.4MB/s]\n"
          ],
          "name": "stdout"
        }
      ]
    },
    {
      "cell_type": "code",
      "metadata": {
        "colab": {
          "base_uri": "https://localhost:8080/"
        },
        "id": "BnY3ywNtk3Zh",
        "outputId": "70803cc6-4107-40cf-f6d9-2712b678062e"
      },
      "source": [
        "!head -n 2 /content/creditfraud/creditcard.csv\n",
        "!tail -n 2 /content/creditfraud/creditcard.csv"
      ],
      "execution_count": 5,
      "outputs": [
        {
          "output_type": "stream",
          "text": [
            "\"Time\",\"V1\",\"V2\",\"V3\",\"V4\",\"V5\",\"V6\",\"V7\",\"V8\",\"V9\",\"V10\",\"V11\",\"V12\",\"V13\",\"V14\",\"V15\",\"V16\",\"V17\",\"V18\",\"V19\",\"V20\",\"V21\",\"V22\",\"V23\",\"V24\",\"V25\",\"V26\",\"V27\",\"V28\",\"Amount\",\"Class\"\n",
            "0,-1.3598071336738,-0.0727811733098497,2.53634673796914,1.37815522427443,-0.338320769942518,0.462387777762292,0.239598554061257,0.0986979012610507,0.363786969611213,0.0907941719789316,-0.551599533260813,-0.617800855762348,-0.991389847235408,-0.311169353699879,1.46817697209427,-0.470400525259478,0.207971241929242,0.0257905801985591,0.403992960255733,0.251412098239705,-0.018306777944153,0.277837575558899,-0.110473910188767,0.0669280749146731,0.128539358273528,-0.189114843888824,0.133558376740387,-0.0210530534538215,149.62,\"0\"\n",
            "172788,-0.240440049680947,0.530482513118839,0.702510230095103,0.689799168040973,-0.377961134444982,0.62370772214768,-0.68617998628885,0.679145459790659,0.392086712465972,-0.399125651432835,-1.93384881505713,-0.962886142890271,-1.04208165591191,0.449624443166001,1.96256312066577,-0.60857712704613,0.509928460110321,1.11398059049908,2.89784877334313,0.127433515805355,0.265244916386865,0.800048741498139,-0.163297944406659,0.123205243742508,-0.569158864158597,0.546668462188323,0.108820734744839,0.104532821478796,10,\"0\"\n",
            "172792,-0.53341252200504,-0.189733337002305,0.703337366963779,-0.506271240328258,-0.0125456787599659,-0.649616685713792,1.57700625437629,-0.414650407552662,0.486179505267237,-0.915426648905893,-1.04045833522361,-0.0315130540252157,-0.188092900791737,-0.0843164698151014,0.0413334553360658,-0.302620086427415,-0.660376645182784,0.16742993371973,-0.256116871098099,0.382948104875066,0.261057330790975,0.643078437820093,0.376777014169917,0.00879737940024202,-0.473648703898825,-0.818267121041176,-0.00241530880001015,0.0136489143320671,217,\"0\"\n"
          ],
          "name": "stdout"
        }
      ]
    },
    {
      "cell_type": "code",
      "metadata": {
        "colab": {
          "base_uri": "https://localhost:8080/"
        },
        "id": "vVtOWVHDQ88n",
        "outputId": "ff44fc9b-ff2e-4315-ed28-ba42724dab37"
      },
      "source": [
        "%%shell\n",
        "\n",
        "apt-get install openjdk-8-jdk-headless -qq  &>/dev/null\n",
        "if ! [ -f spark-3.1.1-bin-hadoop2.7.tgz ] ; then \n",
        "  wget -q http://apache.osuosl.org/spark/spark-3.1.1/spark-3.1.1-bin-hadoop2.7.tgz && \n",
        "  tar xf spark-3.1.1-bin-hadoop2.7.tgz ; \n",
        "fi\n",
        "pip show findspark &>/dev/null || pip install -q findspark\n",
        "pip show pyspark &>/dev/null || pip install pyspark"
      ],
      "execution_count": 6,
      "outputs": [
        {
          "output_type": "stream",
          "text": [
            "Collecting pyspark\n",
            "\u001b[?25l  Downloading https://files.pythonhosted.org/packages/45/b0/9d6860891ab14a39d4bddf80ba26ce51c2f9dc4805e5c6978ac0472c120a/pyspark-3.1.1.tar.gz (212.3MB)\n",
            "\u001b[K     |████████████████████████████████| 212.3MB 67kB/s \n",
            "\u001b[?25hCollecting py4j==0.10.9\n",
            "\u001b[?25l  Downloading https://files.pythonhosted.org/packages/9e/b6/6a4fb90cd235dc8e265a6a2067f2a2c99f0d91787f06aca4bcf7c23f3f80/py4j-0.10.9-py2.py3-none-any.whl (198kB)\n",
            "\u001b[K     |████████████████████████████████| 204kB 47.5MB/s \n",
            "\u001b[?25hBuilding wheels for collected packages: pyspark\n",
            "  Building wheel for pyspark (setup.py) ... \u001b[?25l\u001b[?25hdone\n",
            "  Created wheel for pyspark: filename=pyspark-3.1.1-py2.py3-none-any.whl size=212767604 sha256=26a0734820b4032077ad57267b50fbdd95b32bb1ab758dd6cd0143214b1b9f75\n",
            "  Stored in directory: /root/.cache/pip/wheels/0b/90/c0/01de724414ef122bd05f056541fb6a0ecf47c7ca655f8b3c0f\n",
            "Successfully built pyspark\n",
            "Installing collected packages: py4j, pyspark\n",
            "Successfully installed py4j-0.10.9 pyspark-3.1.1\n"
          ],
          "name": "stdout"
        },
        {
          "output_type": "execute_result",
          "data": {
            "text/plain": [
              ""
            ]
          },
          "metadata": {
            "tags": []
          },
          "execution_count": 6
        }
      ]
    },
    {
      "cell_type": "code",
      "metadata": {
        "id": "1Vg42DtScdf9"
      },
      "source": [
        "# Set up required environment variables\n",
        "\n",
        "os.environ[\"JAVA_HOME\"] = \"/usr/lib/jvm/java-8-openjdk-amd64\"\n",
        "os.environ[\"SPARK_HOME\"] = \"/content/creditfraud/spark-3.1.1-bin-hadoop2.7\"\n",
        "\n",
        "! mkdir -p $SPARK_HOME/conf/\n",
        "! echo \"spark.driver.memory              8g\" >> $SPARK_HOME/conf/spark-defaults.conf\n",
        "\n",
        "import findspark\n",
        "location = findspark.find()\n",
        "findspark.init(location)\n",
        "\n",
        "import pyspark\n",
        "from pyspark.sql import SparkSession\n",
        "\n",
        "spark = SparkSession.builder.appName('CardFraud').getOrCreate()"
      ],
      "execution_count": 7,
      "outputs": []
    },
    {
      "cell_type": "markdown",
      "metadata": {
        "id": "rQLynrMfRprl"
      },
      "source": [
        "### Kaggle notebook\n",
        "\n",
        "È necessario abilitare internet per il notebook, è quindi richiesta la verifica tramite numero di telefono."
      ]
    },
    {
      "cell_type": "code",
      "metadata": {
        "id": "FMxaihbDRprl"
      },
      "source": [
        "filepath = \"../input/creditcardfraud/creditcard.csv\"\n",
        "\n",
        "!head -n 2 ../input/creditcardfraud/creditcard.csv\n",
        "!tail -n 2 ../input/creditcardfraud/creditcard.csv"
      ],
      "execution_count": null,
      "outputs": []
    },
    {
      "cell_type": "code",
      "metadata": {
        "id": "28B1KxB0Rprl"
      },
      "source": [
        "! apt-get install openjdk-8-jdk-headless -qq &>/dev/null\n",
        "! if ! [ -f spark-3.1.1-bin-hadoop2.7.tgz ] ; then \\\n",
        "  wget -q http://apache.osuosl.org/spark/spark-3.1.1/spark-3.1.1-bin-hadoop2.7.tgz && \\\n",
        "  tar xf spark-3.1.1-bin-hadoop2.7.tgz ; \\\n",
        "fi\n",
        "! pip show findspark &>/dev/null || pip install -q findspark\n",
        "! pip show pyspark &>/dev/null || pip install pyspark"
      ],
      "execution_count": null,
      "outputs": []
    },
    {
      "cell_type": "code",
      "metadata": {
        "id": "_pEo9ru6Rprm"
      },
      "source": [
        "# Set up required environment variables\n",
        "\n",
        "# Set up required environment variables\n",
        "\n",
        "import os\n",
        "os.environ[\"JAVA_HOME\"] = \"/usr/lib/jvm/java-8-openjdk-amd64\"\n",
        "os.environ[\"SPARK_HOME\"] = \"./spark-3.1.1-bin-hadoop2.7\"\n",
        "\n",
        "\n",
        "! mkdir -p $SPARK_HOME/conf/\n",
        "! echo \"spark.driver.memory              8g\" >> $SPARK_HOME/conf/spark-defaults.conf\n",
        "\n",
        "import findspark\n",
        "location = findspark.find()\n",
        "findspark.init(location)\n",
        "\n",
        "import pyspark\n",
        "from pyspark.sql import SparkSession\n",
        "\n",
        "spark = SparkSession.builder.appName('CardFraud').getOrCreate()"
      ],
      "execution_count": null,
      "outputs": []
    },
    {
      "cell_type": "markdown",
      "metadata": {
        "id": "1WcC7dqlRnnV"
      },
      "source": [
        "### Databricks Community Edition\n",
        "\n",
        "Con la versione community è necessario caricare manualmente il file .csv nel filesystem distribuito."
      ]
    },
    {
      "cell_type": "code",
      "metadata": {
        "id": "vnUIcXSgRnnV"
      },
      "source": [
        "filepath = \"dbfs:/FileStore/creditcard.csv\"\n",
        "import mlflow\n",
        "\n",
        "! rm -Rf /content/creditfraud/\n",
        "! which kaggle || pip install kaggle\n",
        "! if ! [ -d ~/.kaggle ] ; then  mkdir ~/.kaggle  && touch ~/.kaggle/kaggle.json; echo \"Creating kaggle directory\"; fi\n",
        "\n",
        "import json\n",
        "\n",
        "import zipfile\n",
        "import os\n",
        "with open('/root/.kaggle/kaggle.json', 'w') as file:\n",
        "    json.dump(token, file)\n",
        "\n",
        "! if ! [ -f /content/creditfraud/creditcard.csv ] ; then chmod 600 /root/.kaggle/kaggle.json && kaggle datasets download -p /content/creditfraud/ -d mlg-ulb/creditcardfraud ; fi\n",
        "\n",
        "os.chdir('/content/creditfraud')\n",
        "for file in os.listdir():\n",
        "    zip_ref = zipfile.ZipFile(file, 'r')\n",
        "    zip_ref.extractall()\n",
        "    zip_ref.close()"
      ],
      "execution_count": null,
      "outputs": []
    },
    {
      "cell_type": "code",
      "metadata": {
        "id": "Z3FsOTdvRnnW"
      },
      "source": [
        "!head -n 2 /content/creditfraud/creditcard.csv\n",
        "!tail -n 2 /content/creditfraud/creditcard.csv"
      ],
      "execution_count": null,
      "outputs": []
    },
    {
      "cell_type": "code",
      "metadata": {
        "id": "QofMPE-lRnnX"
      },
      "source": [
        "# Set up required environment variables\n",
        "\n",
        "import pyspark\n",
        "from pyspark.sql import SparkSession\n",
        "\n",
        "spark = SparkSession.builder.appName('CardFraud').getOrCreate()"
      ],
      "execution_count": null,
      "outputs": []
    },
    {
      "cell_type": "markdown",
      "metadata": {
        "id": "eiypUJeBSIID"
      },
      "source": [
        "## Analisi dei dati"
      ]
    },
    {
      "cell_type": "code",
      "metadata": {
        "colab": {
          "base_uri": "https://localhost:8080/",
          "height": 250
        },
        "id": "HoS8URo5kvcC",
        "outputId": "9d3b026f-5887-44da-ae16-72d2d5b7a4ee"
      },
      "source": [
        "# Importazione dei dati dal data set \n",
        "from pyspark.sql.types import *\n",
        "from pyspark.sql.functions import *\n",
        "\n",
        "\n",
        "# costruzione dello schema del DataFrame\n",
        "\n",
        "creditcard_schema = StructType([\n",
        "    StructField('Time',IntegerType(),False),\n",
        "    StructField('V1',FloatType(),False),\n",
        "    StructField('V2',FloatType(),False),\n",
        "    StructField('V3',FloatType(),False),\n",
        "    StructField('V4',FloatType(),False),\n",
        "    StructField('V5',FloatType(),False),\n",
        "    StructField('V6',FloatType(),False),\n",
        "    StructField('V7',FloatType(),False),\n",
        "    StructField('V8',FloatType(),False),\n",
        "    StructField('V9',FloatType(),False),\n",
        "    StructField('V10',FloatType(),False),\n",
        "    StructField('V11',FloatType(),False),\n",
        "    StructField('V12',FloatType(),False),\n",
        "    StructField('V13',FloatType(),False),\n",
        "    StructField('V14',FloatType(),False),\n",
        "    StructField('V15',FloatType(),False),\n",
        "    StructField('V16',FloatType(),False),\n",
        "    StructField('V17',FloatType(),False),\n",
        "    StructField('V18',FloatType(),False),\n",
        "    StructField('V19',FloatType(),False),\n",
        "    StructField('V20',FloatType(),False),\n",
        "    StructField('V21',FloatType(),False),\n",
        "    StructField('V22',FloatType(),False),\n",
        "    StructField('V23',FloatType(),False),\n",
        "    StructField('V24',FloatType(),False),\n",
        "    StructField('V25',FloatType(),False),\n",
        "    StructField('V26',FloatType(),False),\n",
        "    StructField('V27',FloatType(),False),\n",
        "    StructField('V28',FloatType(),False),\n",
        "    StructField('Amount',FloatType(),False),\n",
        "    StructField('Class',ShortType(),False),\n",
        "])\n",
        "\n",
        "records = spark.read.format('csv')\\\n",
        "    .option('header','true')\\\n",
        "    .option('mode','DROPMALFORMED')\\\n",
        "    .option('mode','PERMISSIVE')\\\n",
        "    .schema(creditcard_schema)\\\n",
        "    .load(filepath).dropDuplicates()\n",
        "\n",
        "#records.printSchema()\n",
        "#records.show()\n",
        "\n",
        "display(records)\n",
        "display(records.describe().toPandas())"
      ],
      "execution_count": 8,
      "outputs": [
        {
          "output_type": "display_data",
          "data": {
            "text/plain": [
              "DataFrame[Time: int, V1: float, V2: float, V3: float, V4: float, V5: float, V6: float, V7: float, V8: float, V9: float, V10: float, V11: float, V12: float, V13: float, V14: float, V15: float, V16: float, V17: float, V18: float, V19: float, V20: float, V21: float, V22: float, V23: float, V24: float, V25: float, V26: float, V27: float, V28: float, Amount: float, Class: smallint]"
            ]
          },
          "metadata": {
            "tags": []
          }
        },
        {
          "output_type": "display_data",
          "data": {
            "text/html": [
              "<div>\n",
              "<style scoped>\n",
              "    .dataframe tbody tr th:only-of-type {\n",
              "        vertical-align: middle;\n",
              "    }\n",
              "\n",
              "    .dataframe tbody tr th {\n",
              "        vertical-align: top;\n",
              "    }\n",
              "\n",
              "    .dataframe thead th {\n",
              "        text-align: right;\n",
              "    }\n",
              "</style>\n",
              "<table border=\"1\" class=\"dataframe\">\n",
              "  <thead>\n",
              "    <tr style=\"text-align: right;\">\n",
              "      <th></th>\n",
              "      <th>summary</th>\n",
              "      <th>Time</th>\n",
              "      <th>V1</th>\n",
              "      <th>V2</th>\n",
              "      <th>V3</th>\n",
              "      <th>V4</th>\n",
              "      <th>V5</th>\n",
              "      <th>V6</th>\n",
              "      <th>V7</th>\n",
              "      <th>V8</th>\n",
              "      <th>V9</th>\n",
              "      <th>V10</th>\n",
              "      <th>V11</th>\n",
              "      <th>V12</th>\n",
              "      <th>V13</th>\n",
              "      <th>V14</th>\n",
              "      <th>V15</th>\n",
              "      <th>V16</th>\n",
              "      <th>V17</th>\n",
              "      <th>V18</th>\n",
              "      <th>V19</th>\n",
              "      <th>V20</th>\n",
              "      <th>V21</th>\n",
              "      <th>V22</th>\n",
              "      <th>V23</th>\n",
              "      <th>V24</th>\n",
              "      <th>V25</th>\n",
              "      <th>V26</th>\n",
              "      <th>V27</th>\n",
              "      <th>V28</th>\n",
              "      <th>Amount</th>\n",
              "      <th>Class</th>\n",
              "    </tr>\n",
              "  </thead>\n",
              "  <tbody>\n",
              "    <tr>\n",
              "      <th>0</th>\n",
              "      <td>count</td>\n",
              "      <td>283725</td>\n",
              "      <td>283726</td>\n",
              "      <td>283726</td>\n",
              "      <td>283726</td>\n",
              "      <td>283726</td>\n",
              "      <td>283726</td>\n",
              "      <td>283726</td>\n",
              "      <td>283726</td>\n",
              "      <td>283726</td>\n",
              "      <td>283726</td>\n",
              "      <td>283726</td>\n",
              "      <td>283726</td>\n",
              "      <td>283726</td>\n",
              "      <td>283726</td>\n",
              "      <td>283726</td>\n",
              "      <td>283726</td>\n",
              "      <td>283726</td>\n",
              "      <td>283726</td>\n",
              "      <td>283726</td>\n",
              "      <td>283726</td>\n",
              "      <td>283726</td>\n",
              "      <td>283726</td>\n",
              "      <td>283726</td>\n",
              "      <td>283726</td>\n",
              "      <td>283726</td>\n",
              "      <td>283726</td>\n",
              "      <td>283726</td>\n",
              "      <td>283726</td>\n",
              "      <td>283726</td>\n",
              "      <td>283726</td>\n",
              "      <td>283726</td>\n",
              "    </tr>\n",
              "    <tr>\n",
              "      <th>1</th>\n",
              "      <td>mean</td>\n",
              "      <td>94811.0593109525</td>\n",
              "      <td>0.0059171496151878295</td>\n",
              "      <td>-0.004134755596655358</td>\n",
              "      <td>0.0016131194013566076</td>\n",
              "      <td>-0.0029663077763300767</td>\n",
              "      <td>0.0018275601352146962</td>\n",
              "      <td>-0.0011394883794042796</td>\n",
              "      <td>0.0018006916556496844</td>\n",
              "      <td>-8.544525275343677E-4</td>\n",
              "      <td>-0.0015961996029800678</td>\n",
              "      <td>-0.0014407104420079613</td>\n",
              "      <td>2.0175758274159E-4</td>\n",
              "      <td>-7.147876010724789E-4</td>\n",
              "      <td>6.033758161790353E-4</td>\n",
              "      <td>2.523172098282817E-4</td>\n",
              "      <td>0.0010428379946567953</td>\n",
              "      <td>0.0011620127510330307</td>\n",
              "      <td>1.7016099417563552E-4</td>\n",
              "      <td>0.0015151660271279712</td>\n",
              "      <td>-2.6426355734881E-4</td>\n",
              "      <td>1.8717529004213355E-4</td>\n",
              "      <td>-3.705931333337562E-4</td>\n",
              "      <td>-1.5027521572740273E-5</td>\n",
              "      <td>1.9817071581241128E-4</td>\n",
              "      <td>2.1420687436297502E-4</td>\n",
              "      <td>-2.3238699909439164E-4</td>\n",
              "      <td>1.4944104385428625E-4</td>\n",
              "      <td>0.001763031635814916</td>\n",
              "      <td>5.473120965431608E-4</td>\n",
              "      <td>88.47268730080253</td>\n",
              "      <td>0.001667101358352777</td>\n",
              "    </tr>\n",
              "    <tr>\n",
              "      <th>2</th>\n",
              "      <td>stddev</td>\n",
              "      <td>47481.13056592805</td>\n",
              "      <td>1.948026141905308</td>\n",
              "      <td>1.6467029644100455</td>\n",
              "      <td>1.508681915996848</td>\n",
              "      <td>1.4141840143251605</td>\n",
              "      <td>1.3770082799610668</td>\n",
              "      <td>1.331930591492362</td>\n",
              "      <td>1.227663895509697</td>\n",
              "      <td>1.1790544275868806</td>\n",
              "      <td>1.0954924812185733</td>\n",
              "      <td>1.076407350284195</td>\n",
              "      <td>1.0187201524646452</td>\n",
              "      <td>0.9946744452641615</td>\n",
              "      <td>0.995429636753189</td>\n",
              "      <td>0.9522150895082739</td>\n",
              "      <td>0.9148936334358042</td>\n",
              "      <td>0.8736963276905809</td>\n",
              "      <td>0.8425073208639574</td>\n",
              "      <td>0.8373775296067039</td>\n",
              "      <td>0.8133785530591242</td>\n",
              "      <td>0.769984241276464</td>\n",
              "      <td>0.723909366672215</td>\n",
              "      <td>0.7245504655227915</td>\n",
              "      <td>0.6237023784485339</td>\n",
              "      <td>0.6056266981900321</td>\n",
              "      <td>0.5212203166769496</td>\n",
              "      <td>0.4820529407603699</td>\n",
              "      <td>0.3957438805701256</td>\n",
              "      <td>0.32802660442911424</td>\n",
              "      <td>250.3994368876579</td>\n",
              "      <td>0.04079617625933864</td>\n",
              "    </tr>\n",
              "    <tr>\n",
              "      <th>3</th>\n",
              "      <td>min</td>\n",
              "      <td>0</td>\n",
              "      <td>-56.40751</td>\n",
              "      <td>-72.71573</td>\n",
              "      <td>-48.32559</td>\n",
              "      <td>-5.6831713</td>\n",
              "      <td>-113.74331</td>\n",
              "      <td>-26.160505</td>\n",
              "      <td>-43.557243</td>\n",
              "      <td>-73.21672</td>\n",
              "      <td>-13.434067</td>\n",
              "      <td>-24.588263</td>\n",
              "      <td>-4.7974734</td>\n",
              "      <td>-18.683714</td>\n",
              "      <td>-5.791881</td>\n",
              "      <td>-19.214325</td>\n",
              "      <td>-4.4989448</td>\n",
              "      <td>-14.129854</td>\n",
              "      <td>-25.1628</td>\n",
              "      <td>-9.498746</td>\n",
              "      <td>-7.213527</td>\n",
              "      <td>-54.49772</td>\n",
              "      <td>-34.830383</td>\n",
              "      <td>-10.933144</td>\n",
              "      <td>-44.807735</td>\n",
              "      <td>-2.836627</td>\n",
              "      <td>-10.295397</td>\n",
              "      <td>-2.6045506</td>\n",
              "      <td>-22.56568</td>\n",
              "      <td>-15.430084</td>\n",
              "      <td>0.0</td>\n",
              "      <td>0</td>\n",
              "    </tr>\n",
              "    <tr>\n",
              "      <th>4</th>\n",
              "      <td>max</td>\n",
              "      <td>172792</td>\n",
              "      <td>2.45493</td>\n",
              "      <td>22.05773</td>\n",
              "      <td>9.382559</td>\n",
              "      <td>16.875343</td>\n",
              "      <td>34.801666</td>\n",
              "      <td>73.30163</td>\n",
              "      <td>120.58949</td>\n",
              "      <td>20.007208</td>\n",
              "      <td>15.594995</td>\n",
              "      <td>23.745136</td>\n",
              "      <td>12.018913</td>\n",
              "      <td>7.848392</td>\n",
              "      <td>7.126883</td>\n",
              "      <td>10.526766</td>\n",
              "      <td>8.877742</td>\n",
              "      <td>17.315111</td>\n",
              "      <td>9.253527</td>\n",
              "      <td>5.041069</td>\n",
              "      <td>5.5919714</td>\n",
              "      <td>39.420906</td>\n",
              "      <td>27.202839</td>\n",
              "      <td>10.50309</td>\n",
              "      <td>22.528412</td>\n",
              "      <td>4.584549</td>\n",
              "      <td>7.5195885</td>\n",
              "      <td>3.5173457</td>\n",
              "      <td>31.612198</td>\n",
              "      <td>33.84781</td>\n",
              "      <td>25691.16</td>\n",
              "      <td>1</td>\n",
              "    </tr>\n",
              "  </tbody>\n",
              "</table>\n",
              "</div>"
            ],
            "text/plain": [
              "  summary               Time  ...             Amount                 Class\n",
              "0   count             283725  ...             283726                283726\n",
              "1    mean   94811.0593109525  ...  88.47268730080253  0.001667101358352777\n",
              "2  stddev  47481.13056592805  ...  250.3994368876579   0.04079617625933864\n",
              "3     min                  0  ...                0.0                     0\n",
              "4     max             172792  ...           25691.16                     1\n",
              "\n",
              "[5 rows x 32 columns]"
            ]
          },
          "metadata": {
            "tags": []
          }
        }
      ]
    },
    {
      "cell_type": "markdown",
      "metadata": {
        "id": "vBCtAwhcw1oh"
      },
      "source": [
        "Possiamo vedere che in uno dei record manca il campo del tempo, cerchiamo quindi di individuarlo ed, eventualmente, correggere l'errore.\n",
        "\n",
        "Cerchiamo nel file CSV il record che non inizia con un numero intero."
      ]
    },
    {
      "cell_type": "code",
      "metadata": {
        "colab": {
          "base_uri": "https://localhost:8080/"
        },
        "id": "woX8qrQJz9X8",
        "outputId": "20ac5ddd-2dde-4e5c-f295-26e1473bf26f"
      },
      "source": [
        "! grep -v \"^[0-9]*,\" creditcard.csv "
      ],
      "execution_count": 10,
      "outputs": [
        {
          "output_type": "stream",
          "text": [
            "\"Time\",\"V1\",\"V2\",\"V3\",\"V4\",\"V5\",\"V6\",\"V7\",\"V8\",\"V9\",\"V10\",\"V11\",\"V12\",\"V13\",\"V14\",\"V15\",\"V16\",\"V17\",\"V18\",\"V19\",\"V20\",\"V21\",\"V22\",\"V23\",\"V24\",\"V25\",\"V26\",\"V27\",\"V28\",\"Amount\",\"Class\"\n",
            "1e+05,-1.40863322829137,-1.624697936324,2.54774230369692,0.385671523516146,0.502790072699087,0.507194721385658,-1.74443114473473,0.760594225747498,3.00170400322912,-1.16309493493591,0.393516209370638,-1.9761080196344,0.231283936059375,0.526783847087809,-3.23246747614055,0.021830807795285,0.519902436567202,1.12642627868296,0.0800098779433671,0.209032736561698,0.21764082393781,0.758246770655715,0.281254134069628,0.736607975853892,-0.741402076374565,0.255349902866452,0.141944167181525,0.228167205092217,49.5,\"0\"\n"
          ],
          "name": "stdout"
        }
      ]
    },
    {
      "cell_type": "markdown",
      "metadata": {
        "id": "o6WdCQlf0Rmd"
      },
      "source": [
        "Risulta essere un record in cui il tempo è scritto in notazione scientifica come $1\\cdot 10^{5}$.\n",
        "Appartiene alla classe delle transazioni legittime già sovrarappresentata, quindi non è molto importante mantenerlo, ma lo correggiamo ugualmente sostituendo il valore `null` con $100000$. \n",
        "\n",
        "Essendoci soltanto una riga con tempo nullo possiamo utilizzare la trasformazione `withColumn` senza problemi. "
      ]
    },
    {
      "cell_type": "code",
      "metadata": {
        "colab": {
          "base_uri": "https://localhost:8080/",
          "height": 232
        },
        "id": "ZOEuyan4xXrk",
        "outputId": "33a6672c-2fb4-47fe-8fab-4e7470d6a294"
      },
      "source": [
        "records = records.withColumn(\"Time\",\n",
        "                             when(records[\"Time\"].isNull(),\n",
        "                                  100000) \\\n",
        "                             .otherwise(records[\"Time\"]))\n",
        "\n",
        "display(records.describe().toPandas())"
      ],
      "execution_count": 9,
      "outputs": [
        {
          "output_type": "display_data",
          "data": {
            "text/html": [
              "<div>\n",
              "<style scoped>\n",
              "    .dataframe tbody tr th:only-of-type {\n",
              "        vertical-align: middle;\n",
              "    }\n",
              "\n",
              "    .dataframe tbody tr th {\n",
              "        vertical-align: top;\n",
              "    }\n",
              "\n",
              "    .dataframe thead th {\n",
              "        text-align: right;\n",
              "    }\n",
              "</style>\n",
              "<table border=\"1\" class=\"dataframe\">\n",
              "  <thead>\n",
              "    <tr style=\"text-align: right;\">\n",
              "      <th></th>\n",
              "      <th>summary</th>\n",
              "      <th>Time</th>\n",
              "      <th>V1</th>\n",
              "      <th>V2</th>\n",
              "      <th>V3</th>\n",
              "      <th>V4</th>\n",
              "      <th>V5</th>\n",
              "      <th>V6</th>\n",
              "      <th>V7</th>\n",
              "      <th>V8</th>\n",
              "      <th>V9</th>\n",
              "      <th>V10</th>\n",
              "      <th>V11</th>\n",
              "      <th>V12</th>\n",
              "      <th>V13</th>\n",
              "      <th>V14</th>\n",
              "      <th>V15</th>\n",
              "      <th>V16</th>\n",
              "      <th>V17</th>\n",
              "      <th>V18</th>\n",
              "      <th>V19</th>\n",
              "      <th>V20</th>\n",
              "      <th>V21</th>\n",
              "      <th>V22</th>\n",
              "      <th>V23</th>\n",
              "      <th>V24</th>\n",
              "      <th>V25</th>\n",
              "      <th>V26</th>\n",
              "      <th>V27</th>\n",
              "      <th>V28</th>\n",
              "      <th>Amount</th>\n",
              "      <th>Class</th>\n",
              "    </tr>\n",
              "  </thead>\n",
              "  <tbody>\n",
              "    <tr>\n",
              "      <th>0</th>\n",
              "      <td>count</td>\n",
              "      <td>283726</td>\n",
              "      <td>283726</td>\n",
              "      <td>283726</td>\n",
              "      <td>283726</td>\n",
              "      <td>283726</td>\n",
              "      <td>283726</td>\n",
              "      <td>283726</td>\n",
              "      <td>283726</td>\n",
              "      <td>283726</td>\n",
              "      <td>283726</td>\n",
              "      <td>283726</td>\n",
              "      <td>283726</td>\n",
              "      <td>283726</td>\n",
              "      <td>283726</td>\n",
              "      <td>283726</td>\n",
              "      <td>283726</td>\n",
              "      <td>283726</td>\n",
              "      <td>283726</td>\n",
              "      <td>283726</td>\n",
              "      <td>283726</td>\n",
              "      <td>283726</td>\n",
              "      <td>283726</td>\n",
              "      <td>283726</td>\n",
              "      <td>283726</td>\n",
              "      <td>283726</td>\n",
              "      <td>283726</td>\n",
              "      <td>283726</td>\n",
              "      <td>283726</td>\n",
              "      <td>283726</td>\n",
              "      <td>283726</td>\n",
              "      <td>283726</td>\n",
              "    </tr>\n",
              "    <tr>\n",
              "      <th>1</th>\n",
              "      <td>mean</td>\n",
              "      <td>94811.07759951502</td>\n",
              "      <td>0.0059171496151878295</td>\n",
              "      <td>-0.004134755596655358</td>\n",
              "      <td>0.0016131194013566076</td>\n",
              "      <td>-0.0029663077763300767</td>\n",
              "      <td>0.0018275601352146962</td>\n",
              "      <td>-0.0011394883794042796</td>\n",
              "      <td>0.0018006916556496844</td>\n",
              "      <td>-8.544525275343677E-4</td>\n",
              "      <td>-0.0015961996029800678</td>\n",
              "      <td>-0.0014407104420079613</td>\n",
              "      <td>2.0175758274159E-4</td>\n",
              "      <td>-7.147876010724789E-4</td>\n",
              "      <td>6.033758161790353E-4</td>\n",
              "      <td>2.523172098282817E-4</td>\n",
              "      <td>0.0010428379946567953</td>\n",
              "      <td>0.0011620127510330307</td>\n",
              "      <td>1.7016099417563552E-4</td>\n",
              "      <td>0.0015151660271279712</td>\n",
              "      <td>-2.6426355734881E-4</td>\n",
              "      <td>1.8717529004213355E-4</td>\n",
              "      <td>-3.705931333337562E-4</td>\n",
              "      <td>-1.5027521572740273E-5</td>\n",
              "      <td>1.9817071581241128E-4</td>\n",
              "      <td>2.1420687436297502E-4</td>\n",
              "      <td>-2.3238699909439164E-4</td>\n",
              "      <td>1.4944104385428625E-4</td>\n",
              "      <td>0.001763031635814916</td>\n",
              "      <td>5.473120965431608E-4</td>\n",
              "      <td>88.47268730080253</td>\n",
              "      <td>0.001667101358352777</td>\n",
              "    </tr>\n",
              "    <tr>\n",
              "      <th>2</th>\n",
              "      <td>stddev</td>\n",
              "      <td>47481.047890619506</td>\n",
              "      <td>1.948026141905308</td>\n",
              "      <td>1.6467029644100455</td>\n",
              "      <td>1.508681915996848</td>\n",
              "      <td>1.4141840143251605</td>\n",
              "      <td>1.3770082799610668</td>\n",
              "      <td>1.331930591492362</td>\n",
              "      <td>1.227663895509697</td>\n",
              "      <td>1.1790544275868806</td>\n",
              "      <td>1.0954924812185733</td>\n",
              "      <td>1.076407350284195</td>\n",
              "      <td>1.0187201524646452</td>\n",
              "      <td>0.9946744452641615</td>\n",
              "      <td>0.995429636753189</td>\n",
              "      <td>0.9522150895082739</td>\n",
              "      <td>0.9148936334358042</td>\n",
              "      <td>0.8736963276905809</td>\n",
              "      <td>0.8425073208639574</td>\n",
              "      <td>0.8373775296067039</td>\n",
              "      <td>0.8133785530591242</td>\n",
              "      <td>0.769984241276464</td>\n",
              "      <td>0.723909366672215</td>\n",
              "      <td>0.7245504655227915</td>\n",
              "      <td>0.6237023784485339</td>\n",
              "      <td>0.6056266981900321</td>\n",
              "      <td>0.5212203166769496</td>\n",
              "      <td>0.4820529407603699</td>\n",
              "      <td>0.3957438805701256</td>\n",
              "      <td>0.32802660442911424</td>\n",
              "      <td>250.3994368876579</td>\n",
              "      <td>0.04079617625933864</td>\n",
              "    </tr>\n",
              "    <tr>\n",
              "      <th>3</th>\n",
              "      <td>min</td>\n",
              "      <td>0</td>\n",
              "      <td>-56.40751</td>\n",
              "      <td>-72.71573</td>\n",
              "      <td>-48.32559</td>\n",
              "      <td>-5.6831713</td>\n",
              "      <td>-113.74331</td>\n",
              "      <td>-26.160505</td>\n",
              "      <td>-43.557243</td>\n",
              "      <td>-73.21672</td>\n",
              "      <td>-13.434067</td>\n",
              "      <td>-24.588263</td>\n",
              "      <td>-4.7974734</td>\n",
              "      <td>-18.683714</td>\n",
              "      <td>-5.791881</td>\n",
              "      <td>-19.214325</td>\n",
              "      <td>-4.4989448</td>\n",
              "      <td>-14.129854</td>\n",
              "      <td>-25.1628</td>\n",
              "      <td>-9.498746</td>\n",
              "      <td>-7.213527</td>\n",
              "      <td>-54.49772</td>\n",
              "      <td>-34.830383</td>\n",
              "      <td>-10.933144</td>\n",
              "      <td>-44.807735</td>\n",
              "      <td>-2.836627</td>\n",
              "      <td>-10.295397</td>\n",
              "      <td>-2.6045506</td>\n",
              "      <td>-22.56568</td>\n",
              "      <td>-15.430084</td>\n",
              "      <td>0.0</td>\n",
              "      <td>0</td>\n",
              "    </tr>\n",
              "    <tr>\n",
              "      <th>4</th>\n",
              "      <td>max</td>\n",
              "      <td>172792</td>\n",
              "      <td>2.45493</td>\n",
              "      <td>22.05773</td>\n",
              "      <td>9.382559</td>\n",
              "      <td>16.875343</td>\n",
              "      <td>34.801666</td>\n",
              "      <td>73.30163</td>\n",
              "      <td>120.58949</td>\n",
              "      <td>20.007208</td>\n",
              "      <td>15.594995</td>\n",
              "      <td>23.745136</td>\n",
              "      <td>12.018913</td>\n",
              "      <td>7.848392</td>\n",
              "      <td>7.126883</td>\n",
              "      <td>10.526766</td>\n",
              "      <td>8.877742</td>\n",
              "      <td>17.315111</td>\n",
              "      <td>9.253527</td>\n",
              "      <td>5.041069</td>\n",
              "      <td>5.5919714</td>\n",
              "      <td>39.420906</td>\n",
              "      <td>27.202839</td>\n",
              "      <td>10.50309</td>\n",
              "      <td>22.528412</td>\n",
              "      <td>4.584549</td>\n",
              "      <td>7.5195885</td>\n",
              "      <td>3.5173457</td>\n",
              "      <td>31.612198</td>\n",
              "      <td>33.84781</td>\n",
              "      <td>25691.16</td>\n",
              "      <td>1</td>\n",
              "    </tr>\n",
              "  </tbody>\n",
              "</table>\n",
              "</div>"
            ],
            "text/plain": [
              "  summary                Time  ...             Amount                 Class\n",
              "0   count              283726  ...             283726                283726\n",
              "1    mean   94811.07759951502  ...  88.47268730080253  0.001667101358352777\n",
              "2  stddev  47481.047890619506  ...  250.3994368876579   0.04079617625933864\n",
              "3     min                   0  ...                0.0                     0\n",
              "4     max              172792  ...           25691.16                     1\n",
              "\n",
              "[5 rows x 32 columns]"
            ]
          },
          "metadata": {
            "tags": []
          }
        }
      ]
    },
    {
      "cell_type": "markdown",
      "metadata": {
        "id": "10-ntEiPSwYx"
      },
      "source": [
        "Il dataset è estremamente sbilanciato, è importante garantire la presenza di campioni di ogni classe in fase di addestramento e test, servirà quindi un campionamento stratificato.\n",
        "Creiamo una funzione per separare il dataset in base alla classe."
      ]
    },
    {
      "cell_type": "code",
      "metadata": {
        "id": "sMIdeb1eVE04",
        "colab": {
          "base_uri": "https://localhost:8080/",
          "height": 481
        },
        "outputId": "b4f19fb2-969f-45e7-f75c-6d63c9aa47d9"
      },
      "source": [
        "def split_categories(dataset, describe=False):\n",
        "  fraud = dataset.filter(dataset.Class.contains(1))\n",
        "  legit = dataset.filter(dataset.Class.contains(0))\n",
        "  \n",
        "  if describe :\n",
        "    print(\"Fraudolent transactions: \",fraud.count())\n",
        "    print(\"Legit transactions:      \",legit.count())\n",
        "    print(\"-\"*40)\n",
        "    print(\"Total transactions:      \",dataset.count())\n",
        "  \n",
        "    print(\"Fraudolent transactions summary:\")\n",
        "    display(fraud.describe().toPandas())\n",
        "    print(\"Legit transactions summary:\")\n",
        "    display(legit.describe().toPandas())\n",
        "    \n",
        "  return (fraud, legit)\n",
        "\n",
        "\n",
        "fraud, legit = split_categories(records, describe=True)"
      ],
      "execution_count": 10,
      "outputs": [
        {
          "output_type": "stream",
          "text": [
            "Fraudolent transactions:  473\n",
            "Legit transactions:       283253\n",
            "----------------------------------------\n",
            "Total transactions:       283726\n"
          ],
          "name": "stdout"
        },
        {
          "output_type": "display_data",
          "data": {
            "text/html": [
              "<div>\n",
              "<style scoped>\n",
              "    .dataframe tbody tr th:only-of-type {\n",
              "        vertical-align: middle;\n",
              "    }\n",
              "\n",
              "    .dataframe tbody tr th {\n",
              "        vertical-align: top;\n",
              "    }\n",
              "\n",
              "    .dataframe thead th {\n",
              "        text-align: right;\n",
              "    }\n",
              "</style>\n",
              "<table border=\"1\" class=\"dataframe\">\n",
              "  <thead>\n",
              "    <tr style=\"text-align: right;\">\n",
              "      <th></th>\n",
              "      <th>summary</th>\n",
              "      <th>Time</th>\n",
              "      <th>V1</th>\n",
              "      <th>V2</th>\n",
              "      <th>V3</th>\n",
              "      <th>V4</th>\n",
              "      <th>V5</th>\n",
              "      <th>V6</th>\n",
              "      <th>V7</th>\n",
              "      <th>V8</th>\n",
              "      <th>V9</th>\n",
              "      <th>V10</th>\n",
              "      <th>V11</th>\n",
              "      <th>V12</th>\n",
              "      <th>V13</th>\n",
              "      <th>V14</th>\n",
              "      <th>V15</th>\n",
              "      <th>V16</th>\n",
              "      <th>V17</th>\n",
              "      <th>V18</th>\n",
              "      <th>V19</th>\n",
              "      <th>V20</th>\n",
              "      <th>V21</th>\n",
              "      <th>V22</th>\n",
              "      <th>V23</th>\n",
              "      <th>V24</th>\n",
              "      <th>V25</th>\n",
              "      <th>V26</th>\n",
              "      <th>V27</th>\n",
              "      <th>V28</th>\n",
              "      <th>Amount</th>\n",
              "      <th>Class</th>\n",
              "    </tr>\n",
              "  </thead>\n",
              "  <tbody>\n",
              "    <tr>\n",
              "      <th>0</th>\n",
              "      <td>count</td>\n",
              "      <td>473</td>\n",
              "      <td>473</td>\n",
              "      <td>473</td>\n",
              "      <td>473</td>\n",
              "      <td>473</td>\n",
              "      <td>473</td>\n",
              "      <td>473</td>\n",
              "      <td>473</td>\n",
              "      <td>473</td>\n",
              "      <td>473</td>\n",
              "      <td>473</td>\n",
              "      <td>473</td>\n",
              "      <td>473</td>\n",
              "      <td>473</td>\n",
              "      <td>473</td>\n",
              "      <td>473</td>\n",
              "      <td>473</td>\n",
              "      <td>473</td>\n",
              "      <td>473</td>\n",
              "      <td>473</td>\n",
              "      <td>473</td>\n",
              "      <td>473</td>\n",
              "      <td>473</td>\n",
              "      <td>473</td>\n",
              "      <td>473</td>\n",
              "      <td>473</td>\n",
              "      <td>473</td>\n",
              "      <td>473</td>\n",
              "      <td>473</td>\n",
              "      <td>473</td>\n",
              "      <td>473</td>\n",
              "    </tr>\n",
              "    <tr>\n",
              "      <th>1</th>\n",
              "      <td>mean</td>\n",
              "      <td>80450.51374207188</td>\n",
              "      <td>-4.498280127541641</td>\n",
              "      <td>3.4059646808658974</td>\n",
              "      <td>-6.729598957119829</td>\n",
              "      <td>4.472591017542237</td>\n",
              "      <td>-2.9571967552481</td>\n",
              "      <td>-1.4325178676042667</td>\n",
              "      <td>-5.175912117902298</td>\n",
              "      <td>0.9532545857002668</td>\n",
              "      <td>-2.5221241465297157</td>\n",
              "      <td>-5.453274097600775</td>\n",
              "      <td>3.7163466153930402</td>\n",
              "      <td>-6.103254030578737</td>\n",
              "      <td>-0.09432409086656494</td>\n",
              "      <td>-6.835946011445613</td>\n",
              "      <td>-0.07282957323235174</td>\n",
              "      <td>-4.000956273911399</td>\n",
              "      <td>-6.463285283364717</td>\n",
              "      <td>-2.1570708822325093</td>\n",
              "      <td>0.6691429929639927</td>\n",
              "      <td>0.405042828762132</td>\n",
              "      <td>0.4665503255219591</td>\n",
              "      <td>0.08663875736437943</td>\n",
              "      <td>-0.09646415969787114</td>\n",
              "      <td>-0.1066429800007898</td>\n",
              "      <td>0.04061511687675325</td>\n",
              "      <td>0.05045623097899291</td>\n",
              "      <td>0.2137737536100858</td>\n",
              "      <td>0.07827024681672816</td>\n",
              "      <td>123.8718610007757</td>\n",
              "      <td>1.0</td>\n",
              "    </tr>\n",
              "    <tr>\n",
              "      <th>2</th>\n",
              "      <td>stddev</td>\n",
              "      <td>48636.179973291546</td>\n",
              "      <td>6.593145389253788</td>\n",
              "      <td>4.122500167707574</td>\n",
              "      <td>6.909647332730045</td>\n",
              "      <td>2.871522665845248</td>\n",
              "      <td>5.27883114221415</td>\n",
              "      <td>1.7153474007643992</td>\n",
              "      <td>6.85802392082861</td>\n",
              "      <td>5.585949608500923</td>\n",
              "      <td>2.4650465864475235</td>\n",
              "      <td>4.706451133302745</td>\n",
              "      <td>2.672817434766687</td>\n",
              "      <td>4.582330528846759</td>\n",
              "      <td>1.108000621030718</td>\n",
              "      <td>4.253209563446225</td>\n",
              "      <td>1.0456310212079307</td>\n",
              "      <td>3.8317244760769102</td>\n",
              "      <td>6.965743558693856</td>\n",
              "      <td>2.9018146192872254</td>\n",
              "      <td>1.5342461928383615</td>\n",
              "      <td>1.289414485161323</td>\n",
              "      <td>2.731190803772146</td>\n",
              "      <td>1.18129490098165</td>\n",
              "      <td>1.5085698187859555</td>\n",
              "      <td>0.5178998978573122</td>\n",
              "      <td>0.8067851930499493</td>\n",
              "      <td>0.4630160321386652</td>\n",
              "      <td>1.2457786167172924</td>\n",
              "      <td>0.5330995761736647</td>\n",
              "      <td>260.21104496665583</td>\n",
              "      <td>0.0</td>\n",
              "    </tr>\n",
              "    <tr>\n",
              "      <th>3</th>\n",
              "      <td>min</td>\n",
              "      <td>406</td>\n",
              "      <td>-30.55238</td>\n",
              "      <td>-8.402154</td>\n",
              "      <td>-31.103685</td>\n",
              "      <td>-1.3132749</td>\n",
              "      <td>-22.105532</td>\n",
              "      <td>-6.4062667</td>\n",
              "      <td>-43.557243</td>\n",
              "      <td>-41.044262</td>\n",
              "      <td>-13.434067</td>\n",
              "      <td>-24.588263</td>\n",
              "      <td>-1.7022284</td>\n",
              "      <td>-18.683714</td>\n",
              "      <td>-3.127795</td>\n",
              "      <td>-19.214325</td>\n",
              "      <td>-4.4989448</td>\n",
              "      <td>-14.129854</td>\n",
              "      <td>-25.1628</td>\n",
              "      <td>-9.498746</td>\n",
              "      <td>-3.6819036</td>\n",
              "      <td>-4.1281857</td>\n",
              "      <td>-22.797604</td>\n",
              "      <td>-8.887017</td>\n",
              "      <td>-19.254328</td>\n",
              "      <td>-2.0280242</td>\n",
              "      <td>-4.7816057</td>\n",
              "      <td>-1.1526711</td>\n",
              "      <td>-7.263482</td>\n",
              "      <td>-1.8692905</td>\n",
              "      <td>0.0</td>\n",
              "      <td>1</td>\n",
              "    </tr>\n",
              "    <tr>\n",
              "      <th>4</th>\n",
              "      <td>max</td>\n",
              "      <td>170348</td>\n",
              "      <td>2.132386</td>\n",
              "      <td>22.05773</td>\n",
              "      <td>2.2502096</td>\n",
              "      <td>12.114672</td>\n",
              "      <td>11.095089</td>\n",
              "      <td>6.4741144</td>\n",
              "      <td>5.8025374</td>\n",
              "      <td>20.007208</td>\n",
              "      <td>3.353525</td>\n",
              "      <td>4.031435</td>\n",
              "      <td>12.018913</td>\n",
              "      <td>1.3759414</td>\n",
              "      <td>2.8154397</td>\n",
              "      <td>3.442422</td>\n",
              "      <td>2.4713578</td>\n",
              "      <td>3.1396556</td>\n",
              "      <td>6.739384</td>\n",
              "      <td>3.790316</td>\n",
              "      <td>5.2283416</td>\n",
              "      <td>11.059004</td>\n",
              "      <td>27.202839</td>\n",
              "      <td>8.361985</td>\n",
              "      <td>5.46623</td>\n",
              "      <td>1.0914347</td>\n",
              "      <td>2.2082093</td>\n",
              "      <td>2.7452607</td>\n",
              "      <td>3.0523577</td>\n",
              "      <td>1.7793639</td>\n",
              "      <td>2125.87</td>\n",
              "      <td>1</td>\n",
              "    </tr>\n",
              "  </tbody>\n",
              "</table>\n",
              "</div>"
            ],
            "text/plain": [
              "  summary                Time  ...              Amount Class\n",
              "0   count                 473  ...                 473   473\n",
              "1    mean   80450.51374207188  ...   123.8718610007757   1.0\n",
              "2  stddev  48636.179973291546  ...  260.21104496665583   0.0\n",
              "3     min                 406  ...                 0.0     1\n",
              "4     max              170348  ...             2125.87     1\n",
              "\n",
              "[5 rows x 32 columns]"
            ]
          },
          "metadata": {
            "tags": []
          }
        },
        {
          "output_type": "display_data",
          "data": {
            "text/html": [
              "<div>\n",
              "<style scoped>\n",
              "    .dataframe tbody tr th:only-of-type {\n",
              "        vertical-align: middle;\n",
              "    }\n",
              "\n",
              "    .dataframe tbody tr th {\n",
              "        vertical-align: top;\n",
              "    }\n",
              "\n",
              "    .dataframe thead th {\n",
              "        text-align: right;\n",
              "    }\n",
              "</style>\n",
              "<table border=\"1\" class=\"dataframe\">\n",
              "  <thead>\n",
              "    <tr style=\"text-align: right;\">\n",
              "      <th></th>\n",
              "      <th>summary</th>\n",
              "      <th>Time</th>\n",
              "      <th>V1</th>\n",
              "      <th>V2</th>\n",
              "      <th>V3</th>\n",
              "      <th>V4</th>\n",
              "      <th>V5</th>\n",
              "      <th>V6</th>\n",
              "      <th>V7</th>\n",
              "      <th>V8</th>\n",
              "      <th>V9</th>\n",
              "      <th>V10</th>\n",
              "      <th>V11</th>\n",
              "      <th>V12</th>\n",
              "      <th>V13</th>\n",
              "      <th>V14</th>\n",
              "      <th>V15</th>\n",
              "      <th>V16</th>\n",
              "      <th>V17</th>\n",
              "      <th>V18</th>\n",
              "      <th>V19</th>\n",
              "      <th>V20</th>\n",
              "      <th>V21</th>\n",
              "      <th>V22</th>\n",
              "      <th>V23</th>\n",
              "      <th>V24</th>\n",
              "      <th>V25</th>\n",
              "      <th>V26</th>\n",
              "      <th>V27</th>\n",
              "      <th>V28</th>\n",
              "      <th>Amount</th>\n",
              "      <th>Class</th>\n",
              "    </tr>\n",
              "  </thead>\n",
              "  <tbody>\n",
              "    <tr>\n",
              "      <th>0</th>\n",
              "      <td>count</td>\n",
              "      <td>283253</td>\n",
              "      <td>283253</td>\n",
              "      <td>283253</td>\n",
              "      <td>283253</td>\n",
              "      <td>283253</td>\n",
              "      <td>283253</td>\n",
              "      <td>283253</td>\n",
              "      <td>283253</td>\n",
              "      <td>283253</td>\n",
              "      <td>283253</td>\n",
              "      <td>283253</td>\n",
              "      <td>283253</td>\n",
              "      <td>283253</td>\n",
              "      <td>283253</td>\n",
              "      <td>283253</td>\n",
              "      <td>283253</td>\n",
              "      <td>283253</td>\n",
              "      <td>283253</td>\n",
              "      <td>283253</td>\n",
              "      <td>283253</td>\n",
              "      <td>283253</td>\n",
              "      <td>283253</td>\n",
              "      <td>283253</td>\n",
              "      <td>283253</td>\n",
              "      <td>283253</td>\n",
              "      <td>283253</td>\n",
              "      <td>283253</td>\n",
              "      <td>283253</td>\n",
              "      <td>283253</td>\n",
              "      <td>283253</td>\n",
              "      <td>283253</td>\n",
              "    </tr>\n",
              "    <tr>\n",
              "      <th>1</th>\n",
              "      <td>mean</td>\n",
              "      <td>94835.05809294165</td>\n",
              "      <td>0.013438642104570749</td>\n",
              "      <td>-0.009829230265756083</td>\n",
              "      <td>0.012853471002909001</td>\n",
              "      <td>-0.01043997483325686</td>\n",
              "      <td>0.006768791123681925</td>\n",
              "      <td>0.0012507492292825125</td>\n",
              "      <td>0.010446877782260555</td>\n",
              "      <td>-0.0024477051147329142</td>\n",
              "      <td>0.0026127927780232965</td>\n",
              "      <td>0.007663225587358353</td>\n",
              "      <td>-0.006003777814038926</td>\n",
              "      <td>0.00947575252358087</td>\n",
              "      <td>7.618937903609077E-4</td>\n",
              "      <td>0.011667983802782368</td>\n",
              "      <td>0.001166196442794591</td>\n",
              "      <td>0.007845090951762874</td>\n",
              "      <td>0.010963389751441248</td>\n",
              "      <td>0.005119756978774761</td>\n",
              "      <td>-0.0013820968453796324</td>\n",
              "      <td>-4.88887184467575E-4</td>\n",
              "      <td>-0.0011502974772381578</td>\n",
              "      <td>-1.5972939675519332E-4</td>\n",
              "      <td>3.595857133081918E-4</td>\n",
              "      <td>3.926461120478266E-4</td>\n",
              "      <td>-3.0059764234715837E-4</td>\n",
              "      <td>6.543447855993607E-5</td>\n",
              "      <td>0.001408998063376742</td>\n",
              "      <td>4.1752371611065883E-4</td>\n",
              "      <td>88.41357474361834</td>\n",
              "      <td>0.0</td>\n",
              "    </tr>\n",
              "    <tr>\n",
              "      <th>2</th>\n",
              "      <td>stddev</td>\n",
              "      <td>47475.55060678742</td>\n",
              "      <td>1.9221789216971121</td>\n",
              "      <td>1.6335200481234662</td>\n",
              "      <td>1.4575927959597288</td>\n",
              "      <td>1.3985746513082402</td>\n",
              "      <td>1.3558162028216862</td>\n",
              "      <td>1.3299140443567343</td>\n",
              "      <td>1.1774803401210014</td>\n",
              "      <td>1.1571399740545782</td>\n",
              "      <td>1.0869018436584412</td>\n",
              "      <td>1.03632059799942</td>\n",
              "      <td>1.0022574945385545</td>\n",
              "      <td>0.9453821110365817</td>\n",
              "      <td>0.9952256113510618</td>\n",
              "      <td>0.8943786768612839</td>\n",
              "      <td>0.914656807866549</td>\n",
              "      <td>0.8446082250202864</td>\n",
              "      <td>0.748512626760154</td>\n",
              "      <td>0.824952470905795</td>\n",
              "      <td>0.8111827424354725</td>\n",
              "      <td>0.768648898936912</td>\n",
              "      <td>0.7156291938210353</td>\n",
              "      <td>0.7235413808156624</td>\n",
              "      <td>0.6211653147674734</td>\n",
              "      <td>0.6057475837383258</td>\n",
              "      <td>0.5206119955246402</td>\n",
              "      <td>0.4820804961004177</td>\n",
              "      <td>0.39270017710615235</td>\n",
              "      <td>0.32756290978766794</td>\n",
              "      <td>250.37902267664762</td>\n",
              "      <td>0.0</td>\n",
              "    </tr>\n",
              "    <tr>\n",
              "      <th>3</th>\n",
              "      <td>min</td>\n",
              "      <td>0</td>\n",
              "      <td>-56.40751</td>\n",
              "      <td>-72.71573</td>\n",
              "      <td>-48.32559</td>\n",
              "      <td>-5.6831713</td>\n",
              "      <td>-113.74331</td>\n",
              "      <td>-26.160505</td>\n",
              "      <td>-31.764946</td>\n",
              "      <td>-73.21672</td>\n",
              "      <td>-6.2907305</td>\n",
              "      <td>-14.7410965</td>\n",
              "      <td>-4.7974734</td>\n",
              "      <td>-15.144988</td>\n",
              "      <td>-5.791881</td>\n",
              "      <td>-18.392092</td>\n",
              "      <td>-4.391307</td>\n",
              "      <td>-10.11556</td>\n",
              "      <td>-17.098444</td>\n",
              "      <td>-5.36666</td>\n",
              "      <td>-7.213527</td>\n",
              "      <td>-54.49772</td>\n",
              "      <td>-34.830383</td>\n",
              "      <td>-10.933144</td>\n",
              "      <td>-44.807735</td>\n",
              "      <td>-2.836627</td>\n",
              "      <td>-10.295397</td>\n",
              "      <td>-2.6045506</td>\n",
              "      <td>-22.56568</td>\n",
              "      <td>-15.430084</td>\n",
              "      <td>0.0</td>\n",
              "      <td>0</td>\n",
              "    </tr>\n",
              "    <tr>\n",
              "      <th>4</th>\n",
              "      <td>max</td>\n",
              "      <td>172792</td>\n",
              "      <td>2.45493</td>\n",
              "      <td>18.902452</td>\n",
              "      <td>9.382559</td>\n",
              "      <td>16.875343</td>\n",
              "      <td>34.801666</td>\n",
              "      <td>73.30163</td>\n",
              "      <td>120.58949</td>\n",
              "      <td>18.709255</td>\n",
              "      <td>15.594995</td>\n",
              "      <td>23.745136</td>\n",
              "      <td>10.002191</td>\n",
              "      <td>7.848392</td>\n",
              "      <td>7.126883</td>\n",
              "      <td>10.526766</td>\n",
              "      <td>8.877742</td>\n",
              "      <td>17.315111</td>\n",
              "      <td>9.253527</td>\n",
              "      <td>5.041069</td>\n",
              "      <td>5.5919714</td>\n",
              "      <td>39.420906</td>\n",
              "      <td>22.61489</td>\n",
              "      <td>10.50309</td>\n",
              "      <td>22.528412</td>\n",
              "      <td>4.584549</td>\n",
              "      <td>7.5195885</td>\n",
              "      <td>3.5173457</td>\n",
              "      <td>31.612198</td>\n",
              "      <td>33.84781</td>\n",
              "      <td>25691.16</td>\n",
              "      <td>0</td>\n",
              "    </tr>\n",
              "  </tbody>\n",
              "</table>\n",
              "</div>"
            ],
            "text/plain": [
              "  summary               Time  ...              Amount   Class\n",
              "0   count             283253  ...              283253  283253\n",
              "1    mean  94835.05809294165  ...   88.41357474361834     0.0\n",
              "2  stddev  47475.55060678742  ...  250.37902267664762     0.0\n",
              "3     min                  0  ...                 0.0       0\n",
              "4     max             172792  ...            25691.16       0\n",
              "\n",
              "[5 rows x 32 columns]"
            ]
          },
          "metadata": {
            "tags": []
          }
        }
      ]
    },
    {
      "cell_type": "code",
      "metadata": {
        "id": "7KwIlM6_wgdY"
      },
      "source": [
        "import numpy as np\n",
        "from scipy.stats import entropy\n",
        "from math import log\n",
        "import pandas as pd   \n",
        "\n"
      ],
      "execution_count": 12,
      "outputs": []
    },
    {
      "cell_type": "markdown",
      "metadata": {
        "id": "TsnCfNU1ytA9"
      },
      "source": [
        "I descrittori statistici ottenuti precedentemente sono abbastanza differenti per le due classi, osserviamo adesso la forma delle distribuzioni delle varie feature."
      ]
    },
    {
      "cell_type": "code",
      "metadata": {
        "id": "vA3FWVQxERNS"
      },
      "source": [
        "import matplotlib.pyplot as plt\n",
        "import seaborn as sn\n",
        "\n",
        "\n",
        "%matplotlib inline\n"
      ],
      "execution_count": 13,
      "outputs": []
    },
    {
      "cell_type": "code",
      "metadata": {
        "id": "tSBQAEBjr-Oo",
        "colab": {
          "base_uri": "https://localhost:8080/",
          "height": 1000
        },
        "outputId": "b0a5b8d5-d076-472d-8d81-e6b6dc28e9d8"
      },
      "source": [
        "for col in fraud.columns[0:-1]:\n",
        "  hist_f = fraud.select(col).rdd.flatMap(lambda x: x).histogram(30)\n",
        "  hist_l = legit.select(col).rdd.flatMap(lambda x: x).histogram(30)\n",
        "  # Loading the Computed Histogram into a Pandas Dataframe for plotting\n",
        "  fig = plt.figure()\n",
        "  plt.title(col)\n",
        "  plt.axis(True)\n",
        "  plt.bar(hist_l[0][0:-1],hist_l[1]/np.sum(hist_l[1]), width=np.diff(hist_l[0]))\n",
        "  plt.bar(hist_f[0][0:-1],hist_f[1]/np.sum(hist_f[1]), width=np.diff(hist_f[0]))\n",
        "  plt.legend([\"Legit\",\"Fraud\"])\n",
        "\n",
        "  plt.show()"
      ],
      "execution_count": 66,
      "outputs": [
        {
          "output_type": "display_data",
          "data": {
            "image/png": "[encoded data removed]",
            "text/plain": [
              "<Figure size 432x288 with 1 Axes>"
            ]
          },
          "metadata": {
            "tags": [],
            "needs_background": "light"
          }
        },
        {
          "output_type": "display_data",
          "data": {
            "image/png": "[encoded data removed]",
            "text/plain": [
              "<Figure size 432x288 with 1 Axes>"
            ]
          },
          "metadata": {
            "tags": [],
            "needs_background": "light"
          }
        },
        {
          "output_type": "display_data",
          "data": {
            "image/png": "[encoded data removed]",
            "text/plain": [
              "<Figure size 432x288 with 1 Axes>"
            ]
          },
          "metadata": {
            "tags": [],
            "needs_background": "light"
          }
        },
        {
          "output_type": "display_data",
          "data": {
            "image/png": "[encoded data removed]",
            "text/plain": [
              "<Figure size 432x288 with 1 Axes>"
            ]
          },
          "metadata": {
            "tags": [],
            "needs_background": "light"
          }
        },
        {
          "output_type": "display_data",
          "data": {
            "image/png": "[encoded data removed]",
            "text/plain": [
              "<Figure size 432x288 with 1 Axes>"
            ]
          },
          "metadata": {
            "tags": [],
            "needs_background": "light"
          }
        },
        {
          "output_type": "display_data",
          "data": {
            "image/png": "[encoded data removed]",
            "text/plain": [
              "<Figure size 432x288 with 1 Axes>"
            ]
          },
          "metadata": {
            "tags": [],
            "needs_background": "light"
          }
        },
        {
          "output_type": "display_data",
          "data": {
            "image/png": "[encoded data removed]",
            "text/plain": [
              "<Figure size 432x288 with 1 Axes>"
            ]
          },
          "metadata": {
            "tags": [],
            "needs_background": "light"
          }
        },
        {
          "output_type": "display_data",
          "data": {
            "image/png": "[encoded data removed]",
            "text/plain": [
              "<Figure size 432x288 with 1 Axes>"
            ]
          },
          "metadata": {
            "tags": [],
            "needs_background": "light"
          }
        },
        {
          "output_type": "display_data",
          "data": {
            "image/png": "[encoded data removed]",
            "text/plain": [
              "<Figure size 432x288 with 1 Axes>"
            ]
          },
          "metadata": {
            "tags": [],
            "needs_background": "light"
          }
        },
        {
          "output_type": "display_data",
          "data": {
            "image/png": "[encoded data removed]",
            "text/plain": [
              "<Figure size 432x288 with 1 Axes>"
            ]
          },
          "metadata": {
            "tags": [],
            "needs_background": "light"
          }
        },
        {
          "output_type": "display_data",
          "data": {
            "image/png": "[encoded data removed]",
            "text/plain": [
              "<Figure size 432x288 with 1 Axes>"
            ]
          },
          "metadata": {
            "tags": [],
            "needs_background": "light"
          }
        },
        {
          "output_type": "display_data",
          "data": {
            "image/png": "[encoded data removed]",
            "text/plain": [
              "<Figure size 432x288 with 1 Axes>"
            ]
          },
          "metadata": {
            "tags": [],
            "needs_background": "light"
          }
        },
        {
          "output_type": "display_data",
          "data": {
            "image/png": "[encoded data removed]",
            "text/plain": [
              "<Figure size 432x288 with 1 Axes>"
            ]
          },
          "metadata": {
            "tags": [],
            "needs_background": "light"
          }
        },
        {
          "output_type": "display_data",
          "data": {
            "image/png": "[encoded data removed]",
            "text/plain": [
              "<Figure size 432x288 with 1 Axes>"
            ]
          },
          "metadata": {
            "tags": [],
            "needs_background": "light"
          }
        },
        {
          "output_type": "display_data",
          "data": {
            "image/png": "[encoded data removed]",
            "text/plain": [
              "<Figure size 432x288 with 1 Axes>"
            ]
          },
          "metadata": {
            "tags": [],
            "needs_background": "light"
          }
        },
        {
          "output_type": "display_data",
          "data": {
            "image/png": "[encoded data removed]",
            "text/plain": [
              "<Figure size 432x288 with 1 Axes>"
            ]
          },
          "metadata": {
            "tags": [],
            "needs_background": "light"
          }
        },
        {
          "output_type": "display_data",
          "data": {
            "image/png": "[encoded data removed]",
            "text/plain": [
              "<Figure size 432x288 with 1 Axes>"
            ]
          },
          "metadata": {
            "tags": [],
            "needs_background": "light"
          }
        },
        {
          "output_type": "display_data",
          "data": {
            "image/png": "[encoded data removed]",
            "text/plain": [
              "<Figure size 432x288 with 1 Axes>"
            ]
          },
          "metadata": {
            "tags": [],
            "needs_background": "light"
          }
        },
        {
          "output_type": "display_data",
          "data": {
            "image/png": "[encoded data removed]",
            "text/plain": [
              "<Figure size 432x288 with 1 Axes>"
            ]
          },
          "metadata": {
            "tags": [],
            "needs_background": "light"
          }
        },
        {
          "output_type": "display_data",
          "data": {
            "image/png": "[encoded data removed]",
            "text/plain": [
              "<Figure size 432x288 with 1 Axes>"
            ]
          },
          "metadata": {
            "tags": [],
            "needs_background": "light"
          }
        },
        {
          "output_type": "display_data",
          "data": {
            "image/png": "[encoded data removed]",
            "text/plain": [
              "<Figure size 432x288 with 1 Axes>"
            ]
          },
          "metadata": {
            "tags": [],
            "needs_background": "light"
          }
        },
        {
          "output_type": "display_data",
          "data": {
            "image/png": "[encoded data removed]",
            "text/plain": [
              "<Figure size 432x288 with 1 Axes>"
            ]
          },
          "metadata": {
            "tags": [],
            "needs_background": "light"
          }
        },
        {
          "output_type": "display_data",
          "data": {
            "image/png": "[encoded data removed]",
            "text/plain": [
              "<Figure size 432x288 with 1 Axes>"
            ]
          },
          "metadata": {
            "tags": [],
            "needs_background": "light"
          }
        },
        {
          "output_type": "display_data",
          "data": {
            "image/png": "[encoded data removed]",
            "text/plain": [
              "<Figure size 432x288 with 1 Axes>"
            ]
          },
          "metadata": {
            "tags": [],
            "needs_background": "light"
          }
        },
        {
          "output_type": "display_data",
          "data": {
            "image/png": "[encoded data removed]",
            "text/plain": [
              "<Figure size 432x288 with 1 Axes>"
            ]
          },
          "metadata": {
            "tags": [],
            "needs_background": "light"
          }
        },
        {
          "output_type": "display_data",
          "data": {
            "image/png": "[encoded data removed]",
            "text/plain": [
              "<Figure size 432x288 with 1 Axes>"
            ]
          },
          "metadata": {
            "tags": [],
            "needs_background": "light"
          }
        },
        {
          "output_type": "display_data",
          "data": {
            "image/png": "[encoded data removed]",
            "text/plain": [
              "<Figure size 432x288 with 1 Axes>"
            ]
          },
          "metadata": {
            "tags": [],
            "needs_background": "light"
          }
        },
        {
          "output_type": "display_data",
          "data": {
            "image/png": "[encoded data removed]",
            "text/plain": [
              "<Figure size 432x288 with 1 Axes>"
            ]
          },
          "metadata": {
            "tags": [],
            "needs_background": "light"
          }
        },
        {
          "output_type": "display_data",
          "data": {
            "image/png": "[encoded data removed]",
            "text/plain": [
              "<Figure size 432x288 with 1 Axes>"
            ]
          },
          "metadata": {
            "tags": [],
            "needs_background": "light"
          }
        },
        {
          "output_type": "display_data",
          "data": {
            "image/png": "[encoded data removed]",
            "text/plain": [
              "<Figure size 432x288 with 1 Axes>"
            ]
          },
          "metadata": {
            "tags": [],
            "needs_background": "light"
          }
        }
      ]
    },
    {
      "cell_type": "markdown",
      "metadata": {
        "id": "FL3buxKv0XE2"
      },
      "source": [
        "La differenza tra le due distribuzioni è meno evidente ad una analisi visiva di natura qualitativa, calcoliamo quindi la divergenza di Kullback-Leibler $D_{KL}(Fraud || Legit)$ per avere informazioni quantitative sulla differenza tra le distribuzioni.\n",
        "\n",
        "Per farlo approssimiamo le distribuzioni continue con delle distribuzioni gaussiane, per le quali è possibile ottenere una forma analitica chiusa della divergenza a partire da semplici descrittori statistici:\n",
        "\n",
        " $D_{KL}(N(\\mu_1,\\sigma_1)||N(\\mu_2,\\sigma_2)) =\n",
        " log{\\frac{\\sigma_2}{\\sigma_1}} + \n",
        " \\frac{\\sigma_1^2 + (\\mu_1 – \\mu_2)^2}\n",
        "      {2\\sigma_2^2} \n",
        " - \\frac{1}{2}$\n",
        "\n",
        "Data la forma degli istogrammi visti precedentemente, si potrebbero ottenere risultati più precisi utilizzando una distribuzione gamma, ma il calcolo della divergenza risulta meno immediato."
      ]
    },
    {
      "cell_type": "code",
      "metadata": {
        "colab": {
          "base_uri": "https://localhost:8080/"
        },
        "id": "xDeyJCu-0IPj",
        "outputId": "db3b6710-9b77-4794-e604-9187cd02288a"
      },
      "source": [
        "stats_f = fraud.describe().toPandas()\n",
        "stats_l = legit.describe().toPandas()\n",
        "\n",
        "import numpy as np\n",
        "\n",
        "def scale_params(m1,m2,M1,M2,p):\n",
        "  m = np.minimum(float(m1),float(m2))\n",
        "  M = np.maximum(float(m1),float(m2))\n",
        "  return (float(p))#-m)/(M-m)\n",
        "\n",
        "def divergence_norm(m_1,s_1,m_2,s_2):\n",
        "  m_1 = float(m_1)\n",
        "  s_1 = float(s_1)\n",
        "  m_2 = float(m_2)\n",
        "  s_2 = float(s_2)\n",
        "\n",
        "  k1 = np.log(s_2/s_1)\n",
        "  k2 = ((s_1**2)+(m_1-m_2)**2)/(2*s_2**2)\n",
        "  return k1+k2-0.5\n",
        "\n",
        "for col in fraud.columns[0:-1]:\n",
        "  \"\"\"\n",
        "  m1 = scale_params(stats_f.loc[3,col], stats_l.loc[3,col], \n",
        "                stats_f.loc[4,col], stats_l.loc[4,col], stats_f.loc[1,col])\n",
        "  s1 = scale_params(stats_f.loc[3,col], stats_l.loc[3,col], \n",
        "                stats_f.loc[4,col], stats_l.loc[4,col], stats_f.loc[2,col]) \n",
        "  m2 = scale_params(stats_f.loc[3,col], stats_l.loc[3,col], \n",
        "                stats_f.loc[4,col], stats_l.loc[4,col], stats_l.loc[1,col])\n",
        "  s2 = scale_params(stats_f.loc[3,col], stats_l.loc[3,col], \n",
        "                stats_f.loc[4,col], stats_l.loc[4,col], stats_l.loc[2,col])\n",
        "  \"\"\"\n",
        "  m1 = float(stats_f.loc[1,col])\n",
        "  s1 = float(stats_f.loc[2,col]) \n",
        "  m2 = float(stats_l.loc[1,col])\n",
        "  s2 = float(stats_l.loc[2,col])\n",
        "\n",
        "  print(\"Divergenza per la variabile\",col,\":     \",\n",
        "         divergence_norm(m1,s2,m2,s2))"
      ],
      "execution_count": 94,
      "outputs": [
        {
          "output_type": "stream",
          "text": [
            "Divergenza per la variabile Time :      0.045901005902804104\n",
            "Divergenza per la variabile V1 :      2.7546499918778444\n",
            "Divergenza per la variabile V2 :      2.1862729758306476\n",
            "Divergenza per la variabile V3 :      10.698757895302911\n",
            "Divergenza per la variabile V4 :      5.137385809841979\n",
            "Divergenza per la variabile V5 :      2.3895419927138897\n",
            "Divergenza per la variabile V6 :      0.5811403087249838\n",
            "Divergenza per la variabile V7 :      9.700359395707986\n",
            "Divergenza per la variabile V8 :      0.34106995568385734\n",
            "Divergenza per la variabile V9 :      2.6978737464573097\n",
            "Divergenza per la variabile V10 :      13.88404868192385\n",
            "Divergenza per la variabile V11 :      6.8967722257445665\n",
            "Divergenza per la variabile V12 :      20.90381917890572\n",
            "Divergenza per la variabile V13 :      0.004564150254591004\n",
            "Divergenza per la variabile V14 :      29.309315307472534\n",
            "Divergenza per la variabile V15 :      0.0032724080000617883\n",
            "Divergenza per la variabile V16 :      11.263891715414603\n",
            "Divergenza per la variabile V17 :      37.406794638938145\n",
            "Divergenza per la variabile V18 :      3.4347894051723213\n",
            "Divergenza per la variabile V19 :      0.3416352421855723\n",
            "Divergenza per la variabile V20 :      0.13917577108657675\n",
            "Divergenza per la variabile V21 :      0.2135648637084503\n",
            "Divergenza per la variabile V22 :      0.007195609113758938\n",
            "Divergenza per la variabile V23 :      0.012148407931652283\n",
            "Divergenza per la variabile V24 :      0.015611453187092561\n",
            "Divergenza per la variabile V25 :      0.0030883175024430942\n",
            "Divergenza per la variabile V26 :      0.005463026761374334\n",
            "Divergenza per la variabile V27 :      0.146221991372107\n",
            "Divergenza per la variabile V28 :      0.028244128526462853\n",
            "Divergenza per la variabile Amount :      0.010027891079991136\n"
          ],
          "name": "stdout"
        }
      ]
    },
    {
      "cell_type": "markdown",
      "metadata": {
        "id": "8T91cwJzLb0x"
      },
      "source": [
        "Featue | Divergenza\n",
        "-|-\n",
        " V17  | 37.4065 \n",
        " V14  | 29.3094 \n",
        " V12  | 20.903 \n",
        " V10  | 13.884 \n",
        " V16  | 11.2633 \n",
        " V3  | 10.6981 \n",
        " V7  | 9.70030 \n",
        " V11  | 6.89675 \n",
        " V4  | 5.1373 \n",
        " V18  | 3.43473 \n",
        " V1  | 2.75464 \n",
        " V9  | 2.69787 \n",
        " V5  | 2.38957 \n",
        " V2  | 2.18626 \n",
        " V6  | 0.58118 \n",
        " V19  | 0.34163 \n",
        " V8  | 0.34103 \n",
        " V21  | 0.21353 \n",
        " V27  | 0.1462 \n",
        " V20  | 0.13917 \n",
        " Time  | 0.04591 \n",
        " V28  | 0.02828 \n",
        " V24  | 0.01565 \n",
        " V23  | 0.01212 \n",
        " Amount  | 0.01001 \n",
        " V22  | 0.00719 \n",
        " V26  | 0.00543 \n",
        " V13  | 0.0045004 \n",
        " V15  | 0.00327 \n",
        " V25  | 0.00300 \n",
        "\n",
        "Da questa analisi vediamo come le feature che, secondo la PCA, sono responsabili della maggior parte della variazione non sono necessariamente le migliori per differenziare le due classi."
      ]
    },
    {
      "cell_type": "code",
      "metadata": {
        "id": "jZyXWdAuQ9Sl",
        "colab": {
          "base_uri": "https://localhost:8080/",
          "height": 273
        },
        "outputId": "9a0a5d69-329f-41d2-b878-437d0633c0c2"
      },
      "source": [
        "legit_v1    =legit.select(\"V1\").toPandas()\n",
        "legit_v2    =legit.select(\"V2\").toPandas()\n",
        "legit_v3    =legit.select(\"V3\").toPandas()\n",
        "\n",
        "legit_v17 =legit.select(\"V17\").toPandas()\n",
        "legit_v14 =legit.select(\"V14\").toPandas()\n",
        "legit_v12 =legit.select(\"V12\").toPandas()\n",
        "\n",
        "fraud_v1    =fraud.select(\"V1\").toPandas()\n",
        "fraud_v2    =fraud.select(\"V2\").toPandas()\n",
        "fraud_v3    =fraud.select(\"V3\").toPandas()\n",
        "\n",
        "fraud_v17 =fraud.select(\"V17\").toPandas()\n",
        "fraud_v14 =fraud.select(\"V14\").toPandas()\n",
        "fraud_v12 =fraud.select(\"V12\").toPandas()\n",
        "\n",
        "fig = plt.figure()\n",
        "ax = fig.add_subplot(2,2,1,projection='3d')\n",
        "ax.tick_params(labelcolor='w', top=False, bottom=False, left=False, right=False)\n",
        "ax.set_title(\"V1,V2,V3\")\n",
        "ax.scatter(legit_v1, legit_v2, legit_v3)\n",
        "ax.scatter(fraud_v1, fraud_v2, fraud_v3)\n",
        "\n",
        "ax = fig.add_subplot(2,2,3)\n",
        "ax.tick_params(labelcolor='w', top=False, bottom=False, left=False, right=False)\n",
        "ax.set_title(\"V1,V2\")\n",
        "ax.scatter(legit_v1, legit_v2)\n",
        "ax.scatter(fraud_v1, fraud_v2)\n",
        "\n",
        "ax = fig.add_subplot(2,2,2,projection='3d')\n",
        "ax.tick_params(labelcolor='w', top=False, bottom=False, left=False, right=False)\n",
        "ax.set_title(\"V17,V14,V12\")\n",
        "ax.scatter(legit_v17, legit_v14, legit_v12)\n",
        "ax.scatter(fraud_v17, fraud_v14, fraud_v12)\n",
        "\n",
        "ax = fig.add_subplot(2,2,4)\n",
        "ax.tick_params(labelcolor='w', top=False, bottom=False, left=False, right=False)\n",
        "ax.set_title(\"V17,V14\")\n",
        "ax.scatter(legit_v17, legit_v14)\n",
        "ax.scatter(fraud_v17, fraud_v14)\n",
        "\n",
        "plt.show()"
      ],
      "execution_count": 99,
      "outputs": [
        {
          "output_type": "display_data",
          "data": {
            "image/png": "[encoded data removed]",
            "text/plain": [
              "<Figure size 432x288 with 4 Axes>"
            ]
          },
          "metadata": {
            "tags": [],
            "needs_background": "dark"
          }
        }
      ]
    },
    {
      "cell_type": "markdown",
      "metadata": {
        "id": "iJU7TUal40il"
      },
      "source": [
        "Anche visivamente è possibile notare che utilizzando le feature la cui distribuzione nelle due classi ha maggiore divergenza le due classi risultano meno \"aderenti\""
      ]
    },
    {
      "cell_type": "markdown",
      "metadata": {
        "id": "8azg1HEm8vvb"
      },
      "source": [
        "## Classification\n",
        "\n",
        "Visto che le due classi sono fortemente sbilanciate, il classificatore verrebbe principalmente addestrato su campioni appartenenti alla classe delle transazioni legittime, introducendo un bias indesiderato: tutte le transazioni verrebbero classificate come legittime. \n",
        "Per questo motivo utilizziamo delle tecniche per mitigare il problema."
      ]
    },
    {
      "cell_type": "code",
      "metadata": {
        "id": "N32y1EGmd2MG"
      },
      "source": [
        "# Definiamo una funzione per stampare l'area sotto la curva precision-recall e \n",
        "# la matrice di confusione per il training set.\n",
        "from pyspark.ml.tuning import CrossValidator\n",
        "\n",
        "def evaluate_model(cvModel, train, test, callable=True):\n",
        "  evaluator = cvModel.getEvaluator()\n",
        "  predictions = cvModel.transform(test)\n",
        "  performance = cvModel.transform(train)\n",
        "  summary = cvModel.bestModel.stages[2].summary() \\\n",
        "            if callable else cvModel.bestModel.stages[2].summary\n",
        "\n",
        "  auprc = evaluator.evaluate(performance)\n",
        "  print(f\"Area Under PR Curve (train): {(100*auprc):05.2f}%\")\n",
        "\n",
        "  plt.figure(figsize=(5,5))\n",
        "  plt.plot([0, 1], [0, 1], 'r--')\n",
        "  plt.plot(summary.roc.select('FPR').collect(),\n",
        "          summary.roc.select('TPR').collect())\n",
        "  plt.xlabel('FPR')\n",
        "  plt.ylabel('TPR')\n",
        "  plt.title(\"Precision-Recall curve\")\n",
        "  plt.show()\n",
        "\n",
        "  print(\"Test set results:\")\n",
        "  auprc = evaluator.evaluate(predictions)\n",
        "  print(f\"Area Under PR Curve:  {(100*auprc):05.2f}%\")\n",
        "\n",
        "  predictions.createOrReplaceTempView('predictions')\n",
        "  tp = spark.sql(\"\"\"SELECT COUNT(*) as c\n",
        "                    FROM predictions\n",
        "                    WHERE predictions.Class == 1 AND\n",
        "                    predictions.prediction == 1.0 \"\"\").collect()[0].c\n",
        "  print(f\"True positives:       {tp}\")\n",
        "  fp = spark.sql(\"\"\"SELECT COUNT(*) as c\n",
        "                    FROM predictions\n",
        "                    WHERE predictions.Class == 0 AND\n",
        "                    predictions.prediction == 1.0 \"\"\").collect()[0].c\n",
        "  print(f\"False positives:      {fp}\")\n",
        "  tn = spark.sql(\"\"\"SELECT COUNT(*) as c\n",
        "                    FROM predictions\n",
        "                    WHERE predictions.Class == 0 AND\n",
        "                    predictions.prediction == 0.0 \"\"\").collect()[0].c\n",
        "  print(f\"True negatives:       {tn}\")\n",
        "  fn = spark.sql(\"\"\"SELECT COUNT(*) as c\n",
        "                    FROM predictions\n",
        "                    WHERE predictions.Class == 1 AND\n",
        "                    predictions.prediction == 0.0 \"\"\").collect()[0].c\n",
        "  print(f\"False negatives:      {fn}\")\n",
        "\n",
        "  sn.heatmap([[tp, fp],[fn,tn]], annot=True, fmt='.3g', cbar=False)\\\n",
        "   .set_title(\"Confusion matrix\");\n",
        "\n",
        "  precision = (tp)/(tp+fp)\n",
        "  accuracy = (tp+tn)/(tp+tn+fp+fn)\n",
        "  recall = (tp)/(tp+fn)\n",
        "  print(f\"Precision:            {precision:1.3f}\")\n",
        "  print(f\"Accuracy:             {accuracy:1.3f}\")\n",
        "  print(f\"Recall:               {recall:1.3f}\")\n",
        "  print(f\"F1:                   {(2*precision*recall)/(precision+recall):1.3f}\")\n",
        "  "
      ],
      "execution_count": 16,
      "outputs": []
    },
    {
      "cell_type": "code",
      "metadata": {
        "id": "hxowFbAqJVw_"
      },
      "source": [
        "# L'evaluator sarà lo stesso per tutti i modelli\n",
        "from pyspark.ml.evaluation import BinaryClassificationEvaluator\n",
        "\n",
        "evaluator = BinaryClassificationEvaluator().setLabelCol(\"Class\")\\\n",
        "                                           .setMetricName(\"areaUnderPR\")"
      ],
      "execution_count": 17,
      "outputs": []
    },
    {
      "cell_type": "code",
      "metadata": {
        "id": "FCe_uWgbMKYt"
      },
      "source": [
        "# Necessary imports for all methods\n",
        "\n",
        "from pyspark.ml import Pipeline\n",
        "from pyspark.ml.feature import MinMaxScaler\n",
        "from pyspark.ml.feature import VectorAssembler\n",
        "from pyspark.ml.tuning import ParamGridBuilder\n",
        "from pyspark.ml.feature import IndexToString\n",
        "from pyspark.ml.feature import StringIndexer\n",
        "\n",
        "# The two classifiers\n",
        "from pyspark.ml.classification import LinearSVC\n",
        "from pyspark.ml.classification import RandomForestClassifier "
      ],
      "execution_count": 18,
      "outputs": []
    },
    {
      "cell_type": "markdown",
      "metadata": {
        "id": "xUm8XFImpYro"
      },
      "source": [
        "### Undersampling\n",
        "\n",
        "Nel training set sottocampioniamo gli elementi appartenenti alla classe dominante per non introdurre bias sulla frequenza relativa delle classi."
      ]
    },
    {
      "cell_type": "code",
      "metadata": {
        "id": "LhHz5Z_eskNa"
      },
      "source": [
        "# Per ottenere train e test set tramite undersampling\n",
        "\n",
        "def undersample_split(fraud, legit):\n",
        "  train_f, test_f = fraud.randomSplit([0.8, 0.2])\n",
        "  train_l, test_l = legit.randomSplit([0.8, 0.2])\n",
        "  train_l = train_l.sample(False, 1.0*fraud.count()/legit.count()) \\\n",
        "      .limit (train_f.count())\n",
        "  \n",
        "  train       = train_f.union(train_l)\n",
        "  test        = test_f.union(test_l)\n",
        "  return (train, test)\n",
        "\n",
        "train, test = undersample_split(fraud, legit)"
      ],
      "execution_count": 19,
      "outputs": []
    },
    {
      "cell_type": "markdown",
      "metadata": {
        "id": "NRaXG6yTr5Nn"
      },
      "source": [
        "##### Support vector machine \n",
        "\n",
        "Come primo approccio proviamo ad utilizzare come classificatore una support vector machine lineare, inoltre sottocampioniamo le transazioni legittime per non avere un dataset sbilanciato."
      ]
    },
    {
      "cell_type": "code",
      "metadata": {
        "id": "aFMSsALhsgCB"
      },
      "source": [
        "labelIndexer = StringIndexer(inputCol='Class',outputCol='Class_index').fit(train)\n",
        "\n",
        "assembler = VectorAssembler().setInputCols(train.schema.names[0:-1])\\\n",
        "  .setOutputCol(\"features\")\n",
        "scaler = MinMaxScaler().setMin(0).setMax(1).setInputCol(\"features\") \\\n",
        "  .setOutputCol(\"scaled_features\")\n",
        "linearSVC = LinearSVC().setFeaturesCol(\"scaled_features\") \\\n",
        "  .setLabelCol(\"Class\")\n",
        "labelConverter = IndexToString(inputCol='prediction',outputCol='predictedLabel')\\\n",
        "  .setLabels(labelIndexer.labels)\n",
        "\n",
        "pipeline = Pipeline().setStages([assembler, \\\n",
        "                                scaler, \\\n",
        "                                linearSVC,\\\n",
        "                                labelConverter])"
      ],
      "execution_count": 20,
      "outputs": []
    },
    {
      "cell_type": "code",
      "metadata": {
        "id": "svIXvXeLuJdZ"
      },
      "source": [
        "# Costruiamo l'algoritmo di addestramento, come una 10-fold Cross-validation che si addestra su una \n",
        "# griglia di iperparametri:\n",
        "# -- l'indice di Gini, e l'entropia per controlla la purezza dei nodi foglia\n",
        "# -- il numero di bin cioè di categorie da generare per ogni feature categorica\n",
        "# -- la profondità massima dell'albero\n",
        "\n",
        "# Generiamo la griglia\n",
        "paramGrid = ParamGridBuilder().addGrid(linearSVC.regParam, [0.1, 0.2, 0.5])\\\n",
        "                              .addGrid(linearSVC.maxIter, [20,50,100,200])\\\n",
        "                              .build()"
      ],
      "execution_count": 21,
      "outputs": []
    },
    {
      "cell_type": "code",
      "metadata": {
        "id": "rdlvRBCQz6vH"
      },
      "source": [
        "cv = CrossValidator().setEstimator(pipeline)\\\n",
        "                     .setEvaluator(evaluator)\\\n",
        "                     .setEstimatorParamMaps(paramGrid)\\\n",
        "                     .setNumFolds(10)"
      ],
      "execution_count": 22,
      "outputs": []
    },
    {
      "cell_type": "code",
      "metadata": {
        "id": "qYFTi3_Y0LXY",
        "colab": {
          "base_uri": "https://localhost:8080/",
          "height": 0
        },
        "outputId": "d70efec9-e9a8-4a6e-ae4f-59288fa09932"
      },
      "source": [
        "cvModel_svm_us = cv.fit(train)\n",
        "\n",
        "evaluate_model(cvModel_svm_us, train, test)\n",
        "cvModel_svm_us.write().overwrite().save('svm_UF')"
      ],
      "execution_count": 23,
      "outputs": [
        {
          "output_type": "error",
          "ename": "KeyboardInterrupt",
          "evalue": "ignored",
          "traceback": [
            "\u001b[0;31m---------------------------------------------------------------------------\u001b[0m",
            "\u001b[0;31mIndexError\u001b[0m                                Traceback (most recent call last)",
            "\u001b[0;32m/usr/lib/python3.7/multiprocessing/pool.py\u001b[0m in \u001b[0;36mnext\u001b[0;34m(self, timeout)\u001b[0m\n\u001b[1;32m    732\u001b[0m             \u001b[0;32mtry\u001b[0m\u001b[0;34m:\u001b[0m\u001b[0;34m\u001b[0m\u001b[0;34m\u001b[0m\u001b[0m\n\u001b[0;32m--> 733\u001b[0;31m                 \u001b[0mitem\u001b[0m \u001b[0;34m=\u001b[0m \u001b[0mself\u001b[0m\u001b[0;34m.\u001b[0m\u001b[0m_items\u001b[0m\u001b[0;34m.\u001b[0m\u001b[0mpopleft\u001b[0m\u001b[0;34m(\u001b[0m\u001b[0;34m)\u001b[0m\u001b[0;34m\u001b[0m\u001b[0;34m\u001b[0m\u001b[0m\n\u001b[0m\u001b[1;32m    734\u001b[0m             \u001b[0;32mexcept\u001b[0m \u001b[0mIndexError\u001b[0m\u001b[0;34m:\u001b[0m\u001b[0;34m\u001b[0m\u001b[0;34m\u001b[0m\u001b[0m\n",
            "\u001b[0;31mIndexError\u001b[0m: pop from an empty deque",
            "\nDuring handling of the above exception, another exception occurred:\n",
            "\u001b[0;31mKeyboardInterrupt\u001b[0m                         Traceback (most recent call last)",
            "\u001b[0;32m<ipython-input-23-931c1907a11a>\u001b[0m in \u001b[0;36m<module>\u001b[0;34m()\u001b[0m\n\u001b[0;32m----> 1\u001b[0;31m \u001b[0mcvModel_svm_us\u001b[0m \u001b[0;34m=\u001b[0m \u001b[0mcv\u001b[0m\u001b[0;34m.\u001b[0m\u001b[0mfit\u001b[0m\u001b[0;34m(\u001b[0m\u001b[0mtrain\u001b[0m\u001b[0;34m)\u001b[0m\u001b[0;34m\u001b[0m\u001b[0;34m\u001b[0m\u001b[0m\n\u001b[0m\u001b[1;32m      2\u001b[0m \u001b[0;34m\u001b[0m\u001b[0m\n\u001b[1;32m      3\u001b[0m \u001b[0mevaluate_model\u001b[0m\u001b[0;34m(\u001b[0m\u001b[0mcvModel_svm_us\u001b[0m\u001b[0;34m,\u001b[0m \u001b[0mtrain\u001b[0m\u001b[0;34m,\u001b[0m \u001b[0mtest\u001b[0m\u001b[0;34m)\u001b[0m\u001b[0;34m\u001b[0m\u001b[0;34m\u001b[0m\u001b[0m\n\u001b[1;32m      4\u001b[0m \u001b[0mcvModel_svm_us\u001b[0m\u001b[0;34m.\u001b[0m\u001b[0mwrite\u001b[0m\u001b[0;34m(\u001b[0m\u001b[0;34m)\u001b[0m\u001b[0;34m.\u001b[0m\u001b[0moverwrite\u001b[0m\u001b[0;34m(\u001b[0m\u001b[0;34m)\u001b[0m\u001b[0;34m.\u001b[0m\u001b[0msave\u001b[0m\u001b[0;34m(\u001b[0m\u001b[0;34m'svm_UF'\u001b[0m\u001b[0;34m)\u001b[0m\u001b[0;34m\u001b[0m\u001b[0;34m\u001b[0m\u001b[0m\n",
            "\u001b[0;32m/content/creditfraud/spark-3.1.1-bin-hadoop2.7/python/pyspark/ml/base.py\u001b[0m in \u001b[0;36mfit\u001b[0;34m(self, dataset, params)\u001b[0m\n\u001b[1;32m    159\u001b[0m                 \u001b[0;32mreturn\u001b[0m \u001b[0mself\u001b[0m\u001b[0;34m.\u001b[0m\u001b[0mcopy\u001b[0m\u001b[0;34m(\u001b[0m\u001b[0mparams\u001b[0m\u001b[0;34m)\u001b[0m\u001b[0;34m.\u001b[0m\u001b[0m_fit\u001b[0m\u001b[0;34m(\u001b[0m\u001b[0mdataset\u001b[0m\u001b[0;34m)\u001b[0m\u001b[0;34m\u001b[0m\u001b[0;34m\u001b[0m\u001b[0m\n\u001b[1;32m    160\u001b[0m             \u001b[0;32melse\u001b[0m\u001b[0;34m:\u001b[0m\u001b[0;34m\u001b[0m\u001b[0;34m\u001b[0m\u001b[0m\n\u001b[0;32m--> 161\u001b[0;31m                 \u001b[0;32mreturn\u001b[0m \u001b[0mself\u001b[0m\u001b[0;34m.\u001b[0m\u001b[0m_fit\u001b[0m\u001b[0;34m(\u001b[0m\u001b[0mdataset\u001b[0m\u001b[0;34m)\u001b[0m\u001b[0;34m\u001b[0m\u001b[0;34m\u001b[0m\u001b[0m\n\u001b[0m\u001b[1;32m    162\u001b[0m         \u001b[0;32melse\u001b[0m\u001b[0;34m:\u001b[0m\u001b[0;34m\u001b[0m\u001b[0;34m\u001b[0m\u001b[0m\n\u001b[1;32m    163\u001b[0m             raise ValueError(\"Params must be either a param map or a list/tuple of param maps, \"\n",
            "\u001b[0;32m/content/creditfraud/spark-3.1.1-bin-hadoop2.7/python/pyspark/ml/tuning.py\u001b[0m in \u001b[0;36m_fit\u001b[0;34m(self, dataset)\u001b[0m\n\u001b[1;32m    685\u001b[0m \u001b[0;34m\u001b[0m\u001b[0m\n\u001b[1;32m    686\u001b[0m             \u001b[0mtasks\u001b[0m \u001b[0;34m=\u001b[0m \u001b[0m_parallelFitTasks\u001b[0m\u001b[0;34m(\u001b[0m\u001b[0mest\u001b[0m\u001b[0;34m,\u001b[0m \u001b[0mtrain\u001b[0m\u001b[0;34m,\u001b[0m \u001b[0meva\u001b[0m\u001b[0;34m,\u001b[0m \u001b[0mvalidation\u001b[0m\u001b[0;34m,\u001b[0m \u001b[0mepm\u001b[0m\u001b[0;34m,\u001b[0m \u001b[0mcollectSubModelsParam\u001b[0m\u001b[0;34m)\u001b[0m\u001b[0;34m\u001b[0m\u001b[0;34m\u001b[0m\u001b[0m\n\u001b[0;32m--> 687\u001b[0;31m             \u001b[0;32mfor\u001b[0m \u001b[0mj\u001b[0m\u001b[0;34m,\u001b[0m \u001b[0mmetric\u001b[0m\u001b[0;34m,\u001b[0m \u001b[0msubModel\u001b[0m \u001b[0;32min\u001b[0m \u001b[0mpool\u001b[0m\u001b[0;34m.\u001b[0m\u001b[0mimap_unordered\u001b[0m\u001b[0;34m(\u001b[0m\u001b[0;32mlambda\u001b[0m \u001b[0mf\u001b[0m\u001b[0;34m:\u001b[0m \u001b[0mf\u001b[0m\u001b[0;34m(\u001b[0m\u001b[0;34m)\u001b[0m\u001b[0;34m,\u001b[0m \u001b[0mtasks\u001b[0m\u001b[0;34m)\u001b[0m\u001b[0;34m:\u001b[0m\u001b[0;34m\u001b[0m\u001b[0;34m\u001b[0m\u001b[0m\n\u001b[0m\u001b[1;32m    688\u001b[0m                 \u001b[0mmetrics\u001b[0m\u001b[0;34m[\u001b[0m\u001b[0mj\u001b[0m\u001b[0;34m]\u001b[0m \u001b[0;34m+=\u001b[0m \u001b[0;34m(\u001b[0m\u001b[0mmetric\u001b[0m \u001b[0;34m/\u001b[0m \u001b[0mnFolds\u001b[0m\u001b[0;34m)\u001b[0m\u001b[0;34m\u001b[0m\u001b[0;34m\u001b[0m\u001b[0m\n\u001b[1;32m    689\u001b[0m                 \u001b[0;32mif\u001b[0m \u001b[0mcollectSubModelsParam\u001b[0m\u001b[0;34m:\u001b[0m\u001b[0;34m\u001b[0m\u001b[0;34m\u001b[0m\u001b[0m\n",
            "\u001b[0;32m/usr/lib/python3.7/multiprocessing/pool.py\u001b[0m in \u001b[0;36mnext\u001b[0;34m(self, timeout)\u001b[0m\n\u001b[1;32m    735\u001b[0m                 \u001b[0;32mif\u001b[0m \u001b[0mself\u001b[0m\u001b[0;34m.\u001b[0m\u001b[0m_index\u001b[0m \u001b[0;34m==\u001b[0m \u001b[0mself\u001b[0m\u001b[0;34m.\u001b[0m\u001b[0m_length\u001b[0m\u001b[0;34m:\u001b[0m\u001b[0;34m\u001b[0m\u001b[0;34m\u001b[0m\u001b[0m\n\u001b[1;32m    736\u001b[0m                     \u001b[0;32mraise\u001b[0m \u001b[0mStopIteration\u001b[0m \u001b[0;32mfrom\u001b[0m \u001b[0;32mNone\u001b[0m\u001b[0;34m\u001b[0m\u001b[0;34m\u001b[0m\u001b[0m\n\u001b[0;32m--> 737\u001b[0;31m                 \u001b[0mself\u001b[0m\u001b[0;34m.\u001b[0m\u001b[0m_cond\u001b[0m\u001b[0;34m.\u001b[0m\u001b[0mwait\u001b[0m\u001b[0;34m(\u001b[0m\u001b[0mtimeout\u001b[0m\u001b[0;34m)\u001b[0m\u001b[0;34m\u001b[0m\u001b[0;34m\u001b[0m\u001b[0m\n\u001b[0m\u001b[1;32m    738\u001b[0m                 \u001b[0;32mtry\u001b[0m\u001b[0;34m:\u001b[0m\u001b[0;34m\u001b[0m\u001b[0;34m\u001b[0m\u001b[0m\n\u001b[1;32m    739\u001b[0m                     \u001b[0mitem\u001b[0m \u001b[0;34m=\u001b[0m \u001b[0mself\u001b[0m\u001b[0;34m.\u001b[0m\u001b[0m_items\u001b[0m\u001b[0;34m.\u001b[0m\u001b[0mpopleft\u001b[0m\u001b[0;34m(\u001b[0m\u001b[0;34m)\u001b[0m\u001b[0;34m\u001b[0m\u001b[0;34m\u001b[0m\u001b[0m\n",
            "\u001b[0;32m/usr/lib/python3.7/threading.py\u001b[0m in \u001b[0;36mwait\u001b[0;34m(self, timeout)\u001b[0m\n\u001b[1;32m    294\u001b[0m         \u001b[0;32mtry\u001b[0m\u001b[0;34m:\u001b[0m    \u001b[0;31m# restore state no matter what (e.g., KeyboardInterrupt)\u001b[0m\u001b[0;34m\u001b[0m\u001b[0;34m\u001b[0m\u001b[0m\n\u001b[1;32m    295\u001b[0m             \u001b[0;32mif\u001b[0m \u001b[0mtimeout\u001b[0m \u001b[0;32mis\u001b[0m \u001b[0;32mNone\u001b[0m\u001b[0;34m:\u001b[0m\u001b[0;34m\u001b[0m\u001b[0;34m\u001b[0m\u001b[0m\n\u001b[0;32m--> 296\u001b[0;31m                 \u001b[0mwaiter\u001b[0m\u001b[0;34m.\u001b[0m\u001b[0macquire\u001b[0m\u001b[0;34m(\u001b[0m\u001b[0;34m)\u001b[0m\u001b[0;34m\u001b[0m\u001b[0;34m\u001b[0m\u001b[0m\n\u001b[0m\u001b[1;32m    297\u001b[0m                 \u001b[0mgotit\u001b[0m \u001b[0;34m=\u001b[0m \u001b[0;32mTrue\u001b[0m\u001b[0;34m\u001b[0m\u001b[0;34m\u001b[0m\u001b[0m\n\u001b[1;32m    298\u001b[0m             \u001b[0;32melse\u001b[0m\u001b[0;34m:\u001b[0m\u001b[0;34m\u001b[0m\u001b[0;34m\u001b[0m\u001b[0m\n",
            "\u001b[0;31mKeyboardInterrupt\u001b[0m: "
          ]
        }
      ]
    },
    {
      "cell_type": "markdown",
      "metadata": {
        "id": "6iNQfNgAml_E"
      },
      "source": [
        "L'85% delle frodi viene correttamente identificato, però 2/3 delle transazioni classificate come frodi sono in realtà transazioni legittime. Un tasso di falsi positivi così alto porta a perdere fiducia nello strumento diagnostico."
      ]
    },
    {
      "cell_type": "markdown",
      "metadata": {
        "id": "-5qShNZVpT9Q"
      },
      "source": [
        "#### Random forest \n",
        "\n",
        "Confrontiamo il risultato precedente con una random forest, addestrata con gli stessi dati."
      ]
    },
    {
      "cell_type": "code",
      "metadata": {
        "id": "Z524nXDqHf0p"
      },
      "source": [
        "labelIndexer = StringIndexer(inputCol='Class',outputCol='Class_index').fit(train)\n",
        "\n",
        "assembler = VectorAssembler().setInputCols(train.schema.names[0:-1])\\\n",
        "  .setOutputCol(\"features\")\n",
        "scaler = MinMaxScaler().setMin(0).setMax(1).setInputCol(\"features\") \\\n",
        "  .setOutputCol(\"scaled_features\")\n",
        "randomForest = RandomForestClassifier().setFeaturesCol(\"scaled_features\") \\\n",
        "  .setLabelCol(\"Class\")\n",
        "labelConverter = IndexToString(inputCol='prediction',outputCol='predictedLabel')\\\n",
        "  .setLabels(labelIndexer.labels)\n",
        "pipeline = Pipeline().setStages([assembler, \\\n",
        "                                scaler, \\\n",
        "                                randomForest,\\\n",
        "                                labelConverter])\n"
      ],
      "execution_count": null,
      "outputs": []
    },
    {
      "cell_type": "code",
      "metadata": {
        "id": "uPOy1-fbJR3n"
      },
      "source": [
        "# Costruiamo l'algoritmo di addestramento, come una 10-fold Cross-validation che si addestra su una \n",
        "# griglia di iperparametri:\n",
        "# -- l'indice di Gini, e l'entropia per controlla la purezza dei nodi foglia\n",
        "# -- il numero di bin cioè di categorie da generare per ogni feature categorica\n",
        "# -- la profondità massima dell'albero\n",
        "\n",
        "# Generiamo la griglia\n",
        "paramGrid = ParamGridBuilder().addGrid(randomForest.maxBins,[25, 28, 31])\\\n",
        "                              .addGrid(randomForest.maxDepth,[4,6,8])\\\n",
        "                              .addGrid(randomForest.impurity,[\"entropy\",\"gini\"])\\\n",
        "                              .build()"
      ],
      "execution_count": null,
      "outputs": []
    },
    {
      "cell_type": "code",
      "metadata": {
        "id": "HwL1xD8pJw0r"
      },
      "source": [
        "cv = CrossValidator().setEstimator(pipeline)\\\n",
        "                     .setEvaluator(evaluator)\\\n",
        "                     .setEstimatorParamMaps(paramGrid)\\\n",
        "                     .setNumFolds(10)\n",
        "\n",
        "cvModel_random_forest_us = cv.fit(train)"
      ],
      "execution_count": null,
      "outputs": []
    },
    {
      "cell_type": "code",
      "metadata": {
        "id": "r-cVVkGlJyS9"
      },
      "source": [
        "\n",
        "evaluate_model(cvModel_random_forest_us, train, test, callable=False)\n",
        "cvModel_random_forest_us.write().overwrite().save('random_forest_UF')"
      ],
      "execution_count": null,
      "outputs": []
    },
    {
      "cell_type": "markdown",
      "metadata": {
        "id": "tcI-rnWan9Nl"
      },
      "source": [
        "La random forest classifica correttamente molte più transazioni fraudolente, ma la precisione precipita sotto il 10%."
      ]
    },
    {
      "cell_type": "markdown",
      "metadata": {
        "id": "_eEgZXYpGsen"
      },
      "source": [
        "### Riduzione delle feature\n",
        "\n",
        "I modelli precedenti, se addestrati con oversampling, non si comportano abbastanza bene, soprattutto la random forest. L'addestramento sta però avvenendo su un sottoinsieme molto piccolo dei dati sulle transazioni legittime, potremmo quindi non catturare delle caratteristiche importanti dei dati. Risulta allora opportuno provare un oversampling. \n",
        "\n",
        "L'addestramento con una porzione così grande del dataset con vettori di 30 feature però è una operazione molto pesante, ed è anche possibile che l'elevata dimensionalità riduca il potere di discriminazione dei modelli (curse of dimensionality). Effettuiamo quindi delle operazioni di selezione delle features."
      ]
    },
    {
      "cell_type": "markdown",
      "metadata": {
        "id": "nBZK-RwBNxVC"
      },
      "source": [
        "#### Sfruttamento dei modelli addestrati precedentemente\n",
        "\n",
        "Dai modelli appena addestrati è possibile ottenere informazioni riguardo l'importanza delle varie features.\n"
      ]
    },
    {
      "cell_type": "markdown",
      "metadata": {
        "id": "Rsjog__H09LG"
      },
      "source": [
        "##### **SVM**\n",
        "\n",
        "Visto che le feature provengono da una PCA sono linearmente non correlate tra loro. I pesi appresi dalla SVM possono quindi fornire informazione su quali feature sono più rilevanti per la separazione delle due classi."
      ]
    },
    {
      "cell_type": "code",
      "metadata": {
        "id": "huvKc5GCO_Gw",
        "colab": {
          "base_uri": "https://localhost:8080/",
          "height": 166
        },
        "outputId": "3239f925-c485-4b4c-be3a-800a044d733c"
      },
      "source": [
        "cvModel_svm_us.bestModel.stages[2].coefficients"
      ],
      "execution_count": 100,
      "outputs": [
        {
          "output_type": "error",
          "ename": "NameError",
          "evalue": "ignored",
          "traceback": [
            "\u001b[0;31m---------------------------------------------------------------------------\u001b[0m",
            "\u001b[0;31mNameError\u001b[0m                                 Traceback (most recent call last)",
            "\u001b[0;32m<ipython-input-100-5c445f91a0a3>\u001b[0m in \u001b[0;36m<module>\u001b[0;34m()\u001b[0m\n\u001b[0;32m----> 1\u001b[0;31m \u001b[0mcvModel_svm_us\u001b[0m\u001b[0;34m.\u001b[0m\u001b[0mbestModel\u001b[0m\u001b[0;34m.\u001b[0m\u001b[0mstages\u001b[0m\u001b[0;34m[\u001b[0m\u001b[0;36m2\u001b[0m\u001b[0;34m]\u001b[0m\u001b[0;34m.\u001b[0m\u001b[0mcoefficients\u001b[0m\u001b[0;34m\u001b[0m\u001b[0;34m\u001b[0m\u001b[0m\n\u001b[0m",
            "\u001b[0;31mNameError\u001b[0m: name 'cvModel_svm_us' is not defined"
          ]
        }
      ]
    },
    {
      "cell_type": "markdown",
      "metadata": {
        "id": "ZInUVTWuqXzp"
      },
      "source": [
        "Scaliamo il valore assoluto dei coefficienti per avere somma unitaria e li riportiamo nella tabella seguente \n",
        "\n",
        "Feature | Weight\n",
        "-|-\n",
        "  V21     |  0.1101\n",
        "  V14     |  0.1014\n",
        "  V11     |  0.0755\n",
        "  V23     |  0.0732\n",
        "  V4      |  0.0675\n",
        "  V2      |  0.0605\n",
        "  V10     |  0.0578\n",
        "  V12     |  0.0402\n",
        "  V22     |  0.0402\n",
        "  Amount  |  0.0395\n",
        "  V6      |  0.0375\n",
        "  V8      |  0.0329\n",
        "  V9      |  0.0319\n",
        "  V28     |  0.0272\n",
        "  V27     |  0.0258\n",
        "  V7      |  0.0240\n",
        "  V3      |  0.0238\n",
        "  V16     |  0.0228\n",
        "  V25     |  0.0223\n",
        "  V17     |  0.0210\n",
        "  V20     |  0.0198\n",
        "  V1      |  0.0165\n",
        "  V19     |  0.0064\n",
        "  V5      |  0.0054\n",
        "  V18     |  0.0039\n",
        "  V15     |  0.0032\n",
        "  V24     |  0.0030\n",
        "  Time    |  0.0023\n",
        "  V26     |  0.0017\n",
        "  V13     |  0.0013\n",
        "\n",
        "\n",
        "Le prime sette feature hanno più del 50% dell'importanza, e scartando le ultime 11 non si perde più del 10%.\n"
      ]
    },
    {
      "cell_type": "code",
      "metadata": {
        "id": "lmyeI1B-wPkw",
        "colab": {
          "base_uri": "https://localhost:8080/",
          "height": 256
        },
        "outputId": "fbdc4014-eec6-4841-839b-4dae870c6af7"
      },
      "source": [
        "legit_x    =legit.select(\"V21\").toPandas()\n",
        "legit_y    =legit.select(\"V14\").toPandas()\n",
        "legit_z    =legit.select(\"V11\").toPandas()\n",
        "\n",
        "fraud_x    =fraud.select(\"V21\").toPandas()\n",
        "fraud_y    =fraud.select(\"V14\").toPandas()\n",
        "fraud_z    =fraud.select(\"V11\").toPandas()\n",
        "\n",
        "fig = plt.figure()\n",
        "ax = fig.add_subplot(2,2,1,projection='3d')\n",
        "ax.set_xticklabels([])\n",
        "ax.set_yticklabels([])\n",
        "ax.set_zticklabels([])\n",
        "ax.tick_params(labelcolor='w', top=False, bottom=False, left=False, right=False)\n",
        "ax.set_title(\"V28,V14,V11\")\n",
        "ax.scatter(legit_x, legit_y, legit_z)\n",
        "ax.scatter(fraud_x, fraud_y, fraud_z)\n",
        "\n",
        "ax = fig.add_subplot(2,2,2,projection='3d')\n",
        "ax.set_xticklabels([])\n",
        "ax.set_yticklabels([])\n",
        "ax.set_zticklabels([])\n",
        "ax.tick_params(labelcolor='w', top=False, bottom=False, left=False, right=False)\n",
        "ax.set_title(\"V14,V28,V11\")\n",
        "ax.scatter(legit_y, legit_x, legit_z)\n",
        "ax.scatter(fraud_y, fraud_x, fraud_z)\n",
        "\n",
        "ax = fig.add_subplot(2,2,3,projection='3d')\n",
        "ax.set_xticklabels([])\n",
        "ax.set_yticklabels([])\n",
        "ax.set_zticklabels([])\n",
        "ax.tick_params(labelcolor='w', top=False, bottom=False, left=False, right=False)\n",
        "ax.set_title(\"V28,V14,V11 (bottom view)\")\n",
        "ax.scatter(legit_x, legit_y, legit_z)\n",
        "ax.scatter(fraud_x, fraud_y, -fraud_z)\n",
        "\n",
        "ax = fig.add_subplot(2,2,4,projection='3d')\n",
        "ax.set_xticklabels([])\n",
        "ax.set_yticklabels([])\n",
        "ax.set_zticklabels([])\n",
        "ax.tick_params(labelcolor='w', top=False, bottom=False, left=False, right=False)\n",
        "ax.set_title(\"V14,V28,V11 (bottom view)\")\n",
        "ax.scatter(legit_y, legit_x, legit_z)\n",
        "ax.scatter(fraud_y, fraud_x, -fraud_z)\n",
        "\n",
        "plt.show()"
      ],
      "execution_count": 101,
      "outputs": [
        {
          "output_type": "display_data",
          "data": {
            "image/png": "[encoded data removed]",
            "text/plain": [
              "<Figure size 432x288 with 4 Axes>"
            ]
          },
          "metadata": {
            "tags": [],
            "needs_background": "dark"
          }
        }
      ]
    },
    {
      "cell_type": "markdown",
      "metadata": {
        "id": "Am4th4U_ygMr"
      },
      "source": [
        "Osserviamo che considerando le sole tre features con i pesi maggiori è già possibile distinguere abbastanza nitidamente le due classi, meglio di quanto visto usando come features V1, V2, V3, e il che effettivamente risultano essere abbastanza in basso nella lista ed eccezione di V2."
      ]
    },
    {
      "cell_type": "markdown",
      "metadata": {
        "id": "058u01Pi04Wh"
      },
      "source": [
        "##### **Random Forest**\n",
        "\n",
        "La random forest non dava risultati molto incoraggianti, però visto che gli split sono effettuati in base all'entropia può essere interessante osservare quali feature sono state ritenute più importanti."
      ]
    },
    {
      "cell_type": "code",
      "metadata": {
        "id": "SfjAnUQ1OJsr"
      },
      "source": [
        "cvModel_random_forest_us.bestModel.stages[2].featureImportances"
      ],
      "execution_count": null,
      "outputs": []
    },
    {
      "cell_type": "markdown",
      "metadata": {
        "id": "eMdCaZxKPK-f"
      },
      "source": [
        "Per comodità di visione si riportano i dati in output al comando precedente anche in formato tabellare.\n",
        "\n",
        "Feature | Importance\n",
        "-|-\n",
        "  V10 |  0.3711, \n",
        "  V12 |  0.1409, \n",
        "  V17 |  0.0927, \n",
        "  V14 |  0.0807, \n",
        "  V11 |  0.0728, \n",
        "  V7 |  0.0351, \n",
        "  V4 |  0.0226, \n",
        "  V9 |  0.0206, \n",
        "  Amount |  0.0206 \n",
        "  V8 |  0.0199, \n",
        "  V18 |  0.0167, \n",
        "  V1 |  0.0154, \n",
        "  V3 |  0.0095, \n",
        "  V20 |  0.0095, \n",
        "  V16 |  0.0087, \n",
        "  V26 |  0.006, \n",
        "  V23 |  0.0069, \n",
        "  V6 |  0.005, \n",
        "  V19 |  0.0058, \n",
        "  V13 |  0.0057, \n",
        "  V15 |  0.0053, \n",
        "  V27 |  0.004, \n",
        "  V2 |  0.004, \n",
        "  Time |  0.0045, \n",
        "  V28 |  0.0039, \n",
        "  V21 |  0.0038, \n",
        "  V24 |  0.0029, \n",
        "  V5 |  0.0024, \n",
        "  V25 |  0.0016, \n",
        "  V22 |  0.0015, \n",
        "\n",
        "\n",
        "\n",
        "Le prime due features da sole hanno il 50% dell'importanza, e per arrivare al 90% bastano le prime 12"
      ]
    },
    {
      "cell_type": "code",
      "metadata": {
        "id": "GTz43zHRQyX7",
        "colab": {
          "base_uri": "https://localhost:8080/",
          "height": 256
        },
        "outputId": "1a9328dd-810b-4ad8-d21a-a9a5ee1ae705"
      },
      "source": [
        "legit_x    =legit.select(\"V12\").toPandas()\n",
        "legit_y    =legit.select(\"V17\").toPandas()\n",
        "legit_z    =legit.select(\"V10\").toPandas()\n",
        "\n",
        "fraud_x    =fraud.select(\"V12\").toPandas()\n",
        "fraud_y    =fraud.select(\"V17\").toPandas()\n",
        "fraud_z    =fraud.select(\"V10\").toPandas()\n",
        "\n",
        "fig = plt.figure()\n",
        "ax = fig.add_subplot(2,2,1,projection='3d')\n",
        "ax.set_xticklabels([])\n",
        "ax.set_yticklabels([])\n",
        "ax.set_zticklabels([])\n",
        "ax.tick_params(labelcolor='w', top=False, bottom=False, left=False, right=False)\n",
        "ax.set_title(\"V12,V17,V10\")\n",
        "ax.scatter(legit_x, legit_y, legit_z)\n",
        "ax.scatter(fraud_x, fraud_y, fraud_z)\n",
        "\n",
        "ax = fig.add_subplot(2,2,2,projection='3d')\n",
        "ax.set_xticklabels([])\n",
        "ax.set_yticklabels([])\n",
        "ax.set_zticklabels([])\n",
        "ax.tick_params(labelcolor='w', top=False, bottom=False, left=False, right=False)\n",
        "ax.set_title(\"V17,V12,V10\")\n",
        "ax.scatter(legit_y, legit_x, legit_z)\n",
        "ax.scatter(fraud_y, fraud_x, fraud_z)\n",
        "\n",
        "ax = fig.add_subplot(2,2,3,projection='3d')\n",
        "ax.set_xticklabels([])\n",
        "ax.set_yticklabels([])\n",
        "ax.set_zticklabels([])\n",
        "ax.tick_params(labelcolor='w', top=False, bottom=False, left=False, right=False)\n",
        "ax.set_title(\"V12,V17,V10 (bottom view)\")\n",
        "ax.scatter(legit_x, legit_y, legit_z)\n",
        "ax.scatter(fraud_x, fraud_y, -fraud_z)\n",
        "\n",
        "ax = fig.add_subplot(2,2,4,projection='3d')\n",
        "ax.set_xticklabels([])\n",
        "ax.set_yticklabels([])\n",
        "ax.set_zticklabels([])\n",
        "ax.tick_params(labelcolor='w', top=False, bottom=False, left=False, right=False)\n",
        "ax.set_title(\"V17,V12,V10 (bottom view)\")\n",
        "ax.scatter(legit_y, legit_x, legit_z)\n",
        "ax.scatter(fraud_y, fraud_x, -fraud_z)\n",
        "\n",
        "plt.show()"
      ],
      "execution_count": 102,
      "outputs": [
        {
          "output_type": "display_data",
          "data": {
            "image/png": "[encoded data removed]",
            "text/plain": [
              "<Figure size 432x288 with 4 Axes>"
            ]
          },
          "metadata": {
            "tags": [],
            "needs_background": "dark"
          }
        }
      ]
    },
    {
      "cell_type": "markdown",
      "metadata": {
        "id": "EzWS8orVVEwO"
      },
      "source": [
        "Ad una ispezione visiva le classi sembrano separate meglio di quanto non succedesse con la SVM, viene quindi da pensare che le prestazioni migliori siano dovute alla scarsità di campioni di transazioni legittime osservati, che ha portato ad attribuire alla classe di transazioni fraudolete aree più ampie del dovuto.\n",
        "\n"
      ]
    },
    {
      "cell_type": "markdown",
      "metadata": {
        "id": "ZtG5xXirWccM"
      },
      "source": [
        "$D_{KL}$ |  RF     |   SVM     |\n",
        "---------|---------|------------\n",
        " V17     |  V10    |   V21     |\n",
        " V14     |  V12    |   V14     |\n",
        " V12     |  V17    |   V11     |\n",
        " V10     |  V14    |   V23     |\n",
        " V16     |  V11    |   V4      |\n",
        " V3      |  V7     |   V2      |  \n",
        " V7      |  V4     |   V10     |  \n",
        " V11     |  V9     |   V12     |\n",
        " V4      |  Amount |   V22     |  \n",
        " V18     |  V8     |   Amount  |\n",
        " V1      |  V18    |   V6      |  \n",
        " V9      |  V1     |   V8      |  \n",
        " V5      |  V3     |   V9      |  \n",
        " V2      |  V20    |   V28     |  \n",
        " V6      |  V16    |   V27     |  \n",
        " V19     |  V26    |   V7      |\n",
        " V8      |  V23    |   V3      |  \n",
        " V21     |  V6     |   V16     |\n",
        " V27     |  V19    |   V25     |\n",
        " V20     |  V13    |   V17     |\n",
        " Time    |  V15    |   V20     |\n",
        " V28     |  V27    |   V1      |\n",
        " V24     |  V2     |   V19     |\n",
        " V23     |  Time   |   V5      |\n",
        " Amount  |  V28    |   V18     |\n",
        " V22     |  V21    |   V15     |\n",
        " V26     |  V24    |   V24     |\n",
        " V13     |  V5     |   Time    |\n",
        " V15     |  V25    |   V26     |\n",
        " V25     |  V22    |   V13     |\n",
        "\n",
        "Scegliamo come feature da utilizzare per l'addestramento con versampling `[V14, V17, V10, V12, V11]`, ovvero le prime quattro feature in ordine di divergenza di Kullback-Leibler e `V11`. `V11` è all'ottavo posto nella colonna $D_{KL}$, ma è tra le prime cinque nelle altre due colonne, mentre `V16` è molto più giù."
      ]
    },
    {
      "cell_type": "code",
      "metadata": {
        "id": "OJG8c1AGylo6",
        "outputId": "2eaeb0e1-f947-402d-a905-0fce8835936e",
        "colab": {
          "base_uri": "https://localhost:8080/",
          "height": 545
        }
      },
      "source": [
        "for col in [\"V11\",\"V16\"]:\n",
        "  hist_f = fraud.select(col).rdd.flatMap(lambda x: x).histogram(30)\n",
        "  hist_l = legit.select(col).rdd.flatMap(lambda x: x).histogram(30)\n",
        "  # Loading the Computed Histogram into a Pandas Dataframe for plotting\n",
        "  fig = plt.figure()\n",
        "  plt.title(col)\n",
        "  plt.axis(True)\n",
        "  plt.bar(hist_l[0][0:-1],hist_l[1]/np.sum(hist_l[1]), width=np.diff(hist_l[0]))\n",
        "  plt.bar(hist_f[0][0:-1],hist_f[1]/np.sum(hist_f[1]), width=np.diff(hist_f[0]))\n",
        "  plt.legend([\"Legit\",\"Fraud\"])\n",
        "  \n",
        "  plt.show()"
      ],
      "execution_count": 67,
      "outputs": [
        {
          "output_type": "display_data",
          "data": {
            "image/png": "[encoded data removed]",
            "text/plain": [
              "<Figure size 432x288 with 1 Axes>"
            ]
          },
          "metadata": {
            "tags": [],
            "needs_background": "light"
          }
        },
        {
          "output_type": "display_data",
          "data": {
            "image/png": "[encoded data removed]",
            "text/plain": [
              "<Figure size 432x288 with 1 Axes>"
            ]
          },
          "metadata": {
            "tags": [],
            "needs_background": "light"
          }
        }
      ]
    },
    {
      "cell_type": "code",
      "metadata": {
        "id": "GTi4kTxiAP4N"
      },
      "source": [
        "chosen_cols = [\"V14\", \"V17\", \"V10\", \"V12\", \"V11\"]"
      ],
      "execution_count": 69,
      "outputs": []
    },
    {
      "cell_type": "markdown",
      "metadata": {
        "id": "kmzEIQ7R5BCe"
      },
      "source": [
        "### Oversampling\n",
        "\n",
        "Facendo undersampling non prendiamo in considerazione la maggior parte delle informazioni disponibili sulla classe dominante, portando a bassa capacità della rete di generalizzare, ricorriamo quindi ad oversampling.\n",
        "Nel training set presentiamo più volte gli elementi appartenenti alla classe meno frequente per non introdurre bias sulla frequenza relativa delle classi.\n",
        "\n",
        "Il test set viene estratto prima della duplicazione dei campioni per evitare di testare il classificatore sugli stessi dati su cui è stato testato."
      ]
    },
    {
      "cell_type": "code",
      "metadata": {
        "id": "5VmmRSsA5BCe"
      },
      "source": [
        "# Per ottenere train e test set tramite undersampling\n",
        "import math\n",
        "def oversample_split(fraud, legit):\n",
        "  train_f, test_f = fraud.randomSplit([0.8, 0.2])\n",
        "  train_l, test_l = legit.randomSplit([0.8, 0.2])\n",
        "\n",
        "  a = range(math.ceil(train_l.count()/train_f.count()))\n",
        "    # duplicate the minority rows\n",
        "  oversampled_train_f = train_f.withColumn(\"dummy\", explode(array([lit(x) for x in a])))\\\n",
        "    .drop('dummy')\n",
        "  # The train test is balanced with 50/50 frauds and legit transactions\n",
        "  # to avoid bias towards legit transactions\n",
        "  train       = oversampled_train_f.union(train_l)\n",
        "  # The test set has the same distribution of the original dataset\n",
        "  test        = test_f.union(test_l)\n",
        "  return (train, test)\n",
        "  \n",
        "train, test = oversample_split(fraud, legit)"
      ],
      "execution_count": 24,
      "outputs": []
    },
    {
      "cell_type": "markdown",
      "metadata": {
        "id": "QZGBaMWI5BCf"
      },
      "source": [
        "#### Support vector machine \n",
        "\n",
        "Come primo approccio proviamo ad utilizzare come classificatore una support vector machine lineare, inoltre sottocampioniamo le transazioni legittime per non avere un dataset sbilanciato."
      ]
    },
    {
      "cell_type": "code",
      "metadata": {
        "id": "WcQCra-j5BCf"
      },
      "source": [
        "labelIndexer = StringIndexer(inputCol='Class',outputCol='Class_index').fit(train)\n",
        "\n",
        "assembler = VectorAssembler().setInputCols(chosen_cols)\\\n",
        "  .setOutputCol(\"features\")\n",
        "scaler = MinMaxScaler().setMin(0).setMax(1).setInputCol(\"features\") \\\n",
        "  .setOutputCol(\"scaled_features\")\n",
        "linearSVC = LinearSVC().setFeaturesCol(\"scaled_features\") \\\n",
        "  .setLabelCol(\"Class\")\n",
        "labelConverter = IndexToString(inputCol='prediction',outputCol='predictedLabel')\\\n",
        "  .setLabels(labelIndexer.labels)\n",
        "\n",
        "pipeline = Pipeline().setStages([assembler, \\\n",
        "                                scaler, \\\n",
        "                                linearSVC,\\\n",
        "                                labelConverter])"
      ],
      "execution_count": 25,
      "outputs": []
    },
    {
      "cell_type": "code",
      "metadata": {
        "id": "V8K5AHTe5BCf"
      },
      "source": [
        "# Costruiamo l'algoritmo di addestramento, come una 10-fold Cross-validation che si addestra su una \n",
        "# griglia di iperparametri:\n",
        "# -- l'indice di Gini, e l'entropia per controlla la purezza dei nodi foglia\n",
        "# -- il numero di bin cioè di categorie da generare per ogni feature categorica\n",
        "# -- la profondità massima dell'albero\n",
        "\n",
        "# Generiamo la griglia\n",
        "paramGrid = ParamGridBuilder().addGrid(linearSVC.regParam, [0.1, 0.2, 0.5])\\\n",
        "                              .addGrid(linearSVC.maxIter, [20,50,100,200])\\\n",
        "                              .build()"
      ],
      "execution_count": 26,
      "outputs": []
    },
    {
      "cell_type": "code",
      "metadata": {
        "id": "WRZWpWfD5BCg"
      },
      "source": [
        "cv = CrossValidator().setEstimator(pipeline)\\\n",
        "                     .setEvaluator(evaluator)\\\n",
        "                     .setEstimatorParamMaps(paramGrid)\\\n",
        "                     .setNumFolds(10)"
      ],
      "execution_count": 27,
      "outputs": []
    },
    {
      "cell_type": "code",
      "metadata": {
        "colab": {
          "base_uri": "https://localhost:8080/",
          "height": 437
        },
        "id": "NhqGKaS55BCg",
        "outputId": "5fce5793-4e2a-46f2-93d3-593b83e2629d"
      },
      "source": [
        "cvModel_svm_os = cv.fit(train)\n",
        "\n",
        "evaluate_model(cvModel_svm_os, train, test)"
      ],
      "execution_count": 28,
      "outputs": [
        {
          "output_type": "error",
          "ename": "KeyboardInterrupt",
          "evalue": "ignored",
          "traceback": [
            "\u001b[0;31m---------------------------------------------------------------------------\u001b[0m",
            "\u001b[0;31mIndexError\u001b[0m                                Traceback (most recent call last)",
            "\u001b[0;32m/usr/lib/python3.7/multiprocessing/pool.py\u001b[0m in \u001b[0;36mnext\u001b[0;34m(self, timeout)\u001b[0m\n\u001b[1;32m    732\u001b[0m             \u001b[0;32mtry\u001b[0m\u001b[0;34m:\u001b[0m\u001b[0;34m\u001b[0m\u001b[0;34m\u001b[0m\u001b[0m\n\u001b[0;32m--> 733\u001b[0;31m                 \u001b[0mitem\u001b[0m \u001b[0;34m=\u001b[0m \u001b[0mself\u001b[0m\u001b[0;34m.\u001b[0m\u001b[0m_items\u001b[0m\u001b[0;34m.\u001b[0m\u001b[0mpopleft\u001b[0m\u001b[0;34m(\u001b[0m\u001b[0;34m)\u001b[0m\u001b[0;34m\u001b[0m\u001b[0;34m\u001b[0m\u001b[0m\n\u001b[0m\u001b[1;32m    734\u001b[0m             \u001b[0;32mexcept\u001b[0m \u001b[0mIndexError\u001b[0m\u001b[0;34m:\u001b[0m\u001b[0;34m\u001b[0m\u001b[0;34m\u001b[0m\u001b[0m\n",
            "\u001b[0;31mIndexError\u001b[0m: pop from an empty deque",
            "\nDuring handling of the above exception, another exception occurred:\n",
            "\u001b[0;31mKeyboardInterrupt\u001b[0m                         Traceback (most recent call last)",
            "\u001b[0;32m<ipython-input-28-838b3807b77e>\u001b[0m in \u001b[0;36m<module>\u001b[0;34m()\u001b[0m\n\u001b[0;32m----> 1\u001b[0;31m \u001b[0mcvModel_svm_os\u001b[0m \u001b[0;34m=\u001b[0m \u001b[0mcv\u001b[0m\u001b[0;34m.\u001b[0m\u001b[0mfit\u001b[0m\u001b[0;34m(\u001b[0m\u001b[0mtrain\u001b[0m\u001b[0;34m)\u001b[0m\u001b[0;34m\u001b[0m\u001b[0;34m\u001b[0m\u001b[0m\n\u001b[0m\u001b[1;32m      2\u001b[0m \u001b[0;34m\u001b[0m\u001b[0m\n\u001b[1;32m      3\u001b[0m \u001b[0mevaluate_model\u001b[0m\u001b[0;34m(\u001b[0m\u001b[0mcvModel_svm_os\u001b[0m\u001b[0;34m,\u001b[0m \u001b[0mtrain\u001b[0m\u001b[0;34m,\u001b[0m \u001b[0mtest\u001b[0m\u001b[0;34m)\u001b[0m\u001b[0;34m\u001b[0m\u001b[0;34m\u001b[0m\u001b[0m\n",
            "\u001b[0;32m/content/creditfraud/spark-3.1.1-bin-hadoop2.7/python/pyspark/ml/base.py\u001b[0m in \u001b[0;36mfit\u001b[0;34m(self, dataset, params)\u001b[0m\n\u001b[1;32m    159\u001b[0m                 \u001b[0;32mreturn\u001b[0m \u001b[0mself\u001b[0m\u001b[0;34m.\u001b[0m\u001b[0mcopy\u001b[0m\u001b[0;34m(\u001b[0m\u001b[0mparams\u001b[0m\u001b[0;34m)\u001b[0m\u001b[0;34m.\u001b[0m\u001b[0m_fit\u001b[0m\u001b[0;34m(\u001b[0m\u001b[0mdataset\u001b[0m\u001b[0;34m)\u001b[0m\u001b[0;34m\u001b[0m\u001b[0;34m\u001b[0m\u001b[0m\n\u001b[1;32m    160\u001b[0m             \u001b[0;32melse\u001b[0m\u001b[0;34m:\u001b[0m\u001b[0;34m\u001b[0m\u001b[0;34m\u001b[0m\u001b[0m\n\u001b[0;32m--> 161\u001b[0;31m                 \u001b[0;32mreturn\u001b[0m \u001b[0mself\u001b[0m\u001b[0;34m.\u001b[0m\u001b[0m_fit\u001b[0m\u001b[0;34m(\u001b[0m\u001b[0mdataset\u001b[0m\u001b[0;34m)\u001b[0m\u001b[0;34m\u001b[0m\u001b[0;34m\u001b[0m\u001b[0m\n\u001b[0m\u001b[1;32m    162\u001b[0m         \u001b[0;32melse\u001b[0m\u001b[0;34m:\u001b[0m\u001b[0;34m\u001b[0m\u001b[0;34m\u001b[0m\u001b[0m\n\u001b[1;32m    163\u001b[0m             raise ValueError(\"Params must be either a param map or a list/tuple of param maps, \"\n",
            "\u001b[0;32m/content/creditfraud/spark-3.1.1-bin-hadoop2.7/python/pyspark/ml/tuning.py\u001b[0m in \u001b[0;36m_fit\u001b[0;34m(self, dataset)\u001b[0m\n\u001b[1;32m    685\u001b[0m \u001b[0;34m\u001b[0m\u001b[0m\n\u001b[1;32m    686\u001b[0m             \u001b[0mtasks\u001b[0m \u001b[0;34m=\u001b[0m \u001b[0m_parallelFitTasks\u001b[0m\u001b[0;34m(\u001b[0m\u001b[0mest\u001b[0m\u001b[0;34m,\u001b[0m \u001b[0mtrain\u001b[0m\u001b[0;34m,\u001b[0m \u001b[0meva\u001b[0m\u001b[0;34m,\u001b[0m \u001b[0mvalidation\u001b[0m\u001b[0;34m,\u001b[0m \u001b[0mepm\u001b[0m\u001b[0;34m,\u001b[0m \u001b[0mcollectSubModelsParam\u001b[0m\u001b[0;34m)\u001b[0m\u001b[0;34m\u001b[0m\u001b[0;34m\u001b[0m\u001b[0m\n\u001b[0;32m--> 687\u001b[0;31m             \u001b[0;32mfor\u001b[0m \u001b[0mj\u001b[0m\u001b[0;34m,\u001b[0m \u001b[0mmetric\u001b[0m\u001b[0;34m,\u001b[0m \u001b[0msubModel\u001b[0m \u001b[0;32min\u001b[0m \u001b[0mpool\u001b[0m\u001b[0;34m.\u001b[0m\u001b[0mimap_unordered\u001b[0m\u001b[0;34m(\u001b[0m\u001b[0;32mlambda\u001b[0m \u001b[0mf\u001b[0m\u001b[0;34m:\u001b[0m \u001b[0mf\u001b[0m\u001b[0;34m(\u001b[0m\u001b[0;34m)\u001b[0m\u001b[0;34m,\u001b[0m \u001b[0mtasks\u001b[0m\u001b[0;34m)\u001b[0m\u001b[0;34m:\u001b[0m\u001b[0;34m\u001b[0m\u001b[0;34m\u001b[0m\u001b[0m\n\u001b[0m\u001b[1;32m    688\u001b[0m                 \u001b[0mmetrics\u001b[0m\u001b[0;34m[\u001b[0m\u001b[0mj\u001b[0m\u001b[0;34m]\u001b[0m \u001b[0;34m+=\u001b[0m \u001b[0;34m(\u001b[0m\u001b[0mmetric\u001b[0m \u001b[0;34m/\u001b[0m \u001b[0mnFolds\u001b[0m\u001b[0;34m)\u001b[0m\u001b[0;34m\u001b[0m\u001b[0;34m\u001b[0m\u001b[0m\n\u001b[1;32m    689\u001b[0m                 \u001b[0;32mif\u001b[0m \u001b[0mcollectSubModelsParam\u001b[0m\u001b[0;34m:\u001b[0m\u001b[0;34m\u001b[0m\u001b[0;34m\u001b[0m\u001b[0m\n",
            "\u001b[0;32m/usr/lib/python3.7/multiprocessing/pool.py\u001b[0m in \u001b[0;36mnext\u001b[0;34m(self, timeout)\u001b[0m\n\u001b[1;32m    735\u001b[0m                 \u001b[0;32mif\u001b[0m \u001b[0mself\u001b[0m\u001b[0;34m.\u001b[0m\u001b[0m_index\u001b[0m \u001b[0;34m==\u001b[0m \u001b[0mself\u001b[0m\u001b[0;34m.\u001b[0m\u001b[0m_length\u001b[0m\u001b[0;34m:\u001b[0m\u001b[0;34m\u001b[0m\u001b[0;34m\u001b[0m\u001b[0m\n\u001b[1;32m    736\u001b[0m                     \u001b[0;32mraise\u001b[0m \u001b[0mStopIteration\u001b[0m \u001b[0;32mfrom\u001b[0m \u001b[0;32mNone\u001b[0m\u001b[0;34m\u001b[0m\u001b[0;34m\u001b[0m\u001b[0m\n\u001b[0;32m--> 737\u001b[0;31m                 \u001b[0mself\u001b[0m\u001b[0;34m.\u001b[0m\u001b[0m_cond\u001b[0m\u001b[0;34m.\u001b[0m\u001b[0mwait\u001b[0m\u001b[0;34m(\u001b[0m\u001b[0mtimeout\u001b[0m\u001b[0;34m)\u001b[0m\u001b[0;34m\u001b[0m\u001b[0;34m\u001b[0m\u001b[0m\n\u001b[0m\u001b[1;32m    738\u001b[0m                 \u001b[0;32mtry\u001b[0m\u001b[0;34m:\u001b[0m\u001b[0;34m\u001b[0m\u001b[0;34m\u001b[0m\u001b[0m\n\u001b[1;32m    739\u001b[0m                     \u001b[0mitem\u001b[0m \u001b[0;34m=\u001b[0m \u001b[0mself\u001b[0m\u001b[0;34m.\u001b[0m\u001b[0m_items\u001b[0m\u001b[0;34m.\u001b[0m\u001b[0mpopleft\u001b[0m\u001b[0;34m(\u001b[0m\u001b[0;34m)\u001b[0m\u001b[0;34m\u001b[0m\u001b[0;34m\u001b[0m\u001b[0m\n",
            "\u001b[0;32m/usr/lib/python3.7/threading.py\u001b[0m in \u001b[0;36mwait\u001b[0;34m(self, timeout)\u001b[0m\n\u001b[1;32m    294\u001b[0m         \u001b[0;32mtry\u001b[0m\u001b[0;34m:\u001b[0m    \u001b[0;31m# restore state no matter what (e.g., KeyboardInterrupt)\u001b[0m\u001b[0;34m\u001b[0m\u001b[0;34m\u001b[0m\u001b[0m\n\u001b[1;32m    295\u001b[0m             \u001b[0;32mif\u001b[0m \u001b[0mtimeout\u001b[0m \u001b[0;32mis\u001b[0m \u001b[0;32mNone\u001b[0m\u001b[0;34m:\u001b[0m\u001b[0;34m\u001b[0m\u001b[0;34m\u001b[0m\u001b[0m\n\u001b[0;32m--> 296\u001b[0;31m                 \u001b[0mwaiter\u001b[0m\u001b[0;34m.\u001b[0m\u001b[0macquire\u001b[0m\u001b[0;34m(\u001b[0m\u001b[0;34m)\u001b[0m\u001b[0;34m\u001b[0m\u001b[0;34m\u001b[0m\u001b[0m\n\u001b[0m\u001b[1;32m    297\u001b[0m                 \u001b[0mgotit\u001b[0m \u001b[0;34m=\u001b[0m \u001b[0;32mTrue\u001b[0m\u001b[0;34m\u001b[0m\u001b[0;34m\u001b[0m\u001b[0m\n\u001b[1;32m    298\u001b[0m             \u001b[0;32melse\u001b[0m\u001b[0;34m:\u001b[0m\u001b[0;34m\u001b[0m\u001b[0;34m\u001b[0m\u001b[0m\n",
            "\u001b[0;31mKeyboardInterrupt\u001b[0m: "
          ]
        }
      ]
    },
    {
      "cell_type": "code",
      "metadata": {
        "id": "_iwPLM6liRW-"
      },
      "source": [
        "cvModel_svm_os.write().overwrite().save('svm_OF')"
      ],
      "execution_count": null,
      "outputs": []
    },
    {
      "cell_type": "markdown",
      "metadata": {
        "id": "L5e9NLINgYfv"
      },
      "source": [
        "Il classificatore basato su SVM non mostra apprezzabili miglioramenti modificando la strategia di campionamento per il test set."
      ]
    },
    {
      "cell_type": "markdown",
      "metadata": {
        "id": "UMUHAcUO5BCg"
      },
      "source": [
        "#### Random forest \n",
        "\n",
        "Confrontiamo il risultato precedente con una random forest, addestrata con gli stessi dati."
      ]
    },
    {
      "cell_type": "code",
      "metadata": {
        "id": "o0lX_MZp5BCh"
      },
      "source": [
        "labelIndexer = StringIndexer(inputCol='Class',outputCol='Class_index').fit(train)\n",
        "\n",
        "assembler = VectorAssembler().setInputCols(chosen_cols)\\\n",
        "  .setOutputCol(\"features\")\n",
        "scaler = MinMaxScaler().setMin(0).setMax(1).setInputCol(\"features\") \\\n",
        "  .setOutputCol(\"scaled_features\")\n",
        "randomForest = RandomForestClassifier().setFeaturesCol(\"scaled_features\") \\\n",
        "  .setLabelCol(\"Class\")\n",
        "labelConverter = IndexToString(inputCol='prediction',outputCol='predictedLabel')\\\n",
        "  .setLabels(labelIndexer.labels)\n",
        "pipeline = Pipeline().setStages([assembler, \\\n",
        "                                scaler, \\\n",
        "                                randomForest,\\\n",
        "                                labelConverter])\n"
      ],
      "execution_count": null,
      "outputs": []
    },
    {
      "cell_type": "code",
      "metadata": {
        "id": "HjC0-fu55BCh"
      },
      "source": [
        "# Costruiamo l'algoritmo di addestramento, come una 10-fold Cross-validation che si addestra su una \n",
        "# griglia di iperparametri:\n",
        "# -- l'indice di Gini, e l'entropia per controlla la purezza dei nodi foglia\n",
        "# -- il numero di bin cioè di categorie da generare per ogni feature categorica\n",
        "# -- la profondità massima dell'albero\n",
        "\n",
        "# Generiamo la griglia\n",
        "paramGrid = ParamGridBuilder().addGrid(randomForest.maxBins,[25, 28, 31])\\\n",
        "                              .addGrid(randomForest.maxDepth,[4,6,8])\\\n",
        "                              .addGrid(randomForest.impurity,[\"entropy\",\"gini\"])\\\n",
        "                              .build()"
      ],
      "execution_count": null,
      "outputs": []
    },
    {
      "cell_type": "code",
      "metadata": {
        "id": "H3aLdSX05BCh"
      },
      "source": [
        "cv = CrossValidator().setEstimator(pipeline)\\\n",
        "                     .setEvaluator(evaluator)\\\n",
        "                     .setEstimatorParamMaps(paramGrid)\\\n",
        "                     .setNumFolds(10)\n",
        "\n",
        "cvModel_random_forest_os = cv.fit(train)"
      ],
      "execution_count": null,
      "outputs": []
    },
    {
      "cell_type": "code",
      "metadata": {
        "id": "pTZcST965BCh"
      },
      "source": [
        "\n",
        "evaluate_model(cvModel_random_forest_os, train, test, callable=False)\n",
        "cvModel_random_forest_os.write().overwrite().save('random_forest_OF')"
      ],
      "execution_count": null,
      "outputs": []
    },
    {
      "cell_type": "markdown",
      "metadata": {
        "id": "Sx8MZneZOPx-"
      },
      "source": [
        "La random forest ha migliorato sensibilmente la precisione e l'area sotto la curva, aumentando però il numero di falsi negativi."
      ]
    }
  ]
}